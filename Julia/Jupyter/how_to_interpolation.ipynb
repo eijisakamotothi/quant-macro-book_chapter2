{
 "cells": [
  {
   "cell_type": "markdown",
   "id": "99463810-d689-4a05-9235-7dee549c5aff",
   "metadata": {},
   "source": [
    "# 北尾早霧・砂川武貴・山田知明『定量的マクロ経済学と数値計算』日本評論社\n",
    "## 第2章：2期間モデルと数値計算の概観"
   ]
  },
  {
   "cell_type": "markdown",
   "id": "4a3b19db-7e80-4c38-a203-7cae77d41342",
   "metadata": {},
   "source": [
    "## 2.7.2 近似"
   ]
  },
  {
   "cell_type": "markdown",
   "id": "198d563f-9d09-41f8-94f8-6e8b283de8e1",
   "metadata": {},
   "source": [
    "# Interpolation.jlの使い方\n",
    "https://juliamath.github.io/Interpolations.jl/stable/\n",
    "\n",
    "* 線形補間でしか使っていないが、実際はB-Splineに対応しているので、Cubic Splineとかも使える\n",
    "* ちょっとコードの書き方が面倒"
   ]
  },
  {
   "cell_type": "markdown",
   "id": "9f319049-7f73-4ffc-b1e6-cea91c5670d4",
   "metadata": {},
   "source": [
    "## 適当な二次関数を考える\n",
    "$$\n",
    "    y = a (x -b)^2 + c\n",
    "$$"
   ]
  },
  {
   "cell_type": "code",
   "execution_count": 53,
   "id": "e929cf89-55e5-4170-b455-00a21f1785c8",
   "metadata": {},
   "outputs": [
    {
     "data": {
      "text/plain": [
       "test (generic function with 1 method)"
      ]
     },
     "execution_count": 53,
     "metadata": {},
     "output_type": "execute_result"
    }
   ],
   "source": [
    "function test(x, a, b, c)\n",
    "    return a*(x - b)^2 + c\n",
    "end"
   ]
  },
  {
   "cell_type": "code",
   "execution_count": 54,
   "id": "50697cf5-d4e0-4ee2-a0ff-124fa036646b",
   "metadata": {},
   "outputs": [
    {
     "data": {
      "text/plain": [
       "-10.0:0.01:10.0"
      ]
     },
     "execution_count": 54,
     "metadata": {},
     "output_type": "execute_result"
    }
   ],
   "source": [
    "x = -10:0.01:10"
   ]
  },
  {
   "cell_type": "code",
   "execution_count": 55,
   "id": "2b2c39cf-a3ad-471a-8ad0-acc9a70df9f8",
   "metadata": {},
   "outputs": [
    {
     "data": {
      "text/plain": [
       "2001"
      ]
     },
     "execution_count": 55,
     "metadata": {},
     "output_type": "execute_result"
    }
   ],
   "source": [
    "length(x)"
   ]
  },
  {
   "cell_type": "code",
   "execution_count": 56,
   "id": "a1532cf5-a736-4625-89cb-aed63fb5a2b8",
   "metadata": {},
   "outputs": [
    {
     "data": {
      "text/plain": [
       "StepRangeLen{Float64, Base.TwicePrecision{Float64}, Base.TwicePrecision{Float64}, Int64}"
      ]
     },
     "execution_count": 56,
     "metadata": {},
     "output_type": "execute_result"
    }
   ],
   "source": [
    "typeof(x)"
   ]
  },
  {
   "cell_type": "code",
   "execution_count": 57,
   "id": "9f90a804-33b0-4f64-8fa4-cafc3b7f4d41",
   "metadata": {},
   "outputs": [
    {
     "data": {
      "text/plain": [
       "-10"
      ]
     },
     "execution_count": 57,
     "metadata": {},
     "output_type": "execute_result"
    }
   ],
   "source": [
    "# パラメータを設定：適当\n",
    "a = 0.75\n",
    "b = 2\n",
    "c = -10"
   ]
  },
  {
   "cell_type": "code",
   "execution_count": 58,
   "id": "63b6d69e-c777-4557-82c9-ebcbba4df4ae",
   "metadata": {},
   "outputs": [
    {
     "data": {
      "text/plain": [
       "2001-element Vector{Float64}:\n",
       " 0.0\n",
       " 0.0\n",
       " 0.0\n",
       " 0.0\n",
       " 0.0\n",
       " 0.0\n",
       " 0.0\n",
       " 0.0\n",
       " 0.0\n",
       " 0.0\n",
       " 0.0\n",
       " 0.0\n",
       " 0.0\n",
       " ⋮\n",
       " 0.0\n",
       " 0.0\n",
       " 0.0\n",
       " 0.0\n",
       " 0.0\n",
       " 0.0\n",
       " 0.0\n",
       " 0.0\n",
       " 0.0\n",
       " 0.0\n",
       " 0.0\n",
       " 0.0"
      ]
     },
     "execution_count": 58,
     "metadata": {},
     "output_type": "execute_result"
    }
   ],
   "source": [
    "y = zeros(length(x))"
   ]
  },
  {
   "cell_type": "code",
   "execution_count": 59,
   "id": "bdf03611-1f2b-4356-b6c7-4bcf1c0ec074",
   "metadata": {},
   "outputs": [],
   "source": [
    "for i = 1:length(x)\n",
    "    y[i] = test(x[i], a, b, c)\n",
    "end"
   ]
  },
  {
   "cell_type": "code",
   "execution_count": 60,
   "id": "45e4a83c-3cac-4c2e-9c80-d8cecd11ac0d",
   "metadata": {},
   "outputs": [
    {
     "data": {
      "text/plain": [
       "Plots.PyPlotBackend()"
      ]
     },
     "execution_count": 60,
     "metadata": {},
     "output_type": "execute_result"
    }
   ],
   "source": [
    "using Plots # しばらく待つ\n",
    "pyplot()"
   ]
  },
  {
   "cell_type": "code",
   "execution_count": 61,
   "id": "331a4de1-560e-4f71-a356-d6224e184aa1",
   "metadata": {},
   "outputs": [
    {
     "data": {
      "image/png": "[encoded data removed]"
     },
     "execution_count": 61,
     "metadata": {},
     "output_type": "execute_result"
    }
   ],
   "source": [
    "plot(x, y)"
   ]
  },
  {
   "cell_type": "markdown",
   "id": "b3d762fa-1121-448d-b888-a322ab58a158",
   "metadata": {},
   "source": [
    "---"
   ]
  },
  {
   "cell_type": "markdown",
   "id": "91816bf4-1d1b-4195-b220-c26de58ce6c5",
   "metadata": {},
   "source": [
    "## 5個の点しかデータが得られなかったとしたら..."
   ]
  },
  {
   "cell_type": "code",
   "execution_count": 62,
   "id": "6e6a22d8-2f72-4104-8ec5-8a3e66785075",
   "metadata": {},
   "outputs": [
    {
     "data": {
      "text/plain": [
       "5-element Vector{Float64}:\n",
       " -10.0\n",
       "  -5.0\n",
       "   0.0\n",
       "   5.0\n",
       "  10.0"
      ]
     },
     "execution_count": 62,
     "metadata": {},
     "output_type": "execute_result"
    }
   ],
   "source": [
    "x1 = [-10.0, -5.0, 0.0, 5.0, 10.0]"
   ]
  },
  {
   "cell_type": "code",
   "execution_count": 63,
   "id": "e48203f9-c45e-4fbf-9737-a2c5a95ca8f1",
   "metadata": {},
   "outputs": [],
   "source": [
    "y1 = zeros(length(x1))\n",
    "for i = 1:length(x1)\n",
    "    y1[i] = test(x1[i], a, b, c)\n",
    "end"
   ]
  },
  {
   "cell_type": "code",
   "execution_count": 64,
   "id": "d684dd34-10f0-4cbc-8233-282030e0df3f",
   "metadata": {},
   "outputs": [
    {
     "data": {
      "image/png": "[encoded data removed]"
     },
     "execution_count": 64,
     "metadata": {},
     "output_type": "execute_result"
    }
   ],
   "source": [
    "# 我々が知っているのは⬇の5個の点のみ\n",
    "# ここから隙間を埋めることを考える\n",
    "scatter(x1, y1)"
   ]
  },
  {
   "cell_type": "markdown",
   "id": "4134be24-6249-422f-a429-d08fe6499176",
   "metadata": {},
   "source": [
    "---"
   ]
  },
  {
   "cell_type": "markdown",
   "id": "cf53af1b-4cb6-41ab-b669-25ec76838516",
   "metadata": {},
   "source": [
    "## 線形補間"
   ]
  },
  {
   "cell_type": "code",
   "execution_count": 65,
   "id": "25d544ef-f2a3-42ce-8faa-1cd8bffdd4b0",
   "metadata": {},
   "outputs": [],
   "source": [
    "using Interpolations"
   ]
  },
  {
   "cell_type": "code",
   "execution_count": 66,
   "id": "2355fe35-85e5-4d46-8ea7-74915199a2b0",
   "metadata": {},
   "outputs": [
    {
     "data": {
      "text/plain": [
       "5-element extrapolate(interpolate((::Vector{Float64},), ::Vector{Float64}, Gridded(Linear())), Throw()) with element type Float64:\n",
       " 98.0\n",
       " 26.75\n",
       " -7.0\n",
       " -3.25\n",
       " 38.0"
      ]
     },
     "execution_count": 66,
     "metadata": {},
     "output_type": "execute_result"
    }
   ],
   "source": [
    "# 線形補間の係数(各点の間の傾き)を計算する\n",
    "# 公式HPがinterp_linearにしているのでそのまま使用\n",
    "# ちょっと長いかも...\n",
    "# liとかでもOK\n",
    "interp_linear = LinearInterpolation(x1, y1)"
   ]
  },
  {
   "cell_type": "code",
   "execution_count": 67,
   "id": "a0bf916b-ea8e-47cf-a890-f700b5dfad07",
   "metadata": {},
   "outputs": [
    {
     "data": {
      "text/plain": [
       "Interpolations.Extrapolation{Float64, 1, Interpolations.GriddedInterpolation{Float64, 1, Float64, Gridded{Linear{Throw{OnGrid}}}, Tuple{Vector{Float64}}}, Gridded{Linear{Throw{OnGrid}}}, Throw{Nothing}}"
      ]
     },
     "execution_count": 67,
     "metadata": {},
     "output_type": "execute_result"
    }
   ],
   "source": [
    "# 型を確認してみる\n",
    "typeof(interp_linear)"
   ]
  },
  {
   "cell_type": "code",
   "execution_count": 68,
   "id": "ecc6b50f-0bf0-413d-97a1-5bf30e267d72",
   "metadata": {},
   "outputs": [
    {
     "data": {
      "text/plain": [
       "26.75"
      ]
     },
     "execution_count": 68,
     "metadata": {},
     "output_type": "execute_result"
    }
   ],
   "source": [
    "# 使い方\n",
    "interp_linear(-5)"
   ]
  },
  {
   "cell_type": "code",
   "execution_count": 69,
   "id": "3625fbbe-087a-4cde-bf24-93aaa0fd509f",
   "metadata": {},
   "outputs": [
    {
     "data": {
      "text/plain": [
       "26.75"
      ]
     },
     "execution_count": 69,
     "metadata": {},
     "output_type": "execute_result"
    }
   ],
   "source": [
    "test(-5, a, b, c) # データにある値なので上の値と一致する"
   ]
  },
  {
   "cell_type": "code",
   "execution_count": 70,
   "id": "3031f981-2e4e-45ad-ad44-ef1730c45831",
   "metadata": {},
   "outputs": [
    {
     "data": {
      "text/plain": [
       "33.875"
      ]
     },
     "execution_count": 70,
     "metadata": {},
     "output_type": "execute_result"
    }
   ],
   "source": [
    "# データ上に無い点を線形近似\n",
    "interp_linear(-5.5)"
   ]
  },
  {
   "cell_type": "code",
   "execution_count": 71,
   "id": "e6894790-999a-4779-ac41-12f082553d05",
   "metadata": {},
   "outputs": [
    {
     "data": {
      "text/plain": [
       "32.1875"
      ]
     },
     "execution_count": 71,
     "metadata": {},
     "output_type": "execute_result"
    }
   ],
   "source": [
    "# ズレが生じる\n",
    "test(-5.5, a, b, c)"
   ]
  },
  {
   "cell_type": "code",
   "execution_count": 72,
   "id": "2787358a-7c58-4e75-afd2-ff3d494328bb",
   "metadata": {},
   "outputs": [
    {
     "ename": "LoadError",
     "evalue": "BoundsError: attempt to access 5-element extrapolate(interpolate((::Vector{Float64},), ::Vector{Float64}, Gridded(Linear())), Throw()) with element type Float64 at index [-15]",
     "output_type": "error",
     "traceback": [
      "BoundsError: attempt to access 5-element extrapolate(interpolate((::Vector{Float64},), ::Vector{Float64}, Gridded(Linear())), Throw()) with element type Float64 at index [-15]",
      "",
      "Stacktrace:",
      " [1] throw_boundserror(A::Interpolations.Extrapolation{Float64, 1, Interpolations.GriddedInterpolation{Float64, 1, Float64, Gridded{Linear{Throw{OnGrid}}}, Tuple{Vector{Float64}}}, Gridded{Linear{Throw{OnGrid}}}, Throw{Nothing}}, I::Tuple{Int64})",
      "   @ Base ./abstractarray.jl:691",
      " [2] inbounds_index",
      "   @ ~/.julia/packages/Interpolations/y4lLj/src/extrapolation/extrapolation.jl:111 [inlined]",
      " [3] inbounds_position",
      "   @ ~/.julia/packages/Interpolations/y4lLj/src/extrapolation/extrapolation.jl:102 [inlined]",
      " [4] (::Interpolations.Extrapolation{Float64, 1, Interpolations.GriddedInterpolation{Float64, 1, Float64, Gridded{Linear{Throw{OnGrid}}}, Tuple{Vector{Float64}}}, Gridded{Linear{Throw{OnGrid}}}, Throw{Nothing}})(x::Int64)",
      "   @ Interpolations ~/.julia/packages/Interpolations/y4lLj/src/extrapolation/extrapolation.jl:48",
      " [5] top-level scope",
      "   @ In[72]:2",
      " [6] eval",
      "   @ ./boot.jl:373 [inlined]",
      " [7] include_string(mapexpr::typeof(REPL.softscope), mod::Module, code::String, filename::String)",
      "   @ Base ./loading.jl:1196"
     ]
    }
   ],
   "source": [
    "# オプションを指定しないと外層(Extrapolation)は出来ない：エラーが出る\n",
    "interp_linear(-15)"
   ]
  },
  {
   "cell_type": "code",
   "execution_count": 73,
   "id": "9f95ffc1-4a9d-4177-a309-58ce4b338f73",
   "metadata": {},
   "outputs": [
    {
     "data": {
      "text/plain": [
       "169.25"
      ]
     },
     "execution_count": 73,
     "metadata": {},
     "output_type": "execute_result"
    }
   ],
   "source": [
    "# Extrapolationをしたい場合、オプションを指定するように書く\n",
    "interp_linear_extrap = LinearInterpolation(x1, y1, extrapolation_bc=Line()) \n",
    "interp_linear_extrap(-15) # outside grid: linear extrapolation"
   ]
  },
  {
   "cell_type": "code",
   "execution_count": 74,
   "id": "ebde73fa-276e-485b-9083-a9d6a2ccce1d",
   "metadata": {},
   "outputs": [
    {
     "data": {
      "text/plain": [
       "206.75"
      ]
     },
     "execution_count": 74,
     "metadata": {},
     "output_type": "execute_result"
    }
   ],
   "source": [
    "# 実際の値とは大きなズレが生じている\n",
    "test(-15, a, b, c)"
   ]
  },
  {
   "cell_type": "code",
   "execution_count": 75,
   "id": "bc0ea09a-92f3-47de-8f77-2b702eeb14e0",
   "metadata": {},
   "outputs": [],
   "source": [
    "x2 = -15:0.01:15\n",
    "y2 = zeros(length(x2))\n",
    "for i = 1:length(x2)\n",
    "    y2[i] = interp_linear_extrap(x2[i])\n",
    "end"
   ]
  },
  {
   "cell_type": "code",
   "execution_count": 76,
   "id": "3af182b5-b3d7-4bcd-aa11-11eeb3b5a962",
   "metadata": {},
   "outputs": [
    {
     "data": {
      "image/png": "[encoded data removed]"
     },
     "execution_count": 76,
     "metadata": {},
     "output_type": "execute_result"
    }
   ],
   "source": [
    "# Extrapolationは直線で延長しているのが確認出来る\n",
    "plot(x2, y2)"
   ]
  },
  {
   "cell_type": "markdown",
   "id": "d317715a-5fa2-43cc-a28b-0fbdd1e1f81f",
   "metadata": {},
   "source": [
    "---"
   ]
  },
  {
   "cell_type": "code",
   "execution_count": 77,
   "id": "469950a7-56f4-4234-8416-a998c3d7ccee",
   "metadata": {},
   "outputs": [
    {
     "data": {
      "text/plain": [
       "21-element Vector{Float64}:\n",
       " 0.0\n",
       " 0.1823215567939546\n",
       " 0.3364722366212129\n",
       " 0.47000362924573563\n",
       " 0.5877866649021191\n",
       " 0.6931471805599453\n",
       " 0.7884573603642703\n",
       " 0.8754687373538999\n",
       " 0.9555114450274363\n",
       " 1.0296194171811581\n",
       " 1.0986122886681098\n",
       " 1.1631508098056809\n",
       " 1.2237754316221157\n",
       " 1.2809338454620642\n",
       " 1.33500106673234\n",
       " 1.3862943611198906\n",
       " 1.4350845252893227\n",
       " 1.4816045409242156\n",
       " 1.5260563034950492\n",
       " 1.5686159179138452\n",
       " 1.6094379124341003"
      ]
     },
     "execution_count": 77,
     "metadata": {},
     "output_type": "execute_result"
    }
   ],
   "source": [
    "f(x) = log(x)\n",
    "xs = 1:0.2:5\n",
    "A = [f(x) for x in xs]"
   ]
  },
  {
   "cell_type": "code",
   "execution_count": 78,
   "id": "0a3100fb-7386-4eb1-b5ad-ee1cf8eef86b",
   "metadata": {},
   "outputs": [
    {
     "data": {
      "text/plain": [
       "21-element extrapolate(scale(interpolate(OffsetArray(::Vector{Float64}, 0:22), BSpline(Cubic(Line(OnGrid())))), (1.0:0.2:5.0,)), Throw()) with element type Float64:\n",
       " 0.0\n",
       " 0.18232155679395456\n",
       " 0.33647223662121284\n",
       " 0.47000362924573563\n",
       " 0.5877866649021191\n",
       " 0.6931471805599453\n",
       " 0.7884573603642705\n",
       " 0.8754687373538999\n",
       " 0.9555114450274363\n",
       " 1.029619417181158\n",
       " 1.0986122886681098\n",
       " 1.1631508098056809\n",
       " 1.2237754316221154\n",
       " 1.2809338454620642\n",
       " 1.3350010667323398\n",
       " 1.3862943611198906\n",
       " 1.4350845252893225\n",
       " 1.4816045409242153\n",
       " 1.526056303495049\n",
       " 1.5686159179138448\n",
       " 1.6094379124341003"
      ]
     },
     "execution_count": 78,
     "metadata": {},
     "output_type": "execute_result"
    }
   ],
   "source": [
    "interpcubic = CubicSplineInterpolation(xs, A)"
   ]
  },
  {
   "cell_type": "code",
   "execution_count": 79,
   "id": "edef49d0-a45d-48f5-b446-3a5f8cc11997",
   "metadata": {},
   "outputs": [
    {
     "data": {
      "text/plain": [
       "-10:5:10"
      ]
     },
     "execution_count": 79,
     "metadata": {},
     "output_type": "execute_result"
    }
   ],
   "source": [
    "x12 = -10:5:10"
   ]
  },
  {
   "cell_type": "code",
   "execution_count": 80,
   "id": "9a3e34e7-cee8-4692-b650-f930c9b2036c",
   "metadata": {},
   "outputs": [
    {
     "data": {
      "text/plain": [
       "5-element extrapolate(scale(interpolate(OffsetArray(::Vector{Float64}, 0:6), BSpline(Cubic(Line(OnGrid())))), (-10:5:10,)), Throw()) with element type Float64:\n",
       " 98.0\n",
       " 26.75\n",
       " -7.0\n",
       " -3.2500000000000027\n",
       " 38.0"
      ]
     },
     "execution_count": 80,
     "metadata": {},
     "output_type": "execute_result"
    }
   ],
   "source": [
    "# x軸に入れる変数は配列では駄目\n",
    "# 型がRangeなら大丈夫\n",
    "# やや使いにくい\n",
    "interpcubic = CubicSplineInterpolation(x12, y1)"
   ]
  },
  {
   "cell_type": "code",
   "execution_count": 81,
   "id": "0f909f3c-0afd-4093-a86b-55e9635f3bbc",
   "metadata": {},
   "outputs": [],
   "source": [
    "x3 = -10:0.01:10\n",
    "y3 = zeros(length(x3))\n",
    "for i = 1:length(x3)\n",
    "    y3[i] = interpcubic(x3[i])\n",
    "end"
   ]
  },
  {
   "cell_type": "code",
   "execution_count": 82,
   "id": "e00e7a62-3c1a-4cf9-a4e3-d42e75919a5e",
   "metadata": {},
   "outputs": [
    {
     "data": {
      "image/png": "[encoded data removed]"
     },
     "execution_count": 82,
     "metadata": {},
     "output_type": "execute_result"
    }
   ],
   "source": [
    "# Cubic Splineで近似した場合\n",
    "plot(x3, y3)"
   ]
  },
  {
   "cell_type": "markdown",
   "id": "4e625417-bb74-495f-b8c6-51eed71a82d3",
   "metadata": {},
   "source": [
    "---"
   ]
  },
  {
   "cell_type": "markdown",
   "id": "66d50661-19eb-408e-81e5-4667cfe723bf",
   "metadata": {},
   "source": [
    "## Dierckx.jlを使う\n",
    "https://github.com/kbarbary/Dierckx.jl\n",
    "* もともとはFortranライブラリで、そこから翻訳"
   ]
  },
  {
   "cell_type": "code",
   "execution_count": 83,
   "id": "8b006d6e-7ec5-41b6-878f-44beedc8db58",
   "metadata": {},
   "outputs": [],
   "source": [
    "using Dierckx"
   ]
  },
  {
   "cell_type": "code",
   "execution_count": 84,
   "id": "66c970cf-740e-41a1-bb4e-a3104ff2ed78",
   "metadata": {},
   "outputs": [
    {
     "data": {
      "text/plain": [
       "Spline1D(knots=[-10.0, 0.0, 10.0], k=3, extrapolation=\"nearest\", residual=0.0)"
      ]
     },
     "execution_count": 84,
     "metadata": {},
     "output_type": "execute_result"
    }
   ],
   "source": [
    "spl = Spline1D(x1, y1)"
   ]
  },
  {
   "cell_type": "code",
   "execution_count": 85,
   "id": "a292255a-19f8-424e-944c-de6d132efb97",
   "metadata": {},
   "outputs": [],
   "source": [
    "x4 = -15:0.01:15\n",
    "y4 = zeros(length(x4))\n",
    "for i = 1:length(x4)\n",
    "    y4[i] = spl(x4[i])\n",
    "end"
   ]
  },
  {
   "cell_type": "code",
   "execution_count": 86,
   "id": "1525d069-6fd7-440d-8a81-4a38e1d72960",
   "metadata": {},
   "outputs": [
    {
     "data": {
      "image/png": "[encoded data removed]"
     },
     "execution_count": 86,
     "metadata": {},
     "output_type": "execute_result"
    }
   ],
   "source": [
    "# 自動でExtrapolationはしない\n",
    "plot(x4, y4)"
   ]
  },
  {
   "cell_type": "code",
   "execution_count": 87,
   "id": "2dd2f105-67db-4af6-9571-e75e2f417840",
   "metadata": {},
   "outputs": [
    {
     "data": {
      "text/plain": [
       "Spline1D(knots=[-10.0, 0.0, 10.0], k=3, extrapolation=\"extrapolate\", residual=0.0)"
      ]
     },
     "execution_count": 87,
     "metadata": {},
     "output_type": "execute_result"
    }
   ],
   "source": [
    "spl2 = Spline1D(x1, y1, bc=\"extrapolate\")"
   ]
  },
  {
   "cell_type": "code",
   "execution_count": 88,
   "id": "9711c096-8332-4695-a03f-c695a08b6269",
   "metadata": {},
   "outputs": [],
   "source": [
    "x5 = -15:0.01:15\n",
    "y5 = zeros(length(x5))\n",
    "for i = 1:length(x5)\n",
    "    y5[i] = spl2(x5[i])\n",
    "end"
   ]
  },
  {
   "cell_type": "code",
   "execution_count": 89,
   "id": "a9bc7ddc-5e75-4976-aa68-8deaaf5be629",
   "metadata": {},
   "outputs": [
    {
     "data": {
      "image/png": "[encoded data removed]"
     },
     "execution_count": 89,
     "metadata": {},
     "output_type": "execute_result"
    }
   ],
   "source": [
    "plot(x5, y5)"
   ]
  },
  {
   "cell_type": "markdown",
   "id": "baf5a8de-27aa-45fb-84c2-66b4a3453655",
   "metadata": {},
   "source": [
    "### より詳細な使い方"
   ]
  },
  {
   "cell_type": "code",
   "execution_count": 90,
   "id": "7144a8d7-b0e8-401d-adc8-1b610969b064",
   "metadata": {},
   "outputs": [
    {
     "data": {
      "text/plain": [
       "5-element Vector{Float64}:\n",
       " -10.0\n",
       "  -5.0\n",
       "   0.0\n",
       "   5.0\n",
       "  10.0"
      ]
     },
     "execution_count": 90,
     "metadata": {},
     "output_type": "execute_result"
    }
   ],
   "source": [
    "xx = [-10.0, -5.0, 0.0, 5.0, 10.0]"
   ]
  },
  {
   "cell_type": "code",
   "execution_count": 91,
   "id": "b6516138-ca4a-4481-aeac-daf444208cba",
   "metadata": {},
   "outputs": [],
   "source": [
    "yy = zeros(length(xx))\n",
    "for i = 1:length(xx)\n",
    "    yy[i] = test(xx[i], a, b, c)\n",
    "end"
   ]
  },
  {
   "cell_type": "markdown",
   "id": "c51972a8-ebbc-4d93-9356-1f09114057ee",
   "metadata": {},
   "source": [
    "#### Extrapolationを明示的に指定しない場合"
   ]
  },
  {
   "cell_type": "code",
   "execution_count": 92,
   "id": "5f1ad458-637d-46cb-8298-74f531bbe869",
   "metadata": {},
   "outputs": [
    {
     "data": {
      "image/png": "[encoded data removed]"
     },
     "execution_count": 92,
     "metadata": {},
     "output_type": "execute_result"
    }
   ],
   "source": [
    "spl = Spline1D(xx, yy)\n",
    "x = -15:0.01:15\n",
    "y = zeros(length(x))\n",
    "for i = 1:length(x)\n",
    "    y[i] = spl(x[i])\n",
    "end\n",
    "plot(x, y)"
   ]
  },
  {
   "cell_type": "markdown",
   "id": "0a13ba5a-8f4d-495a-90c7-1e24dc1bc979",
   "metadata": {},
   "source": [
    "#### Extrapolationを設定"
   ]
  },
  {
   "cell_type": "code",
   "execution_count": 93,
   "id": "d9136fbc-f3b0-4160-90c8-16c69e051b7e",
   "metadata": {},
   "outputs": [
    {
     "data": {
      "image/png": "[encoded data removed]"
     },
     "execution_count": 93,
     "metadata": {},
     "output_type": "execute_result"
    }
   ],
   "source": [
    "spl = Spline1D(xx, yy, bc=\"extrapolate\")\n",
    "x = -15:0.01:15\n",
    "y = zeros(length(x))\n",
    "for i = 1:length(x)\n",
    "    y[i] = spl(x[i])\n",
    "end\n",
    "plot(x, y)"
   ]
  },
  {
   "cell_type": "markdown",
   "id": "82a73b8b-183a-4596-aa15-0a36969aee5c",
   "metadata": {},
   "source": [
    "#### 線形補間+Extrapolation\n",
    "* Interpolations.jlを使わないで全部こっちで良いかも"
   ]
  },
  {
   "cell_type": "code",
   "execution_count": 94,
   "id": "425c6017-4be8-4d1e-a194-a836144a0186",
   "metadata": {},
   "outputs": [
    {
     "data": {
      "image/png": "[encoded data removed]"
     },
     "execution_count": 94,
     "metadata": {},
     "output_type": "execute_result"
    }
   ],
   "source": [
    "spl = Spline1D(xx, yy, k=1, bc=\"extrapolate\")\n",
    "x = -15:0.01:15\n",
    "y = zeros(length(x))\n",
    "for i = 1:length(x)\n",
    "    y[i] = spl(x[i])\n",
    "end\n",
    "plot(x, y)"
   ]
  },
  {
   "cell_type": "markdown",
   "id": "79afd27a-9d9f-4313-83a9-f418f8e891fc",
   "metadata": {},
   "source": [
    "#### Extrapolationのオプション\n",
    "* nearestだと両端をそのまま延長\n",
    "* zeroだと強制的にゼロに設定\n",
    "    * どちらも実際には使わなそう...\n",
    "* errorというオプションもある\n",
    "    * 絶対に外に出てほしくない場合につかう"
   ]
  },
  {
   "cell_type": "code",
   "execution_count": 95,
   "id": "52d63806-8df8-4f66-a27b-048a66207b63",
   "metadata": {},
   "outputs": [
    {
     "data": {
      "image/png": "[encoded data removed]"
     },
     "execution_count": 95,
     "metadata": {},
     "output_type": "execute_result"
    }
   ],
   "source": [
    "spl = Spline1D(xx, yy, bc=\"nearest\")\n",
    "x = -15:0.01:15\n",
    "y = zeros(length(x))\n",
    "for i = 1:length(x)\n",
    "    y[i] = spl(x[i])\n",
    "end\n",
    "plot(x, y)"
   ]
  },
  {
   "cell_type": "code",
   "execution_count": 96,
   "id": "7f8f2a2a-8bbc-43f1-892e-ba6eb8e29b88",
   "metadata": {},
   "outputs": [
    {
     "data": {
      "image/png": "[encoded data removed]"
     },
     "execution_count": 96,
     "metadata": {},
     "output_type": "execute_result"
    }
   ],
   "source": [
    "spl = Spline1D(xx, yy, bc=\"zero\")\n",
    "x = -15:0.01:15\n",
    "y = zeros(length(x))\n",
    "for i = 1:length(x)\n",
    "    y[i] = spl(x[i])\n",
    "end\n",
    "plot(x, y)"
   ]
  },
  {
   "cell_type": "markdown",
   "id": "a18cfb73-33d1-4c52-a0e5-41b3e0c5cf8a",
   "metadata": {},
   "source": [
    "## 追加\n",
    "* 2次元のスプラインもある\n",
    "* 偏微係数などを計算するオプションもある\n",
    "    * Value Functionの傾きなどで一応使えそう\n",
    "    * どの程度の精度かは不明だけど"
   ]
  },
  {
   "cell_type": "code",
   "execution_count": null,
   "id": "59a1bc44-97ee-4ce3-9c87-8250b3714039",
   "metadata": {},
   "outputs": [],
   "source": []
  }
 ],
 "metadata": {
  "kernelspec": {
   "display_name": "Julia 1.7.2",
   "language": "julia",
   "name": "julia-1.7"
  },
  "language_info": {
   "file_extension": ".jl",
   "mimetype": "application/julia",
   "name": "julia",
   "version": "1.7.3"
  }
 },
 "nbformat": 4,
 "nbformat_minor": 5
}
