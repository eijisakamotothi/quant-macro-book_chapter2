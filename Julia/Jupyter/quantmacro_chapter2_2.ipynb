{
 "cells": [
  {
   "cell_type": "markdown",
   "id": "047bb61d",
   "metadata": {},
   "source": [
    "# 北尾早霧・砂川武貴・山田知明『定量的マクロ経済学と数値計算』日本評論社\n",
    "## 第2章：2期間モデルと数値計算の概観"
   ]
  },
  {
   "cell_type": "markdown",
   "id": "36714864-531c-4392-9040-58a54f651bdb",
   "metadata": {},
   "source": [
    "## 2.4 操作変数を連続変数にする：最適化\n",
    "* モデルは前回と同じ"
   ]
  },
  {
   "cell_type": "markdown",
   "id": "b9fe07f0",
   "metadata": {},
   "source": [
    "### パラメータをまとめた変数(structured variable)を用意する\n",
    "* **注意：**Juliaでは一回定義した(実行した)structは上書き不可なので注意\n",
    "    * Juliaを再起動する\n",
    "    * Jupyter Notebookの場合、別のNotebookであれば問題なし"
   ]
  },
  {
   "cell_type": "code",
   "execution_count": 1,
   "id": "4f865def",
   "metadata": {},
   "outputs": [],
   "source": [
    "struct Models\n",
    "    # パラメータ\n",
    "    β::Float64 #割引因子\n",
    "    γ::Float64 #相対的危険回避度\n",
    "    \n",
    "    # 要素価格\n",
    "    rent::Float64 #純利子率\n",
    "    \n",
    "    # グリッド\n",
    "    nw::Int64 #所得グリッドの数\n",
    "    w_max::Float64 #所得グリッドの最大値\n",
    "    w_min::Float64 #所得グリッドの最小値\n",
    "    grid_w::Vector{Float64} #所得グリッド\n",
    "end"
   ]
  },
  {
   "cell_type": "code",
   "execution_count": 2,
   "id": "aaed51d3",
   "metadata": {},
   "outputs": [
    {
     "data": {
      "text/plain": [
       "Calibration (generic function with 1 method)"
      ]
     },
     "execution_count": 2,
     "metadata": {},
     "output_type": "execute_result"
    }
   ],
   "source": [
    "function Calibration()\n",
    "    # パラメータはここで設定をする\n",
    "    β = 0.985^30\n",
    "    γ = 2.0\n",
    "    rent = 1.025^30 - 1.0\n",
    "    nw = 10\n",
    "    w_max = 1.0\n",
    "    w_min = 0.1\n",
    "\n",
    "    grid_w = collect(LinRange(w_min, w_max, nw))\n",
    "\n",
    "    return Models(β, γ, rent, nw, w_max, w_min, grid_w)\n",
    "end"
   ]
  },
  {
   "cell_type": "markdown",
   "id": "d2f56158-db97-4e3c-87da-d58e09376944",
   "metadata": {},
   "source": [
    "---"
   ]
  },
  {
   "cell_type": "markdown",
   "id": "e6e44aeb",
   "metadata": {},
   "source": [
    "## 経済学でよく使う関数"
   ]
  },
  {
   "cell_type": "code",
   "execution_count": 3,
   "id": "bbbc7e12",
   "metadata": {},
   "outputs": [
    {
     "data": {
      "text/plain": [
       "CRRA (generic function with 1 method)"
      ]
     },
     "execution_count": 3,
     "metadata": {},
     "output_type": "execute_result"
    }
   ],
   "source": [
    "function CRRA(cons, γ)\n",
    "    if γ != 1.0\n",
    "       return cons^(1.0-γ) / (1.0-γ) \n",
    "    else\n",
    "       return log(cons)\n",
    "    end\n",
    "end"
   ]
  },
  {
   "cell_type": "markdown",
   "id": "8df107fb-fead-45f5-8aa1-4a44d699496f",
   "metadata": {},
   "source": [
    "---"
   ]
  },
  {
   "cell_type": "code",
   "execution_count": 4,
   "id": "ec1b3c11",
   "metadata": {},
   "outputs": [],
   "source": [
    "# 使う関数を呼び出す\n",
    "using Plots\n",
    "pyplot()\n",
    "using Optim # これがJulia上のOptimization Tool：他にも色々とある"
   ]
  },
  {
   "cell_type": "markdown",
   "id": "082c9113",
   "metadata": {},
   "source": [
    "## Optimizationの中に入れる目的関数を設定\n",
    "* 一般的に**Optimization Tool**は\"解きたい関数\"をインプットとして取る\n",
    "* インプットの順番が大事\n",
    "    * 最大化したい変数が一番最初の場合が多い：使いたいライブラリによる\n",
    "* テキストの(2.6)式"
   ]
  },
  {
   "cell_type": "code",
   "execution_count": 5,
   "id": "a2ad338d",
   "metadata": {},
   "outputs": [
    {
     "data": {
      "text/plain": [
       "obj_two_period"
      ]
     },
     "execution_count": 5,
     "metadata": {},
     "output_type": "execute_result"
    }
   ],
   "source": [
    "\"\"\"\n",
    "所得wを所与として、2期間モデルの生涯効用を返す関数\n",
    "@author Tokuma Suzuki \n",
    "\n",
    "# インプット\n",
    "`a::Real`: 貯蓄水準\n",
    "`w_val::Real`: 所得水準\n",
    "`m::Models`: パラメータを含む構造体(βとかγ：カリブレーションの場所で設定済み)\n",
    "\n",
    "# アウトプット\n",
    "生涯効用:\n",
    "\"\"\"\n",
    "function obj_two_period(a, w_val, params::Models)\n",
    "\n",
    "    #1期目の効用\n",
    "    if w_val - a > 0.0 \n",
    "        util_y = CRRA(w_val - a, params.γ)\n",
    "    else\n",
    "        util_y = -1000000.0 #負の消費に対するペナルティ\n",
    "    end\n",
    "\n",
    "    # 2期目の割引効用\n",
    "    util_o = params.β*CRRA((1.0 + params.rent)*a, params.γ)\n",
    "    \n",
    "    # optimizeが最小値を探すので、マイナスをかけることで最適な値を求める。\n",
    "    return  -1.0*(util_y + util_o)\n",
    "\n",
    "end"
   ]
  },
  {
   "cell_type": "markdown",
   "id": "1c55ae01-679e-43e7-88bf-2ce02ef4af34",
   "metadata": {},
   "source": [
    "---"
   ]
  },
  {
   "cell_type": "markdown",
   "id": "ac48f0bd",
   "metadata": {},
   "source": [
    "## Tips：Optimをインストール（未インストールの場合）\n",
    "* 最適化問題を計算するためには最適化用のライブラリを事前にインストールする必要がある\n",
    "    * Juliaの場合、`Optim`\n",
    "* まだ`Optim`がインストールされていない場合、⬇の方法でインストールする必要がある\n",
    "    * JuliaからでもJupyter Notebook経由でも一緒"
   ]
  },
  {
   "cell_type": "code",
   "execution_count": 6,
   "id": "72e631e0",
   "metadata": {},
   "outputs": [
    {
     "name": "stderr",
     "output_type": "stream",
     "text": [
      "\u001b[32m\u001b[1m    Updating\u001b[22m\u001b[39m registry at `~/.julia/registries/General.toml`\n",
      "\u001b[32m\u001b[1m   Resolving\u001b[22m\u001b[39m package versions...\n",
      "\u001b[32m\u001b[1m  No Changes\u001b[22m\u001b[39m to `~/.julia/environments/v1.7/Project.toml`\n",
      "\u001b[32m\u001b[1m  No Changes\u001b[22m\u001b[39m to `~/.julia/environments/v1.7/Manifest.toml`\n"
     ]
    }
   ],
   "source": [
    "# インストール済みならスキップ\n",
    "using Pkg\n",
    "Pkg.add(\"Optim\")"
   ]
  },
  {
   "cell_type": "markdown",
   "id": "08066bcd-5f2f-4a52-b0eb-65acaaa8d863",
   "metadata": {},
   "source": [
    "---"
   ]
  },
  {
   "cell_type": "markdown",
   "id": "35f2a1be",
   "metadata": {},
   "source": [
    "## メインのプログラムを走らせる"
   ]
  },
  {
   "cell_type": "code",
   "execution_count": 7,
   "id": "b826a46f",
   "metadata": {},
   "outputs": [
    {
     "data": {
      "text/plain": [
       "Models(0.6354580927313491, 2.0, 1.0975675790817858, 10, 1.0, 0.1, [0.1, 0.2, 0.3, 0.4, 0.5, 0.6, 0.7, 0.8, 0.8999999999999999, 1.0])"
      ]
     },
     "execution_count": 7,
     "metadata": {},
     "output_type": "execute_result"
    }
   ],
   "source": [
    "# 事前に設定しておいたパラメータをparamsという一つの変数にまとめる：struct\n",
    "params = Calibration()"
   ]
  },
  {
   "cell_type": "markdown",
   "id": "ef4a44fc-201c-4b88-99b6-f973f96ff546",
   "metadata": {},
   "source": [
    "---"
   ]
  },
  {
   "cell_type": "code",
   "execution_count": 8,
   "id": "779218f9",
   "metadata": {},
   "outputs": [
    {
     "data": {
      "text/plain": [
       "10-element Vector{Float64}:\n",
       " 0.0\n",
       " 0.0\n",
       " 0.0\n",
       " 0.0\n",
       " 0.0\n",
       " 0.0\n",
       " 0.0\n",
       " 0.0\n",
       " 0.0\n",
       " 0.0"
      ]
     },
     "execution_count": 8,
     "metadata": {},
     "output_type": "execute_result"
    }
   ],
   "source": [
    "# 空の変数を用意\n",
    "a_gs = zeros(params.nw)"
   ]
  },
  {
   "cell_type": "code",
   "execution_count": 9,
   "id": "363c4416",
   "metadata": {},
   "outputs": [
    {
     "name": "stdout",
     "output_type": "stream",
     "text": [
      "[0.035500888178047925, 0.07100177635609585, 0.10650266453414378, 0.1420035527121917, 0.17750444089023965, 0.21300532906828756, 0.24850621724633548, 0.2840071054243834, 0.3195079857755279, 0.3550088817804793]"
     ]
    }
   ],
   "source": [
    "# 各wについて目的関数を最大にするような貯蓄水準aを求める\n",
    "for (w_ind, w_val) in enumerate(params.grid_w)\n",
    "\n",
    "    # 関数obj_two_periodを再定義\n",
    "    # \"aのみをargument\"とする関数を作る：optimizeの中に入れる関数はパラメータを与えたもとでの関数である必要あり\n",
    "    obj_two_period!(a) = obj_two_period(a, w_val, params)\n",
    "\n",
    "    # 黄金分割法(Golden Section Search)により計算\n",
    "    # 使い方：aの最適値を探す範囲を指定→[w_val*0.01, w_val*2.0]\n",
    "    # この範囲内で関数を最小(最大)にするaを見つけ出すアルゴリズム\n",
    "    res = optimize(obj_two_period!, w_val*0.01, w_val*2.0, GoldenSection())\n",
    "\n",
    "    a_gs[w_ind] = res.minimizer\n",
    "end\n",
    "\n",
    "print(a_gs)"
   ]
  },
  {
   "cell_type": "markdown",
   "id": "ff5543c1-05e4-4869-a4fd-bb81c6b255a9",
   "metadata": {},
   "source": [
    "## 計算を高速化するためには関数化したほうが良い(場合が多い)"
   ]
  },
  {
   "cell_type": "code",
   "execution_count": 15,
   "id": "2f23bb1a",
   "metadata": {},
   "outputs": [
    {
     "data": {
      "text/plain": [
       "optimization"
      ]
     },
     "execution_count": 15,
     "metadata": {},
     "output_type": "execute_result"
    }
   ],
   "source": [
    "\"\"\"\n",
    "政策関数を最適化を用いて求める\n",
    "\n",
    "# インプット\n",
    "`m::Models`:パラメータを含む構造体\n",
    "# アウトプット\n",
    "`a_gs::Vector`政策関数\n",
    "\"\"\"\n",
    "function optimization(params::Models)\n",
    "    a_gs = zeros(params.nw)\n",
    "\n",
    "    # 各wについて目的関数を最大にするような貯蓄水準を求める\n",
    "    for (w_ind, w_val) in enumerate(params.grid_w)\n",
    "        obj_two_period!(a) = obj_two_period(a, w_val, params)\n",
    "\n",
    "        #黄金分割法により計算\n",
    "        res = optimize(obj_two_period!, w_val*0.01, w_val*2.0, GoldenSection())\n",
    "\n",
    "        a_gs[w_ind] = res.minimizer\n",
    "    end\n",
    "    return a_gs\n",
    "end"
   ]
  },
  {
   "cell_type": "code",
   "execution_count": 16,
   "id": "f627f3ac",
   "metadata": {},
   "outputs": [
    {
     "name": "stdout",
     "output_type": "stream",
     "text": [
      "  0.000032 seconds (21 allocations: 1.703 KiB)\n"
     ]
    },
    {
     "data": {
      "text/plain": [
       "10-element Vector{Float64}:\n",
       " 0.035500888178047925\n",
       " 0.07100177635609585\n",
       " 0.10650266453414378\n",
       " 0.1420035527121917\n",
       " 0.17750444089023965\n",
       " 0.21300532906828756\n",
       " 0.24850621724633548\n",
       " 0.2840071054243834\n",
       " 0.3195079857755279\n",
       " 0.3550088817804793"
      ]
     },
     "execution_count": 16,
     "metadata": {},
     "output_type": "execute_result"
    }
   ],
   "source": [
    "# 関数の実行\n",
    "@time a_gs = optimization(params) #実行時間の計測"
   ]
  },
  {
   "cell_type": "markdown",
   "id": "3792448f",
   "metadata": {},
   "source": [
    "---"
   ]
  },
  {
   "cell_type": "markdown",
   "id": "e73fab4d",
   "metadata": {},
   "source": [
    "## 結果を出力"
   ]
  },
  {
   "cell_type": "code",
   "execution_count": 13,
   "id": "a396c8e9",
   "metadata": {},
   "outputs": [
    {
     "data": {
      "text/plain": [
       "10-element Vector{Float64}:\n",
       " 0.03550088777115455\n",
       " 0.0710017755423091\n",
       " 0.10650266331346364\n",
       " 0.1420035510846182\n",
       " 0.17750443885577274\n",
       " 0.21300532662692728\n",
       " 0.24850621439808182\n",
       " 0.2840071021692364\n",
       " 0.3195079899403909\n",
       " 0.3550088777115455"
      ]
     },
     "execution_count": 13,
     "metadata": {},
     "output_type": "execute_result"
    }
   ],
   "source": [
    "# 解析解：(2.4)式\n",
    "coef1 = (params.β*(1.0 + params.rent))^(-1.0/params.γ)\n",
    "coef2 = 1.0/(1.0+coef1*(1.0 + params.rent))\n",
    "a_cfs = coef2*params.grid_w"
   ]
  },
  {
   "cell_type": "code",
   "execution_count": 14,
   "id": "93e92518-3f68-4531-be3c-994157cc2555",
   "metadata": {},
   "outputs": [
    {
     "data": {
      "image/png": "[encoded data removed]",
      "text/plain": [
       "PyPlot.Figure(PyObject <Figure size 600x400 with 1 Axes>)"
      ]
     },
     "metadata": {},
     "output_type": "display_data"
    },
    {
     "name": "stderr",
     "output_type": "stream",
     "text": [
      "┌ Warning: `vendor()` is deprecated, use `BLAS.get_config()` and inspect the output instead\n",
      "│   caller = npyinitialize() at numpy.jl:67\n",
      "└ @ PyCall /Users/TomoakiYamada/.julia/packages/PyCall/L0fLP/src/numpy.jl:67\n"
     ]
    }
   ],
   "source": [
    "plt = plot(params.grid_w, a_gs,\n",
    "    color = :blue,\n",
    "    marker = :circle,\n",
    "    legend = :topright,\n",
    "    xlims = (0, 1.0),\n",
    "    ylims = (0, 0.5),\n",
    "    label = (\"最適化\"),\n",
    "    xlabel = (\"若年期の所得：w\"),\n",
    "    ylabel = (\"若年期の貯蓄：a\"),\n",
    "    linewidth = 4,\n",
    "    markersize = 8,\n",
    "    titlefont = font(\"HackGen35Nerd\", 12),\n",
    "    guidefont = font(\"HackGen35Nerd\", 12),\n",
    "    tickfont = font(\"HackGen35Nerd\", 8),\n",
    "    legend_font_family = (\"HackGen35Nerd\"),\n",
    "    legendfontsize = 12,\n",
    "    framestyle = :semi\n",
    ")\n",
    "plot!(params.grid_w, a_cfs, linewidth = 2, color = :red, label=\"解析的解\" )\n",
    "savefig(\"Fig2_pol_optimization.pdf\")"
   ]
  },
  {
   "cell_type": "markdown",
   "id": "83fa84dc-2de3-48a1-a812-c62bb86cb874",
   "metadata": {},
   "source": [
    "---"
   ]
  },
  {
   "cell_type": "markdown",
   "id": "0312cad4-7d34-4c52-97ba-0d3145b92836",
   "metadata": {},
   "source": [
    "## エクササイズ\n",
    "* グリッドサイズを変更して、計算時間がどの程度変わるのかを確認してみよう\n",
    "* 前節で学習した操作変数を離散化する場合と比較して、計算時間がどの程度変わるのかを確認してみよう。"
   ]
  },
  {
   "cell_type": "code",
   "execution_count": null,
   "id": "8a9ff2f3-df3d-4c5e-bacf-7c069f0244a7",
   "metadata": {},
   "outputs": [],
   "source": []
  }
 ],
 "metadata": {
  "kernelspec": {
   "display_name": "Julia 1.7.2",
   "language": "julia",
   "name": "julia-1.7"
  },
  "language_info": {
   "file_extension": ".jl",
   "mimetype": "application/julia",
   "name": "julia",
   "version": "1.7.3"
  }
 },
 "nbformat": 4,
 "nbformat_minor": 5
}
