{
 "cells": [
  {
   "cell_type": "markdown",
   "id": "293395af-f1b9-4c19-8e16-8fcc59ba0590",
   "metadata": {},
   "source": [
    "# 北尾早霧・砂川武貴・山田知明『定量的マクロ経済学と数値計算』日本評論社\n",
    "## 第2章：2期間モデルと数値計算の概観"
   ]
  },
  {
   "cell_type": "markdown",
   "id": "311020d2-8844-4c25-92c1-df102fd2841a",
   "metadata": {},
   "source": [
    "## 2.6 内生的格子法（Endogenous Gridpoint Method）\n",
    "* 説明書きはこれから"
   ]
  },
  {
   "cell_type": "code",
   "execution_count": 17,
   "id": "6bd32fed-2f5e-4f2c-91bb-be706b0bfb6b",
   "metadata": {},
   "outputs": [],
   "source": [
    "struct Models\n",
    "    # パラメータ\n",
    "    β::Float64 #割引因子\n",
    "    γ::Float64 #相対的危険回避度\n",
    "    \n",
    "    # 要素価格\n",
    "    rent::Float64 #純利子率\n",
    "    \n",
    "    # グリッド\n",
    "    na::Int64 #貯蓄グリッドの数\n",
    "    a_max::Float64 #貯蓄グリッドの最大値\n",
    "    a_min::Float64 #貯蓄グリッドの最小値\n",
    "    grid_a::Vector{Float64} #貯蓄グリッド\n",
    "end"
   ]
  },
  {
   "cell_type": "code",
   "execution_count": 18,
   "id": "4b6fe8b4-5dd8-49b9-9d0d-1f02b1b2d517",
   "metadata": {},
   "outputs": [
    {
     "data": {
      "text/plain": [
       "Calibration (generic function with 1 method)"
      ]
     },
     "execution_count": 18,
     "metadata": {},
     "output_type": "execute_result"
    }
   ],
   "source": [
    "function Calibration()\n",
    "    # パラメータはここで設定をする\n",
    "    β = 0.985^30\n",
    "    γ = 2.0\n",
    "    rent = 1.025^30 - 1.0\n",
    "    na = 11\n",
    "    a_max = 0.4\n",
    "    a_min = 0.0\n",
    "\n",
    "    grid_a = collect(LinRange(a_min, a_max, na))\n",
    "\n",
    "    return Models(β, γ, rent, na, a_max, a_min, grid_a)\n",
    "end"
   ]
  },
  {
   "cell_type": "code",
   "execution_count": 19,
   "id": "50276c41-c511-4900-bb4b-78e48a134232",
   "metadata": {},
   "outputs": [],
   "source": [
    "params = Calibration();"
   ]
  },
  {
   "cell_type": "code",
   "execution_count": 20,
   "id": "3436be22-d2c0-4414-9afd-921aae74dc16",
   "metadata": {},
   "outputs": [
    {
     "data": {
      "text/plain": [
       "mu_CRRA (generic function with 1 method)"
      ]
     },
     "execution_count": 20,
     "metadata": {},
     "output_type": "execute_result"
    }
   ],
   "source": [
    "function mu_CRRA(cons, γ)\n",
    "    return cons^(-γ)\n",
    "end"
   ]
  },
  {
   "cell_type": "markdown",
   "id": "be6d64a6-3e0f-49e0-a2d1-f25b4bbf21ac",
   "metadata": {},
   "source": [
    "### オイラー方程式の右辺"
   ]
  },
  {
   "cell_type": "code",
   "execution_count": 21,
   "id": "23147be0-06d6-450f-8a06-a88de016597e",
   "metadata": {},
   "outputs": [
    {
     "data": {
      "text/plain": [
       "rhs_euler (generic function with 1 method)"
      ]
     },
     "execution_count": 21,
     "metadata": {},
     "output_type": "execute_result"
    }
   ],
   "source": [
    "function rhs_euler(a, params)\n",
    "\n",
    "    # 老年期の限界効用\n",
    "    mu = mu_CRRA((1.0 + params.rent)*a, params.γ)\n",
    "\n",
    "    # オイラー方程式の右辺\n",
    "    return params.β*(1.0 + params.rent)*mu\n",
    "\n",
    "end"
   ]
  },
  {
   "cell_type": "markdown",
   "id": "bfa147bf-6dcb-406d-a4d4-16858f937a87",
   "metadata": {},
   "source": [
    "### CRRA型効用関数の逆関数"
   ]
  },
  {
   "cell_type": "code",
   "execution_count": 22,
   "id": "3de223ab-0d92-457d-abc2-0b465c2e647d",
   "metadata": {},
   "outputs": [
    {
     "data": {
      "text/plain": [
       "inv_mu_CRRA (generic function with 1 method)"
      ]
     },
     "execution_count": 22,
     "metadata": {},
     "output_type": "execute_result"
    }
   ],
   "source": [
    "function inv_mu_CRRA(mu, γ)\n",
    "    return mu^(-1/γ)\n",
    "end"
   ]
  },
  {
   "cell_type": "markdown",
   "id": "27f0bf8d-44d1-49ed-ad87-2c2e228119c6",
   "metadata": {},
   "source": [
    "## 計算アルゴリズムのメインパート\n",
    "* OptimizationやRootを探すといった事を一切していない！"
   ]
  },
  {
   "cell_type": "code",
   "execution_count": 23,
   "id": "bad71a37-2aa0-4fcf-8eef-3a5b35a738f3",
   "metadata": {},
   "outputs": [],
   "source": [
    "rhs = zeros(params.na)\n",
    "cons = zeros(params.na)\n",
    "for i = 1:params.na\n",
    "    rhs[i] = rhs_euler(params.grid_a[i], params)\n",
    "    cons[i] = inv_mu_CRRA(rhs[i], params.γ)\n",
    "end"
   ]
  },
  {
   "cell_type": "markdown",
   "id": "c1eacb7a-4d76-49ca-9a8f-3a0d9bbd6216",
   "metadata": {},
   "source": [
    "## 予算制約からwを逆算する"
   ]
  },
  {
   "cell_type": "code",
   "execution_count": 24,
   "id": "fa52ad22-e1eb-4486-88f8-a298c356cc32",
   "metadata": {},
   "outputs": [
    {
     "name": "stdout",
     "output_type": "stream",
     "text": [
      "[0.0, 0.11267323864644622, 0.22534647729289245, 0.3380197159393386, 0.4506929545857849, 0.5633661932322311, 0.6760394318786772, 0.7887126705251233, 0.9013859091715698, 1.0140591478180159, 1.1267323864644623]"
     ]
    }
   ],
   "source": [
    "w = zeros(params.na)\n",
    "for i = 1:params.na\n",
    "    w[i] = cons[i] + params.grid_a[i]\n",
    "end\n",
    "print(w)"
   ]
  },
  {
   "cell_type": "code",
   "execution_count": 25,
   "id": "a7ac020d-6636-4dc5-a95f-28f5968c5ec9",
   "metadata": {},
   "outputs": [
    {
     "data": {
      "text/plain": [
       "Plots.PyPlotBackend()"
      ]
     },
     "execution_count": 25,
     "metadata": {},
     "output_type": "execute_result"
    }
   ],
   "source": [
    "using Plots\n",
    "pyplot()"
   ]
  },
  {
   "cell_type": "markdown",
   "id": "cb7dbf38-b1a9-4cb4-a5d4-fcf48947faca",
   "metadata": {},
   "source": [
    "## 計算結果を出力"
   ]
  },
  {
   "cell_type": "code",
   "execution_count": 26,
   "id": "efd3cc20-2bf2-4284-9abb-aad290c08423",
   "metadata": {},
   "outputs": [],
   "source": [
    "# 解析解\n",
    "# テキストの(2.4)式\n",
    "coef1 = (params.β*(1.0+params.rent))^(-1.0/params.γ)\n",
    "coef2 = 1.0/(1.0+coef1*(1.0+params.rent))\n",
    "a_cfs = coef2*w;"
   ]
  },
  {
   "cell_type": "code",
   "execution_count": 27,
   "id": "a1054666-71ff-432b-b402-8d5e9b9e75e6",
   "metadata": {},
   "outputs": [
    {
     "data": {
      "image/png": "[encoded data removed]",
      "text/plain": [
       "PyPlot.Figure(PyObject <Figure size 600x400 with 1 Axes>)"
      ]
     },
     "metadata": {},
     "output_type": "display_data"
    },
    {
     "name": "stderr",
     "output_type": "stream",
     "text": [
      "The PostScript backend does not support transparency; partially transparent artists will be rendered opaque.\n",
      "The PostScript backend does not support transparency; partially transparent artists will be rendered opaque.\n",
      "The PostScript backend does not support transparency; partially transparent artists will be rendered opaque.\n",
      "The PostScript backend does not support transparency; partially transparent artists will be rendered opaque.\n",
      "The PostScript backend does not support transparency; partially transparent artists will be rendered opaque.\n",
      "The PostScript backend does not support transparency; partially transparent artists will be rendered opaque.\n",
      "The PostScript backend does not support transparency; partially transparent artists will be rendered opaque.\n",
      "The PostScript backend does not support transparency; partially transparent artists will be rendered opaque.\n",
      "The PostScript backend does not support transparency; partially transparent artists will be rendered opaque.\n",
      "The PostScript backend does not support transparency; partially transparent artists will be rendered opaque.\n",
      "The PostScript backend does not support transparency; partially transparent artists will be rendered opaque.\n",
      "The PostScript backend does not support transparency; partially transparent artists will be rendered opaque.\n"
     ]
    }
   ],
   "source": [
    "plt = plot(w, params.grid_a,\n",
    "    color = :blue,\n",
    "    marker = :circle,\n",
    "    legend = :topleft,\n",
    "    xlims = (0, 1.5),\n",
    "    ylims = (0, 0.5),\n",
    "    label = (\"EGM\"),\n",
    "    xlabel = (\"若年期の所得：w\"),\n",
    "    ylabel = (\"若年期の貯蓄：a\"),\n",
    "    linewidth = 4,\n",
    "    markersize = 8,\n",
    "    titlefont = font(\"HackGen35Nerd\", 12),\n",
    "    guidefont = font(\"HackGen35Nerd\", 12),\n",
    "    tickfont = font(\"HackGen35Nerd\", 8),\n",
    "    legend_font_family = (\"HackGen35Nerd\"),\n",
    "    legendfontsize = 12,\n",
    "    framestyle = :semi\n",
    ")\n",
    "plot!(w, a_cfs, linewidth = 2, color = :red, label=\"解析的解\")\n",
    "#savefig(\"../figure/Fig2_pol_egm.pdf\")\n",
    "savefig(\"../figure/Fig2_pol_egm.eps\")"
   ]
  },
  {
   "cell_type": "markdown",
   "id": "bc74bd9a-ea47-4ae8-925c-59ba3a80c54b",
   "metadata": {},
   "source": [
    "---"
   ]
  },
  {
   "cell_type": "markdown",
   "id": "4d95eb8b-7eea-4640-bdf0-ce89981df949",
   "metadata": {},
   "source": [
    "## エクササイズ\n",
    "* "
   ]
  },
  {
   "cell_type": "code",
   "execution_count": null,
   "id": "75c1d6fb-e1b9-44d4-8f02-5339bfb71001",
   "metadata": {},
   "outputs": [],
   "source": []
  }
 ],
 "metadata": {
  "kernelspec": {
   "display_name": "Julia 1.7.1",
   "language": "julia",
   "name": "julia-1.7"
  },
  "language_info": {
   "file_extension": ".jl",
   "mimetype": "application/julia",
   "name": "julia",
   "version": "1.7.2"
  }
 },
 "nbformat": 4,
 "nbformat_minor": 5
}
