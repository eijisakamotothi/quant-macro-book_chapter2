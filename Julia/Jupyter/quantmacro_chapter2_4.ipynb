{
 "cells": [
  {
   "cell_type": "markdown",
   "id": "8cb19e31-1ec2-4067-8cda-ca366de68881",
   "metadata": {},
   "source": [
    "# 北尾早霧・砂川武貴・山田知明『定量的マクロ経済学と数値計算』日本評論社\n",
    "## 第2章：2期間モデル・3期間モデルと数値計算の概観"
   ]
  },
  {
   "cell_type": "markdown",
   "id": "6d4a1a64-ba5d-4d09-b896-d28720b830f9",
   "metadata": {},
   "source": [
    "## 2.6.2 射影法"
   ]
  },
  {
   "cell_type": "markdown",
   "id": "f3f48d68-43d8-4832-bb74-4d8e437ce39f",
   "metadata": {},
   "source": [
    "### パラメータの設定はこれまでと同じ"
   ]
  },
  {
   "cell_type": "code",
   "execution_count": 2,
   "id": "5b5d9651-03e2-403c-876f-ec9ebb6be380",
   "metadata": {},
   "outputs": [],
   "source": [
    "struct Models\n",
    "    # パラメータ\n",
    "    β::Float64 #割引因子\n",
    "    γ::Float64 #相対的危険回避度\n",
    "    \n",
    "    # 要素価格\n",
    "    rent::Float64 #純利子率\n",
    "    \n",
    "    # グリッド\n",
    "    nw::Int64 #所得グリッドの数\n",
    "    w_max::Float64 #所得グリッドの最大値\n",
    "    w_min::Float64 #所得グリッドの最小値\n",
    "    grid_w::Vector{Float64} #所得グリッド\n",
    "end"
   ]
  },
  {
   "cell_type": "code",
   "execution_count": 3,
   "id": "9e6faf31-7dac-41fd-8689-86552780f332",
   "metadata": {},
   "outputs": [
    {
     "data": {
      "text/plain": [
       "Calibration (generic function with 1 method)"
      ]
     },
     "execution_count": 3,
     "metadata": {},
     "output_type": "execute_result"
    }
   ],
   "source": [
    "function Calibration()\n",
    "    # パラメータはここで設定をする\n",
    "    β = 0.985^30\n",
    "    γ = 2.0\n",
    "    rent = 1.025^30 - 1.0\n",
    "    nw = 10\n",
    "    w_max = 1.0\n",
    "    w_min = 0.1\n",
    "\n",
    "    grid_w = collect(LinRange(w_min, w_max, nw))\n",
    "\n",
    "    return Models(β, γ, rent, nw, w_max, w_min, grid_w)\n",
    "end"
   ]
  },
  {
   "cell_type": "code",
   "execution_count": 5,
   "id": "3224f7c3-ec7c-4b4a-aff7-95e48ded2896",
   "metadata": {},
   "outputs": [],
   "source": [
    "params = Calibration();"
   ]
  },
  {
   "cell_type": "markdown",
   "id": "f07183c9-ed31-49ec-b287-884c6a4e35b2",
   "metadata": {},
   "source": [
    "---"
   ]
  },
  {
   "cell_type": "markdown",
   "id": "2a97d64e-6de4-41f6-8b11-ac51a0f1bbf7",
   "metadata": {},
   "source": [
    "## 新しいパッケージを追加\n",
    "* 係数を探すために必要になる"
   ]
  },
  {
   "cell_type": "code",
   "execution_count": null,
   "id": "ea9f58d3-b135-40b6-92f9-3854638f2a0b",
   "metadata": {},
   "outputs": [],
   "source": [
    "# インストール済みならここはスキップ\n",
    "#using Pkg\n",
    "#Pkg.add(\"LeastSquaresOptim\")"
   ]
  },
  {
   "cell_type": "code",
   "execution_count": 4,
   "id": "6fa669cc-e3a5-401e-82d2-0e285d524f9e",
   "metadata": {},
   "outputs": [],
   "source": [
    "# 今回必要なパッケージを読み込む\n",
    "using Plots\n",
    "pyplot()\n",
    "using LeastSquaresOptim # 射影法用の最適化パッケージ"
   ]
  },
  {
   "cell_type": "markdown",
   "id": "ba58fcea-fef8-4cc7-b26a-9720628f9072",
   "metadata": {},
   "source": [
    "---"
   ]
  },
  {
   "cell_type": "markdown",
   "id": "3fb6a736-45f5-44b0-9eb1-9e342eb30338",
   "metadata": {},
   "source": [
    "## 経済学でよく使う関数を設定しておく\n",
    "* 限界効用\n",
    "$$\n",
    "    u'(c) = c^{-\\gamma}\n",
    "$$"
   ]
  },
  {
   "cell_type": "code",
   "execution_count": 6,
   "id": "c4c20292-50bc-42b7-a028-bd5f799480ca",
   "metadata": {},
   "outputs": [
    {
     "data": {
      "text/plain": [
       "mu_CRRA (generic function with 1 method)"
      ]
     },
     "execution_count": 6,
     "metadata": {},
     "output_type": "execute_result"
    }
   ],
   "source": [
    "function mu_CRRA(cons, γ)\n",
    "    return cons^(-γ)\n",
    "end"
   ]
  },
  {
   "cell_type": "markdown",
   "id": "23695578-0747-494d-b8d2-3cfefcb357b8",
   "metadata": {},
   "source": [
    "---"
   ]
  },
  {
   "cell_type": "markdown",
   "id": "1a49bd5f-6b2b-42e9-a7b7-563af268ebb6",
   "metadata": {},
   "source": [
    "## 多項式近似をした貯蓄関数\n",
    "* (2.9)式を関数化\n",
    "$$\n",
    "    \\hat{g}(w; \\theta) = \\sum_{n=2}^{N} \\theta_{n} w^{n}\n",
    "$$\n",
    "* 以下では$N=1$で説明\n",
    "* 政策関数は$a = \\theta_{0} + \\theta_{1} w$"
   ]
  },
  {
   "cell_type": "code",
   "execution_count": 17,
   "id": "b4a91cd1-24ba-4829-8908-65dedc730b97",
   "metadata": {},
   "outputs": [
    {
     "data": {
      "text/plain": [
       "2-element Vector{Float64}:\n",
       " 0.0\n",
       " 1.0"
      ]
     },
     "execution_count": 17,
     "metadata": {},
     "output_type": "execute_result"
    }
   ],
   "source": [
    "# 多項式の係数を一つ定める\n",
    "θ = [0.0, 1.0]"
   ]
  },
  {
   "cell_type": "code",
   "execution_count": 29,
   "id": "ba4be06c-2e26-427d-b9a6-38e1eb884983",
   "metadata": {},
   "outputs": [
    {
     "data": {
      "text/plain": [
       "10-element Vector{Float64}:\n",
       " 0.1\n",
       " 0.2\n",
       " 0.3\n",
       " 0.4\n",
       " 0.5\n",
       " 0.6\n",
       " 0.7\n",
       " 0.8\n",
       " 0.8999999999999999\n",
       " 1.0"
      ]
     },
     "execution_count": 29,
     "metadata": {},
     "output_type": "execute_result"
    }
   ],
   "source": [
    "# 選点法(collocation method)の評価点：これまでと同じグリッド\n",
    "colloc = params.grid_w"
   ]
  },
  {
   "cell_type": "code",
   "execution_count": 30,
   "id": "9a02c556-79c7-48e5-a475-698b95ea0ba4",
   "metadata": {},
   "outputs": [
    {
     "data": {
      "text/plain": [
       "10×2 Matrix{Float64}:\n",
       " 1.0  0.1\n",
       " 1.0  0.2\n",
       " 1.0  0.3\n",
       " 1.0  0.4\n",
       " 1.0  0.5\n",
       " 1.0  0.6\n",
       " 1.0  0.7\n",
       " 1.0  0.8\n",
       " 1.0  0.9\n",
       " 1.0  1.0"
      ]
     },
     "execution_count": 30,
     "metadata": {},
     "output_type": "execute_result"
    }
   ],
   "source": [
    "# 多項式の最大次数\n",
    "dim_app = length(coef) - 1\n",
    "\n",
    "# collocation上の多項式：w^{i}\n",
    "poly = zeros(params.nw, dim_app+1)\n",
    "for i = 0:dim_app\n",
    "    poly[:, i+1] = colloc.^i\n",
    "end"
   ]
  },
  {
   "cell_type": "code",
   "execution_count": 32,
   "id": "167716b9-4d10-406a-adc5-99a510d55568",
   "metadata": {},
   "outputs": [
    {
     "data": {
      "text/plain": [
       "10-element Vector{Float64}:\n",
       " 0.1\n",
       " 0.2\n",
       " 0.3\n",
       " 0.4\n",
       " 0.5\n",
       " 0.6\n",
       " 0.7\n",
       " 0.8\n",
       " 0.8999999999999999\n",
       " 1.0"
      ]
     },
     "execution_count": 32,
     "metadata": {},
     "output_type": "execute_result"
    }
   ],
   "source": [
    "# (2.9)式は\\thetaと多項式の値の積\n",
    "# 各wに対応したaの値\n",
    "next_a = poly*coef"
   ]
  },
  {
   "cell_type": "markdown",
   "id": "4e266272-79cf-4c5d-aeac-9e5d920e2f53",
   "metadata": {},
   "source": [
    "### 多項式の係数(\\theta)を一つ与えた際にw上のaを返す関数"
   ]
  },
  {
   "cell_type": "code",
   "execution_count": 36,
   "id": "54083136-f6f0-458d-a3b6-7629e8aa1136",
   "metadata": {},
   "outputs": [
    {
     "data": {
      "text/plain": [
       "approx_policy"
      ]
     },
     "execution_count": 36,
     "metadata": {},
     "output_type": "execute_result"
    }
   ],
   "source": [
    "\"\"\"\n",
    "政策関数を多項式によって近似する\n",
    "\n",
    "### インプット\n",
    "`coef::Vector{Float64}`: 多項式の係数\n",
    "`eval::Vector:選点\n",
    "\n",
    "### アウトプット\n",
    "`next_a::Vector{Float64}`:2期における資産水準(それぞれの選点上)\n",
    "\"\"\"\n",
    "function approx_policy(coef::Vector{Float64}, colloc::Vector{Float64})\n",
    "    dim_app = length(coef) - 1\n",
    "    nw = length(colloc) # paramsを引数としていないのでnwを関数内で確認\n",
    "    poly = zeros(nw, dim_app+1)\n",
    "    for i = 0:dim_app\n",
    "        poly[:, i+1] = colloc.^i\n",
    "    end \n",
    "    next_a = poly*coef\n",
    "    return next_a\n",
    "end"
   ]
  },
  {
   "cell_type": "markdown",
   "id": "a010420a-f321-4ed0-8708-c1487038201d",
   "metadata": {},
   "source": [
    "---"
   ]
  },
  {
   "cell_type": "markdown",
   "id": "65023a20-c345-4bf8-a748-23cf814dc4e9",
   "metadata": {},
   "source": [
    "## (2.9)式の政策関数に基づいて残差を計算する"
   ]
  },
  {
   "cell_type": "code",
   "execution_count": 37,
   "id": "7c07a63e-86db-479f-826e-ee46a9ec582b",
   "metadata": {},
   "outputs": [
    {
     "data": {
      "text/plain": [
       "10-element Vector{Float64}:\n",
       " 0.1\n",
       " 0.2\n",
       " 0.3\n",
       " 0.4\n",
       " 0.5\n",
       " 0.6\n",
       " 0.7\n",
       " 0.8\n",
       " 0.8999999999999999\n",
       " 1.0"
      ]
     },
     "execution_count": 37,
     "metadata": {},
     "output_type": "execute_result"
    }
   ],
   "source": [
    "# ⬆で作成した関数を使って係数\\thetaの下でのaを計算\n",
    "a = approx_policy(θ, params.grid_w)"
   ]
  },
  {
   "cell_type": "code",
   "execution_count": 38,
   "id": "92464ce6-f65d-48cb-9a4a-52eb6729a285",
   "metadata": {},
   "outputs": [
    {
     "data": {
      "text/plain": [
       "10-element Vector{Float64}:\n",
       " 0.2097567579081786\n",
       " 0.4195135158163572\n",
       " 0.6292702737245357\n",
       " 0.8390270316327144\n",
       " 1.048783789540893\n",
       " 1.2585405474490714\n",
       " 1.46829730535725\n",
       " 1.6780540632654288\n",
       " 1.887810821173607\n",
       " 2.097567579081786"
      ]
     },
     "execution_count": 38,
     "metadata": {},
     "output_type": "execute_result"
    }
   ],
   "source": [
    "# 近似したaを使って、2各wにおける1期の消費水準を計算\n",
    "c1 = params.grid_w - a\n",
    "\n",
    "# 近似したaを使って、2期の消費水準を計算\n",
    "c2 = (1.0 + params.rent)*a"
   ]
  },
  {
   "cell_type": "code",
   "execution_count": 40,
   "id": "d8de46d4-49ed-49db-b54e-540e756f5c41",
   "metadata": {},
   "outputs": [
    {
     "data": {
      "text/plain": [
       "10-element Vector{Float64}:\n",
       " -0.9969705000255128\n",
       " -0.9992426250063782\n",
       " -0.9996633888917237\n",
       " -0.9998106562515946\n",
       " -0.9998788200010205\n",
       " -0.9999158472229309\n",
       " -0.9999381734699084\n",
       " -0.9999526640628986\n",
       " -0.9999625987657471\n",
       " -0.9999697050002552"
      ]
     },
     "execution_count": 40,
     "metadata": {},
     "output_type": "execute_result"
    }
   ],
   "source": [
    "mu1 = zeros(params.nw) #1期における限界効用\n",
    "mu2 = similar(mu1) #2期における限界効用\n",
    "resid = similar(mu1) #残差\n",
    "\n",
    "for i = 1:params.nw\n",
    "    if c1[i] > 0.0\n",
    "        mu1[i] = mu_CRRA(c1[i], params.γ)\n",
    "    else\n",
    "        mu1[i] = 10000.0 # 負の消費に対するペナルティ\n",
    "    end\n",
    "\n",
    "    if c2[i] > 0.0\n",
    "        mu2[i] = mu_CRRA(c2[i], params.γ)\n",
    "    else\n",
    "        mu2[i] = 10000.0 # 負の消費に対するペナルティ\n",
    "    end\n",
    "\n",
    "    # 比を取って残差を導出\n",
    "    resid[i] = params.β*(1.0 + params.rent)*(mu2[i]/mu1[i]) - 1.0\n",
    "end"
   ]
  },
  {
   "cell_type": "code",
   "execution_count": 45,
   "id": "3675739a-1d43-4f07-8511-c7225041a681",
   "metadata": {},
   "outputs": [
    {
     "data": {
      "text/plain": [
       "resid_projection"
      ]
     },
     "execution_count": 45,
     "metadata": {},
     "output_type": "execute_result"
    }
   ],
   "source": [
    "\"\"\"\n",
    "選点に基づいてオイラー方程式の残差を返す\n",
    "\n",
    "### インプット\n",
    "`coef::Vector{Float64}`:多項式の係数\n",
    "`m::Models`:パラメータを含む構造体\n",
    "\n",
    "### アウトプット\n",
    "`residual::Vector`:残差\n",
    "\"\"\"\n",
    "function resid_projection(coef::Vector{Float64}, params::Models)\n",
    "\n",
    "    a = approx_policy(coef, params.grid_w)\n",
    "\n",
    "    c1 = params.grid_w - a\n",
    "    c2 = (1.0 + params.rent)*a\n",
    "\n",
    "    mu1 = zeros(params.nw)\n",
    "    mu2 = similar(mu1)\n",
    "    resid = similar(mu1)\n",
    "\n",
    "    for i = 1:params.nw\n",
    "        if c1[i] > 0.0\n",
    "            mu1[i] = mu_CRRA(c1[i], params.γ)\n",
    "        else\n",
    "            mu1[i] = 10000.0\n",
    "        end\n",
    "\n",
    "        if c2[i] > 0.0\n",
    "            mu2[i] = mu_CRRA(c2[i], params.γ)\n",
    "        else\n",
    "            mu2[i] = 10000.0\n",
    "        end\n",
    "        resid[i] = params.β*(1.0 + params.rent)*(mu2[i]/mu1[i]) - 1.0\n",
    "    end\n",
    "\n",
    "    return resid\n",
    "end"
   ]
  },
  {
   "cell_type": "markdown",
   "id": "24bebe97-d6a7-4d41-860b-330b69af2cfd",
   "metadata": {},
   "source": [
    "---"
   ]
  },
  {
   "cell_type": "markdown",
   "id": "dac37e94-8d05-4059-a4d3-9de8973ae340",
   "metadata": {},
   "source": [
    "## 選点上で残差がゼロになるような\\thetaを探す"
   ]
  },
  {
   "cell_type": "code",
   "execution_count": 42,
   "id": "ef9e168d-e043-4047-9bee-653f1636df72",
   "metadata": {},
   "outputs": [
    {
     "data": {
      "text/plain": [
       "resid_projection! (generic function with 1 method)"
      ]
     },
     "execution_count": 42,
     "metadata": {},
     "output_type": "execute_result"
    }
   ],
   "source": [
    "# 一変数の関数に変換\n",
    "resid_projection!(θ) = resid_projection(θ, params)"
   ]
  },
  {
   "cell_type": "code",
   "execution_count": 46,
   "id": "365b8a56-6bf0-402f-b9bc-6d10788e0939",
   "metadata": {},
   "outputs": [
    {
     "data": {
      "text/plain": [
       "Results of Optimization Algorithm\n",
       " * Algorithm: LevenbergMarquardt\n",
       " * Minimizer: [1.0133053578581011e-12,0.3550088777075531]\n",
       " * Sum of squares at Minimum: 0.000000\n",
       " * Iterations: 11\n",
       " * Convergence: true\n",
       " * |x - x'| < 1.0e-08: true\n",
       " * |f(x) - f(x')| / |f(x)| < 1.0e-08: false\n",
       " * |g(x)| < 1.0e-08: false\n",
       " * Function Calls: 12\n",
       " * Gradient Calls: 9\n",
       " * Multiplication Calls: 33\n"
      ]
     },
     "execution_count": 46,
     "metadata": {},
     "output_type": "execute_result"
    }
   ],
   "source": [
    "# レーベンバーグ・マルカート法で非線形最小二乗法を行う\n",
    "# LeastSquaresOptim.jl パッケージを利用：QuantEcon参照\n",
    "\n",
    "θ_init = [0.1, 0.35] # 初期値を適当に与える\n",
    "res = LeastSquaresOptim.optimize(resid_projection!, θ_init, LevenbergMarquardt())"
   ]
  },
  {
   "cell_type": "markdown",
   "id": "d42f0dc3-d3f5-4860-a599-bbe6ef528af1",
   "metadata": {},
   "source": [
    "#### ⬆の計算結果の読み方(の一部)を説明\n",
    "* Algorithm：Levenberg and Marquardt法というアルゴリズムで非線形最小二乗法を行った\n",
    "* Minimizer：計算結果として得られた\\theta\n",
    "    * 今回の解\n",
    "* Sum of square at Minimum：最小二乗法なので、誤差の和がいくつかを表示\n",
    "    * 小数点第6位まで0\n",
    "* Iterations：何回繰り返し計算をしたか\n",
    "* |x - x'| < 1.0e-08：\\thetaの繰り返し計算誤差が小さいことを確認\n",
    "* |f(x) - f(x')| / |f(x)| < 1.0e-08：残差の繰り返し計算誤差が小さいかを確認←今回はfalse"
   ]
  },
  {
   "cell_type": "code",
   "execution_count": 47,
   "id": "39753bef-b420-43f2-800a-28cb7ebcb8a4",
   "metadata": {},
   "outputs": [
    {
     "data": {
      "text/plain": [
       "10-element Vector{Float64}:\n",
       " 0.03550088777176862\n",
       " 0.07100177554252393\n",
       " 0.10650266331327923\n",
       " 0.14200355108403456\n",
       " 0.17750443885478986\n",
       " 0.21300532662554517\n",
       " 0.24850621439630047\n",
       " 0.2840071021670558\n",
       " 0.3195079899378111\n",
       " 0.35500887770856643"
      ]
     },
     "execution_count": 47,
     "metadata": {},
     "output_type": "execute_result"
    }
   ],
   "source": [
    "# ゼロ点探索によって得た係数を使って政策関数を求める\n",
    "# resという変数に計算結果一式がすべて入っていて、その中からminimizer(⬆の説明の通り、minimizerは誤差を最小にする\\theta)を取り出してくる\n",
    "next_a = approx_policy(res.minimizer, params.grid_w)"
   ]
  },
  {
   "cell_type": "code",
   "execution_count": 48,
   "id": "745f270b-b70d-4dd0-9003-4152be9ca6d1",
   "metadata": {},
   "outputs": [
    {
     "data": {
      "text/plain": [
       "projection"
      ]
     },
     "execution_count": 48,
     "metadata": {},
     "output_type": "execute_result"
    }
   ],
   "source": [
    "\"\"\"\n",
    "射影法によって2期間モデルを解く\n",
    "\n",
    "# インプット\n",
    "`m::Models`: パラメータを含む構造体\n",
    "`coef_init::Vector{Float64}`:係数の初期予想\n",
    "\n",
    "# アウトプット\n",
    "`res.minimizer`:非線形最小二乗法によって得られた係数\n",
    "`res.converged::Bool`:最小二乗法が収束したかを示す変数\n",
    "`next_a`:射影法によって得られる政策関数\n",
    "\"\"\"\n",
    "function projection(params::Models, θ_init = [0.1, 0.35])\n",
    "\n",
    "    resid_projection!(coef) = resid_projection(coef, params)\n",
    "\n",
    "    res = LeastSquaresOptim.optimize(resid_projection!, θ_init, LevenbergMarquardt())\n",
    "\n",
    "    next_a = approx_policy(res.minimizer, params.grid_w)\n",
    "\n",
    "    return res.minimizer, res.converged , next_a\n",
    "end"
   ]
  },
  {
   "cell_type": "code",
   "execution_count": 49,
   "id": "422e5334-6309-4cc5-a0b1-ba707cf1c95c",
   "metadata": {},
   "outputs": [
    {
     "name": "stdout",
     "output_type": "stream",
     "text": [
      "  0.305115 seconds (494.44 k allocations: 25.080 MiB, 99.81% compilation time)\n"
     ]
    },
    {
     "data": {
      "text/plain": [
       "([1.0133053578581011e-12, 0.3550088777075531], true, [0.03550088777176862, 0.07100177554252393, 0.10650266331327923, 0.14200355108403456, 0.17750443885478986, 0.21300532662554517, 0.24850621439630047, 0.2840071021670558, 0.3195079899378111, 0.35500887770856643])"
      ]
     },
     "execution_count": 49,
     "metadata": {},
     "output_type": "execute_result"
    }
   ],
   "source": [
    "@time res = projection(params) #実行時間の計測"
   ]
  },
  {
   "cell_type": "markdown",
   "id": "e90388d8-d31d-4fe8-a9c2-bfd3391785a7",
   "metadata": {},
   "source": [
    "---"
   ]
  },
  {
   "cell_type": "markdown",
   "id": "408755d5-2ab7-4878-8347-1a88c55710ad",
   "metadata": {},
   "source": [
    "## 計算結果を出力"
   ]
  },
  {
   "cell_type": "code",
   "execution_count": 50,
   "id": "94aa4834-b16e-4209-a85d-8466a8b4295b",
   "metadata": {},
   "outputs": [],
   "source": [
    "# 解析解\n",
    "# テキストの(2.4)式\n",
    "coef1 = (params.β*(1.0+params.rent))^(-1.0/params.γ)\n",
    "coef2 = 1.0/(1.0+coef1*(1.0+params.rent))\n",
    "a_cfs = coef2*params.grid_w;"
   ]
  },
  {
   "cell_type": "code",
   "execution_count": 51,
   "id": "4ec1e58a-b5c7-4190-94ba-845b8eb6265d",
   "metadata": {},
   "outputs": [
    {
     "data": {
      "image/png": "[encoded data removed]"
     },
     "execution_count": 51,
     "metadata": {},
     "output_type": "execute_result"
    }
   ],
   "source": [
    "plt = plot(params.grid_w, res[3],\n",
    "    color = :blue,\n",
    "    marker = :circle,\n",
    "    legend = :topright,\n",
    "    xlims = (0, 1.0),\n",
    "    ylims = (0, 0.5),\n",
    "    label = (\"射影法\"),\n",
    "    xlabel = (\"若年期の所得：w\"),\n",
    "    ylabel = (\"若年期の貯蓄：a\"),\n",
    "    linewidth = 4,\n",
    "    markersize = 8,\n",
    "    titlefont = font(\"HackGen35Nerd\", 12),\n",
    "    guidefont = font(\"HackGen35Nerd\", 12),\n",
    "    tickfont = font(\"HackGen35Nerd\", 8),\n",
    "    legend_font_family = (\"HackGen35Nerd\"),\n",
    "    legendfontsize = 12,\n",
    "    framestyle = :semi\n",
    ")\n",
    "plot!(params.grid_w, a_cfs, linewidth = 2, color = :red, label=\"解析的解\")\n",
    "#savefig(\"Fig2_pol_projection_method.pdf\")"
   ]
  },
  {
   "cell_type": "markdown",
   "id": "33599863-10f0-4aac-ac3f-5ab6573cb582",
   "metadata": {},
   "source": [
    "---"
   ]
  },
  {
   "cell_type": "markdown",
   "id": "c28c2ed7-4382-4630-ac22-0c1ea5c2cbfe",
   "metadata": {},
   "source": [
    "## エクササイズ\n",
    "* グリッドの数を増やしてみよう\n",
    "* 政策関数の次数を増やしたら、何がおこるだろうか\n",
    "* 初期値を変更したら、収束するだろうか。また、その際に計算速度はどのように変わるかを確認してみよう。"
   ]
  },
  {
   "cell_type": "code",
   "execution_count": null,
   "id": "fbb0c02a-fa63-4b14-9731-80594e88be50",
   "metadata": {},
   "outputs": [],
   "source": []
  }
 ],
 "metadata": {
  "kernelspec": {
   "display_name": "Julia 1.7.2",
   "language": "julia",
   "name": "julia-1.7"
  },
  "language_info": {
   "file_extension": ".jl",
   "mimetype": "application/julia",
   "name": "julia",
   "version": "1.7.3"
  }
 },
 "nbformat": 4,
 "nbformat_minor": 5
}
