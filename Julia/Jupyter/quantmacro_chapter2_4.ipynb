{
 "cells": [
  {
   "cell_type": "markdown",
   "id": "8cb19e31-1ec2-4067-8cda-ca366de68881",
   "metadata": {},
   "source": [
    "# 北尾早霧・砂川武貴・山田知明『定量的マクロ経済学と数値計算』日本評論社\n",
    "## 第2章：2期間モデルと数値計算の概観"
   ]
  },
  {
   "cell_type": "markdown",
   "id": "6d4a1a64-ba5d-4d09-b896-d28720b830f9",
   "metadata": {},
   "source": [
    "## 2.5.2 射影法"
   ]
  },
  {
   "cell_type": "markdown",
   "id": "f3f48d68-43d8-4832-bb74-4d8e437ce39f",
   "metadata": {},
   "source": [
    "### パラメータの設定はこれまでと同じ"
   ]
  },
  {
   "cell_type": "code",
   "execution_count": 1,
   "id": "5b5d9651-03e2-403c-876f-ec9ebb6be380",
   "metadata": {},
   "outputs": [],
   "source": [
    "struct Models\n",
    "    # パラメータ\n",
    "    β::Float64 #割引因子\n",
    "    γ::Float64 #相対的危険回避度\n",
    "    \n",
    "    # 要素価格\n",
    "    rent::Float64 #純利子率\n",
    "    \n",
    "    # グリッド\n",
    "    nw::Int64 #所得グリッドの数\n",
    "    w_max::Float64 #所得グリッドの最大値\n",
    "    w_min::Float64 #所得グリッドの最小値\n",
    "    grid_w::Vector{Float64} #所得グリッド\n",
    "end"
   ]
  },
  {
   "cell_type": "code",
   "execution_count": 2,
   "id": "9e6faf31-7dac-41fd-8689-86552780f332",
   "metadata": {},
   "outputs": [
    {
     "data": {
      "text/plain": [
       "Calibration (generic function with 1 method)"
      ]
     },
     "execution_count": 2,
     "metadata": {},
     "output_type": "execute_result"
    }
   ],
   "source": [
    "function Calibration()\n",
    "    # パラメータはここで設定をする\n",
    "    β = 0.985^30\n",
    "    γ = 2.0\n",
    "    rent = 1.025^30 - 1.0\n",
    "    nw = 10\n",
    "    w_max = 1.0\n",
    "    w_min = 0.1\n",
    "\n",
    "    grid_w = collect(LinRange(w_min, w_max, nw))\n",
    "\n",
    "    return Models(β, γ, rent, nw, w_max, w_min, grid_w)\n",
    "end"
   ]
  },
  {
   "cell_type": "markdown",
   "id": "f07183c9-ed31-49ec-b287-884c6a4e35b2",
   "metadata": {},
   "source": [
    "---"
   ]
  },
  {
   "cell_type": "markdown",
   "id": "2a97d64e-6de4-41f6-8b11-ac51a0f1bbf7",
   "metadata": {},
   "source": [
    "## 新しいパッケージを追加\n",
    "* 係数を探すために必要になる"
   ]
  },
  {
   "cell_type": "code",
   "execution_count": null,
   "id": "ea9f58d3-b135-40b6-92f9-3854638f2a0b",
   "metadata": {},
   "outputs": [],
   "source": [
    "using Pkg\n",
    "Pkg.add(\"LeastSquaresOptim\")"
   ]
  },
  {
   "cell_type": "code",
   "execution_count": 4,
   "id": "6fa669cc-e3a5-401e-82d2-0e285d524f9e",
   "metadata": {},
   "outputs": [],
   "source": [
    "# 今回必要なパッケージを読み込む\n",
    "using Plots\n",
    "pyplot()\n",
    "using LeastSquaresOptim #射影法用の最適化パッケージ"
   ]
  },
  {
   "cell_type": "markdown",
   "id": "ba58fcea-fef8-4cc7-b26a-9720628f9072",
   "metadata": {},
   "source": [
    "---"
   ]
  },
  {
   "cell_type": "code",
   "execution_count": 5,
   "id": "3224f7c3-ec7c-4b4a-aff7-95e48ded2896",
   "metadata": {},
   "outputs": [],
   "source": [
    "params = Calibration();"
   ]
  },
  {
   "cell_type": "code",
   "execution_count": 6,
   "id": "c4c20292-50bc-42b7-a028-bd5f799480ca",
   "metadata": {},
   "outputs": [
    {
     "data": {
      "text/plain": [
       "mu_CRRA (generic function with 1 method)"
      ]
     },
     "execution_count": 6,
     "metadata": {},
     "output_type": "execute_result"
    }
   ],
   "source": [
    "function mu_CRRA(cons, γ)\n",
    "    return cons^(-γ)\n",
    "end"
   ]
  },
  {
   "cell_type": "markdown",
   "id": "23695578-0747-494d-b8d2-3cfefcb357b8",
   "metadata": {},
   "source": [
    "---"
   ]
  },
  {
   "cell_type": "code",
   "execution_count": 7,
   "id": "54083136-f6f0-458d-a3b6-7629e8aa1136",
   "metadata": {},
   "outputs": [
    {
     "data": {
      "text/plain": [
       "approx_policy"
      ]
     },
     "execution_count": 7,
     "metadata": {},
     "output_type": "execute_result"
    }
   ],
   "source": [
    "\"\"\"\n",
    "政策関数を多項式によって近似する\n",
    "\n",
    "# インプット\n",
    "`coef`: 多項式の係数\n",
    "`eval::Vector:選点\n",
    "\n",
    "# アウトプット\n",
    "`next_a::Matrix`:2期における資産水準\n",
    "\"\"\"\n",
    "function approx_policy(coef, eval)\n",
    "    dim_app = length(coef) -1 \n",
    "    nw = length(eval)\n",
    "    XX = zeros(nw, dim_app+1)\n",
    "    for i in 0:dim_app\n",
    "        XX[:, i+1] = eval.^i\n",
    "    end \n",
    "    next_a = XX*coef\n",
    "    return next_a\n",
    "end"
   ]
  },
  {
   "cell_type": "code",
   "execution_count": 8,
   "id": "3675739a-1d43-4f07-8511-c7225041a681",
   "metadata": {},
   "outputs": [
    {
     "data": {
      "text/plain": [
       "resid_projection"
      ]
     },
     "execution_count": 8,
     "metadata": {},
     "output_type": "execute_result"
    }
   ],
   "source": [
    "\"\"\"\n",
    "選点に基づいてオイラー方程式の残差を返す\n",
    "\n",
    "# インプット\n",
    "`coef`:多項式の係数\n",
    "`m::Models`:パラメータを含む構造体\n",
    "\n",
    "# アウトプット\n",
    "`residual::Vector`:残差\n",
    "\"\"\"\n",
    "function resid_projection(coef, params)\n",
    "\n",
    "    # 係数coefを使って政策関数を計算\n",
    "    a = approx_policy(coef, params.grid_w)\n",
    "\n",
    "    # 各wにおける1期の消費水準を計算\n",
    "    c1 = params.grid_w - a\n",
    "\n",
    "    # 2期の消費水準\n",
    "    c2 = (1.0 + params.rent)*a\n",
    "\n",
    "    ng = length(c1) # 次元を取り出す\n",
    "    mu1 = zeros(ng) #1期における限界効用\n",
    "    mu2 = similar(mu1) #2期における限界効用\n",
    "    resid = similar(mu1) #残差\n",
    "\n",
    "    for i in 1:ng\n",
    "        if c1[i] > 0.0\n",
    "            mu1[i] = mu_CRRA(c1[i], params.γ)\n",
    "        else\n",
    "            mu1[i] = 10000.0 #負の消費に対するペナルティ\n",
    "        end\n",
    "\n",
    "        if c2[i] > 0.0\n",
    "            mu2[i] = mu_CRRA(c2[i], params.γ)\n",
    "        else\n",
    "            mu2[i] = 10000.0 #負の消費に対するペナルティ\n",
    "        end\n",
    "        resid[i] = params.β*(1.0 + params.rent)*(mu2[i]/mu1[i]) - 1.0\n",
    "    end\n",
    "\n",
    "    return resid\n",
    "end"
   ]
  },
  {
   "cell_type": "code",
   "execution_count": 10,
   "id": "745f270b-b70d-4dd0-9003-4152be9ca6d1",
   "metadata": {},
   "outputs": [
    {
     "data": {
      "text/plain": [
       "projection"
      ]
     },
     "execution_count": 10,
     "metadata": {},
     "output_type": "execute_result"
    }
   ],
   "source": [
    "\"\"\"\n",
    "射影法によって2期間モデルを解く\n",
    "\n",
    "# インプット\n",
    "`m::Models`: パラメータを含む構造体\n",
    "`coef_init::Vector`:係数の初期予想\n",
    "\n",
    "# アウトプット\n",
    "`res.minimizer`:非線形最小二乗法によって得られた係数\n",
    "`res.converged::Bool`:最小二乗法が収束したかを示す変数\n",
    "`next_a`:射影法によって得られる政策関数\n",
    "\"\"\"\n",
    "function projection(params::Models, coef_init = [0.1, 0.35])\n",
    "\n",
    "    # 多項式の次元を決定\n",
    "    #dim_app = 1　今回のコーディングでは必要としない\n",
    "    resid_projection!(coef) = resid_projection(coef, params)\n",
    "\n",
    "    # レーベンバーグ・マルカート法で非線形最小二乗法を行う\n",
    "    # LeastSquaresOptim.jl パッケージを利用 QuantEcon参照\n",
    "    res = LeastSquaresOptim.optimize(resid_projection!,\n",
    "                                     coef_init, LevenbergMarquardt())\n",
    "\n",
    "    # ゼロ点探索によって得た係数を使って政策関数を求める\n",
    "    next_a = approx_policy(res.minimizer, params.grid_w)\n",
    "\n",
    "    return res.minimizer, res.converged , next_a\n",
    "end"
   ]
  },
  {
   "cell_type": "code",
   "execution_count": 12,
   "id": "422e5334-6309-4cc5-a0b1-ba707cf1c95c",
   "metadata": {},
   "outputs": [
    {
     "name": "stdout",
     "output_type": "stream",
     "text": [
      "  0.000199 seconds (736 allocations: 808.109 KiB)\n"
     ]
    },
    {
     "data": {
      "text/plain": [
       "([1.0133053578581011e-12, 0.3550088777075531], true, [0.03550088777176862, 0.07100177554252393, 0.10650266331327923, 0.14200355108403456, 0.17750443885478986, 0.21300532662554517, 0.24850621439630047, 0.2840071021670558, 0.3195079899378111, 0.35500887770856643])"
      ]
     },
     "execution_count": 12,
     "metadata": {},
     "output_type": "execute_result"
    }
   ],
   "source": [
    "@time res = projection(params) #実行時間の計測"
   ]
  },
  {
   "cell_type": "markdown",
   "id": "e90388d8-d31d-4fe8-a9c2-bfd3391785a7",
   "metadata": {},
   "source": [
    "---"
   ]
  },
  {
   "cell_type": "markdown",
   "id": "408755d5-2ab7-4878-8347-1a88c55710ad",
   "metadata": {},
   "source": [
    "## 計算結果を出力"
   ]
  },
  {
   "cell_type": "code",
   "execution_count": 13,
   "id": "94aa4834-b16e-4209-a85d-8466a8b4295b",
   "metadata": {},
   "outputs": [],
   "source": [
    "# 解析解\n",
    "# テキストの(2.4)式\n",
    "coef1 = (params.β*(1.0+params.rent))^(-1.0/params.γ)\n",
    "coef2 = 1.0/(1.0+coef1*(1.0+params.rent))\n",
    "a_cfs = coef2*params.grid_w;"
   ]
  },
  {
   "cell_type": "code",
   "execution_count": 14,
   "id": "4ec1e58a-b5c7-4190-94ba-845b8eb6265d",
   "metadata": {},
   "outputs": [
    {
     "data": {
      "image/png": "[encoded data removed]",
      "text/plain": [
       "PyPlot.Figure(PyObject <Figure size 600x400 with 1 Axes>)"
      ]
     },
     "metadata": {},
     "output_type": "display_data"
    },
    {
     "name": "stderr",
     "output_type": "stream",
     "text": [
      "┌ Warning: `vendor()` is deprecated, use `BLAS.get_config()` and inspect the output instead\n",
      "│   caller = npyinitialize() at numpy.jl:67\n",
      "└ @ PyCall /Users/TomoakiYamada/.julia/packages/PyCall/L0fLP/src/numpy.jl:67\n"
     ]
    }
   ],
   "source": [
    "plt = plot(params.grid_w, res[3],\n",
    "    color = :blue,\n",
    "    marker = :circle,\n",
    "    legend = :topright,\n",
    "    xlims = (0, 1.0),\n",
    "    ylims = (0, 0.5),\n",
    "    label = (\"射影法\"),\n",
    "    xlabel = (\"若年期の所得：w\"),\n",
    "    ylabel = (\"若年期の貯蓄：a\"),\n",
    "    linewidth = 4,\n",
    "    markersize = 8,\n",
    "    titlefont = font(\"HackGen35Nerd\", 12),\n",
    "    guidefont = font(\"HackGen35Nerd\", 12),\n",
    "    tickfont = font(\"HackGen35Nerd\", 8),\n",
    "    legend_font_family = (\"HackGen35Nerd\"),\n",
    "    legendfontsize = 12,\n",
    "    framestyle = :semi\n",
    ")\n",
    "plot!(params.grid_w, a_cfs, linewidth = 2, color = :red, label=\"解析的解\")\n",
    "savefig(\"Fig2_pol_projection_method.pdf\")"
   ]
  },
  {
   "cell_type": "markdown",
   "id": "33599863-10f0-4aac-ac3f-5ab6573cb582",
   "metadata": {},
   "source": [
    "---"
   ]
  },
  {
   "cell_type": "markdown",
   "id": "c28c2ed7-4382-4630-ac22-0c1ea5c2cbfe",
   "metadata": {},
   "source": [
    "## エクササイズ\n",
    "* グリッドの数を増やしてみよう\n",
    "* 時限を増やしてみよう"
   ]
  },
  {
   "cell_type": "code",
   "execution_count": null,
   "id": "fbb0c02a-fa63-4b14-9731-80594e88be50",
   "metadata": {},
   "outputs": [],
   "source": []
  }
 ],
 "metadata": {
  "kernelspec": {
   "display_name": "Julia 1.7.1",
   "language": "julia",
   "name": "julia-1.7"
  },
  "language_info": {
   "file_extension": ".jl",
   "mimetype": "application/julia",
   "name": "julia",
   "version": "1.7.2"
  }
 },
 "nbformat": 4,
 "nbformat_minor": 5
}
