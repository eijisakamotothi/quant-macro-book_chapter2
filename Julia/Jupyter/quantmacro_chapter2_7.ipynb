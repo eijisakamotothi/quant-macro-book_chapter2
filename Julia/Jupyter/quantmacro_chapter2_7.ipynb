{
 "cells": [
  {
   "cell_type": "markdown",
   "id": "01e5415b-3462-49d2-8f64-18822aa9b07c",
   "metadata": {},
   "source": [
    "# 北尾早霧・砂川武貴・山田知明『定量的マクロ経済学と数値計算』日本評論社\n",
    "## 第2章：2期間モデル・3期間モデルと数値計算の概観"
   ]
  },
  {
   "cell_type": "markdown",
   "id": "a2989940-c2f1-4823-81b8-790f4f06f90b",
   "metadata": {},
   "source": [
    "## 2.9 リスクの導入\n",
    "### パラメータを設定"
   ]
  },
  {
   "cell_type": "code",
   "execution_count": 1,
   "id": "8744fe33-0ee6-4aa4-b3a1-bc07178785a8",
   "metadata": {},
   "outputs": [],
   "source": [
    "struct Models\n",
    "    # パラメータ\n",
    "    β::Float64 #割引因子\n",
    "    γ::Float64 #相対的危険回避度\n",
    "\n",
    "    # 要素価格\n",
    "    rent::Float64 #純利子率\n",
    "\n",
    "    # 労働所得\n",
    "    y1::Float64\n",
    "    y2::Float64\n",
    "    y3::Float64\n",
    "\n",
    "    # リスク\n",
    "    tran::Matrix{Float64}\n",
    "    endow::Vector{Float64}\n",
    "\n",
    "    # グリッド\n",
    "    na::Int64 #貯蓄グリッドの数\n",
    "    ny::Int64 #所得グリッドの数\n",
    "    a_max::Float64 #貯蓄グリッドの最大値\n",
    "    a_min::Float64 #貯蓄グリッドの最小値\n",
    "    grid_a::Vector{Float64} #貯蓄グリッド\n",
    "end"
   ]
  },
  {
   "cell_type": "markdown",
   "id": "c22b784c-379e-42a6-bc99-cb42c18cfc0a",
   "metadata": {},
   "source": [
    "## テキストにある遷移確率行列をそのまま使う\n",
    "* 本来はAR(1)過程のショックの持続性パラメータ$\\rho$とショックサイズ$\\sigma$から遷移確率行列を計算する必要がある\n",
    "* 計算方法は第4章で取り扱います"
   ]
  },
  {
   "cell_type": "code",
   "execution_count": 2,
   "id": "d4b819a0-c777-4f0a-b382-fea71619ae9f",
   "metadata": {},
   "outputs": [
    {
     "data": {
      "text/plain": [
       "3×3 Matrix{Float64}:\n",
       " 0.7451  0.2528  0.0021\n",
       " 0.136   0.7281  0.136\n",
       " 0.0021  0.2528  0.7451"
      ]
     },
     "execution_count": 2,
     "metadata": {},
     "output_type": "execute_result"
    }
   ],
   "source": [
    "tran = [0.7451 0.2528 0.0021; 0.1360 0.7281 0.1360; 0.0021 0.2528 0.7451]"
   ]
  },
  {
   "cell_type": "code",
   "execution_count": 3,
   "id": "21f0f09d-8d13-4bba-8114-ae0269d666a6",
   "metadata": {},
   "outputs": [
    {
     "data": {
      "text/plain": [
       "3-element Vector{Float64}:\n",
       " 0.8027\n",
       " 1.0\n",
       " 1.2457"
      ]
     },
     "execution_count": 3,
     "metadata": {},
     "output_type": "execute_result"
    }
   ],
   "source": [
    "endow = [0.8027, 1, 1.2457]"
   ]
  },
  {
   "cell_type": "code",
   "execution_count": 4,
   "id": "8599f991-91db-4d8c-86ed-423e27732cd9",
   "metadata": {},
   "outputs": [
    {
     "data": {
      "text/plain": [
       "Calibration (generic function with 1 method)"
      ]
     },
     "execution_count": 4,
     "metadata": {},
     "output_type": "execute_result"
    }
   ],
   "source": [
    "function Calibration()\n",
    "    # パラメータはここで設定をする\n",
    "    β = 0.985^20\n",
    "    γ = 2.0\n",
    "    rent = 1.025^20 - 1.0\n",
    "    y1 = 1.0\n",
    "    y2 = 1.2\n",
    "    y3 = 0.4\n",
    "\n",
    "    tran = [0.7451 0.2528 0.0021; 0.1360 0.7281 0.1360; 0.0021 0.2528 0.7451]\n",
    "    endow = [0.8027, 1, 1.2457]\n",
    "    ny = 3\n",
    "\n",
    "    na = 21\n",
    "    a_max = 2.0\n",
    "    a_min = 0.0\n",
    "\n",
    "    grid_a = collect(LinRange(a_min, a_max, na))\n",
    "\n",
    "    return Models(β, γ, rent, y1, y2, y3, tran, endow, na, ny, a_max, a_min, grid_a)\n",
    "end"
   ]
  },
  {
   "cell_type": "code",
   "execution_count": 5,
   "id": "4ecd13eb-c785-418f-ab23-591c1a5a7def",
   "metadata": {},
   "outputs": [],
   "source": [
    "params = Calibration();"
   ]
  },
  {
   "cell_type": "markdown",
   "id": "932c35ab-2b9b-4f9e-91be-5225fab484be",
   "metadata": {},
   "source": [
    "---"
   ]
  },
  {
   "cell_type": "markdown",
   "id": "abc7e492-b70f-46e8-b1d8-48c54585c9ff",
   "metadata": {},
   "source": [
    "## よく使う関数を定義"
   ]
  },
  {
   "cell_type": "code",
   "execution_count": 6,
   "id": "963ef9e3-0b24-4c06-a79b-e0735547f969",
   "metadata": {},
   "outputs": [
    {
     "data": {
      "text/plain": [
       "mu_CRRA (generic function with 1 method)"
      ]
     },
     "execution_count": 6,
     "metadata": {},
     "output_type": "execute_result"
    }
   ],
   "source": [
    "function mu_CRRA(cons, γ)\n",
    "    return cons^(-γ)\n",
    "end"
   ]
  },
  {
   "cell_type": "markdown",
   "id": "df9c2356-dbf6-4c94-aa66-2de92eae9e5b",
   "metadata": {},
   "source": [
    "---"
   ]
  },
  {
   "cell_type": "code",
   "execution_count": 7,
   "id": "2a6e399b-aaae-4952-b9b9-526819c0fabf",
   "metadata": {},
   "outputs": [],
   "source": [
    "# 使う関数を呼び出す\n",
    "using Plots\n",
    "pyplot()\n",
    "using Roots\n",
    "using Interpolations"
   ]
  },
  {
   "cell_type": "markdown",
   "id": "29bb9ab6-42c0-4af2-bc4a-12c62ab588f1",
   "metadata": {},
   "source": [
    "---"
   ]
  },
  {
   "cell_type": "markdown",
   "id": "889a1b23-11f7-48f9-8953-9dc4cf5ed2b3",
   "metadata": {},
   "source": [
    "## 中年期と老年期の間の意思決定\n",
    "### 中年期と老年期の間の残差関数を定義"
   ]
  },
  {
   "cell_type": "code",
   "execution_count": 8,
   "id": "536b40a4-6237-4c00-b12e-8e79a17574d1",
   "metadata": {},
   "outputs": [
    {
     "data": {
      "text/plain": [
       "resid_three_period2 (generic function with 1 method)"
      ]
     },
     "execution_count": 8,
     "metadata": {},
     "output_type": "execute_result"
    }
   ],
   "source": [
    "function resid_three_period2(a3::Float64, a2::Float64, e2::Int64, params::Models)\n",
    "\n",
    "    # オイラー方程式の左辺：中年期の限界効用\n",
    "    # 予算制約の右辺に基づいて手持ちの現金(cash on hand)を定義\n",
    "    coh = (1 + params.rent)*a2 + params.y2*params.endow[e2]\n",
    "    if coh - a3 > 0.0 # 消費が正値\n",
    "        mu2 = mu_CRRA(coh - a3, params.γ)\n",
    "    else\n",
    "        mu2 = 10000.0\n",
    "    end\n",
    "\n",
    "    # 老年期の限界効用\n",
    "    mu3 = mu_CRRA((1 + params.rent)*a3 + params.y3, params.γ)\n",
    "\n",
    "    # 残差(residual)\n",
    "    return params.β*(1 + params.rent)*(mu3/mu2) - 1.0\n",
    "\n",
    "end"
   ]
  },
  {
   "cell_type": "code",
   "execution_count": 9,
   "id": "9dbad9d8-e594-49c8-9ddd-feb517803191",
   "metadata": {},
   "outputs": [],
   "source": [
    "# 空の変数を用意\n",
    "a2_nl = zeros(params.na, params.ny);"
   ]
  },
  {
   "cell_type": "code",
   "execution_count": 10,
   "id": "24edd257-4ea7-429b-8bb6-7074af6641d1",
   "metadata": {},
   "outputs": [
    {
     "name": "stdout",
     "output_type": "stream",
     "text": [
      "[0.24097755823532707 0.33610250165225547 0.45456270741778665; 0.3068135508711914 0.4019384942881198 0.520398700053651; 0.3726495435070557 0.46777448692398405 0.5862346926895151; 0.4384855361429199 0.5336104795598483 0.6520706853253794; 0.5043215287787842 0.5994464721957126 0.7179066779612439; 0.5701575214146485 0.6652824648315768 0.7837426705971079; 0.6359935140505127 0.7311184574674412 0.8495786632329722; 0.7018295066863771 0.7969544501033055 0.9154146558688365; 0.7676654993222416 0.8627904427391698 0.981250648504701; 0.8335014919581055 0.928626435375034 1.047086641140565; 0.8993374845939699 0.9944624280108983 1.1129226337764293; 0.9651734772298344 1.0602984206467625 1.1787586264122938; 1.0310094698656984 1.1261344132826268 1.244594619048158; 1.096845462501563 1.1919704059184912 1.3104306116840223; 1.1626814551374272 1.2578063985543553 1.3762666043198866; 1.2285174477732914 1.3236423911902198 1.4421025969557508; 1.294353440409156 1.389478383826084 1.5079385895916155; 1.36018943304502 1.4553143764619485 1.5737745822274796; 1.4260254256808842 1.5211503690978125 1.6396105748633436; 1.4918614183167485 1.586986361733677 1.7054465674992079; 1.557697410952613 1.6528223543695413 1.7712825601350723]"
     ]
    }
   ],
   "source": [
    "# 実際に各w_{i}のもとで、残差関数がゼロになるようなaを探す\n",
    "for i = 1:length(params.endow), j = 1:params.na\n",
    "\n",
    "    a2_val = params.grid_a[j]\n",
    "\n",
    "    # 1変数のfunctionにする\n",
    "    resid_three_period2!(a3) = resid_three_period2(a3, a2_val, i, params)\n",
    "\n",
    "    # 0.01はゼロ点を探す際の初期値\n",
    "    a2_nl[j, i] = find_zero(resid_three_period2!, 0.01)\n",
    "\n",
    "end\n",
    "\n",
    "print(a2_nl)"
   ]
  },
  {
   "cell_type": "code",
   "execution_count": 11,
   "id": "3b40499d-4de4-4b68-8ed1-bb046493d873",
   "metadata": {},
   "outputs": [
    {
     "data": {
      "image/png": "[encoded data removed]"
     },
     "execution_count": 11,
     "metadata": {},
     "output_type": "execute_result"
    }
   ],
   "source": [
    "plt = plot(params.grid_a, a2_nl[:, 1],\n",
    "    color = :blue,\n",
    "    marker = :circle,\n",
    "    legend = :topleft,\n",
    "    xlims = (0, 2.0),\n",
    "    ylims = (0, 2.0),\n",
    "    label = (\"y2=低\"),\n",
    "    xlabel = (\"中年期の資産：a2\"),\n",
    "    ylabel = (\"中年期の貯蓄：a3\"),\n",
    "    linewidth = 4,\n",
    "    markersize = 8,\n",
    "    titlefont = font(\"HackGen35Nerd\", 12),\n",
    "    guidefont = font(\"HackGen35Nerd\", 12),\n",
    "    tickfont = font(\"HackGen35Nerd\", 8),\n",
    "    legend_font_family = (\"HackGen35Nerd\"),\n",
    "    legendfontsize = 12,\n",
    "    framestyle = :semi\n",
    ")\n",
    "plot!(params.grid_a, a2_nl[:, 2], markershape=:utriangle, markersize = 8, linestyle = :dot, linewidth = 4, color = :red, label=\"y2=中\")\n",
    "plot!(params.grid_a, a2_nl[:, 3], markershape=:rect, markersize = 8, linestyle = :dash, linewidth = 4, color = :green, label=\"y2=高\")\n",
    "#savefig(\"../figure/Fig2_pol_three_period23_risk.eps\")"
   ]
  },
  {
   "cell_type": "markdown",
   "id": "b9d0c486-55c5-40ef-996c-1b89ae9c8e60",
   "metadata": {},
   "source": [
    "---"
   ]
  },
  {
   "cell_type": "markdown",
   "id": "5a7dd7a8-afdc-46a5-a036-99546215f13a",
   "metadata": {},
   "source": [
    "## 若年期と中年期の間の意思決定\n",
    "### 若年期と中年期の間の残差関数を定義\n",
    "* 期待値の計算にドット積(dot)が必要なので、LinearAlgebraという関数を呼び出す\n",
    "    * resid_three_period1の23行目"
   ]
  },
  {
   "cell_type": "code",
   "execution_count": 12,
   "id": "a6da6474-a8b3-4210-a1c7-922fcf148564",
   "metadata": {},
   "outputs": [],
   "source": [
    "# インストール済みならここはスキップ\n",
    "#using Pkg\n",
    "#Pkg.add(\"LinearAlgebra\")"
   ]
  },
  {
   "cell_type": "code",
   "execution_count": 13,
   "id": "0fb2164e-e78e-41ba-b004-d33e7af492a7",
   "metadata": {},
   "outputs": [],
   "source": [
    "using LinearAlgebra"
   ]
  },
  {
   "cell_type": "code",
   "execution_count": 14,
   "id": "31a4239c-0908-453b-a780-25dbe7ff707f",
   "metadata": {},
   "outputs": [
    {
     "data": {
      "text/plain": [
       "resid_three_period1 (generic function with 1 method)"
      ]
     },
     "execution_count": 14,
     "metadata": {},
     "output_type": "execute_result"
    }
   ],
   "source": [
    "function resid_three_period1(a2::Float64, a1::Float64, e1::Int64, a2_nl::Matrix{Float64}, params::Models)\n",
    "\n",
    "    # オイラー方程式の左辺：若年期の限界効用\n",
    "    # 予算制約の右辺に基づいて手持ちの現金(cash on hand)を定義\n",
    "    coh = a1 + params.y1*params.endow[e1]\n",
    "    if coh - a2 > 0.0 # 消費が正値\n",
    "        mu1 = mu_CRRA(coh - a2, params.γ)\n",
    "    else\n",
    "        mu1 = 10000.0\n",
    "    end\n",
    "\n",
    "    mu2 = zeros(params.ny)\n",
    "    for i = 1:params.ny\n",
    "        # 中年期の消費：線形補間：毎回係数を計算するのは時間の無駄なので本当は関数の外に出したほうがよい！\n",
    "        interp1 = LinearInterpolation(params.grid_a, a2_nl[:, i], extrapolation_bc=Line())\n",
    "        a3_approx = interp1(a2)\n",
    "        cons = (1 + params.rent)*a2 + params.y2 - a3_approx\n",
    "\n",
    "        # 中年期の限界効用\n",
    "        mu2[i] = mu_CRRA(cons, params.γ)\n",
    "    end\n",
    "\n",
    "    # 残差(residual)\n",
    "    exp_val = dot(params.tran[e1, :], mu2)\n",
    "    return params.β*(1.0 + params.rent)*(exp_val/mu1) - 1.0\n",
    "\n",
    "end"
   ]
  },
  {
   "cell_type": "code",
   "execution_count": 15,
   "id": "7cb71b6c-9136-4320-b3eb-97adda19b309",
   "metadata": {},
   "outputs": [],
   "source": [
    "# 空の変数を用意\n",
    "a1_nl = zeros(params.na, params.ny);"
   ]
  },
  {
   "cell_type": "code",
   "execution_count": 16,
   "id": "fd0c6420-918a-4d18-a249-8265d8f811b8",
   "metadata": {},
   "outputs": [
    {
     "name": "stdout",
     "output_type": "stream",
     "text": [
      "[-0.023048398588800423 0.11769242272337191 0.28771506758443305; 0.029753330650984212 0.17045495269236274 0.34053049528758444; 0.08256472088259442 0.22323055886662857 0.39335211395989916; 0.135384269288183 0.276017336671038 0.4461791854759924; 0.18821076943397616 0.32881373553551524 0.4990110843177632; 0.24104324160419138 0.3816184800895045 0.5518472769325454; 0.2938808819169225 0.43443051154961443 0.6046873054624621; 0.346723024562973 0.4872489435031475 0.657530774803884; 0.3995691133790436 0.5400730281190501 0.7103773422294327; 0.45241868016830294 0.5929021300218867 0.7632267090003799; 0.5052713279701412 0.6457357058722873 0.8160786135385368; 0.5581267180088215 0.6985732882487345 0.8689328258300024; 0.6109845594103549 0.7514144728079736 0.9217891428093941; 0.6638446010258451 0.804258907970407 0.974647384530079; 0.7167066248744343 0.8571062865687468 1.0275073909687436; 0.7695704408434978 0.9099563390367642 1.0803690193451496; 0.8224358823735405 0.9628088278162349 1.1332321418628013; 0.8753028029207421 1.0156635427349048 1.1860966437954563; 0.9281710730384239 1.0685202971640821 1.2389624218593; 0.9810405779546714 1.121378924806438 1.2918293828222902; 1.0339112155504282 1.1742392769964791 1.3446974423113391]"
     ]
    }
   ],
   "source": [
    "# 実際に各w_{i}、y_{j}のもとで、残差関数がゼロになるようなaを探す\n",
    "for i = 1:length(params.endow), j = 1:params.na\n",
    "\n",
    "    a1_val = params.grid_a[j]\n",
    "\n",
    "    # 1変数のfunctionにする\n",
    "    resid_three_period1!(a2) = resid_three_period1(a2, a1_val, i, a2_nl, params)\n",
    "\n",
    "    # 0.01はゼロ点を探す際の初期値\n",
    "    a1_nl[j, i] = find_zero(resid_three_period1!, 0.01)\n",
    "\n",
    "end\n",
    "\n",
    "print(a1_nl)"
   ]
  },
  {
   "cell_type": "code",
   "execution_count": 17,
   "id": "f59a0998-a7a3-43da-89c6-4017a492ac24",
   "metadata": {},
   "outputs": [
    {
     "data": {
      "image/png": "[encoded data removed]"
     },
     "execution_count": 17,
     "metadata": {},
     "output_type": "execute_result"
    }
   ],
   "source": [
    "plt = plot(params.grid_a, a1_nl[:, 1],\n",
    "    color = :blue,\n",
    "    marker = :circle,\n",
    "    legend = :topleft,\n",
    "    xlims = (0, 2.0),\n",
    "    ylims = (0, 2.0),\n",
    "    label = (\"y1=低\"),\n",
    "    xlabel = (\"若年期の資産：a1\"),\n",
    "    ylabel = (\"若年期の貯蓄：a2\"),\n",
    "    linewidth = 4,\n",
    "    markersize = 8,\n",
    "    titlefont = font(\"HackGen35Nerd\", 12),\n",
    "    guidefont = font(\"HackGen35Nerd\", 12),\n",
    "    tickfont = font(\"HackGen35Nerd\", 8),\n",
    "    legend_font_family = (\"HackGen35Nerd\"),\n",
    "    legendfontsize = 12,\n",
    "    framestyle = :semi\n",
    ")\n",
    "plot!(params.grid_a, a1_nl[:, 2], markershape=:utriangle, markersize = 8, linestyle = :dot, linewidth = 4, color = :red, label=\"y1=中\")\n",
    "plot!(params.grid_a, a1_nl[:, 3], markershape=:rect, markersize = 8, linestyle = :dash, linewidth = 4, color = :green, label=\"y1=高\")\n",
    "#savefig(\"../figure/Fig2_pol_three_period12_risk.eps\")"
   ]
  },
  {
   "cell_type": "code",
   "execution_count": null,
   "id": "1b554449-7a38-4071-ba7a-9641758a8d3d",
   "metadata": {},
   "outputs": [],
   "source": []
  },
  {
   "cell_type": "code",
   "execution_count": null,
   "id": "290f8871-25ee-4dd2-9899-98d70e6b9f10",
   "metadata": {},
   "outputs": [],
   "source": []
  }
 ],
 "metadata": {
  "kernelspec": {
   "display_name": "Julia 1.7.2",
   "language": "julia",
   "name": "julia-1.7"
  },
  "language_info": {
   "file_extension": ".jl",
   "mimetype": "application/julia",
   "name": "julia",
   "version": "1.7.3"
  }
 },
 "nbformat": 4,
 "nbformat_minor": 5
}
