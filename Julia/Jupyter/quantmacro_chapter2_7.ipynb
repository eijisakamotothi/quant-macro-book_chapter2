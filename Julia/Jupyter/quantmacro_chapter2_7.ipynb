{
 "cells": [
  {
   "cell_type": "markdown",
   "id": "01e5415b-3462-49d2-8f64-18822aa9b07c",
   "metadata": {},
   "source": [
    "# 北尾早霧・砂川武貴・山田知明『定量的マクロ経済学と数値計算』日本評論社\n",
    "## 第2章：2期間モデルと数値計算の概観"
   ]
  },
  {
   "cell_type": "markdown",
   "id": "a2989940-c2f1-4823-81b8-790f4f06f90b",
   "metadata": {},
   "source": [
    "## 2.8 リスクの導入\n",
    "### パラメータを設定"
   ]
  },
  {
   "cell_type": "code",
   "execution_count": 7,
   "id": "8744fe33-0ee6-4aa4-b3a1-bc07178785a8",
   "metadata": {},
   "outputs": [],
   "source": [
    "struct Models\n",
    "    # パラメータ\n",
    "    β::Float64 #割引因子\n",
    "    γ::Float64 #相対的危険回避度\n",
    "\n",
    "    # 要素価格\n",
    "    rent::Float64 #純利子率\n",
    "\n",
    "    # 労働所得\n",
    "    y1::Float64\n",
    "    y2::Float64\n",
    "    y3::Float64\n",
    "\n",
    "    # リスク\n",
    "    tran::Matrix{Float64}\n",
    "    endow::Vector{Float64}\n",
    "\n",
    "    # グリッド\n",
    "    na::Int64 #貯蓄グリッドの数\n",
    "    ny::Int64 #所得グリッドの数\n",
    "    a_max::Float64 #貯蓄グリッドの最大値\n",
    "    a_min::Float64 #貯蓄グリッドの最小値\n",
    "    grid_a::Vector{Float64} #貯蓄グリッド\n",
    "end"
   ]
  },
  {
   "cell_type": "code",
   "execution_count": 2,
   "id": "d4b819a0-c777-4f0a-b382-fea71619ae9f",
   "metadata": {},
   "outputs": [
    {
     "data": {
      "text/plain": [
       "3×3 Matrix{Float64}:\n",
       " 0.7451  0.2528  0.0021\n",
       " 0.136   0.7281  0.136\n",
       " 0.0021  0.2528  0.7451"
      ]
     },
     "execution_count": 2,
     "metadata": {},
     "output_type": "execute_result"
    }
   ],
   "source": [
    "tran = [0.7451 0.2528 0.0021; 0.1360 0.7281 0.1360; 0.0021 0.2528 0.7451]"
   ]
  },
  {
   "cell_type": "code",
   "execution_count": 4,
   "id": "21f0f09d-8d13-4bba-8114-ae0269d666a6",
   "metadata": {},
   "outputs": [
    {
     "data": {
      "text/plain": [
       "3-element Vector{Float64}:\n",
       " 0.8027\n",
       " 1.0\n",
       " 1.2457"
      ]
     },
     "execution_count": 4,
     "metadata": {},
     "output_type": "execute_result"
    }
   ],
   "source": [
    "endow = [0.8027, 1, 1.2457]"
   ]
  },
  {
   "cell_type": "code",
   "execution_count": 11,
   "id": "8599f991-91db-4d8c-86ed-423e27732cd9",
   "metadata": {},
   "outputs": [
    {
     "data": {
      "text/plain": [
       "Calibration (generic function with 1 method)"
      ]
     },
     "execution_count": 11,
     "metadata": {},
     "output_type": "execute_result"
    }
   ],
   "source": [
    "function Calibration()\n",
    "    # パラメータはここで設定をする\n",
    "    β = 0.985^20\n",
    "    γ = 2.0\n",
    "    rent = 1.025^20 - 1.0\n",
    "    y1 = 1.0\n",
    "    y2 = 1.2\n",
    "    y3 = 0.4\n",
    "\n",
    "    tran = [0.7451 0.2528 0.0021; 0.1360 0.7281 0.1360; 0.0021 0.2528 0.7451]\n",
    "    endow = [0.8027, 1, 1.2457]\n",
    "    ny = 3\n",
    "\n",
    "    na = 21\n",
    "    a_max = 2.0\n",
    "    a_min = 0.0\n",
    "\n",
    "    grid_a = collect(LinRange(a_min, a_max, na))\n",
    "\n",
    "    return Models(β, γ, rent, y1, y2, y3, tran, endow, na, ny, a_max, a_min, grid_a)\n",
    "end"
   ]
  },
  {
   "cell_type": "code",
   "execution_count": 12,
   "id": "4ecd13eb-c785-418f-ab23-591c1a5a7def",
   "metadata": {},
   "outputs": [
    {
     "data": {
      "text/plain": [
       "Models(0.7391364333471016, 2.0, 0.6386164402903942, 1.0, 1.2, 0.4, [0.7451 0.2528 0.0021; 0.136 0.7281 0.136; 0.0021 0.2528 0.7451], [0.8027, 1.0, 1.2457], 21, 3, 2.0, 0.0, [0.0, 0.1, 0.2, 0.3, 0.4, 0.5, 0.6, 0.7, 0.8, 0.9  …  1.1, 1.2, 1.3, 1.4, 1.5, 1.6, 1.7, 1.8, 1.9, 2.0])"
      ]
     },
     "execution_count": 12,
     "metadata": {},
     "output_type": "execute_result"
    }
   ],
   "source": [
    "params = Calibration()"
   ]
  },
  {
   "cell_type": "markdown",
   "id": "932c35ab-2b9b-4f9e-91be-5225fab484be",
   "metadata": {},
   "source": [
    "---"
   ]
  },
  {
   "cell_type": "markdown",
   "id": "abc7e492-b70f-46e8-b1d8-48c54585c9ff",
   "metadata": {},
   "source": [
    "## よく使う関数を定義"
   ]
  },
  {
   "cell_type": "code",
   "execution_count": 13,
   "id": "963ef9e3-0b24-4c06-a79b-e0735547f969",
   "metadata": {},
   "outputs": [
    {
     "data": {
      "text/plain": [
       "mu_CRRA (generic function with 1 method)"
      ]
     },
     "execution_count": 13,
     "metadata": {},
     "output_type": "execute_result"
    }
   ],
   "source": [
    "function mu_CRRA(cons, γ)\n",
    "    return cons^(-γ)\n",
    "end"
   ]
  },
  {
   "cell_type": "code",
   "execution_count": 14,
   "id": "2a6e399b-aaae-4952-b9b9-526819c0fabf",
   "metadata": {},
   "outputs": [],
   "source": [
    "# 使う関数を呼び出す\n",
    "using Plots\n",
    "pyplot()\n",
    "using Optim\n",
    "using Roots\n",
    "using Interpolations"
   ]
  },
  {
   "cell_type": "markdown",
   "id": "29bb9ab6-42c0-4af2-bc4a-12c62ab588f1",
   "metadata": {},
   "source": [
    "---"
   ]
  },
  {
   "cell_type": "markdown",
   "id": "889a1b23-11f7-48f9-8953-9dc4cf5ed2b3",
   "metadata": {},
   "source": [
    "## 中年期と老年期の間の意思決定\n",
    "### 中年期と老年期の間の残差関数を定義"
   ]
  },
  {
   "cell_type": "code",
   "execution_count": 15,
   "id": "536b40a4-6237-4c00-b12e-8e79a17574d1",
   "metadata": {},
   "outputs": [
    {
     "data": {
      "text/plain": [
       "resid_three_period2 (generic function with 1 method)"
      ]
     },
     "execution_count": 15,
     "metadata": {},
     "output_type": "execute_result"
    }
   ],
   "source": [
    "function resid_three_period2(a3, a2, e2, params)\n",
    "\n",
    "    # オイラー方程式の左辺：中年期の限界効用\n",
    "    # 予算制約の右辺に基づいて手持ちの現金(cash on hand)を定義\n",
    "    coh = (1 + params.rent)*a2 + params.y2*e2\n",
    "    if coh - a3 > 0.0 # 消費が正値\n",
    "        mu2 = mu_CRRA(coh - a3, params.γ)\n",
    "    else\n",
    "        mu2 = 10000.0\n",
    "    end\n",
    "\n",
    "    # 老年期の限界効用\n",
    "    mu3 = mu_CRRA((1 + params.rent)*a3 + params.y3, params.γ)\n",
    "\n",
    "    # 残差(residual)\n",
    "    return params.β*(1.0 + params.rent)*(mu3/mu2) - 1.0\n",
    "\n",
    "end"
   ]
  },
  {
   "cell_type": "code",
   "execution_count": 17,
   "id": "9dbad9d8-e594-49c8-9ddd-feb517803191",
   "metadata": {},
   "outputs": [
    {
     "data": {
      "text/plain": [
       "21×3 Matrix{Float64}:\n",
       " 0.0  0.0  0.0\n",
       " 0.0  0.0  0.0\n",
       " 0.0  0.0  0.0\n",
       " 0.0  0.0  0.0\n",
       " 0.0  0.0  0.0\n",
       " 0.0  0.0  0.0\n",
       " 0.0  0.0  0.0\n",
       " 0.0  0.0  0.0\n",
       " 0.0  0.0  0.0\n",
       " 0.0  0.0  0.0\n",
       " 0.0  0.0  0.0\n",
       " 0.0  0.0  0.0\n",
       " 0.0  0.0  0.0\n",
       " 0.0  0.0  0.0\n",
       " 0.0  0.0  0.0\n",
       " 0.0  0.0  0.0\n",
       " 0.0  0.0  0.0\n",
       " 0.0  0.0  0.0\n",
       " 0.0  0.0  0.0\n",
       " 0.0  0.0  0.0\n",
       " 0.0  0.0  0.0"
      ]
     },
     "execution_count": 17,
     "metadata": {},
     "output_type": "execute_result"
    }
   ],
   "source": [
    "# 空っぽの変数を用意：policy functionの器\n",
    "a2_nl = zeros(params.na, params.ny)"
   ]
  },
  {
   "cell_type": "code",
   "execution_count": 25,
   "id": "24edd257-4ea7-429b-8bb6-7074af6641d1",
   "metadata": {},
   "outputs": [
    {
     "name": "stdout",
     "output_type": "stream",
     "text": [
      "[0.24097755823532707 0.33610250165225547 0.45456270741778654; 0.3068135508711914 0.4019384942881198 0.520398700053651; 0.3726495435070557 0.46777448692398405 0.5862346926895151; 0.4384855361429199 0.5336104795598483 0.6520706853253794; 0.5043215287787842 0.5994464721957126 0.7179066779612439; 0.5701575214146485 0.6652824648315768 0.7837426705971079; 0.6359935140505127 0.7311184574674412 0.8495786632329722; 0.7018295066863771 0.7969544501033055 0.9154146558688365; 0.7676654993222416 0.8627904427391698 0.981250648504701; 0.8335014919581055 0.928626435375034 1.047086641140565; 0.8993374845939699 0.9944624280108983 1.1129226337764293; 0.9651734772298344 1.0602984206467625 1.1787586264122938; 1.0310094698656984 1.1261344132826268 1.244594619048158; 1.096845462501563 1.1919704059184912 1.3104306116840223; 1.1626814551374272 1.2578063985543553 1.3762666043198866; 1.2285174477732914 1.3236423911902198 1.4421025969557508; 1.294353440409156 1.389478383826084 1.5079385895916155; 1.36018943304502 1.4553143764619485 1.5737745822274796; 1.4260254256808842 1.5211503690978125 1.6396105748633436; 1.4918614183167485 1.586986361733677 1.7054465674992079; 1.557697410952613 1.6528223543695413 1.7712825601350723]"
     ]
    }
   ],
   "source": [
    "# 実際に各w_{i}のもとで、残差関数がゼロになるようなaを探す\n",
    "for (y_ind, y_val) in enumerate(params.endow)\n",
    "    for (a_ind, a_val) in enumerate(params.grid_a)\n",
    "\n",
    "        # 1変数のfunctionにする\n",
    "        resid_three_period2!(a) = resid_three_period2(a, a_val, y_val, params)\n",
    "\n",
    "        # 0.01はゼロ点を探す際の初期値\n",
    "        a2_nl[a_ind, y_ind] = find_zero(resid_three_period2!, 0.01)\n",
    "\n",
    "    end\n",
    "end\n",
    "\n",
    "print(a2_nl)"
   ]
  },
  {
   "cell_type": "code",
   "execution_count": 60,
   "id": "3b40499d-4de4-4b68-8ed1-bb046493d873",
   "metadata": {},
   "outputs": [
    {
     "data": {
      "image/png": "[encoded data removed]",
      "text/plain": [
       "PyPlot.Figure(PyObject <Figure size 600x400 with 1 Axes>)"
      ]
     },
     "metadata": {},
     "output_type": "display_data"
    },
    {
     "name": "stderr",
     "output_type": "stream",
     "text": [
      "The PostScript backend does not support transparency; partially transparent artists will be rendered opaque.\n",
      "The PostScript backend does not support transparency; partially transparent artists will be rendered opaque.\n",
      "The PostScript backend does not support transparency; partially transparent artists will be rendered opaque.\n",
      "The PostScript backend does not support transparency; partially transparent artists will be rendered opaque.\n",
      "The PostScript backend does not support transparency; partially transparent artists will be rendered opaque.\n",
      "The PostScript backend does not support transparency; partially transparent artists will be rendered opaque.\n",
      "The PostScript backend does not support transparency; partially transparent artists will be rendered opaque.\n",
      "The PostScript backend does not support transparency; partially transparent artists will be rendered opaque.\n",
      "The PostScript backend does not support transparency; partially transparent artists will be rendered opaque.\n",
      "The PostScript backend does not support transparency; partially transparent artists will be rendered opaque.\n",
      "The PostScript backend does not support transparency; partially transparent artists will be rendered opaque.\n"
     ]
    }
   ],
   "source": [
    "plt = plot(params.grid_a, a2_nl[:, 1],\n",
    "    color = :blue,\n",
    "    marker = :circle,\n",
    "    legend = :topleft,\n",
    "    xlims = (0, 2.0),\n",
    "    ylims = (0, 3.0),\n",
    "    label = (\"y2=低\"),\n",
    "    xlabel = (\"中年期の資産：a2\"),\n",
    "    ylabel = (\"中年期の貯蓄：a3\"),\n",
    "    linewidth = 4,\n",
    "    markersize = 8,\n",
    "    titlefont = font(\"HackGen35Nerd\", 12),\n",
    "    guidefont = font(\"HackGen35Nerd\", 12),\n",
    "    tickfont = font(\"HackGen35Nerd\", 8),\n",
    "    legend_font_family = (\"HackGen35Nerd\"),\n",
    "    legendfontsize = 12,\n",
    "    framestyle = :semi\n",
    ")\n",
    "plot!(params.grid_a, a2_nl[:, 2], markershape=:utriangle, markersize = 8, linestyle = :dot, linewidth = 4, color = :red, label=\"y2=中\")\n",
    "plot!(params.grid_a, a2_nl[:, 3], markershape=:rect, markersize = 8, linestyle = :dash, linewidth = 4, color = :green, label=\"y2=高\")\n",
    "savefig(\"../figure/Fig2_pol_three_period23_risk.eps\")"
   ]
  },
  {
   "cell_type": "markdown",
   "id": "b9d0c486-55c5-40ef-996c-1b89ae9c8e60",
   "metadata": {},
   "source": [
    "---"
   ]
  },
  {
   "cell_type": "markdown",
   "id": "5a7dd7a8-afdc-46a5-a036-99546215f13a",
   "metadata": {},
   "source": [
    "## 若年期と中年期の間の意思決定\n",
    "### 若年期と中年期の間の残差関数を定義"
   ]
  },
  {
   "cell_type": "code",
   "execution_count": 37,
   "id": "0fb2164e-e78e-41ba-b004-d33e7af492a7",
   "metadata": {},
   "outputs": [],
   "source": [
    "using LinearAlgebra"
   ]
  },
  {
   "cell_type": "code",
   "execution_count": 52,
   "id": "31a4239c-0908-453b-a780-25dbe7ff707f",
   "metadata": {},
   "outputs": [
    {
     "data": {
      "text/plain": [
       "resid_three_period1 (generic function with 1 method)"
      ]
     },
     "execution_count": 52,
     "metadata": {},
     "output_type": "execute_result"
    }
   ],
   "source": [
    "function resid_three_period1(a2, a1, e1, a2_nl, params)\n",
    "\n",
    "    # オイラー方程式の左辺：若年期の限界効用\n",
    "    # 予算制約の右辺に基づいて手持ちの現金(cash on hand)を定義\n",
    "    coh = (1 + params.rent)*a1 + params.y1*params.endow[e1]\n",
    "    if coh - a2 > 0.0 # 消費が正値\n",
    "        mu1 = mu_CRRA(coh - a2, params.γ)\n",
    "    else\n",
    "        mu1 = 10000.0\n",
    "    end\n",
    "\n",
    "    mu2 = zeros(params.ny)\n",
    "    for i = 1:params.ny\n",
    "        # 中年期の消費：線形補間：毎回係数を計算するのは時間の無駄なので本当は関数の外に出したほうがよい！\n",
    "        interp1 = LinearInterpolation(params.grid_a, a2_nl[:, i])\n",
    "        cons = interp1(a1)\n",
    "\n",
    "        # 中年期の限界効用\n",
    "        mu2[i] = mu_CRRA(cons, params.γ)\n",
    "    end\n",
    "\n",
    "    # 残差(residual)\n",
    "    exp_val = dot(params.tran[e1, :], mu2)\n",
    "    return params.β*(1.0 + params.rent)*(exp_val/mu1) - 1.0\n",
    "\n",
    "end"
   ]
  },
  {
   "cell_type": "code",
   "execution_count": null,
   "id": "7cb71b6c-9136-4320-b3eb-97adda19b309",
   "metadata": {},
   "outputs": [],
   "source": [
    "# 空っぽの変数を用意：policy functionの器\n",
    "a1_nl = zeros(params.na, params.ny)"
   ]
  },
  {
   "cell_type": "code",
   "execution_count": 53,
   "id": "fd0c6420-918a-4d18-a249-8265d8f811b8",
   "metadata": {},
   "outputs": [
    {
     "name": "stdout",
     "output_type": "stream",
     "text": [
      "[0.5687020671181258 0.7043448572093493 0.8709781493506432; 0.671565795322419 0.8061834589217451 0.9733144358502718; 0.7747566830037368 0.9087067827302273 1.0761182859834397; 0.8781554874120827 1.0116313545570574 1.1792201569347767; 0.9816943856562066 1.1148133156716977 1.2825238257050546; 1.0853320676275862 1.2181712037759695 1.3859705028739937; 1.1890419726317425 1.32165512435575 1.4895222169257178; 1.29280626108589 1.4252326646355877 1.5931533433454277; 1.3966125130376372 1.5288817816057922 1.696845962583042; 1.5004518183285225 1.6325869245182445 1.8005871667908393; 1.604317620073085 1.7363367880965965 1.9043674226354321; 1.7082049866415219 1.8401229446441854 2.008179536528137; 1.812110137899325 1.9439389764149637 2.1120179785694138; 1.9160301279020933 2.047779905972187 2.21587842805209; 2.019962626959427 2.151641811005135 2.319757460205296; 2.123905768588538 2.255521557153796 2.4236523254995337; 2.2278580398960632 2.359416608518249 2.527560791107364; 2.33181820166793 2.4633248906036727 2.6314810250164; 2.4357852291844204 2.567244689449177 2.7354115099844383; 2.5397582677517843 2.671174576221639 2.8393509787421003; 2.6437365988526578 2.7751133500495606 2.94329836456502]"
     ]
    }
   ],
   "source": [
    "# 実際に各w_{i}、y_{j}のもとで、残差関数がゼロになるようなaを探す\n",
    "for (y_ind, y_val) in enumerate(params.endow)\n",
    "    for (a_ind, a_val) in enumerate(params.grid_a)\n",
    "\n",
    "        # 1変数のfunctionにする\n",
    "        resid_three_period1!(a) = resid_three_period1(a, a_val, y_ind, a2_nl, params)\n",
    "\n",
    "        # 0.01はゼロ点を探す際の初期値\n",
    "        a1_nl[a_ind, y_ind] = find_zero(resid_three_period1!, 0.01)\n",
    "\n",
    "    end\n",
    "end\n",
    "\n",
    "print(a1_nl)"
   ]
  },
  {
   "cell_type": "code",
   "execution_count": 62,
   "id": "f59a0998-a7a3-43da-89c6-4017a492ac24",
   "metadata": {},
   "outputs": [
    {
     "data": {
      "image/png": "[encoded data removed]",
      "text/plain": [
       "PyPlot.Figure(PyObject <Figure size 600x400 with 1 Axes>)"
      ]
     },
     "metadata": {},
     "output_type": "display_data"
    },
    {
     "name": "stderr",
     "output_type": "stream",
     "text": [
      "The PostScript backend does not support transparency; partially transparent artists will be rendered opaque.\n",
      "The PostScript backend does not support transparency; partially transparent artists will be rendered opaque.\n",
      "The PostScript backend does not support transparency; partially transparent artists will be rendered opaque.\n",
      "The PostScript backend does not support transparency; partially transparent artists will be rendered opaque.\n",
      "The PostScript backend does not support transparency; partially transparent artists will be rendered opaque.\n",
      "The PostScript backend does not support transparency; partially transparent artists will be rendered opaque.\n",
      "The PostScript backend does not support transparency; partially transparent artists will be rendered opaque.\n",
      "The PostScript backend does not support transparency; partially transparent artists will be rendered opaque.\n",
      "The PostScript backend does not support transparency; partially transparent artists will be rendered opaque.\n",
      "The PostScript backend does not support transparency; partially transparent artists will be rendered opaque.\n",
      "The PostScript backend does not support transparency; partially transparent artists will be rendered opaque.\n"
     ]
    }
   ],
   "source": [
    "plt = plot(params.grid_a, a1_nl[:, 1],\n",
    "    color = :blue,\n",
    "    marker = :circle,\n",
    "    legend = :topleft,\n",
    "    xlims = (0, 2.0),\n",
    "    ylims = (0, 3.0),\n",
    "    label = (\"y1=低\"),\n",
    "    xlabel = (\"若年期の資産：a1\"),\n",
    "    ylabel = (\"若年期の貯蓄：a2\"),\n",
    "    linewidth = 4,\n",
    "    markersize = 8,\n",
    "    titlefont = font(\"HackGen35Nerd\", 12),\n",
    "    guidefont = font(\"HackGen35Nerd\", 12),\n",
    "    tickfont = font(\"HackGen35Nerd\", 8),\n",
    "    legend_font_family = (\"HackGen35Nerd\"),\n",
    "    legendfontsize = 12,\n",
    "    framestyle = :semi\n",
    ")\n",
    "plot!(params.grid_a, a1_nl[:, 2], markershape=:utriangle, markersize = 8, linestyle = :dot, linewidth = 4, color = :red, label=\"y1=中\")\n",
    "plot!(params.grid_a, a1_nl[:, 3], markershape=:rect, markersize = 8, linestyle = :dash, linewidth = 4, color = :green, label=\"y1=高\")\n",
    "savefig(\"../figure/Fig2_pol_three_period12_risk.eps\")"
   ]
  },
  {
   "cell_type": "code",
   "execution_count": null,
   "id": "1b554449-7a38-4071-ba7a-9641758a8d3d",
   "metadata": {},
   "outputs": [],
   "source": []
  }
 ],
 "metadata": {
  "kernelspec": {
   "display_name": "Julia 1.7.2",
   "language": "julia",
   "name": "julia-1.7"
  },
  "language_info": {
   "file_extension": ".jl",
   "mimetype": "application/julia",
   "name": "julia",
   "version": "1.7.2"
  }
 },
 "nbformat": 4,
 "nbformat_minor": 5
}
