{
 "cells": [
  {
   "cell_type": "markdown",
   "id": "01e5415b-3462-49d2-8f64-18822aa9b07c",
   "metadata": {},
   "source": [
    "# 北尾早霧・砂川武貴・山田知明『定量的マクロ経済学と数値計算』日本評論社\n",
    "## 第2章：2期間モデルと数値計算の概観"
   ]
  },
  {
   "cell_type": "markdown",
   "id": "a2989940-c2f1-4823-81b8-790f4f06f90b",
   "metadata": {},
   "source": [
    "## 2.3.2 グリッドの効率的な取り方\n",
    "* このNotebookを読む前に`quantmacro_chapter2_1.ipynb`に目を通すことをお勧めします"
   ]
  },
  {
   "cell_type": "markdown",
   "id": "da9f767e-fe73-43f9-aedc-1267118b15e9",
   "metadata": {},
   "source": [
    "### 1. 等分でグリッドを計算するための関数"
   ]
  },
  {
   "cell_type": "code",
   "execution_count": 4,
   "id": "8744fe33-0ee6-4aa4-b3a1-bc07178785a8",
   "metadata": {},
   "outputs": [
    {
     "data": {
      "text/plain": [
       "grid_uni"
      ]
     },
     "execution_count": 4,
     "metadata": {},
     "output_type": "execute_result"
    }
   ],
   "source": [
    "\"\"\"\n",
    "grid_uni(grid_min::Float64, grid_max::Float64, num_grid::Int64)\n",
    "\n",
    "Purpose:\n",
    "Generate uniform grid from \"grid_min\" to \"grid_max\".\n",
    "\"linspace\" in Matlab.\n",
    "\n",
    "Input:\n",
    "grid_min → minimum of grid\n",
    "grid_max → maximum of grid\n",
    "num_grid → # grid\n",
    "\n",
    "Output:\n",
    "grid → Vector of num_grid × 1\n",
    "\"\"\"\n",
    "function grid_uni(grid_min::Float64, grid_max::Float64, num_grid::Int64)\n",
    "    grid = zeros(num_grid)\n",
    "    increment = (grid_max - grid_min) / (num_grid-1)\n",
    "    for i in 1:num_grid\n",
    "        grid[i] = (i-1)*increment + grid_min\n",
    "    end\n",
    "    # avoid rounding error\n",
    "    if grid[num_grid] != grid_max\n",
    "        grid[num_grid] = grid_max\n",
    "    end\n",
    "    return grid\n",
    "end"
   ]
  },
  {
   "cell_type": "markdown",
   "id": "65ef3275-b9b6-47cc-bf20-ee39d404dca6",
   "metadata": {},
   "source": [
    "### 2. 指数的にグリッドを計算するための関数(1)"
   ]
  },
  {
   "cell_type": "code",
   "execution_count": 5,
   "id": "8599f991-91db-4d8c-86ed-423e27732cd9",
   "metadata": {},
   "outputs": [
    {
     "data": {
      "text/plain": [
       "grid_dbl"
      ]
     },
     "execution_count": 5,
     "metadata": {},
     "output_type": "execute_result"
    }
   ],
   "source": [
    "\"\"\"\n",
    "function grid_dbl(grid_min::Float64, grid_max::Float64, num_grid::Int64)\n",
    "\n",
    "Purpose:\n",
    "Generate a double exponentially-spaced grid.\n",
    "\n",
    "Input:\n",
    "grid_min → minimum of grid\n",
    "grid_max → maximum of grid\n",
    "num_grid → # grid\n",
    "\n",
    "Output:\n",
    "grid → Vector of num_grid × 1\n",
    "\"\"\"\n",
    "function grid_dbl(grid_min::Float64, grid_max::Float64, num_grid::Int64)\n",
    "    grid = zeros(num_grid)\n",
    "    lmax = log(log(grid_max + 1) + 1)\n",
    "    lmin = log(log(grid_min + 1) + 1)\n",
    "    mesh = grid_uni(lmin, lmax, num_grid)\n",
    "    for i in 1:num_grid\n",
    "        grid[i] = exp(exp(mesh[i]) - 1) - 1\n",
    "    end\n",
    "    return grid\n",
    "end"
   ]
  },
  {
   "cell_type": "markdown",
   "id": "3c3a9e49-0bb3-4e24-8599-53983ff5fd7e",
   "metadata": {},
   "source": [
    "### 3. 指数的にグリッドを計算するための関数(2)"
   ]
  },
  {
   "cell_type": "code",
   "execution_count": 6,
   "id": "3ecb5477-4be6-4ee2-b919-32ff645add27",
   "metadata": {},
   "outputs": [
    {
     "data": {
      "text/plain": [
       "grid_tri"
      ]
     },
     "execution_count": 6,
     "metadata": {},
     "output_type": "execute_result"
    }
   ],
   "source": [
    "\"\"\"\n",
    "function grid_tri(grid_min::Float64, grid_max::Float64, num_grid::Int64)\n",
    "\n",
    "Purpose:\n",
    "Generate a triple exponentially-spaced grid.\n",
    "\n",
    "Input:\n",
    "grid_min → minimum of grid\n",
    "grid_max → maximum of grid\n",
    "num_grid → # grid\n",
    "\n",
    "Output:\n",
    "grid → Vector of num_grid × 1\n",
    "\"\"\"\n",
    "function grid_tri(grid_min::Float64, grid_max::Float64, num_grid::Int64)\n",
    "    grid = zeros(num_grid)\n",
    "    lmax = log(log(log(grid_max + 1) + 1) + 1)\n",
    "    lmin = log(log(log(grid_min + 1) + 1) + 1)\n",
    "    mesh = grid_uni(lmin, lmax, num_grid)\n",
    "    for i in 1:num_grid\n",
    "        grid[i] = exp(exp(exp(mesh[i]) - 1) - 1) - 1\n",
    "    end\n",
    "    return grid\n",
    "end"
   ]
  },
  {
   "cell_type": "markdown",
   "id": "dce7eccb-fd80-44ac-b955-88aa4c8a0c90",
   "metadata": {},
   "source": [
    "### 4. Maliar et al. (2010)で紹介されているグリッド計算方法"
   ]
  },
  {
   "cell_type": "code",
   "execution_count": 7,
   "id": "b8ea2a81-fda2-41f1-9cd2-60a48727a82e",
   "metadata": {},
   "outputs": [
    {
     "data": {
      "text/plain": [
       "grid_mmv"
      ]
     },
     "execution_count": 7,
     "metadata": {},
     "output_type": "execute_result"
    }
   ],
   "source": [
    "\"\"\"\n",
    "grid_mmv(grid_min::Float64, grid_max::Float64, θ::Float64, num_grid::Int64)\n",
    "\n",
    "Purpose:\n",
    "Generate grids based on the idea by\n",
    "Maliar, Maliar and Valli (2010):\n",
    "\"Solving the Incomplete Markets Model with Aggregate Uncertainty using the Krusell-Smith Algorithm,\" Journal of Economic Dynamics and Control\n",
    "\n",
    "Input:\n",
    "grid_min → minimum of grid\n",
    "grid_max → maximum of grid\n",
    "num_grid → # grid\n",
    "\n",
    "Output:\n",
    "grid → Vector of num_grid × 1\n",
    "\"\"\"\n",
    "function grid_mmv(grid_min::Float64, grid_max::Float64, θ::Float64, num_grid::Int64)\n",
    "\n",
    "    # Equation (7) in Maliar et al. (2010,JEDC)\n",
    "    tmp = zeros(num_grid, 1)\n",
    "    for i in 1:num_grid\n",
    "        tmp[i] = ((i-1)/(num_grid-1))^θ * grid_max\n",
    "    end\n",
    "\n",
    "    # adjust to [grid_min, grid_max]\n",
    "    grid = zeros(num_grid)\n",
    "    grid[1] = grid_min\n",
    "    for i in 2:num_grid\n",
    "        grid[i] = grid[i-1] + (tmp[i]-tmp[i-1]) / grid_max*(grid_max-grid_min)\n",
    "    end\n",
    "\n",
    "    return grid\n",
    "end"
   ]
  },
  {
   "cell_type": "markdown",
   "id": "fb93cfd3-939d-44e1-b840-08e04098fe3d",
   "metadata": {},
   "source": [
    "## 試しにグリッドを計算してみよう"
   ]
  },
  {
   "cell_type": "code",
   "execution_count": 8,
   "id": "30e329ac-75df-4305-93b1-d666c028144f",
   "metadata": {},
   "outputs": [],
   "source": [
    "nw = 11 # グリッドの数\n",
    "w_min = 0.0 # グリッドの下限\n",
    "w_max = 1.0; # グリッドの上限"
   ]
  },
  {
   "cell_type": "code",
   "execution_count": 9,
   "id": "c18f91ea-5d9d-4d55-bc38-be39a3f982c3",
   "metadata": {},
   "outputs": [
    {
     "data": {
      "text/plain": [
       "11-element Vector{Float64}:\n",
       " 0.0\n",
       " 0.1\n",
       " 0.2\n",
       " 0.30000000000000004\n",
       " 0.4\n",
       " 0.5\n",
       " 0.6000000000000001\n",
       " 0.7000000000000001\n",
       " 0.8\n",
       " 0.9\n",
       " 1.0"
      ]
     },
     "execution_count": 9,
     "metadata": {},
     "output_type": "execute_result"
    }
   ],
   "source": [
    "grid_uni(w_min, w_max, nw)"
   ]
  },
  {
   "cell_type": "code",
   "execution_count": 10,
   "id": "d49f1c07-b0aa-466c-9fe6-5f5c114b892c",
   "metadata": {},
   "outputs": [
    {
     "data": {
      "text/plain": [
       "11-element Vector{Float64}:\n",
       " 0.0\n",
       " 0.05555853521331078\n",
       " 0.1174660400969969\n",
       " 0.18665558639862456\n",
       " 0.2642290020678948\n",
       " 0.3514929780474947\n",
       " 0.4500040756763015\n",
       " 0.561625117797419\n",
       " 0.688596220481928\n",
       " 0.83362476278629\n",
       " 1.0"
      ]
     },
     "execution_count": 10,
     "metadata": {},
     "output_type": "execute_result"
    }
   ],
   "source": [
    "grid_dbl(w_min, w_max, nw)"
   ]
  },
  {
   "cell_type": "code",
   "execution_count": 11,
   "id": "c11f2f43-35e4-4815-99fe-25dfbdc0c36b",
   "metadata": {},
   "outputs": [
    {
     "data": {
      "text/plain": [
       "11-element Vector{Float64}:\n",
       " 0.0\n",
       " 0.04514781964195902\n",
       " 0.09669846074510091\n",
       " 0.1559218513232803\n",
       " 0.2244177558076592\n",
       " 0.30422284115142784\n",
       " 0.39795985831846203\n",
       " 0.5090485920933923\n",
       " 0.64200894771966\n",
       " 0.8029040096232598\n",
       " 0.9999999999999998"
      ]
     },
     "execution_count": 11,
     "metadata": {},
     "output_type": "execute_result"
    }
   ],
   "source": [
    "grid_tri(w_min, w_max, nw)"
   ]
  },
  {
   "cell_type": "code",
   "execution_count": 12,
   "id": "bc1ec377-585e-486f-87e0-557ed943ed70",
   "metadata": {},
   "outputs": [
    {
     "data": {
      "text/plain": [
       "11-element Vector{Float64}:\n",
       " 0.0\n",
       " 0.010000000000000002\n",
       " 0.04000000000000001\n",
       " 0.09\n",
       " 0.16000000000000003\n",
       " 0.25\n",
       " 0.36\n",
       " 0.48999999999999994\n",
       " 0.6400000000000001\n",
       " 0.81\n",
       " 1.0"
      ]
     },
     "execution_count": 12,
     "metadata": {},
     "output_type": "execute_result"
    }
   ],
   "source": [
    "θ = 2.0\n",
    "grid_mmv(w_min, w_max, θ, nw)"
   ]
  },
  {
   "cell_type": "code",
   "execution_count": 13,
   "id": "765850aa-08b5-47c3-abf2-5fa444a19cad",
   "metadata": {},
   "outputs": [
    {
     "data": {
      "text/plain": [
       "11-element Vector{Float64}:\n",
       " 0.0\n",
       " 0.00010000000000000002\n",
       " 0.0016000000000000003\n",
       " 0.0081\n",
       " 0.025600000000000005\n",
       " 0.0625\n",
       " 0.1296\n",
       " 0.24009999999999995\n",
       " 0.4096000000000001\n",
       " 0.6561\n",
       " 1.0"
      ]
     },
     "execution_count": 13,
     "metadata": {},
     "output_type": "execute_result"
    }
   ],
   "source": [
    "θ = 4.0\n",
    "grid_mmv(w_min, w_max, θ, nw)"
   ]
  },
  {
   "cell_type": "code",
   "execution_count": null,
   "id": "0eb8719d-8b19-4e4d-a60a-36975e6f0872",
   "metadata": {},
   "outputs": [],
   "source": []
  }
 ],
 "metadata": {
  "kernelspec": {
   "display_name": "Julia 1.7.2",
   "language": "julia",
   "name": "julia-1.7"
  },
  "language_info": {
   "file_extension": ".jl",
   "mimetype": "application/julia",
   "name": "julia",
   "version": "1.7.3"
  }
 },
 "nbformat": 4,
 "nbformat_minor": 5
}
