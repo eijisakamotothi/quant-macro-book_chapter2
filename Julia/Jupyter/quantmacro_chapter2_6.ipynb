{
 "cells": [
  {
   "cell_type": "markdown",
   "id": "01e5415b-3462-49d2-8f64-18822aa9b07c",
   "metadata": {},
   "source": [
    "# 北尾早霧・砂川武貴・山田知明『定量的マクロ経済学と数値計算』日本評論社\n",
    "## 第2章：2期間モデル・3期間モデルと数値計算の概観"
   ]
  },
  {
   "cell_type": "markdown",
   "id": "a2989940-c2f1-4823-81b8-790f4f06f90b",
   "metadata": {},
   "source": [
    "## 2.8 3期間モデルと近似\n",
    "### パラメータを設定\n",
    "* $y_1$、$y_2$、$y_3$を新たに設定\n",
    "* カリブレーションパラメターを1期間=20年に調整\n",
    "* グリッドの数も少しだけ増やす"
   ]
  },
  {
   "cell_type": "code",
   "execution_count": 1,
   "id": "8744fe33-0ee6-4aa4-b3a1-bc07178785a8",
   "metadata": {},
   "outputs": [],
   "source": [
    "struct Models\n",
    "    # パラメータ\n",
    "    β::Float64 #割引因子\n",
    "    γ::Float64 #相対的危険回避度\n",
    "\n",
    "    # 要素価格\n",
    "    rent::Float64 #純利子率\n",
    "\n",
    "    # 労働所得\n",
    "    y1::Float64\n",
    "    y2::Float64\n",
    "    y3::Float64\n",
    "\n",
    "    # グリッド\n",
    "    na::Int64 #貯蓄グリッドの数\n",
    "    a_max::Float64 #貯蓄グリッドの最大値\n",
    "    a_min::Float64 #貯蓄グリッドの最小値\n",
    "    grid_a::Vector{Float64} #貯蓄グリッド\n",
    "end"
   ]
  },
  {
   "cell_type": "code",
   "execution_count": 2,
   "id": "8599f991-91db-4d8c-86ed-423e27732cd9",
   "metadata": {},
   "outputs": [
    {
     "data": {
      "text/plain": [
       "Calibration (generic function with 1 method)"
      ]
     },
     "execution_count": 2,
     "metadata": {},
     "output_type": "execute_result"
    }
   ],
   "source": [
    "function Calibration()\n",
    "    # パラメータはここで設定をする\n",
    "    β = 0.985^20\n",
    "    γ = 2.0\n",
    "    rent = 1.025^20 - 1.0\n",
    "    y1 = 1.0\n",
    "    y2 = 1.2\n",
    "    y3 = 0.4\n",
    "    na = 21\n",
    "    a_max = 2.0\n",
    "    a_min = 0.0\n",
    "\n",
    "    grid_a = collect(LinRange(a_min, a_max, na))\n",
    "\n",
    "    return Models(β, γ, rent, y1, y2, y3, na, a_max, a_min, grid_a)\n",
    "end"
   ]
  },
  {
   "cell_type": "code",
   "execution_count": 3,
   "id": "4ecd13eb-c785-418f-ab23-591c1a5a7def",
   "metadata": {},
   "outputs": [],
   "source": [
    "params = Calibration();"
   ]
  },
  {
   "cell_type": "markdown",
   "id": "932c35ab-2b9b-4f9e-91be-5225fab484be",
   "metadata": {},
   "source": [
    "---"
   ]
  },
  {
   "cell_type": "markdown",
   "id": "abc7e492-b70f-46e8-b1d8-48c54585c9ff",
   "metadata": {},
   "source": [
    "## 経済学でよく使う関数を定義"
   ]
  },
  {
   "cell_type": "code",
   "execution_count": 4,
   "id": "963ef9e3-0b24-4c06-a79b-e0735547f969",
   "metadata": {},
   "outputs": [
    {
     "data": {
      "text/plain": [
       "mu_CRRA (generic function with 1 method)"
      ]
     },
     "execution_count": 4,
     "metadata": {},
     "output_type": "execute_result"
    }
   ],
   "source": [
    "function mu_CRRA(cons, γ)\n",
    "    return cons^(-γ)\n",
    "end"
   ]
  },
  {
   "cell_type": "code",
   "execution_count": 5,
   "id": "d70afb7f-7be0-4b14-acb4-ff79a2893d9b",
   "metadata": {},
   "outputs": [],
   "source": [
    "# インストール済みならここはスキップ\n",
    "#using Pkg\n",
    "#Pkg.add(\"Interpolations\")"
   ]
  },
  {
   "cell_type": "code",
   "execution_count": 6,
   "id": "2a6e399b-aaae-4952-b9b9-526819c0fabf",
   "metadata": {},
   "outputs": [],
   "source": [
    "# 使う関数を呼び出す\n",
    "using Plots\n",
    "pyplot()\n",
    "using Roots\n",
    "using Interpolations"
   ]
  },
  {
   "cell_type": "markdown",
   "id": "29bb9ab6-42c0-4af2-bc4a-12c62ab588f1",
   "metadata": {},
   "source": [
    "---"
   ]
  },
  {
   "cell_type": "markdown",
   "id": "889a1b23-11f7-48f9-8953-9dc4cf5ed2b3",
   "metadata": {},
   "source": [
    "## 中年期と老年期の間の意思決定\n",
    "* (2.11)式を解く\n",
    "### 中年期と老年期の間の残差関数を定義"
   ]
  },
  {
   "cell_type": "code",
   "execution_count": 7,
   "id": "536b40a4-6237-4c00-b12e-8e79a17574d1",
   "metadata": {},
   "outputs": [
    {
     "data": {
      "text/plain": [
       "resid_three_period2 (generic function with 1 method)"
      ]
     },
     "execution_count": 7,
     "metadata": {},
     "output_type": "execute_result"
    }
   ],
   "source": [
    "function resid_three_period2(a3::Float64, a2::Float64, params::Models)\n",
    "\n",
    "    # オイラー方程式の左辺：中年期の限界効用\n",
    "    # 予算制約の右辺に基づいて手持ちの現金(cash on hand)を定義\n",
    "    coh = (1 + params.rent)*a2 + params.y2\n",
    "    if coh - a3 > 0.0 # 消費が正値\n",
    "        mu2 = mu_CRRA(coh - a3, params.γ)\n",
    "    else\n",
    "        mu2 = 10000.0\n",
    "    end\n",
    "\n",
    "    # 老年期の限界効用\n",
    "    mu3 = mu_CRRA((1 + params.rent)*a3 + params.y3, params.γ)\n",
    "\n",
    "    # 残差(residual)\n",
    "    return params.β*(1.0 + params.rent)*(mu3/mu2) - 1.0\n",
    "\n",
    "end"
   ]
  },
  {
   "cell_type": "code",
   "execution_count": 8,
   "id": "9dbad9d8-e594-49c8-9ddd-feb517803191",
   "metadata": {},
   "outputs": [],
   "source": [
    "# 空の変数を用意\n",
    "a2_nl = zeros(params.na);"
   ]
  },
  {
   "cell_type": "code",
   "execution_count": 9,
   "id": "24edd257-4ea7-429b-8bb6-7074af6641d1",
   "metadata": {},
   "outputs": [
    {
     "name": "stdout",
     "output_type": "stream",
     "text": [
      "[0.33610250165225547, 0.4019384942881198, 0.46777448692398405, 0.5336104795598483, 0.5994464721957126, 0.6652824648315768, 0.7311184574674412, 0.7969544501033055, 0.8627904427391698, 0.928626435375034, 0.9944624280108983, 1.0602984206467625, 1.1261344132826268, 1.1919704059184912, 1.2578063985543553, 1.3236423911902198, 1.389478383826084, 1.4553143764619485, 1.5211503690978125, 1.586986361733677, 1.6528223543695413]"
     ]
    }
   ],
   "source": [
    "# 実際に各w_{i}のもとで、残差関数がゼロになるようなaを探す\n",
    "for i = 1:params.na\n",
    "\n",
    "    a2_val = params.grid_a[i]\n",
    "\n",
    "    # 1変数のfunctionにする\n",
    "    resid_three_period2!(a3) = resid_three_period2(a3, a2_val, params)\n",
    "\n",
    "    # 0.01はゼロ点を探す際の初期値\n",
    "    a2_nl[i] = find_zero(resid_three_period2!, 0.01)\n",
    "\n",
    "end\n",
    "\n",
    "print(a2_nl)"
   ]
  },
  {
   "cell_type": "code",
   "execution_count": 10,
   "id": "3b40499d-4de4-4b68-8ed1-bb046493d873",
   "metadata": {},
   "outputs": [
    {
     "data": {
      "image/png": "[encoded data removed]"
     },
     "execution_count": 10,
     "metadata": {},
     "output_type": "execute_result"
    }
   ],
   "source": [
    "plt = plot(params.grid_a, a2_nl,\n",
    "    color = :blue,\n",
    "    marker = :circle,\n",
    "    legend = :none,\n",
    "    xlims = (0, 2.0),\n",
    "    ylims = (0, 2.0),\n",
    "    label = (\"EGM\"),\n",
    "    xlabel = (\"中年期の資産：a2\"),\n",
    "    ylabel = (\"中年期の貯蓄：a3\"),\n",
    "    linewidth = 4,\n",
    "    markersize = 8,\n",
    "    titlefont = font(\"HackGen35Nerd\", 12),\n",
    "    guidefont = font(\"HackGen35Nerd\", 12),\n",
    "    tickfont = font(\"HackGen35Nerd\", 8),\n",
    "    legend_font_family = (\"HackGen35Nerd\"),\n",
    "    legendfontsize = 12,\n",
    "    framestyle = :semi\n",
    ")\n",
    "#savefig(\"../figure/Fig2_pol_three_period23.eps\")"
   ]
  },
  {
   "cell_type": "markdown",
   "id": "b9d0c486-55c5-40ef-996c-1b89ae9c8e60",
   "metadata": {},
   "source": [
    "---"
   ]
  },
  {
   "cell_type": "markdown",
   "id": "5a7dd7a8-afdc-46a5-a036-99546215f13a",
   "metadata": {},
   "source": [
    "## 若年期と中年期の間の意思決定\n",
    "* (2.12)式\n",
    "### 若年期と中年期の間の残差関数を定義\n",
    "* 13行目の**LinearInterpolation**で線形補間のための関数を呼び出している\n",
    "    * 引数にグリッド(grid_a)とその上での値(a2_al)を入れる\n",
    "    * interp1(線形補間で知りたい値)という使い方をする"
   ]
  },
  {
   "cell_type": "code",
   "execution_count": 11,
   "id": "31a4239c-0908-453b-a780-25dbe7ff707f",
   "metadata": {},
   "outputs": [
    {
     "data": {
      "text/plain": [
       "resid_three_period1 (generic function with 1 method)"
      ]
     },
     "execution_count": 11,
     "metadata": {},
     "output_type": "execute_result"
    }
   ],
   "source": [
    "function resid_three_period1(a2::Float64, a1::Float64, a2_nl::Vector{Float64}, params::Models)\n",
    "\n",
    "    # オイラー方程式の左辺：若年期の限界効用\n",
    "    # 予算制約の右辺に基づいて手持ちの現金(cash on hand)を定義\n",
    "    coh = a1 + params.y1\n",
    "    if coh - a2 > 0.0 # 消費が正値\n",
    "        mu1 = mu_CRRA(coh - a2, params.γ)\n",
    "    else\n",
    "        mu1 = 10000.0\n",
    "    end\n",
    "\n",
    "    # 中年期の消費：線形補間：毎回係数を計算するのは時間の無駄なので本当は関数の外に出したほうがよい！\n",
    "    interp1 = LinearInterpolation(params.grid_a, a2_nl, extrapolation_bc=Line())\n",
    "    a3_approx = interp1(a2)\n",
    "    cons = (1 + params.rent)*a2 + params.y2 - a3_approx\n",
    "\n",
    "    # 中年期の限界効用\n",
    "    mu2 = mu_CRRA(cons, params.γ)\n",
    "\n",
    "    # 残差(residual)\n",
    "    return params.β*(1 + params.rent)*(mu2/mu1) - 1.0\n",
    "\n",
    "end"
   ]
  },
  {
   "cell_type": "code",
   "execution_count": 12,
   "id": "7cb71b6c-9136-4320-b3eb-97adda19b309",
   "metadata": {},
   "outputs": [],
   "source": [
    "# 空の変数を用意\n",
    "a1_nl = zeros(params.na);"
   ]
  },
  {
   "cell_type": "code",
   "execution_count": 13,
   "id": "fd0c6420-918a-4d18-a249-8265d8f811b8",
   "metadata": {},
   "outputs": [
    {
     "name": "stdout",
     "output_type": "stream",
     "text": [
      "[0.11372162327834398, 0.16661166683471737, 0.2195017103910908, 0.2723917539474643, 0.32528179750383773, 0.3781718410602111, 0.4310618846165846, 0.48395192817295796, 0.5368419717293316, 0.589732015285705, 0.6426220588420785, 0.6955121023984518, 0.7484021459548253, 0.8012921895111986, 0.854182233067572, 0.9070722766239455, 0.9599623201803191, 1.0128523637366926, 1.0657424072930657, 1.1186324508494394, 1.1715224944058127]"
     ]
    }
   ],
   "source": [
    "# 実際に各w_{i}のもとで、残差関数がゼロになるようなaを探す\n",
    "for i = 1:params.na\n",
    "\n",
    "    a1_val = params.grid_a[i]\n",
    "\n",
    "    # 1変数のfunctionにする\n",
    "    resid_three_period1!(a2) = resid_three_period1(a2, a1_val, a2_nl, params)\n",
    "\n",
    "    # 0.01はゼロ点を探す際の初期値\n",
    "    a1_nl[i] = find_zero(resid_three_period1!, 0.01)\n",
    "\n",
    "end\n",
    "\n",
    "print(a1_nl)"
   ]
  },
  {
   "cell_type": "code",
   "execution_count": 14,
   "id": "f59a0998-a7a3-43da-89c6-4017a492ac24",
   "metadata": {},
   "outputs": [
    {
     "data": {
      "image/png": "[encoded data removed]"
     },
     "execution_count": 14,
     "metadata": {},
     "output_type": "execute_result"
    }
   ],
   "source": [
    "plt = plot(params.grid_a, a1_nl,\n",
    "    color = :blue,\n",
    "    marker = :circle,\n",
    "    legend = :none,\n",
    "    xlims = (0, 2.0),\n",
    "    ylims = (0, 2.0),\n",
    "    label = (\"EGM\"),\n",
    "    xlabel = (\"若年期の資産：a1\"),\n",
    "    ylabel = (\"若年期の貯蓄：a2\"),\n",
    "    linewidth = 4,\n",
    "    markersize = 8,\n",
    "    titlefont = font(\"HackGen35Nerd\", 12),\n",
    "    guidefont = font(\"HackGen35Nerd\", 12),\n",
    "    tickfont = font(\"HackGen35Nerd\", 8),\n",
    "    legend_font_family = (\"HackGen35Nerd\"),\n",
    "    legendfontsize = 12,\n",
    "    framestyle = :semi\n",
    ")\n",
    "#savefig(\"../figure/Fig2_pol_three_period12.eps\")"
   ]
  },
  {
   "cell_type": "markdown",
   "id": "b7b3440a-9393-4daf-aa59-7c12f053017c",
   "metadata": {},
   "source": [
    "---"
   ]
  },
  {
   "cell_type": "markdown",
   "id": "3cab780c-ba03-4c45-bf87-91b1a3c5bc05",
   "metadata": {},
   "source": [
    "## エクササイズ\n",
    "* 求根アルゴリズム以外の方法を使って、3期間モデルを解いてみよう。"
   ]
  },
  {
   "cell_type": "code",
   "execution_count": null,
   "id": "42dca081-8359-4126-82c9-1c473be35cc0",
   "metadata": {},
   "outputs": [],
   "source": []
  }
 ],
 "metadata": {
  "kernelspec": {
   "display_name": "Julia 1.7.2",
   "language": "julia",
   "name": "julia-1.7"
  },
  "language_info": {
   "file_extension": ".jl",
   "mimetype": "application/julia",
   "name": "julia",
   "version": "1.7.3"
  }
 },
 "nbformat": 4,
 "nbformat_minor": 5
}
