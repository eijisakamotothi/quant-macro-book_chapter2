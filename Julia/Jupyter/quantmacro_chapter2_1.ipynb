{
 "cells": [
  {
   "cell_type": "markdown",
   "id": "b0bd21b7-0aed-41fe-be8f-5ff5fc0b61cd",
   "metadata": {},
   "source": [
    "# 北尾早霧・砂川武貴・山田知明『定量的マクロ経済学と数値計算』日本評論社\n",
    "## 第2章：2期間モデル・3期間モデルと数値計算の概観\n",
    "    * 2.1節から2.4節まで"
   ]
  },
  {
   "cell_type": "markdown",
   "id": "9ac47b7b",
   "metadata": {},
   "source": [
    "## 数値計算に入る前にJupyter Notebookの使い方について簡単に説明\n",
    "* **Jupyter Noterbook**と**Jupyter Lab**の2種類がある\n",
    "    * インストール方法はNotionで説明\n",
    "* どちらを使っても構わない\n",
    "    * 現時点ではJupter Notebookの方が完成度は高い\n",
    "        * スライドを作成できるRISEなどの機能が揃っている\n",
    "    * Jupyter Labの方が新しいため新機能は今後こちらに追加される"
   ]
  },
  {
   "cell_type": "markdown",
   "id": "22e36eaf-f6f5-437e-8007-b31deaf01512",
   "metadata": {},
   "source": [
    "## Jupyter Notebookの使い方\n",
    "* セル内に**数式**を書いて**実行**をすることでコードを走らせることが出来る\n",
    "    * 実行は⬆にある▷ボタンを押すか、セルを選択して**Shift + Return (Enter)**\n",
    "* セルに説明書きを加えたりメモを取ることも可能\n",
    "    * 上にあるタブをCode→**Markdown**に変更\n",
    "    * 実行は同じく**Shift + Return (Enter)**\n",
    "* 書き方は**Markdown記法**\n",
    "* 数式の書き方は$\\LaTeX$の記法と同じ"
   ]
  },
  {
   "cell_type": "markdown",
   "id": "9821f711-b52c-4fdb-b7d1-c6f8f98427d7",
   "metadata": {},
   "source": [
    "---"
   ]
  },
  {
   "cell_type": "code",
   "execution_count": 1,
   "id": "d98b251e-f7b9-4171-9cef-b53a9df505a5",
   "metadata": {},
   "outputs": [
    {
     "name": "stdout",
     "output_type": "stream",
     "text": [
      "Julia Version 1.7.3\n",
      "Commit 742b9abb4d (2022-05-06 12:58 UTC)\n",
      "Platform Info:\n",
      "  OS: macOS (x86_64-apple-darwin21.4.0)\n",
      "  CPU: Intel(R) Core(TM) i7-8569U CPU @ 2.80GHz\n",
      "  WORD_SIZE: 64\n",
      "  LIBM: libopenlibm\n",
      "  LLVM: libLLVM-12.0.1 (ORCJIT, skylake)\n"
     ]
    }
   ],
   "source": [
    "versioninfo()"
   ]
  },
  {
   "cell_type": "markdown",
   "id": "47acf334",
   "metadata": {},
   "source": [
    "---"
   ]
  },
  {
   "cell_type": "markdown",
   "id": "fc73545d-4e2d-463d-9082-8db25e6b7b4a",
   "metadata": {},
   "source": [
    "## 2.2 ベンチマークモデルとカリブレーション"
   ]
  },
  {
   "cell_type": "markdown",
   "id": "43b4d326-3481-4a43-b2d3-c6f7baf4a40a",
   "metadata": {},
   "source": [
    "### 2.2.1 ベンチマークモデル：2期間モデル\n",
    "* 詳細はテキストを参照\n",
    "* 基本的な2期間モデルを使って数値計算の基本的な考え方を丁寧に説明をしていく\n",
    "* ある経済主体は2期間生存するとしよう\n",
    "    * 1期目の消費$c_{1}$と貯蓄$a$、2期目の消費$c_{2}$を決定：実際にはどれか一つを決定すれば他は予算制約から自動的に決定\n",
    "    * 労働供給に関する意思決定はなし\n",
    "* 予算制約：1期目\n",
    "$$\n",
    "    c_{1} + a = w\n",
    "$$\n",
    "    * wは1期期初に保有している所得\n",
    "* 予算制約：2期目\n",
    "$$\n",
    "    c_{2} = (1+r)a\n",
    "$$\n",
    "    * 貯蓄には$r$だけの金利が発生する\n",
    "* 経済主体の目的関数は2期間の効用の和を最大にすること\n",
    "$$\n",
    "    U(c_{1}, c_{2}) = u(c_{1}) + \\beta u(c_{2})\n",
    "$$\n",
    "    * $\\beta$は**割引因子(discount factor)**"
   ]
  },
  {
   "cell_type": "markdown",
   "id": "0492b6a1-98ef-4352-90aa-85221ff5a910",
   "metadata": {},
   "source": [
    "### 一階条件\n",
    "$$\n",
    "    u'(c_{1}) = (1+r) \\beta u'(c_{2})\n",
    "$$\n",
    "### 政策関数\n",
    "* 我々が知りたいのは**政策関数(policy function)**\n",
    "$$\n",
    "    a = g(w)\n",
    "$$"
   ]
  },
  {
   "cell_type": "markdown",
   "id": "332f461e-8015-403c-8079-87d820ab1ad7",
   "metadata": {},
   "source": [
    "---"
   ]
  },
  {
   "cell_type": "markdown",
   "id": "65a28e40",
   "metadata": {},
   "source": [
    "## 2.2.2 カリブレーション（Calibration）\n",
    "* 関数型を特定化してパラメータを設定する一連の作業を**カリブレーション（calibration）**と呼ぶ\n",
    "* 本格的な研究の場合、ここの値をもっと真面目に設定\n",
    "    * マクロ・ミクロデータから推計\n",
    "* 今回はデモンストレーションなので\"それっぽい\"数値を使う"
   ]
  },
  {
   "cell_type": "markdown",
   "id": "7d47b86c-9a62-4760-9b5b-66452e89d3c9",
   "metadata": {},
   "source": [
    "---"
   ]
  },
  {
   "cell_type": "markdown",
   "id": "fac22d25-55b6-4aa1-b979-06b7cda78cfc",
   "metadata": {},
   "source": [
    "#### Tips：コメント\n",
    "* #(シャープ)の右側は実行されない：**コメント**\n",
    "* コメントを適切につけることを心がけると**共同研究者**や**未来の自分**が助かる\n",
    "* コメントは極力英語(半角)で書いたほうが良い\n",
    "    * この教科書は教育目的なので日本語で書いています\n",
    "* 実行する箇所に全角が交じるとコードが動かなくなる場合があるので注意\n",
    "    * 全角スペースは特に見つけづらいので注意が必要\n",
    "    * たまにあるミス：カギ括弧が片方だけ全角"
   ]
  },
  {
   "cell_type": "markdown",
   "id": "0ce7e425-07a8-4a9b-b8d0-343c11e1511c",
   "metadata": {},
   "source": [
    "---"
   ]
  },
  {
   "cell_type": "code",
   "execution_count": 2,
   "id": "bf92d331",
   "metadata": {},
   "outputs": [
    {
     "data": {
      "text/plain": [
       "2.0"
      ]
     },
     "execution_count": 2,
     "metadata": {},
     "output_type": "execute_result"
    }
   ],
   "source": [
    "# 変数名はモデルと同じ名前にすると読みやすい(がマストではない)\n",
    "beta = 0.985^30 # 割引因子(discount factor) 30年分\n",
    "gamma = 2.0 # 相対的危険回避度"
   ]
  },
  {
   "cell_type": "markdown",
   "id": "fc9fe87f-a8a3-4cdb-b5c8-7b29ce23816a",
   "metadata": {},
   "source": [
    "#### Tips：JuliaはUnicode（UTF-8）に対応しているのでギリシャ文字がそのまま使える\n",
    "* 他の多くの言語ではこの方法は使えない"
   ]
  },
  {
   "cell_type": "code",
   "execution_count": 3,
   "id": "90bf2c28",
   "metadata": {},
   "outputs": [
    {
     "data": {
      "text/plain": [
       "0.6354580927313491"
      ]
     },
     "execution_count": 3,
     "metadata": {},
     "output_type": "execute_result"
    }
   ],
   "source": [
    "# \\betaと書いてTabキーを押すとギリシャ文字に変換\n",
    "β = 0.985^30 # 割引因子(discount factor) 30年分"
   ]
  },
  {
   "cell_type": "code",
   "execution_count": 4,
   "id": "5e7d9fdb",
   "metadata": {},
   "outputs": [
    {
     "data": {
      "text/plain": [
       "2.0"
      ]
     },
     "execution_count": 4,
     "metadata": {},
     "output_type": "execute_result"
    }
   ],
   "source": [
    "# \\gamma\n",
    "γ = 2.0 # 相対的危険回避度(relative risk aversion)"
   ]
  },
  {
   "cell_type": "code",
   "execution_count": 5,
   "id": "447a65ec",
   "metadata": {},
   "outputs": [
    {
     "data": {
      "text/plain": [
       "1.0975675790817858"
      ]
     },
     "execution_count": 5,
     "metadata": {},
     "output_type": "execute_result"
    }
   ],
   "source": [
    "rent = 1.025^30 - 1.0 # 30年分の利息(1を引いているので純(net))"
   ]
  },
  {
   "cell_type": "markdown",
   "id": "f7b6ac33-99e2-4fac-8172-27be8f351345",
   "metadata": {},
   "source": [
    "---"
   ]
  },
  {
   "cell_type": "markdown",
   "id": "193903c9",
   "metadata": {},
   "source": [
    "## 2.3 離散近似とグリッド\n",
    "* 状態変数$w$を離散個の点で表現する→**グリッド(grid)**\n",
    "* グリッドは点の集まり\n",
    "    * 例えばグリッド数を10個にする場合：$w_{i} \\in \\{ w_1, ..., w_{10} \\}$\n",
    "    * $w_{1}$：所得の最小値\n",
    "    * $w_{10}$：所得の最大値"
   ]
  },
  {
   "cell_type": "code",
   "execution_count": 6,
   "id": "4ee99b20",
   "metadata": {},
   "outputs": [],
   "source": [
    "# 実行文の最後に;を書くと実行結果の表示を省略できる\n",
    "# ;がないと実行文の最後の結果のみJupyter Notebookに出力される\n",
    "\n",
    "nw = 10; # グリッドの数\n",
    "w_min = 0.1; # 所得の最小値\n",
    "w_max = 1.0; # 所得の最大値"
   ]
  },
  {
   "cell_type": "code",
   "execution_count": 7,
   "id": "09c06931",
   "metadata": {},
   "outputs": [
    {
     "data": {
      "text/plain": [
       "10"
      ]
     },
     "execution_count": 7,
     "metadata": {},
     "output_type": "execute_result"
    }
   ],
   "source": [
    "# ;なしで実行をすると計算結果や今の変数の値が確認出来る\n",
    "nw"
   ]
  },
  {
   "cell_type": "code",
   "execution_count": 8,
   "id": "ad37da36",
   "metadata": {},
   "outputs": [
    {
     "data": {
      "text/plain": [
       "1.0"
      ]
     },
     "execution_count": 8,
     "metadata": {},
     "output_type": "execute_result"
    }
   ],
   "source": [
    "w_max"
   ]
  },
  {
   "cell_type": "code",
   "execution_count": 9,
   "id": "6815469b",
   "metadata": {},
   "outputs": [
    {
     "data": {
      "text/plain": [
       "0.1"
      ]
     },
     "execution_count": 9,
     "metadata": {},
     "output_type": "execute_result"
    }
   ],
   "source": [
    "w_min"
   ]
  },
  {
   "cell_type": "markdown",
   "id": "efc46b3e-6fd1-4934-8e6f-de6a33b38d14",
   "metadata": {},
   "source": [
    "### LinRange関数を使ってグリッド生成"
   ]
  },
  {
   "cell_type": "code",
   "execution_count": 10,
   "id": "7afa1da6",
   "metadata": {},
   "outputs": [
    {
     "data": {
      "text/plain": [
       "10-element LinRange{Float64, Int64}:\n",
       " 0.1,0.2,0.3,0.4,0.5,0.6,0.7,0.8,0.9,1.0"
      ]
     },
     "execution_count": 10,
     "metadata": {},
     "output_type": "execute_result"
    }
   ],
   "source": [
    "# グリッドを生成するためにLinRangeという関数を使う\n",
    "# w_minからw_maxまでの範囲でnw個の点を生成する\n",
    "# 今回の場合、0.1から1.0まで10個の点を生成\n",
    "\n",
    "temp = LinRange(w_min, w_max, nw)"
   ]
  },
  {
   "cell_type": "markdown",
   "id": "90cea25f",
   "metadata": {},
   "source": [
    "---"
   ]
  },
  {
   "cell_type": "markdown",
   "id": "facbb9ab-dbce-4d1f-a5be-defecf7ea9ad",
   "metadata": {},
   "source": [
    "## Tips：関数となにか?"
   ]
  },
  {
   "cell_type": "markdown",
   "id": "bc188a7f",
   "metadata": {},
   "source": [
    "`LinRange`は**関数(function)**\n",
    "* 関数名(引数, 引数)という感じで使う\n",
    "    * 関数の中に入れるインプットのことを**引数（argument）**と呼ぶ\n",
    "    * `z = function_name(x, y)`のような感じで使う\n",
    "* 関数の機能が知りたい場合、?でヘルプを呼び出す"
   ]
  },
  {
   "cell_type": "code",
   "execution_count": 11,
   "id": "eb4abb87",
   "metadata": {},
   "outputs": [
    {
     "name": "stdout",
     "output_type": "stream",
     "text": [
      "search: \u001b[0m\u001b[1mL\u001b[22m\u001b[0m\u001b[1mi\u001b[22m\u001b[0m\u001b[1mn\u001b[22m\u001b[0m\u001b[1mR\u001b[22m\u001b[0m\u001b[1ma\u001b[22m\u001b[0m\u001b[1mn\u001b[22m\u001b[0m\u001b[1mg\u001b[22m\u001b[0m\u001b[1me\u001b[22m\n",
      "\n"
     ]
    },
    {
     "data": {
      "text/latex": [
       "\\begin{verbatim}\n",
       "LinRange{T,L}\n",
       "\\end{verbatim}\n",
       "A range with \\texttt{len} linearly spaced elements between its \\texttt{start} and \\texttt{stop}. The size of the spacing is controlled by \\texttt{len}, which must be an \\texttt{Integer}.\n",
       "\n",
       "\\section{Examples}\n",
       "\\begin{verbatim}\n",
       "julia> LinRange(1.5, 5.5, 9)\n",
       "9-element LinRange{Float64, Int64}:\n",
       " 1.5,2.0,2.5,3.0,3.5,4.0,4.5,5.0,5.5\n",
       "\\end{verbatim}\n",
       "Compared to using \\href{@ref}{\\texttt{range}}, directly constructing a \\texttt{LinRange} should have less overhead but won't try to correct for floating point errors:\n",
       "\n",
       "\\begin{verbatim}\n",
       "julia> collect(range(-0.1, 0.3, length=5))\n",
       "5-element Array{Float64,1}:\n",
       " -0.1\n",
       "  0.0\n",
       "  0.1\n",
       "  0.2\n",
       "  0.3\n",
       "\n",
       "julia> collect(LinRange(-0.1, 0.3, 5))\n",
       "5-element Array{Float64,1}:\n",
       " -0.1\n",
       " -1.3877787807814457e-17\n",
       "  0.09999999999999999\n",
       "  0.19999999999999998\n",
       "  0.3\n",
       "\\end{verbatim}\n"
      ],
      "text/markdown": [
       "```\n",
       "LinRange{T,L}\n",
       "```\n",
       "\n",
       "A range with `len` linearly spaced elements between its `start` and `stop`. The size of the spacing is controlled by `len`, which must be an `Integer`.\n",
       "\n",
       "# Examples\n",
       "\n",
       "```jldoctest\n",
       "julia> LinRange(1.5, 5.5, 9)\n",
       "9-element LinRange{Float64, Int64}:\n",
       " 1.5,2.0,2.5,3.0,3.5,4.0,4.5,5.0,5.5\n",
       "```\n",
       "\n",
       "Compared to using [`range`](@ref), directly constructing a `LinRange` should have less overhead but won't try to correct for floating point errors:\n",
       "\n",
       "```julia\n",
       "julia> collect(range(-0.1, 0.3, length=5))\n",
       "5-element Array{Float64,1}:\n",
       " -0.1\n",
       "  0.0\n",
       "  0.1\n",
       "  0.2\n",
       "  0.3\n",
       "\n",
       "julia> collect(LinRange(-0.1, 0.3, 5))\n",
       "5-element Array{Float64,1}:\n",
       " -0.1\n",
       " -1.3877787807814457e-17\n",
       "  0.09999999999999999\n",
       "  0.19999999999999998\n",
       "  0.3\n",
       "```\n"
      ],
      "text/plain": [
       "\u001b[36m  LinRange{T,L}\u001b[39m\n",
       "\n",
       "  A range with \u001b[36mlen\u001b[39m linearly spaced elements between its \u001b[36mstart\u001b[39m and \u001b[36mstop\u001b[39m. The\n",
       "  size of the spacing is controlled by \u001b[36mlen\u001b[39m, which must be an \u001b[36mInteger\u001b[39m.\n",
       "\n",
       "\u001b[1m  Examples\u001b[22m\n",
       "\u001b[1m  ≡≡≡≡≡≡≡≡≡≡\u001b[22m\n",
       "\n",
       "\u001b[36m  julia> LinRange(1.5, 5.5, 9)\u001b[39m\n",
       "\u001b[36m  9-element LinRange{Float64, Int64}:\u001b[39m\n",
       "\u001b[36m   1.5,2.0,2.5,3.0,3.5,4.0,4.5,5.0,5.5\u001b[39m\n",
       "\n",
       "  Compared to using \u001b[36mrange\u001b[39m, directly constructing a \u001b[36mLinRange\u001b[39m should have less\n",
       "  overhead but won't try to correct for floating point errors:\n",
       "\n",
       "\u001b[36m  julia> collect(range(-0.1, 0.3, length=5))\u001b[39m\n",
       "\u001b[36m  5-element Array{Float64,1}:\u001b[39m\n",
       "\u001b[36m   -0.1\u001b[39m\n",
       "\u001b[36m    0.0\u001b[39m\n",
       "\u001b[36m    0.1\u001b[39m\n",
       "\u001b[36m    0.2\u001b[39m\n",
       "\u001b[36m    0.3\u001b[39m\n",
       "\u001b[36m  \u001b[39m\n",
       "\u001b[36m  julia> collect(LinRange(-0.1, 0.3, 5))\u001b[39m\n",
       "\u001b[36m  5-element Array{Float64,1}:\u001b[39m\n",
       "\u001b[36m   -0.1\u001b[39m\n",
       "\u001b[36m   -1.3877787807814457e-17\u001b[39m\n",
       "\u001b[36m    0.09999999999999999\u001b[39m\n",
       "\u001b[36m    0.19999999999999998\u001b[39m\n",
       "\u001b[36m    0.3\u001b[39m"
      ]
     },
     "execution_count": 11,
     "metadata": {},
     "output_type": "execute_result"
    }
   ],
   "source": [
    "? LinRange # ヘルプは基本的に英語"
   ]
  },
  {
   "cell_type": "markdown",
   "id": "8b84f486",
   "metadata": {},
   "source": [
    "### Juliaにおける関数（function）\n",
    "* 言語によって**サブルーチン（subroutine）**と呼ばれることもある（Fortranとか）\n",
    "    * 正確にはFortranでは一つの変数を返すものを関数（function）、複数のインプットとアウトプットがあるものをサブルーチン（subroutine）と呼んでいる\n",
    "* **関数**：プログラムを一つの意味単位で区切ったもの\n",
    "* 頻繁に使う計算は独立した関数としてひとまとめにして何回も呼び出す形にしたほうが良い\n",
    "    * 経済学の場合、Cobb-Douglas型生産関数、CRRA型効用関数など\n",
    "    * ⬇で実際に効用関数や生産関数を例示しています\n",
    "* 他人が書いたコードを再利用しやすくなる！\n",
    "    * JuliaのPackageでインストールしたものも他人が書いたコード(の一部)\n",
    "    * 上のLinRangeも関数\n",
    "    * 他人（あるいは自分）が書いた関数をまとめたものを**ライブラリ（library）**と呼ぶ\n",
    "    * ライブラリの充実度がその言語が何に向いているのかを決定する上で重要\n",
    "        * 例：Pythonは機械学習のライブラリが充実している"
   ]
  },
  {
   "cell_type": "markdown",
   "id": "e0d6220d-ad83-4e3e-bd40-e12a5960a2f4",
   "metadata": {},
   "source": [
    "LinRangeと似たような関数として`range`がある\n",
    "* `range`だと浮動小数点の誤差を補正してくれる：詳細は⬇を参照\n",
    "* 例えば理論上は0だけど数値計算誤差でごく微小な値になる場合、rangeは修正をするけど、LinRangeはそのまま"
   ]
  },
  {
   "cell_type": "markdown",
   "id": "853e92b6-699b-45e6-9b0d-99360ae597b4",
   "metadata": {},
   "source": [
    "---"
   ]
  },
  {
   "cell_type": "markdown",
   "id": "57ea428d-46c8-4b96-a944-13dbd8eb7c68",
   "metadata": {
    "tags": []
   },
   "source": [
    "LinRangeが返す変数の型(type)が使いにくいので変換したい\n",
    "* 型とはなにか?→⬇のTipsを参照"
   ]
  },
  {
   "cell_type": "code",
   "execution_count": 12,
   "id": "95aa334d-862e-4bd8-b90b-e9505b00cc11",
   "metadata": {},
   "outputs": [
    {
     "data": {
      "text/plain": [
       "LinRange{Float64, Int64}"
      ]
     },
     "execution_count": 12,
     "metadata": {},
     "output_type": "execute_result"
    }
   ],
   "source": [
    "typeof(temp) # 型がLinRange{Float64, Int64}"
   ]
  },
  {
   "cell_type": "markdown",
   "id": "240474fb-350f-4c58-a5df-703845425d48",
   "metadata": {},
   "source": [
    "### 型をLinRange{Float64, Int64}からVector{Float64}に変換\n",
    "* `collect(LinRange(min, max, grid_size))`でワンセットとして覚えておいてOK"
   ]
  },
  {
   "cell_type": "code",
   "execution_count": 13,
   "id": "3a853856",
   "metadata": {
    "scrolled": true
   },
   "outputs": [
    {
     "data": {
      "text/plain": [
       "10-element Vector{Float64}:\n",
       " 0.1\n",
       " 0.2\n",
       " 0.3\n",
       " 0.4\n",
       " 0.5\n",
       " 0.6\n",
       " 0.7\n",
       " 0.8\n",
       " 0.8999999999999999\n",
       " 1.0"
      ]
     },
     "execution_count": 13,
     "metadata": {},
     "output_type": "execute_result"
    }
   ],
   "source": [
    "# 10-element Vector{Float64,1}は\"10個の要素(10-element)のベクトル(Vector)でベクトルの要素が64ビットの浮動小数点(Float64)\"という意味\n",
    "\n",
    "grid_w = collect(LinRange(w_min, w_max, nw))"
   ]
  },
  {
   "cell_type": "code",
   "execution_count": 14,
   "id": "55ff4deb",
   "metadata": {},
   "outputs": [
    {
     "name": "stdout",
     "output_type": "stream",
     "text": [
      "search: \u001b[0m\u001b[1mc\u001b[22m\u001b[0m\u001b[1mo\u001b[22m\u001b[0m\u001b[1ml\u001b[22m\u001b[0m\u001b[1ml\u001b[22m\u001b[0m\u001b[1me\u001b[22m\u001b[0m\u001b[1mc\u001b[22m\u001b[0m\u001b[1mt\u001b[22m\n",
      "\n"
     ]
    },
    {
     "data": {
      "text/latex": [
       "\\begin{verbatim}\n",
       "collect(element_type, collection)\n",
       "\\end{verbatim}\n",
       "Return an \\texttt{Array} with the given element type of all items in a collection or iterable. The result has the same shape and number of dimensions as \\texttt{collection}.\n",
       "\n",
       "\\section{Examples}\n",
       "\\begin{verbatim}\n",
       "julia> collect(Float64, 1:2:5)\n",
       "3-element Vector{Float64}:\n",
       " 1.0\n",
       " 3.0\n",
       " 5.0\n",
       "\\end{verbatim}\n",
       "\\rule{\\textwidth}{1pt}\n",
       "\\begin{verbatim}\n",
       "collect(collection)\n",
       "\\end{verbatim}\n",
       "Return an \\texttt{Array} of all items in a collection or iterator. For dictionaries, returns \\texttt{Pair\\{KeyType, ValType\\}}. If the argument is array-like or is an iterator with the \\href{@ref IteratorSize}{\\texttt{HasShape}} trait, the result will have the same shape and number of dimensions as the argument.\n",
       "\n",
       "Used by comprehensions to turn a generator into an \\texttt{Array}.\n",
       "\n",
       "\\section{Examples}\n",
       "\\begin{verbatim}\n",
       "julia> collect(1:2:13)\n",
       "7-element Vector{Int64}:\n",
       "  1\n",
       "  3\n",
       "  5\n",
       "  7\n",
       "  9\n",
       " 11\n",
       " 13\n",
       "\n",
       "julia> [x^2 for x in 1:8 if isodd(x)]\n",
       "4-element Vector{Int64}:\n",
       "  1\n",
       "  9\n",
       " 25\n",
       " 49\n",
       "\\end{verbatim}\n"
      ],
      "text/markdown": [
       "```\n",
       "collect(element_type, collection)\n",
       "```\n",
       "\n",
       "Return an `Array` with the given element type of all items in a collection or iterable. The result has the same shape and number of dimensions as `collection`.\n",
       "\n",
       "# Examples\n",
       "\n",
       "```jldoctest\n",
       "julia> collect(Float64, 1:2:5)\n",
       "3-element Vector{Float64}:\n",
       " 1.0\n",
       " 3.0\n",
       " 5.0\n",
       "```\n",
       "\n",
       "---\n",
       "\n",
       "```\n",
       "collect(collection)\n",
       "```\n",
       "\n",
       "Return an `Array` of all items in a collection or iterator. For dictionaries, returns `Pair{KeyType, ValType}`. If the argument is array-like or is an iterator with the [`HasShape`](@ref IteratorSize) trait, the result will have the same shape and number of dimensions as the argument.\n",
       "\n",
       "Used by comprehensions to turn a generator into an `Array`.\n",
       "\n",
       "# Examples\n",
       "\n",
       "```jldoctest\n",
       "julia> collect(1:2:13)\n",
       "7-element Vector{Int64}:\n",
       "  1\n",
       "  3\n",
       "  5\n",
       "  7\n",
       "  9\n",
       " 11\n",
       " 13\n",
       "\n",
       "julia> [x^2 for x in 1:8 if isodd(x)]\n",
       "4-element Vector{Int64}:\n",
       "  1\n",
       "  9\n",
       " 25\n",
       " 49\n",
       "```\n"
      ],
      "text/plain": [
       "\u001b[36m  collect(element_type, collection)\u001b[39m\n",
       "\n",
       "  Return an \u001b[36mArray\u001b[39m with the given element type of all items in a collection or\n",
       "  iterable. The result has the same shape and number of dimensions as\n",
       "  \u001b[36mcollection\u001b[39m.\n",
       "\n",
       "\u001b[1m  Examples\u001b[22m\n",
       "\u001b[1m  ≡≡≡≡≡≡≡≡≡≡\u001b[22m\n",
       "\n",
       "\u001b[36m  julia> collect(Float64, 1:2:5)\u001b[39m\n",
       "\u001b[36m  3-element Vector{Float64}:\u001b[39m\n",
       "\u001b[36m   1.0\u001b[39m\n",
       "\u001b[36m   3.0\u001b[39m\n",
       "\u001b[36m   5.0\u001b[39m\n",
       "\n",
       "  ────────────────────────────────────────────────────────────────────────────\n",
       "\n",
       "\u001b[36m  collect(collection)\u001b[39m\n",
       "\n",
       "  Return an \u001b[36mArray\u001b[39m of all items in a collection or iterator. For dictionaries,\n",
       "  returns \u001b[36mPair{KeyType, ValType}\u001b[39m. If the argument is array-like or is an\n",
       "  iterator with the \u001b[36mHasShape\u001b[39m trait, the result will have the same shape and\n",
       "  number of dimensions as the argument.\n",
       "\n",
       "  Used by comprehensions to turn a generator into an \u001b[36mArray\u001b[39m.\n",
       "\n",
       "\u001b[1m  Examples\u001b[22m\n",
       "\u001b[1m  ≡≡≡≡≡≡≡≡≡≡\u001b[22m\n",
       "\n",
       "\u001b[36m  julia> collect(1:2:13)\u001b[39m\n",
       "\u001b[36m  7-element Vector{Int64}:\u001b[39m\n",
       "\u001b[36m    1\u001b[39m\n",
       "\u001b[36m    3\u001b[39m\n",
       "\u001b[36m    5\u001b[39m\n",
       "\u001b[36m    7\u001b[39m\n",
       "\u001b[36m    9\u001b[39m\n",
       "\u001b[36m   11\u001b[39m\n",
       "\u001b[36m   13\u001b[39m\n",
       "\u001b[36m  \u001b[39m\n",
       "\u001b[36m  julia> [x^2 for x in 1:8 if isodd(x)]\u001b[39m\n",
       "\u001b[36m  4-element Vector{Int64}:\u001b[39m\n",
       "\u001b[36m    1\u001b[39m\n",
       "\u001b[36m    9\u001b[39m\n",
       "\u001b[36m   25\u001b[39m\n",
       "\u001b[36m   49\u001b[39m"
      ]
     },
     "execution_count": 14,
     "metadata": {},
     "output_type": "execute_result"
    }
   ],
   "source": [
    "? collect # collectの使い方を確認しておく"
   ]
  },
  {
   "cell_type": "markdown",
   "id": "bc1d4e59",
   "metadata": {},
   "source": [
    "---"
   ]
  },
  {
   "cell_type": "markdown",
   "id": "d02331c0",
   "metadata": {},
   "source": [
    "## Tips：変数の型（Type）について\n",
    "* 上で**64ビットの浮動小数点（Float64）**という謎の単語が出てきた\n",
    "* Juliaでは変数の**型（type）**を意識したほうが良いのでここで説明\n",
    "* 変数の型という概念は別の言語でもある\n",
    "    * Python、C++、Fortran etc.\n",
    "    * MatlabやRではほぼ気にしなくてもOK\n",
    "* 初心者のうちはそこまで気にしなくてもコードは動く\n",
    "* **変数の型を気にかけた方が効率的（=計算速度が早い）に実行が出来る**"
   ]
  },
  {
   "cell_type": "code",
   "execution_count": 15,
   "id": "84ba723d",
   "metadata": {},
   "outputs": [],
   "source": [
    "# この2つは別モノ!\n",
    "a = 1; # 整数(integer)\n",
    "b = 1.0; # 浮動小数点(float)"
   ]
  },
  {
   "cell_type": "code",
   "execution_count": 16,
   "id": "ff300aee-5bf0-4a68-a454-0122e64c8d71",
   "metadata": {},
   "outputs": [
    {
     "data": {
      "text/plain": [
       "Int64"
      ]
     },
     "execution_count": 16,
     "metadata": {},
     "output_type": "execute_result"
    }
   ],
   "source": [
    "typeof(a)"
   ]
  },
  {
   "cell_type": "code",
   "execution_count": 17,
   "id": "7e4e8fa9-75d9-427d-8be5-b1721ff10495",
   "metadata": {},
   "outputs": [
    {
     "data": {
      "text/plain": [
       "Float64"
      ]
     },
     "execution_count": 17,
     "metadata": {},
     "output_type": "execute_result"
    }
   ],
   "source": [
    "typeof(b)"
   ]
  },
  {
   "cell_type": "markdown",
   "id": "829b105e-9c40-4f4d-b795-1df7728f0201",
   "metadata": {},
   "source": [
    "* 1(整数)と1.0(浮動小数点)は別物!\n",
    "* IntとFloatの後ろにある64は**64ビットで表現している**という意味\n",
    "    * この数字が大きいと有効桁数数が大きくなる\n",
    "    * よほど古いPCや特殊な環境出ない限りFloat32ではなくFloat64と表示されているはず"
   ]
  },
  {
   "cell_type": "code",
   "execution_count": 18,
   "id": "fbe71726",
   "metadata": {},
   "outputs": [
    {
     "data": {
      "text/plain": [
       "Float64"
      ]
     },
     "execution_count": 18,
     "metadata": {},
     "output_type": "execute_result"
    }
   ],
   "source": [
    "# 計算をする場合は自動で調整してくれる\n",
    "# 言語によって仕様が異なる可能性あり\n",
    "a + b\n",
    "typeof(a + b)"
   ]
  },
  {
   "cell_type": "code",
   "execution_count": 19,
   "id": "e2eee99c",
   "metadata": {},
   "outputs": [
    {
     "data": {
      "text/plain": [
       "3.0"
      ]
     },
     "execution_count": 19,
     "metadata": {},
     "output_type": "execute_result"
    }
   ],
   "source": [
    "# スカラー\n",
    "c = 3.0"
   ]
  },
  {
   "cell_type": "code",
   "execution_count": 20,
   "id": "59710ced",
   "metadata": {},
   "outputs": [
    {
     "data": {
      "text/plain": [
       "2-element Vector{Float64}:\n",
       " 1.0\n",
       " 2.0"
      ]
     },
     "execution_count": 20,
     "metadata": {},
     "output_type": "execute_result"
    }
   ],
   "source": [
    "# ベクトル\n",
    "d = [1.0, 2.0]"
   ]
  },
  {
   "cell_type": "code",
   "execution_count": 21,
   "id": "c76aaeb1-43c1-44d9-966a-33608f9979b2",
   "metadata": {},
   "outputs": [
    {
     "data": {
      "text/plain": [
       "1×2 Matrix{Float64}:\n",
       " 1.0  2.0"
      ]
     },
     "execution_count": 21,
     "metadata": {},
     "output_type": "execute_result"
    }
   ],
   "source": [
    "# こちらの書き方だと1x2の行列扱い\n",
    "dm = [1.0 2.0]"
   ]
  },
  {
   "cell_type": "code",
   "execution_count": 22,
   "id": "4a08b4d8",
   "metadata": {},
   "outputs": [
    {
     "data": {
      "text/plain": [
       "2×3 Matrix{Int64}:\n",
       " 1  2  3\n",
       " 4  5  6"
      ]
     },
     "execution_count": 22,
     "metadata": {},
     "output_type": "execute_result"
    }
   ],
   "source": [
    "# 行列\n",
    "e = [1 2 3; 4 5 6]"
   ]
  },
  {
   "cell_type": "code",
   "execution_count": 23,
   "id": "e8f841ec-0b3d-4a63-a6fb-5d40effce6eb",
   "metadata": {},
   "outputs": [
    {
     "data": {
      "text/plain": [
       "2×3 Matrix{Float64}:\n",
       " 1.0  2.0  3.0\n",
       " 4.0  5.0  6.0"
      ]
     },
     "execution_count": 23,
     "metadata": {},
     "output_type": "execute_result"
    }
   ],
   "source": [
    "# 別の行列\n",
    "f = [1.0 2.0 3.0; 4.0 5.0 6.0]"
   ]
  },
  {
   "cell_type": "markdown",
   "id": "1aed98ef-f3f5-47f7-94ab-f0a2ec138acc",
   "metadata": {},
   "source": [
    "#### 色々な型（Type）を調べてみる"
   ]
  },
  {
   "cell_type": "code",
   "execution_count": 24,
   "id": "e282d063",
   "metadata": {},
   "outputs": [
    {
     "data": {
      "text/plain": [
       "Float64"
      ]
     },
     "execution_count": 24,
     "metadata": {},
     "output_type": "execute_result"
    }
   ],
   "source": [
    "typeof(c)"
   ]
  },
  {
   "cell_type": "code",
   "execution_count": 25,
   "id": "b4f6ab75",
   "metadata": {},
   "outputs": [
    {
     "data": {
      "text/plain": [
       "Vector{Float64} (alias for Array{Float64, 1})"
      ]
     },
     "execution_count": 25,
     "metadata": {},
     "output_type": "execute_result"
    }
   ],
   "source": [
    "typeof(d) # 配列(ベクトルや行列)はArray"
   ]
  },
  {
   "cell_type": "code",
   "execution_count": 26,
   "id": "7bc311de-8bfb-48ee-ab9c-4add566c3c7f",
   "metadata": {},
   "outputs": [
    {
     "data": {
      "text/plain": [
       "Matrix{Float64} (alias for Array{Float64, 2})"
      ]
     },
     "execution_count": 26,
     "metadata": {},
     "output_type": "execute_result"
    }
   ],
   "source": [
    "typeof(dm)"
   ]
  },
  {
   "cell_type": "code",
   "execution_count": 27,
   "id": "29e63ef6",
   "metadata": {},
   "outputs": [
    {
     "data": {
      "text/plain": [
       "Matrix{Int64} (alias for Array{Int64, 2})"
      ]
     },
     "execution_count": 27,
     "metadata": {},
     "output_type": "execute_result"
    }
   ],
   "source": [
    "typeof(e) # ベクトルではなく行列の場合、Array{Int64,\"2\"}になる"
   ]
  },
  {
   "cell_type": "code",
   "execution_count": 28,
   "id": "ca9cbf36-26d3-4a44-88ee-db8cd66c91ee",
   "metadata": {},
   "outputs": [
    {
     "data": {
      "text/plain": [
       "Matrix{Float64} (alias for Array{Float64, 2})"
      ]
     },
     "execution_count": 28,
     "metadata": {},
     "output_type": "execute_result"
    }
   ],
   "source": [
    "typeof(f) # こちらはArrayの要素がIntではなくFloat"
   ]
  },
  {
   "cell_type": "markdown",
   "id": "64ef0463",
   "metadata": {},
   "source": [
    "#### Tips：Matlabと違ってベクトルと行列に本質的な違いはない\n",
    "* 1次元の配列か2次元の配列かの違いでしかない\n",
    "* より高次元の配列も定義出来る↓"
   ]
  },
  {
   "cell_type": "code",
   "execution_count": 29,
   "id": "b33fc585-8005-4363-9d61-d808856ad654",
   "metadata": {},
   "outputs": [],
   "source": [
    "temp = zeros(5, 3, 4); # 5×3×4の配列"
   ]
  },
  {
   "cell_type": "markdown",
   "id": "9d0c1f53",
   "metadata": {},
   "source": [
    "#### Tips：有効桁数と64ビットの意味\n",
    "* コンピュータは表示できる桁数に限界がある\n",
    "* コンピュータは無限を認識してくれない\n",
    "* 例えば、64ビットで表現させる整数の**最大値**は↓\n",
    "* あえて使うことはないかと思うが、32ビットだと表示できる数値の上限が小さくなるので注意"
   ]
  },
  {
   "cell_type": "code",
   "execution_count": 30,
   "id": "b199ef89",
   "metadata": {},
   "outputs": [
    {
     "data": {
      "text/plain": [
       "9223372036854775807"
      ]
     },
     "execution_count": 30,
     "metadata": {},
     "output_type": "execute_result"
    }
   ],
   "source": [
    "int_max = typemax(Int64)"
   ]
  },
  {
   "cell_type": "code",
   "execution_count": 31,
   "id": "cd8df711-b58c-4079-9e8d-a1ded39524b0",
   "metadata": {},
   "outputs": [
    {
     "data": {
      "text/plain": [
       "2147483647"
      ]
     },
     "execution_count": 31,
     "metadata": {},
     "output_type": "execute_result"
    }
   ],
   "source": [
    "int_max = typemax(Int32)"
   ]
  },
  {
   "cell_type": "markdown",
   "id": "c79ee684-3158-4d5e-975a-a37fcd9bbc38",
   "metadata": {},
   "source": [
    "---"
   ]
  },
  {
   "cell_type": "markdown",
   "id": "ad27a702-ac08-4249-ac0d-1e244e09ef8f",
   "metadata": {},
   "source": [
    "## 2.3.3 状態変数と操作変数が共に離散の場合\n",
    "* 操作変数$a$についても離散個のグリッドを設定"
   ]
  },
  {
   "cell_type": "code",
   "execution_count": 32,
   "id": "fd39fb3b",
   "metadata": {},
   "outputs": [],
   "source": [
    "# 操作変数aのグリッドも作成\n",
    "na = 40;\n",
    "a_max = 1.0;\n",
    "a_min = 0.025;"
   ]
  },
  {
   "cell_type": "code",
   "execution_count": 33,
   "id": "abfa2b51",
   "metadata": {},
   "outputs": [
    {
     "data": {
      "text/plain": [
       "40-element Vector{Float64}:\n",
       " 0.025\n",
       " 0.05\n",
       " 0.075\n",
       " 0.1\n",
       " 0.125\n",
       " 0.15\n",
       " 0.17500000000000002\n",
       " 0.2\n",
       " 0.225\n",
       " 0.25\n",
       " 0.27499999999999997\n",
       " 0.3\n",
       " 0.325\n",
       " ⋮\n",
       " 0.725\n",
       " 0.75\n",
       " 0.775\n",
       " 0.7999999999999999\n",
       " 0.825\n",
       " 0.85\n",
       " 0.875\n",
       " 0.9\n",
       " 0.925\n",
       " 0.95\n",
       " 0.975\n",
       " 1.0"
      ]
     },
     "execution_count": 33,
     "metadata": {},
     "output_type": "execute_result"
    }
   ],
   "source": [
    "grid_a = collect(LinRange(a_min, a_max, na))"
   ]
  },
  {
   "cell_type": "markdown",
   "id": "ce94abfd-7777-441f-b0f1-8da71699dbc4",
   "metadata": {},
   "source": [
    "---"
   ]
  },
  {
   "cell_type": "markdown",
   "id": "a339785c-dc81-4b90-ab74-f3955b03e600",
   "metadata": {},
   "source": [
    "## Tips：数値計算誤差について\n",
    "* ⬆ コンピュータは0.175や0.275が正確に表現出来ない"
   ]
  },
  {
   "cell_type": "markdown",
   "id": "9d40009d",
   "metadata": {},
   "source": [
    "### 注意\n",
    "* 上で0.175や0.8あたりの表示がおかしくなっているはず（環境によって表示は異なるかも）\n",
    "* これはコンピュータ上で小数をどのように表現するかの問題で、実は0.8そのものは表現できない\n",
    "    * コンピュータは2進数なのでこのような問題が生じる\n",
    "    * これはJuliaに特有の問題ではなくすべてのソフトウェアに共通する問題\n",
    "* ほとんどの場合は気にしなくても問題は生じないけど、ごくまれにこれが積み上がっていって悪さをしたりする可能性もある"
   ]
  },
  {
   "cell_type": "markdown",
   "id": "91a45ad8",
   "metadata": {},
   "source": [
    "---"
   ]
  },
  {
   "cell_type": "markdown",
   "id": "5a2d729a",
   "metadata": {},
   "source": [
    "## Tips：自分で関数を作ってみる\n",
    "* 経済学でよく使う関数を自力で作成してみよう\n",
    "    * 毎回直接書くのは面倒なので!\n",
    "\n",
    "**CRRA型効用関数**\n",
    "$$\n",
    "    \\frac{c^{1-\\gamma}}{1-\\gamma}\n",
    "$$\n",
    "を計算する関数を作ってみよう\n",
    "* $\\gamma = 1$の場合、$\\log c$である点に注意"
   ]
  },
  {
   "cell_type": "code",
   "execution_count": 34,
   "id": "b28cc978",
   "metadata": {},
   "outputs": [
    {
     "data": {
      "text/plain": [
       "-0.3333333333333333"
      ]
     },
     "execution_count": 34,
     "metadata": {},
     "output_type": "execute_result"
    }
   ],
   "source": [
    "cons = 3.0\n",
    "utility = cons^(1-γ) / (1-γ)"
   ]
  },
  {
   "cell_type": "markdown",
   "id": "32d28945-fd91-40cf-95b2-37c89cfaf30d",
   "metadata": {},
   "source": [
    "毎回、⬆みたいな式を書くのは大変\n",
    "* コピペも面倒\n",
    "* しかも、間違いがあったらコピペをした全部の箇所を訂正しないといけなくなる\n",
    "    * たとえば、うっかり$(1+\\gamma)$と書いてしまってあっちこっちにコピペをしたら..."
   ]
  },
  {
   "cell_type": "markdown",
   "id": "dc333d73-adca-4f9e-922e-b0f4a66db9bf",
   "metadata": {},
   "source": [
    "### 関数にまとめる\n",
    "* 関数は⬇のように書く\n",
    "* `function`と`end`で挟む\n",
    "* `function`の後に関数名（今回の場合はCRRA）をつける\n",
    "* ``( )``の中に引数を書く\n",
    "    * 複数あっても良いし、まったく引数がない関数もある\n",
    "    * 今回だと`cons`と`\\gamma`が引数\n",
    "* ⬇のセルを実行しても`CRRA`としか表示されない"
   ]
  },
  {
   "cell_type": "code",
   "execution_count": 35,
   "id": "26ac3890",
   "metadata": {},
   "outputs": [
    {
     "data": {
      "text/plain": [
       "CRRA"
      ]
     },
     "execution_count": 35,
     "metadata": {},
     "output_type": "execute_result"
    }
   ],
   "source": [
    "\"\"\"\n",
    "\"機能の説明を書くスペース\"\n",
    "効用関数を計算(この関数はどう使うのか。目的や使いみちを書いておく。)\n",
    "\n",
    "### インプット(書かなくても機能上は問題ないけど、ヘルプにインプットとアウトプットの情報が書いてあったほうが便利)\n",
    "`cons::Real` 消費,\n",
    "`γ::Real` 相対的リスク回避度\n",
    "\n",
    "### アウトプット(同上)\n",
    "効用\n",
    "\"\"\"\n",
    "function CRRA(cons, γ)\n",
    "    if γ != 1.0 # 見やすさのために余白を4つ(ないし2つ)挿入\n",
    "       return cons^(1.0 - γ) / (1.0 - γ) \n",
    "    else\n",
    "       return log(cons)\n",
    "    end\n",
    "end"
   ]
  },
  {
   "cell_type": "markdown",
   "id": "28091b1d-48e3-43f3-b00c-b6e217566419",
   "metadata": {},
   "source": [
    "---"
   ]
  },
  {
   "cell_type": "markdown",
   "id": "20bf445b",
   "metadata": {},
   "source": [
    "### Tips：if文\n",
    "* 条件を分岐\n",
    "* もしAならば〜、もしそうでなければ〜\n",
    "* もしAならば〜、あるいはBならば〜、あるいはCならば〜"
   ]
  },
  {
   "cell_type": "code",
   "execution_count": 36,
   "id": "6500824b",
   "metadata": {},
   "outputs": [
    {
     "data": {
      "text/plain": [
       "-0.3333333333333333"
      ]
     },
     "execution_count": 36,
     "metadata": {},
     "output_type": "execute_result"
    }
   ],
   "source": [
    "if γ != 1.0 # もし\\gammaが1でないならば...\n",
    "    return cons^(1.0 - γ) / (1.0 - γ)\n",
    "else # そうでないならば...\n",
    "    return log(cons)\n",
    "end"
   ]
  },
  {
   "cell_type": "markdown",
   "id": "ef1ad619-e117-4640-8249-15a4a3681f6d",
   "metadata": {},
   "source": [
    "---"
   ]
  },
  {
   "cell_type": "markdown",
   "id": "38abd7e4",
   "metadata": {},
   "source": [
    "### Tips：プログラミングの=は数学の\"イコール\"とは意味が異なる\n",
    "* a=1：aに1を入れなさい\n",
    "* a==1：aと1が等しいかどうかをチェック\n",
    "    * 結果はtrueかfalseのどちらか"
   ]
  },
  {
   "cell_type": "code",
   "execution_count": 37,
   "id": "b2d3130a-37fc-4878-9d1c-b52b3bf428be",
   "metadata": {},
   "outputs": [
    {
     "data": {
      "text/plain": [
       "1"
      ]
     },
     "execution_count": 37,
     "metadata": {},
     "output_type": "execute_result"
    }
   ],
   "source": [
    "a=1"
   ]
  },
  {
   "cell_type": "code",
   "execution_count": 38,
   "id": "d2c9aa7a-faa6-48c9-8130-a3cf9637a7f9",
   "metadata": {},
   "outputs": [
    {
     "data": {
      "text/plain": [
       "true"
      ]
     },
     "execution_count": 38,
     "metadata": {},
     "output_type": "execute_result"
    }
   ],
   "source": [
    "a==1"
   ]
  },
  {
   "cell_type": "markdown",
   "id": "a51f7b4d-7674-4f78-84cc-134c034db162",
   "metadata": {},
   "source": [
    "---"
   ]
  },
  {
   "cell_type": "markdown",
   "id": "b06b879c-d562-4f34-b1c8-06f24405b7fb",
   "metadata": {},
   "source": [
    "#### 自作の関数がきちんと動くかを確認してみよう\n",
    "* 自分の関数に注をつけたのでhelp機能で確認をすることが出来るようになる\n",
    "* 注意：事前に関数を実行をする必要あり"
   ]
  },
  {
   "cell_type": "code",
   "execution_count": 39,
   "id": "cbe15c2a",
   "metadata": {},
   "outputs": [
    {
     "data": {
      "text/plain": [
       "-0.3333333333333333"
      ]
     },
     "execution_count": 39,
     "metadata": {},
     "output_type": "execute_result"
    }
   ],
   "source": [
    "cons = 3.0\n",
    "γ = 2.0\n",
    "# 関数を実行：引数を入れると計算結果が出力される\n",
    "CRRA(cons, γ)"
   ]
  },
  {
   "cell_type": "code",
   "execution_count": 40,
   "id": "010b82d5-535b-4f0e-b68a-dbedb41c7f97",
   "metadata": {},
   "outputs": [
    {
     "name": "stdout",
     "output_type": "stream",
     "text": [
      "search: \u001b[0m\u001b[1mC\u001b[22m\u001b[0m\u001b[1mR\u001b[22m\u001b[0m\u001b[1mR\u001b[22m\u001b[0m\u001b[1mA\u001b[22m Abstra\u001b[0m\u001b[1mc\u001b[22mtA\u001b[0m\u001b[1mr\u001b[22m\u001b[0m\u001b[1mr\u001b[22m\u001b[0m\u001b[1ma\u001b[22my Abstra\u001b[0m\u001b[1mc\u001b[22mtI\u001b[0m\u001b[1mr\u001b[22m\u001b[0m\u001b[1mr\u001b[22m\u001b[0m\u001b[1ma\u001b[22mtional \u001b[0m\u001b[1mc\u001b[22mu\u001b[0m\u001b[1mr\u001b[22m\u001b[0m\u001b[1mr\u001b[22ment_t\u001b[0m\u001b[1ma\u001b[22msk\n",
      "\n"
     ]
    },
    {
     "data": {
      "text/latex": [
       "\"機能の説明を書くスペース\" 効用関数を計算(この関数はどう使うのか。目的や使いみちを書いておく。)\n",
       "\n",
       "\\subsubsection{インプット(書かなくても機能上は問題ないけど、ヘルプにインプットとアウトプットの情報が書いてあったほうが便利)}\n",
       "\\texttt{cons::Real} 消費, \\texttt{γ::Real} 相対的リスク回避度\n",
       "\n",
       "\\subsubsection{アウトプット(同上)}\n",
       "効用\n",
       "\n"
      ],
      "text/markdown": [
       "\"機能の説明を書くスペース\" 効用関数を計算(この関数はどう使うのか。目的や使いみちを書いておく。)\n",
       "\n",
       "### インプット(書かなくても機能上は問題ないけど、ヘルプにインプットとアウトプットの情報が書いてあったほうが便利)\n",
       "\n",
       "`cons::Real` 消費, `γ::Real` 相対的リスク回避度\n",
       "\n",
       "### アウトプット(同上)\n",
       "\n",
       "効用\n"
      ],
      "text/plain": [
       "  \"機能の説明を書くスペース\" 効用関数を計算(この関数はどう使うのか。目的や使いみちを書いておく。)\n",
       "\n",
       "\u001b[1m  インプット(書かなくても機能上は問題ないけど、ヘルプにインプットとアウトプットの情報が書いてあったほうが便利)\u001b[22m\n",
       "\u001b[1m  –––––––––––––––––––––––––––––––––––––––––––––––––––––––––\u001b[22m\n",
       "\n",
       "  \u001b[36mcons::Real\u001b[39m 消費, \u001b[36mγ::Real\u001b[39m 相対的リスク回避度\n",
       "\n",
       "\u001b[1m  アウトプット(同上)\u001b[22m\n",
       "\u001b[1m  ––––––––––––\u001b[22m\n",
       "\n",
       "  効用"
      ]
     },
     "execution_count": 40,
     "metadata": {},
     "output_type": "execute_result"
    }
   ],
   "source": [
    "? CRRA"
   ]
  },
  {
   "cell_type": "code",
   "execution_count": 41,
   "id": "1e6b8eeb",
   "metadata": {},
   "outputs": [
    {
     "data": {
      "text/plain": [
       "-0.3333333333333333"
      ]
     },
     "execution_count": 41,
     "metadata": {},
     "output_type": "execute_result"
    }
   ],
   "source": [
    "# 関数にまとめると何回も数式を書かなくてもよくなる\n",
    "util1 = CRRA(1.0, 2.0)\n",
    "util2 = CRRA(2.0, 2.0)\n",
    "util3 = CRRA(3.0, 2.0)"
   ]
  },
  {
   "cell_type": "markdown",
   "id": "70f4ca29",
   "metadata": {},
   "source": [
    "---"
   ]
  },
  {
   "cell_type": "markdown",
   "id": "4c88854a",
   "metadata": {},
   "source": [
    "## 横道：引き続き、Cobb-Douglas型生産関数を作成\n",
    "$$\n",
    "Y = Z K^{\\alpha} L^{1-\\alpha}\n",
    "$$"
   ]
  },
  {
   "cell_type": "code",
   "execution_count": 42,
   "id": "796261f5",
   "metadata": {},
   "outputs": [
    {
     "data": {
      "text/plain": [
       "1.5796586452010848"
      ]
     },
     "execution_count": 42,
     "metadata": {},
     "output_type": "execute_result"
    }
   ],
   "source": [
    "# やはり毎回書くのは面倒\n",
    "\n",
    "# パラメータを設定\n",
    "Z = 1.0\n",
    "capital = 3.0\n",
    "labor = 1.2\n",
    "α = 0.3\n",
    "\n",
    "# Cobb-Douglas型生産関数を計算\n",
    "Y = Z * capital^α * labor^(1-α)"
   ]
  },
  {
   "cell_type": "code",
   "execution_count": 43,
   "id": "ad576778",
   "metadata": {},
   "outputs": [
    {
     "data": {
      "text/plain": [
       "CobbDouglas"
      ]
     },
     "execution_count": 43,
     "metadata": {},
     "output_type": "execute_result"
    }
   ],
   "source": [
    "\"\"\"\n",
    "Purpose:\n",
    "Cobb-Douglas type production function.\n",
    "\n",
    "### Input\n",
    "capital: aggregate capital,\n",
    "labor: aggregate labor\n",
    "α: capital share,\n",
    "tfp: total factor productivity (optional).\n",
    "\n",
    "### Output\n",
    "y: GDP\n",
    "\"\"\"\n",
    "function CobbDouglas(capital, labor, α, tfp = 1.0)\n",
    "    y = tfp * capital^α * labor^(1- α)\n",
    "    return y # なくてもOK\n",
    "end"
   ]
  },
  {
   "cell_type": "code",
   "execution_count": 44,
   "id": "27cb6c2c",
   "metadata": {},
   "outputs": [
    {
     "name": "stdout",
     "output_type": "stream",
     "text": [
      "search: \u001b[0m\u001b[1mC\u001b[22m\u001b[0m\u001b[1mo\u001b[22m\u001b[0m\u001b[1mb\u001b[22m\u001b[0m\u001b[1mb\u001b[22m\u001b[0m\u001b[1mD\u001b[22m\u001b[0m\u001b[1mo\u001b[22m\u001b[0m\u001b[1mu\u001b[22m\u001b[0m\u001b[1mg\u001b[22m\u001b[0m\u001b[1ml\u001b[22m\u001b[0m\u001b[1ma\u001b[22m\u001b[0m\u001b[1ms\u001b[22m\n",
      "\n"
     ]
    },
    {
     "data": {
      "text/latex": [
       "Purpose: Cobb-Douglas type production function.\n",
       "\n",
       "\\subsubsection{Input}\n",
       "capital: aggregate capital, labor: aggregate labor α: capital share, tfp: total factor productivity (optional).\n",
       "\n",
       "\\subsubsection{Output}\n",
       "y: GDP\n",
       "\n"
      ],
      "text/markdown": [
       "Purpose: Cobb-Douglas type production function.\n",
       "\n",
       "### Input\n",
       "\n",
       "capital: aggregate capital, labor: aggregate labor α: capital share, tfp: total factor productivity (optional).\n",
       "\n",
       "### Output\n",
       "\n",
       "y: GDP\n"
      ],
      "text/plain": [
       "  Purpose: Cobb-Douglas type production function.\n",
       "\n",
       "\u001b[1m  Input\u001b[22m\n",
       "\u001b[1m  –––––––\u001b[22m\n",
       "\n",
       "  capital: aggregate capital, labor: aggregate labor α: capital share, tfp:\n",
       "  total factor productivity (optional).\n",
       "\n",
       "\u001b[1m  Output\u001b[22m\n",
       "\u001b[1m  ––––––––\u001b[22m\n",
       "\n",
       "  y: GDP"
      ]
     },
     "execution_count": 44,
     "metadata": {},
     "output_type": "execute_result"
    }
   ],
   "source": [
    "? CobbDouglas"
   ]
  },
  {
   "cell_type": "code",
   "execution_count": 45,
   "id": "589e7f98",
   "metadata": {},
   "outputs": [
    {
     "data": {
      "text/plain": [
       "1.5796586452010848"
      ]
     },
     "execution_count": 45,
     "metadata": {},
     "output_type": "execute_result"
    }
   ],
   "source": [
    "Z = 1.0; # TFPを1に基準化\n",
    "capital = 3.0;\n",
    "labor = 1.2;\n",
    "α = 0.3; # 資本分配率\n",
    "y = CobbDouglas(capital, labor, α, Z)"
   ]
  },
  {
   "cell_type": "code",
   "execution_count": 46,
   "id": "1aa09d76",
   "metadata": {},
   "outputs": [
    {
     "data": {
      "text/plain": [
       "1.5796586452010848"
      ]
     },
     "execution_count": 46,
     "metadata": {},
     "output_type": "execute_result"
    }
   ],
   "source": [
    "# Zを省略した場合、デフォルトの値が入る(ように⬆で書いた)\n",
    "y = CobbDouglas(capital, labor, α)"
   ]
  },
  {
   "cell_type": "markdown",
   "id": "3dfcd7db-1696-4cdd-a8ea-4c884b1c61f4",
   "metadata": {},
   "source": [
    "---"
   ]
  },
  {
   "cell_type": "markdown",
   "id": "20b9777b-116f-49ea-9cff-871d24151506",
   "metadata": {},
   "source": [
    "## Tips（重要）：関数を高速化するためには変数の型を予め宣言しておくと良い\n",
    "* ⬆の書き方だとcapitalに2(Int)を入れても2.0(Float)でも問題ない\n",
    "    * でもJuliaの内部でひと手間かかっている\n",
    "* ⬇の書き方場合、capitalやlaborにはFloat64しか入れられない\n",
    "    * 別の型を引数にしようとするとエラー\n",
    "    * Juliaの負担が少し減る\n",
    "* 今回みたいな簡単な計算では差は実感できないけど、もっと長い計算の場合には差が出てくる場合がある"
   ]
  },
  {
   "cell_type": "code",
   "execution_count": 47,
   "id": "f5803d6c-6a30-4454-9d4e-e45f89aedcad",
   "metadata": {},
   "outputs": [
    {
     "data": {
      "text/plain": [
       "CobbDouglas2 (generic function with 2 methods)"
      ]
     },
     "execution_count": 47,
     "metadata": {},
     "output_type": "execute_result"
    }
   ],
   "source": [
    "function CobbDouglas2(capital::Float64, labor::Float64, α::Float64, tfp::Float64=1.0)\n",
    "    y = tfp * capital^α * labor^(1- α)\n",
    "    return y\n",
    "end"
   ]
  },
  {
   "cell_type": "code",
   "execution_count": 48,
   "id": "c878281d-1771-4eff-9c20-ffd32173d96e",
   "metadata": {},
   "outputs": [
    {
     "data": {
      "text/plain": [
       "1.5796586452010848"
      ]
     },
     "execution_count": 48,
     "metadata": {},
     "output_type": "execute_result"
    }
   ],
   "source": [
    "y = CobbDouglas2(capital, labor, α)"
   ]
  },
  {
   "cell_type": "code",
   "execution_count": 49,
   "id": "d91420f3-7450-4224-af12-0e4ae05d2e52",
   "metadata": {},
   "outputs": [
    {
     "ename": "LoadError",
     "evalue": "MethodError: no method matching CobbDouglas2(::Int64, ::Float64, ::Float64)\n\u001b[0mClosest candidates are:\n\u001b[0m  CobbDouglas2(\u001b[91m::Float64\u001b[39m, ::Float64, ::Float64) at In[47]:1\n\u001b[0m  CobbDouglas2(\u001b[91m::Float64\u001b[39m, ::Float64, ::Float64, \u001b[91m::Float64\u001b[39m) at In[47]:1",
     "output_type": "error",
     "traceback": [
      "MethodError: no method matching CobbDouglas2(::Int64, ::Float64, ::Float64)\n\u001b[0mClosest candidates are:\n\u001b[0m  CobbDouglas2(\u001b[91m::Float64\u001b[39m, ::Float64, ::Float64) at In[47]:1\n\u001b[0m  CobbDouglas2(\u001b[91m::Float64\u001b[39m, ::Float64, ::Float64, \u001b[91m::Float64\u001b[39m) at In[47]:1",
      "",
      "Stacktrace:",
      " [1] top-level scope",
      "   @ In[49]:2",
      " [2] eval",
      "   @ ./boot.jl:373 [inlined]",
      " [3] include_string(mapexpr::typeof(REPL.softscope), mod::Module, code::String, filename::String)",
      "   @ Base ./loading.jl:1196"
     ]
    }
   ],
   "source": [
    "capital_int = 2 # 整数なのでエラーが出る\n",
    "y = CobbDouglas2(capital_int, labor, α)"
   ]
  },
  {
   "cell_type": "markdown",
   "id": "d1f16f35",
   "metadata": {},
   "source": [
    "---"
   ]
  },
  {
   "cell_type": "markdown",
   "id": "18db408f",
   "metadata": {},
   "source": [
    "## 関数化した強み：まとめて計算してみる\n",
    "* 資本と労働それぞれ51種類、総計で2601種類の組み合わせで生産量を計算"
   ]
  },
  {
   "cell_type": "code",
   "execution_count": 50,
   "id": "2a17d5f0",
   "metadata": {},
   "outputs": [],
   "source": [
    "# StepRangeLenという機能を使う\n",
    "k = 0:0.1:5; # 0から5までを0.1刻みにしたベクトル\n",
    "l = 0:0.1:5;"
   ]
  },
  {
   "cell_type": "code",
   "execution_count": 51,
   "id": "2494d5a2",
   "metadata": {},
   "outputs": [],
   "source": [
    "nk = length(k); # ｋの要素数\n",
    "nl = length(l); # lの要素数"
   ]
  },
  {
   "cell_type": "code",
   "execution_count": 52,
   "id": "67c2b149",
   "metadata": {},
   "outputs": [],
   "source": [
    "# 空っぽの変数(=器の役割)を定義\n",
    "# 未定義の変数のサイズをループで大きくしていくと計算速度が大幅に低下するので事前に準備\n",
    "y = zeros(nk, nl)\n",
    "\n",
    "# 色々な資本と労働の組み合わせで産出量を計算してみる\n",
    "for i = 1:nk\n",
    "    for j = 1:nl\n",
    "        y[i, j] = CobbDouglas(k[i], l[j], α, Z)\n",
    "    end\n",
    "end"
   ]
  },
  {
   "cell_type": "markdown",
   "id": "ca8e71e5",
   "metadata": {},
   "source": [
    "---"
   ]
  },
  {
   "cell_type": "markdown",
   "id": "93dd5bb0",
   "metadata": {},
   "source": [
    "## Tips：構造体(struct)を使ってモデルのパラメータをひとまとめにする\n",
    "* **必須ではない**けど知っておくと便利\n",
    "* ⬇みたいにバラバラに変数の設定をすると、どんどん変数が増えていく\n",
    "    * 巨大なモデルを計算する際、関数の引数が大量になるとコードが読みにくくなる\n",
    "    * かといって**グローバル変数（global variable）**は極力使いたくない"
   ]
  },
  {
   "cell_type": "code",
   "execution_count": 53,
   "id": "d5f2081d-2b1e-49f4-af5b-cde0845cd93f",
   "metadata": {},
   "outputs": [],
   "source": [
    "β = 0.985^30\n",
    "γ = 2.0\n",
    "rent = 1.025^30 - 1.0\n",
    "nw = 10\n",
    "w_max = 1.0\n",
    "w_min = 0.1\n",
    "na = 40\n",
    "a_max = 1.0\n",
    "a_min = 0.025\n",
    "\n",
    "grid_w = collect(LinRange(w_min, w_max, nw))\n",
    "grid_a = collect(LinRange(a_min, a_max, na));"
   ]
  },
  {
   "cell_type": "markdown",
   "id": "3f31015d-0f7e-4a0d-a0fc-f918102983d6",
   "metadata": {},
   "source": [
    "#### そこで色々な変数をまとめた一つの大きな変数を作る\n",
    "* 関数を呼び出した際のやりとりはその変数一つで済む\n",
    "* **構造体（struct）**というものを作る"
   ]
  },
  {
   "cell_type": "code",
   "execution_count": 54,
   "id": "91775509",
   "metadata": {},
   "outputs": [],
   "source": [
    "struct Models\n",
    "    # パラメータ\n",
    "    β::Float64 #割引因子\n",
    "    γ::Float64 #相対的危険回避度\n",
    "    \n",
    "    # 要素価格\n",
    "    rent::Float64 #純利子率\n",
    "    \n",
    "    # グリッド\n",
    "    nw::Int64 #所得グリッドの要素数：グリッドサイズ\n",
    "    w_max::Float64 #所得グリッドの最大値\n",
    "    w_min::Float64 #所得グリッドの最小値\n",
    "    grid_w::Vector{Float64} #所得グリッド\n",
    "    na::Int64　#貯蓄グリッドの要素数：グリッドサイズ\n",
    "    a_max::Float64　#貯蓄グリッドの最大値\n",
    "    a_min::Float64　#貯蓄グリッドの最小値\n",
    "    grid_a::Vector{Float64}　#貯蓄グリッド\n",
    "end"
   ]
  },
  {
   "cell_type": "code",
   "execution_count": 55,
   "id": "0d3ceeaa-fa60-4e90-972d-6d4025acc05b",
   "metadata": {},
   "outputs": [
    {
     "data": {
      "text/plain": [
       "Models(0.6354580927313491, 2.0, 1.0975675790817858, 10, 1.0, 0.1, [0.1, 0.2, 0.3, 0.4, 0.5, 0.6, 0.7, 0.8, 0.8999999999999999, 1.0], 40, 1.0, 0.025, [0.025, 0.05, 0.075, 0.1, 0.125, 0.15, 0.17500000000000002, 0.2, 0.225, 0.25  …  0.775, 0.7999999999999999, 0.825, 0.85, 0.875, 0.9, 0.925, 0.95, 0.975, 1.0])"
      ]
     },
     "execution_count": 55,
     "metadata": {},
     "output_type": "execute_result"
    }
   ],
   "source": [
    "# structの使い方\n",
    "Models(β, γ, rent, nw, w_max, w_min, grid_w, na, a_max, a_min, grid_a)"
   ]
  },
  {
   "cell_type": "markdown",
   "id": "4894b72c",
   "metadata": {},
   "source": [
    "### 構造体を呼び出す関数を作る"
   ]
  },
  {
   "cell_type": "code",
   "execution_count": 56,
   "id": "eeef174d-56cd-41e5-9720-76d8e7d0a4c2",
   "metadata": {},
   "outputs": [
    {
     "data": {
      "text/plain": [
       "Calibration (generic function with 1 method)"
      ]
     },
     "execution_count": 56,
     "metadata": {},
     "output_type": "execute_result"
    }
   ],
   "source": [
    "function Calibration()\n",
    "    # パラメータはここで設定をする\n",
    "    β = 0.985^30\n",
    "    γ = 2.0\n",
    "    rent = 1.025^30 - 1.0\n",
    "    nw = 10\n",
    "    w_max = 1.0\n",
    "    w_min = 0.1\n",
    "    na = 40\n",
    "    a_max = 1.0\n",
    "    a_min = 0.025\n",
    "\n",
    "    grid_w = collect(LinRange(w_min, w_max, nw))\n",
    "    grid_a = collect(LinRange(a_min, a_max, na))\n",
    "\n",
    "    return Models(β, γ, rent, nw, w_max, w_min, grid_w, na, a_max, a_min, grid_a)\n",
    "end"
   ]
  },
  {
   "cell_type": "code",
   "execution_count": 57,
   "id": "2901f9f2",
   "metadata": {},
   "outputs": [
    {
     "data": {
      "text/plain": [
       "Models(0.6354580927313491, 2.0, 1.0975675790817858, 10, 1.0, 0.1, [0.1, 0.2, 0.3, 0.4, 0.5, 0.6, 0.7, 0.8, 0.8999999999999999, 1.0], 40, 1.0, 0.025, [0.025, 0.05, 0.075, 0.1, 0.125, 0.15, 0.17500000000000002, 0.2, 0.225, 0.25  …  0.775, 0.7999999999999999, 0.825, 0.85, 0.875, 0.9, 0.925, 0.95, 0.975, 1.0])"
      ]
     },
     "execution_count": 57,
     "metadata": {},
     "output_type": "execute_result"
    }
   ],
   "source": [
    "# paramsという変数に色々な変数をひとまとめにする\n",
    "params = Calibration()"
   ]
  },
  {
   "cell_type": "markdown",
   "id": "f0658940-25d8-4e0b-b739-1914948c5682",
   "metadata": {},
   "source": [
    "#### 構造体の使い方は簡単"
   ]
  },
  {
   "cell_type": "code",
   "execution_count": 58,
   "id": "1b706df2",
   "metadata": {},
   "outputs": [
    {
     "data": {
      "text/plain": [
       "0.6354580927313491"
      ]
     },
     "execution_count": 58,
     "metadata": {},
     "output_type": "execute_result"
    }
   ],
   "source": [
    "# 欲しい変数だけ取り出す方法\n",
    "params.β"
   ]
  },
  {
   "cell_type": "code",
   "execution_count": 59,
   "id": "e886d074",
   "metadata": {},
   "outputs": [
    {
     "data": {
      "text/plain": [
       "1.0975675790817858"
      ]
     },
     "execution_count": 59,
     "metadata": {},
     "output_type": "execute_result"
    }
   ],
   "source": [
    "params.rent"
   ]
  },
  {
   "cell_type": "markdown",
   "id": "9c0d5c57-c80b-4fd5-b84b-a1e830f00a3d",
   "metadata": {},
   "source": [
    "---"
   ]
  },
  {
   "cell_type": "markdown",
   "id": "44c426d5-362a-420f-9973-7b6ebb43bca7",
   "metadata": {},
   "source": [
    "## 2.3.3 状態変数と操作変数が共に離散の場合\n",
    "* 話をもどして、ようやく数値計算の本筋に入っていこう！"
   ]
  },
  {
   "cell_type": "markdown",
   "id": "b4b451fd",
   "metadata": {},
   "source": [
    "2期目の消費は\n",
    "$$\n",
    "    c_{2} = (1+r)a\n",
    "$$\n",
    "なので、aのグリッドに対応した効用を確認してみよう\n",
    "$$\n",
    "    u(c_{2}) = \\frac{[(1+r)a_{j}]^{1-\\gamma}}{1-\\gamma}\n",
    "$$"
   ]
  },
  {
   "cell_type": "code",
   "execution_count": 60,
   "id": "31c3de66",
   "metadata": {},
   "outputs": [],
   "source": [
    "# 2期の効用関数として取りうる値\n",
    "util2 = CRRA.((1.0 + params.rent)*params.grid_a, params.γ);"
   ]
  },
  {
   "cell_type": "markdown",
   "id": "5b744cdf-88b5-461e-ba76-37c21b98bb75",
   "metadata": {},
   "source": [
    "#### Tips：上の書き方では関数のブロードキャストという方法を使っている\n",
    "* 関数`CRRA(c, \\gamma)`の変数cと\\gammaはスカラーである必要がある\n",
    "    * CRRAの後の`.`消すとエラーが出る\n",
    "* `CRRA.(cのベクトル, \\gamma)`のように`.`をつけると、スカラーではなく、ベクトルのそれぞれの値に対応したCRRA関数を計算をする\n",
    "    * `model.grid_a`はスカラーではなく⬆で定義したベクトルである点に注意\n",
    "    * ループ計算(後述)でも計算出来るけど、こちらのほうが簡潔にコードを書くことが出来る"
   ]
  },
  {
   "cell_type": "markdown",
   "id": "91d656eb-cf39-46c2-8ba2-53d6e6fbf455",
   "metadata": {},
   "source": [
    "### 試しに効用関数をプロットしてみよう"
   ]
  },
  {
   "cell_type": "code",
   "execution_count": 61,
   "id": "0fce43f2",
   "metadata": {},
   "outputs": [],
   "source": [
    "using Plots # 初回は遅いのでしばらく待つ必要あり\n",
    "#pyplot()"
   ]
  },
  {
   "cell_type": "code",
   "execution_count": 62,
   "id": "94dbaecd-ea16-4958-8a59-9200923b1b1b",
   "metadata": {},
   "outputs": [
    {
     "data": {
      "image/svg+xml": [
       "<?xml version=\"1.0\" encoding=\"utf-8\"?>\n",
       "<svg xmlns=\"http://www.w3.org/2000/svg\" xmlns:xlink=\"http://www.w3.org/1999/xlink\" width=\"600\" height=\"400\" viewBox=\"0 0 2400 1600\">\n",
       "<defs>\n",
       "  <clipPath id=\"clip440\">\n",
       "    <rect x=\"0\" y=\"0\" width=\"2400\" height=\"1600\"/>\n",
       "  </clipPath>\n",
       "</defs>\n",
       "<path clip-path=\"url(#clip440)\" d=\"\n",
       "M0 1600 L2400 1600 L2400 0 L0 0  Z\n",
       "  \" fill=\"#ffffff\" fill-rule=\"evenodd\" fill-opacity=\"1\"/>\n",
       "<defs>\n",
       "  <clipPath id=\"clip441\">\n",
       "    <rect x=\"480\" y=\"0\" width=\"1681\" height=\"1600\"/>\n",
       "  </clipPath>\n",
       "</defs>\n",
       "<path clip-path=\"url(#clip440)\" d=\"\n",
       "M233.327 1421.43 L2352.76 1421.43 L2352.76 47.2441 L233.327 47.2441  Z\n",
       "  \" fill=\"#ffffff\" fill-rule=\"evenodd\" fill-opacity=\"1\"/>\n",
       "<defs>\n",
       "  <clipPath id=\"clip442\">\n",
       "    <rect x=\"233\" y=\"47\" width=\"2120\" height=\"1375\"/>\n",
       "  </clipPath>\n",
       "</defs>\n",
       "<polyline clip-path=\"url(#clip442)\" style=\"stroke:#000000; stroke-linecap:butt; stroke-linejoin:round; stroke-width:2; stroke-opacity:0.1; fill:none\" points=\"\n",
       "  233.327,1421.43 233.327,47.2441 \n",
       "  \"/>\n",
       "<polyline clip-path=\"url(#clip442)\" style=\"stroke:#000000; stroke-linecap:butt; stroke-linejoin:round; stroke-width:2; stroke-opacity:0.1; fill:none\" points=\"\n",
       "  657.213,1421.43 657.213,47.2441 \n",
       "  \"/>\n",
       "<polyline clip-path=\"url(#clip442)\" style=\"stroke:#000000; stroke-linecap:butt; stroke-linejoin:round; stroke-width:2; stroke-opacity:0.1; fill:none\" points=\"\n",
       "  1081.1,1421.43 1081.1,47.2441 \n",
       "  \"/>\n",
       "<polyline clip-path=\"url(#clip442)\" style=\"stroke:#000000; stroke-linecap:butt; stroke-linejoin:round; stroke-width:2; stroke-opacity:0.1; fill:none\" points=\"\n",
       "  1504.98,1421.43 1504.98,47.2441 \n",
       "  \"/>\n",
       "<polyline clip-path=\"url(#clip442)\" style=\"stroke:#000000; stroke-linecap:butt; stroke-linejoin:round; stroke-width:2; stroke-opacity:0.1; fill:none\" points=\"\n",
       "  1928.87,1421.43 1928.87,47.2441 \n",
       "  \"/>\n",
       "<polyline clip-path=\"url(#clip442)\" style=\"stroke:#000000; stroke-linecap:butt; stroke-linejoin:round; stroke-width:2; stroke-opacity:0.1; fill:none\" points=\"\n",
       "  2352.76,1421.43 2352.76,47.2441 \n",
       "  \"/>\n",
       "<polyline clip-path=\"url(#clip440)\" style=\"stroke:#000000; stroke-linecap:butt; stroke-linejoin:round; stroke-width:4; stroke-opacity:1; fill:none\" points=\"\n",
       "  233.327,1421.43 2352.76,1421.43 \n",
       "  \"/>\n",
       "<polyline clip-path=\"url(#clip440)\" style=\"stroke:#000000; stroke-linecap:butt; stroke-linejoin:round; stroke-width:2; stroke-opacity:0.5; fill:none\" points=\"\n",
       "  233.327,47.2441 2352.76,47.2441 \n",
       "  \"/>\n",
       "<polyline clip-path=\"url(#clip440)\" style=\"stroke:#000000; stroke-linecap:butt; stroke-linejoin:round; stroke-width:4; stroke-opacity:1; fill:none\" points=\"\n",
       "  233.327,1421.43 233.327,1402.53 \n",
       "  \"/>\n",
       "<polyline clip-path=\"url(#clip440)\" style=\"stroke:#000000; stroke-linecap:butt; stroke-linejoin:round; stroke-width:4; stroke-opacity:1; fill:none\" points=\"\n",
       "  657.213,1421.43 657.213,1402.53 \n",
       "  \"/>\n",
       "<polyline clip-path=\"url(#clip440)\" style=\"stroke:#000000; stroke-linecap:butt; stroke-linejoin:round; stroke-width:4; stroke-opacity:1; fill:none\" points=\"\n",
       "  1081.1,1421.43 1081.1,1402.53 \n",
       "  \"/>\n",
       "<polyline clip-path=\"url(#clip440)\" style=\"stroke:#000000; stroke-linecap:butt; stroke-linejoin:round; stroke-width:4; stroke-opacity:1; fill:none\" points=\"\n",
       "  1504.98,1421.43 1504.98,1402.53 \n",
       "  \"/>\n",
       "<polyline clip-path=\"url(#clip440)\" style=\"stroke:#000000; stroke-linecap:butt; stroke-linejoin:round; stroke-width:4; stroke-opacity:1; fill:none\" points=\"\n",
       "  1928.87,1421.43 1928.87,1402.53 \n",
       "  \"/>\n",
       "<polyline clip-path=\"url(#clip440)\" style=\"stroke:#000000; stroke-linecap:butt; stroke-linejoin:round; stroke-width:4; stroke-opacity:1; fill:none\" points=\"\n",
       "  2352.76,1421.43 2352.76,1402.53 \n",
       "  \"/>\n",
       "<g clip-path=\"url(#clip440)\">\n",
       "<text style=\"fill:#000000; fill-opacity:1; font-family:Arial,Helvetica Neue,Helvetica,sans-serif; font-size:48px; text-anchor:middle;\" transform=\"rotate(0, 233.327, 1483.28)\" x=\"233.327\" y=\"1483.28\">0.0</text>\n",
       "</g>\n",
       "<g clip-path=\"url(#clip440)\">\n",
       "<text style=\"fill:#000000; fill-opacity:1; font-family:Arial,Helvetica Neue,Helvetica,sans-serif; font-size:48px; text-anchor:middle;\" transform=\"rotate(0, 657.213, 1483.28)\" x=\"657.213\" y=\"1483.28\">0.2</text>\n",
       "</g>\n",
       "<g clip-path=\"url(#clip440)\">\n",
       "<text style=\"fill:#000000; fill-opacity:1; font-family:Arial,Helvetica Neue,Helvetica,sans-serif; font-size:48px; text-anchor:middle;\" transform=\"rotate(0, 1081.1, 1483.28)\" x=\"1081.1\" y=\"1483.28\">0.4</text>\n",
       "</g>\n",
       "<g clip-path=\"url(#clip440)\">\n",
       "<text style=\"fill:#000000; fill-opacity:1; font-family:Arial,Helvetica Neue,Helvetica,sans-serif; font-size:48px; text-anchor:middle;\" transform=\"rotate(0, 1504.98, 1483.28)\" x=\"1504.98\" y=\"1483.28\">0.6</text>\n",
       "</g>\n",
       "<g clip-path=\"url(#clip440)\">\n",
       "<text style=\"fill:#000000; fill-opacity:1; font-family:Arial,Helvetica Neue,Helvetica,sans-serif; font-size:48px; text-anchor:middle;\" transform=\"rotate(0, 1928.87, 1483.28)\" x=\"1928.87\" y=\"1483.28\">0.8</text>\n",
       "</g>\n",
       "<g clip-path=\"url(#clip440)\">\n",
       "<text style=\"fill:#000000; fill-opacity:1; font-family:Arial,Helvetica Neue,Helvetica,sans-serif; font-size:48px; text-anchor:middle;\" transform=\"rotate(0, 2352.76, 1483.28)\" x=\"2352.76\" y=\"1483.28\">1.0</text>\n",
       "</g>\n",
       "<g clip-path=\"url(#clip440)\">\n",
       "<text style=\"fill:#000000; fill-opacity:1; font-family:Arial,Helvetica Neue,Helvetica,sans-serif; font-size:71px; text-anchor:middle;\" transform=\"rotate(0, 1293.04, 1572.78)\" x=\"1293.04\" y=\"1572.78\">老年期の資産</text>\n",
       "</g>\n",
       "<polyline clip-path=\"url(#clip442)\" style=\"stroke:#000000; stroke-linecap:butt; stroke-linejoin:round; stroke-width:2; stroke-opacity:0.1; fill:none\" points=\"\n",
       "  233.327,1421.43 2352.76,1421.43 \n",
       "  \"/>\n",
       "<polyline clip-path=\"url(#clip442)\" style=\"stroke:#000000; stroke-linecap:butt; stroke-linejoin:round; stroke-width:2; stroke-opacity:0.1; fill:none\" points=\"\n",
       "  233.327,1225.12 2352.76,1225.12 \n",
       "  \"/>\n",
       "<polyline clip-path=\"url(#clip442)\" style=\"stroke:#000000; stroke-linecap:butt; stroke-linejoin:round; stroke-width:2; stroke-opacity:0.1; fill:none\" points=\"\n",
       "  233.327,1028.8 2352.76,1028.8 \n",
       "  \"/>\n",
       "<polyline clip-path=\"url(#clip442)\" style=\"stroke:#000000; stroke-linecap:butt; stroke-linejoin:round; stroke-width:2; stroke-opacity:0.1; fill:none\" points=\"\n",
       "  233.327,832.491 2352.76,832.491 \n",
       "  \"/>\n",
       "<polyline clip-path=\"url(#clip442)\" style=\"stroke:#000000; stroke-linecap:butt; stroke-linejoin:round; stroke-width:2; stroke-opacity:0.1; fill:none\" points=\"\n",
       "  233.327,636.18 2352.76,636.18 \n",
       "  \"/>\n",
       "<polyline clip-path=\"url(#clip442)\" style=\"stroke:#000000; stroke-linecap:butt; stroke-linejoin:round; stroke-width:2; stroke-opacity:0.1; fill:none\" points=\"\n",
       "  233.327,439.868 2352.76,439.868 \n",
       "  \"/>\n",
       "<polyline clip-path=\"url(#clip442)\" style=\"stroke:#000000; stroke-linecap:butt; stroke-linejoin:round; stroke-width:2; stroke-opacity:0.1; fill:none\" points=\"\n",
       "  233.327,243.556 2352.76,243.556 \n",
       "  \"/>\n",
       "<polyline clip-path=\"url(#clip442)\" style=\"stroke:#000000; stroke-linecap:butt; stroke-linejoin:round; stroke-width:2; stroke-opacity:0.1; fill:none\" points=\"\n",
       "  233.327,47.2441 2352.76,47.2441 \n",
       "  \"/>\n",
       "<polyline clip-path=\"url(#clip440)\" style=\"stroke:#000000; stroke-linecap:butt; stroke-linejoin:round; stroke-width:4; stroke-opacity:1; fill:none\" points=\"\n",
       "  233.327,1421.43 233.327,47.2441 \n",
       "  \"/>\n",
       "<polyline clip-path=\"url(#clip440)\" style=\"stroke:#000000; stroke-linecap:butt; stroke-linejoin:round; stroke-width:2; stroke-opacity:0.5; fill:none\" points=\"\n",
       "  2352.76,1421.43 2352.76,47.2441 \n",
       "  \"/>\n",
       "<polyline clip-path=\"url(#clip440)\" style=\"stroke:#000000; stroke-linecap:butt; stroke-linejoin:round; stroke-width:4; stroke-opacity:1; fill:none\" points=\"\n",
       "  233.327,1421.43 252.225,1421.43 \n",
       "  \"/>\n",
       "<polyline clip-path=\"url(#clip440)\" style=\"stroke:#000000; stroke-linecap:butt; stroke-linejoin:round; stroke-width:4; stroke-opacity:1; fill:none\" points=\"\n",
       "  233.327,1225.12 252.225,1225.12 \n",
       "  \"/>\n",
       "<polyline clip-path=\"url(#clip440)\" style=\"stroke:#000000; stroke-linecap:butt; stroke-linejoin:round; stroke-width:4; stroke-opacity:1; fill:none\" points=\"\n",
       "  233.327,1028.8 252.225,1028.8 \n",
       "  \"/>\n",
       "<polyline clip-path=\"url(#clip440)\" style=\"stroke:#000000; stroke-linecap:butt; stroke-linejoin:round; stroke-width:4; stroke-opacity:1; fill:none\" points=\"\n",
       "  233.327,832.491 252.225,832.491 \n",
       "  \"/>\n",
       "<polyline clip-path=\"url(#clip440)\" style=\"stroke:#000000; stroke-linecap:butt; stroke-linejoin:round; stroke-width:4; stroke-opacity:1; fill:none\" points=\"\n",
       "  233.327,636.18 252.225,636.18 \n",
       "  \"/>\n",
       "<polyline clip-path=\"url(#clip440)\" style=\"stroke:#000000; stroke-linecap:butt; stroke-linejoin:round; stroke-width:4; stroke-opacity:1; fill:none\" points=\"\n",
       "  233.327,439.868 252.225,439.868 \n",
       "  \"/>\n",
       "<polyline clip-path=\"url(#clip440)\" style=\"stroke:#000000; stroke-linecap:butt; stroke-linejoin:round; stroke-width:4; stroke-opacity:1; fill:none\" points=\"\n",
       "  233.327,243.556 252.225,243.556 \n",
       "  \"/>\n",
       "<polyline clip-path=\"url(#clip440)\" style=\"stroke:#000000; stroke-linecap:butt; stroke-linejoin:round; stroke-width:4; stroke-opacity:1; fill:none\" points=\"\n",
       "  233.327,47.2441 252.225,47.2441 \n",
       "  \"/>\n",
       "<g clip-path=\"url(#clip440)\">\n",
       "<text style=\"fill:#000000; fill-opacity:1; font-family:Arial,Helvetica Neue,Helvetica,sans-serif; font-size:48px; text-anchor:middle;\" transform=\"rotate(0, 157.183, 1438.93)\" x=\"157.183\" y=\"1438.93\">−14</text>\n",
       "</g>\n",
       "<g clip-path=\"url(#clip440)\">\n",
       "<text style=\"fill:#000000; fill-opacity:1; font-family:Arial,Helvetica Neue,Helvetica,sans-serif; font-size:48px; text-anchor:middle;\" transform=\"rotate(0, 157.183, 1242.62)\" x=\"157.183\" y=\"1242.62\">−12</text>\n",
       "</g>\n",
       "<g clip-path=\"url(#clip440)\">\n",
       "<text style=\"fill:#000000; fill-opacity:1; font-family:Arial,Helvetica Neue,Helvetica,sans-serif; font-size:48px; text-anchor:middle;\" transform=\"rotate(0, 157.183, 1046.3)\" x=\"157.183\" y=\"1046.3\">−10</text>\n",
       "</g>\n",
       "<g clip-path=\"url(#clip440)\">\n",
       "<text style=\"fill:#000000; fill-opacity:1; font-family:Arial,Helvetica Neue,Helvetica,sans-serif; font-size:48px; text-anchor:middle;\" transform=\"rotate(0, 170.565, 849.991)\" x=\"170.565\" y=\"849.991\">−8</text>\n",
       "</g>\n",
       "<g clip-path=\"url(#clip440)\">\n",
       "<text style=\"fill:#000000; fill-opacity:1; font-family:Arial,Helvetica Neue,Helvetica,sans-serif; font-size:48px; text-anchor:middle;\" transform=\"rotate(0, 170.565, 653.68)\" x=\"170.565\" y=\"653.68\">−6</text>\n",
       "</g>\n",
       "<g clip-path=\"url(#clip440)\">\n",
       "<text style=\"fill:#000000; fill-opacity:1; font-family:Arial,Helvetica Neue,Helvetica,sans-serif; font-size:48px; text-anchor:middle;\" transform=\"rotate(0, 170.565, 457.368)\" x=\"170.565\" y=\"457.368\">−4</text>\n",
       "</g>\n",
       "<g clip-path=\"url(#clip440)\">\n",
       "<text style=\"fill:#000000; fill-opacity:1; font-family:Arial,Helvetica Neue,Helvetica,sans-serif; font-size:48px; text-anchor:middle;\" transform=\"rotate(0, 170.565, 261.056)\" x=\"170.565\" y=\"261.056\">−2</text>\n",
       "</g>\n",
       "<g clip-path=\"url(#clip440)\">\n",
       "<text style=\"fill:#000000; fill-opacity:1; font-family:Arial,Helvetica Neue,Helvetica,sans-serif; font-size:48px; text-anchor:middle;\" transform=\"rotate(0, 183.946, 64.7441)\" x=\"183.946\" y=\"64.7441\">0</text>\n",
       "</g>\n",
       "<g clip-path=\"url(#clip440)\">\n",
       "<text style=\"fill:#000000; fill-opacity:1; font-family:Arial,Helvetica Neue,Helvetica,sans-serif; font-size:71px; text-anchor:middle;\" transform=\"rotate(-90, 67.9903, 734.336)\" x=\"67.9903\" y=\"734.336\">老年期の効用</text>\n",
       "</g>\n",
       "<polyline clip-path=\"url(#clip442)\" style=\"stroke:#0000ff; stroke-linecap:butt; stroke-linejoin:round; stroke-width:16; stroke-opacity:1; fill:none\" points=\"\n",
       "  286.313,1919.05 339.298,983.146 392.284,671.179 445.27,515.195 498.256,421.605 551.241,359.212 604.227,314.645 657.213,281.22 710.198,255.222 763.184,234.425 \n",
       "  816.17,217.408 869.156,203.228 922.141,191.229 975.127,180.944 1028.11,172.031 1081.1,164.232 1134.08,157.35 1187.07,151.233 1240.06,145.76 1293.04,140.834 \n",
       "  1346.03,136.378 1399.01,132.326 1452,128.627 1504.98,125.236 1557.97,122.116 1610.96,119.237 1663.94,116.57 1716.93,114.094 1769.91,111.789 1822.9,109.638 \n",
       "  1875.88,107.625 1928.87,105.738 1981.86,103.965 2034.84,102.297 2087.83,100.724 2140.81,99.2387 2193.8,97.8334 2246.78,96.5021 2299.77,95.2391 2352.76,94.0392 \n",
       "  \n",
       "  \"/>\n",
       "<circle clip-path=\"url(#clip442)\" cx=\"339.298\" cy=\"983.146\" r=\"28.8\" fill=\"#0000ff\" fill-rule=\"evenodd\" fill-opacity=\"1\" stroke=\"#000000\" stroke-opacity=\"1\" stroke-width=\"3.2\"/>\n",
       "<circle clip-path=\"url(#clip442)\" cx=\"392.284\" cy=\"671.179\" r=\"28.8\" fill=\"#0000ff\" fill-rule=\"evenodd\" fill-opacity=\"1\" stroke=\"#000000\" stroke-opacity=\"1\" stroke-width=\"3.2\"/>\n",
       "<circle clip-path=\"url(#clip442)\" cx=\"445.27\" cy=\"515.195\" r=\"28.8\" fill=\"#0000ff\" fill-rule=\"evenodd\" fill-opacity=\"1\" stroke=\"#000000\" stroke-opacity=\"1\" stroke-width=\"3.2\"/>\n",
       "<circle clip-path=\"url(#clip442)\" cx=\"498.256\" cy=\"421.605\" r=\"28.8\" fill=\"#0000ff\" fill-rule=\"evenodd\" fill-opacity=\"1\" stroke=\"#000000\" stroke-opacity=\"1\" stroke-width=\"3.2\"/>\n",
       "<circle clip-path=\"url(#clip442)\" cx=\"551.241\" cy=\"359.212\" r=\"28.8\" fill=\"#0000ff\" fill-rule=\"evenodd\" fill-opacity=\"1\" stroke=\"#000000\" stroke-opacity=\"1\" stroke-width=\"3.2\"/>\n",
       "<circle clip-path=\"url(#clip442)\" cx=\"604.227\" cy=\"314.645\" r=\"28.8\" fill=\"#0000ff\" fill-rule=\"evenodd\" fill-opacity=\"1\" stroke=\"#000000\" stroke-opacity=\"1\" stroke-width=\"3.2\"/>\n",
       "<circle clip-path=\"url(#clip442)\" cx=\"657.213\" cy=\"281.22\" r=\"28.8\" fill=\"#0000ff\" fill-rule=\"evenodd\" fill-opacity=\"1\" stroke=\"#000000\" stroke-opacity=\"1\" stroke-width=\"3.2\"/>\n",
       "<circle clip-path=\"url(#clip442)\" cx=\"710.198\" cy=\"255.222\" r=\"28.8\" fill=\"#0000ff\" fill-rule=\"evenodd\" fill-opacity=\"1\" stroke=\"#000000\" stroke-opacity=\"1\" stroke-width=\"3.2\"/>\n",
       "<circle clip-path=\"url(#clip442)\" cx=\"763.184\" cy=\"234.425\" r=\"28.8\" fill=\"#0000ff\" fill-rule=\"evenodd\" fill-opacity=\"1\" stroke=\"#000000\" stroke-opacity=\"1\" stroke-width=\"3.2\"/>\n",
       "<circle clip-path=\"url(#clip442)\" cx=\"816.17\" cy=\"217.408\" r=\"28.8\" fill=\"#0000ff\" fill-rule=\"evenodd\" fill-opacity=\"1\" stroke=\"#000000\" stroke-opacity=\"1\" stroke-width=\"3.2\"/>\n",
       "<circle clip-path=\"url(#clip442)\" cx=\"869.156\" cy=\"203.228\" r=\"28.8\" fill=\"#0000ff\" fill-rule=\"evenodd\" fill-opacity=\"1\" stroke=\"#000000\" stroke-opacity=\"1\" stroke-width=\"3.2\"/>\n",
       "<circle clip-path=\"url(#clip442)\" cx=\"922.141\" cy=\"191.229\" r=\"28.8\" fill=\"#0000ff\" fill-rule=\"evenodd\" fill-opacity=\"1\" stroke=\"#000000\" stroke-opacity=\"1\" stroke-width=\"3.2\"/>\n",
       "<circle clip-path=\"url(#clip442)\" cx=\"975.127\" cy=\"180.944\" r=\"28.8\" fill=\"#0000ff\" fill-rule=\"evenodd\" fill-opacity=\"1\" stroke=\"#000000\" stroke-opacity=\"1\" stroke-width=\"3.2\"/>\n",
       "<circle clip-path=\"url(#clip442)\" cx=\"1028.11\" cy=\"172.031\" r=\"28.8\" fill=\"#0000ff\" fill-rule=\"evenodd\" fill-opacity=\"1\" stroke=\"#000000\" stroke-opacity=\"1\" stroke-width=\"3.2\"/>\n",
       "<circle clip-path=\"url(#clip442)\" cx=\"1081.1\" cy=\"164.232\" r=\"28.8\" fill=\"#0000ff\" fill-rule=\"evenodd\" fill-opacity=\"1\" stroke=\"#000000\" stroke-opacity=\"1\" stroke-width=\"3.2\"/>\n",
       "<circle clip-path=\"url(#clip442)\" cx=\"1134.08\" cy=\"157.35\" r=\"28.8\" fill=\"#0000ff\" fill-rule=\"evenodd\" fill-opacity=\"1\" stroke=\"#000000\" stroke-opacity=\"1\" stroke-width=\"3.2\"/>\n",
       "<circle clip-path=\"url(#clip442)\" cx=\"1187.07\" cy=\"151.233\" r=\"28.8\" fill=\"#0000ff\" fill-rule=\"evenodd\" fill-opacity=\"1\" stroke=\"#000000\" stroke-opacity=\"1\" stroke-width=\"3.2\"/>\n",
       "<circle clip-path=\"url(#clip442)\" cx=\"1240.06\" cy=\"145.76\" r=\"28.8\" fill=\"#0000ff\" fill-rule=\"evenodd\" fill-opacity=\"1\" stroke=\"#000000\" stroke-opacity=\"1\" stroke-width=\"3.2\"/>\n",
       "<circle clip-path=\"url(#clip442)\" cx=\"1293.04\" cy=\"140.834\" r=\"28.8\" fill=\"#0000ff\" fill-rule=\"evenodd\" fill-opacity=\"1\" stroke=\"#000000\" stroke-opacity=\"1\" stroke-width=\"3.2\"/>\n",
       "<circle clip-path=\"url(#clip442)\" cx=\"1346.03\" cy=\"136.378\" r=\"28.8\" fill=\"#0000ff\" fill-rule=\"evenodd\" fill-opacity=\"1\" stroke=\"#000000\" stroke-opacity=\"1\" stroke-width=\"3.2\"/>\n",
       "<circle clip-path=\"url(#clip442)\" cx=\"1399.01\" cy=\"132.326\" r=\"28.8\" fill=\"#0000ff\" fill-rule=\"evenodd\" fill-opacity=\"1\" stroke=\"#000000\" stroke-opacity=\"1\" stroke-width=\"3.2\"/>\n",
       "<circle clip-path=\"url(#clip442)\" cx=\"1452\" cy=\"128.627\" r=\"28.8\" fill=\"#0000ff\" fill-rule=\"evenodd\" fill-opacity=\"1\" stroke=\"#000000\" stroke-opacity=\"1\" stroke-width=\"3.2\"/>\n",
       "<circle clip-path=\"url(#clip442)\" cx=\"1504.98\" cy=\"125.236\" r=\"28.8\" fill=\"#0000ff\" fill-rule=\"evenodd\" fill-opacity=\"1\" stroke=\"#000000\" stroke-opacity=\"1\" stroke-width=\"3.2\"/>\n",
       "<circle clip-path=\"url(#clip442)\" cx=\"1557.97\" cy=\"122.116\" r=\"28.8\" fill=\"#0000ff\" fill-rule=\"evenodd\" fill-opacity=\"1\" stroke=\"#000000\" stroke-opacity=\"1\" stroke-width=\"3.2\"/>\n",
       "<circle clip-path=\"url(#clip442)\" cx=\"1610.96\" cy=\"119.237\" r=\"28.8\" fill=\"#0000ff\" fill-rule=\"evenodd\" fill-opacity=\"1\" stroke=\"#000000\" stroke-opacity=\"1\" stroke-width=\"3.2\"/>\n",
       "<circle clip-path=\"url(#clip442)\" cx=\"1663.94\" cy=\"116.57\" r=\"28.8\" fill=\"#0000ff\" fill-rule=\"evenodd\" fill-opacity=\"1\" stroke=\"#000000\" stroke-opacity=\"1\" stroke-width=\"3.2\"/>\n",
       "<circle clip-path=\"url(#clip442)\" cx=\"1716.93\" cy=\"114.094\" r=\"28.8\" fill=\"#0000ff\" fill-rule=\"evenodd\" fill-opacity=\"1\" stroke=\"#000000\" stroke-opacity=\"1\" stroke-width=\"3.2\"/>\n",
       "<circle clip-path=\"url(#clip442)\" cx=\"1769.91\" cy=\"111.789\" r=\"28.8\" fill=\"#0000ff\" fill-rule=\"evenodd\" fill-opacity=\"1\" stroke=\"#000000\" stroke-opacity=\"1\" stroke-width=\"3.2\"/>\n",
       "<circle clip-path=\"url(#clip442)\" cx=\"1822.9\" cy=\"109.638\" r=\"28.8\" fill=\"#0000ff\" fill-rule=\"evenodd\" fill-opacity=\"1\" stroke=\"#000000\" stroke-opacity=\"1\" stroke-width=\"3.2\"/>\n",
       "<circle clip-path=\"url(#clip442)\" cx=\"1875.88\" cy=\"107.625\" r=\"28.8\" fill=\"#0000ff\" fill-rule=\"evenodd\" fill-opacity=\"1\" stroke=\"#000000\" stroke-opacity=\"1\" stroke-width=\"3.2\"/>\n",
       "<circle clip-path=\"url(#clip442)\" cx=\"1928.87\" cy=\"105.738\" r=\"28.8\" fill=\"#0000ff\" fill-rule=\"evenodd\" fill-opacity=\"1\" stroke=\"#000000\" stroke-opacity=\"1\" stroke-width=\"3.2\"/>\n",
       "<circle clip-path=\"url(#clip442)\" cx=\"1981.86\" cy=\"103.965\" r=\"28.8\" fill=\"#0000ff\" fill-rule=\"evenodd\" fill-opacity=\"1\" stroke=\"#000000\" stroke-opacity=\"1\" stroke-width=\"3.2\"/>\n",
       "<circle clip-path=\"url(#clip442)\" cx=\"2034.84\" cy=\"102.297\" r=\"28.8\" fill=\"#0000ff\" fill-rule=\"evenodd\" fill-opacity=\"1\" stroke=\"#000000\" stroke-opacity=\"1\" stroke-width=\"3.2\"/>\n",
       "<circle clip-path=\"url(#clip442)\" cx=\"2087.83\" cy=\"100.724\" r=\"28.8\" fill=\"#0000ff\" fill-rule=\"evenodd\" fill-opacity=\"1\" stroke=\"#000000\" stroke-opacity=\"1\" stroke-width=\"3.2\"/>\n",
       "<circle clip-path=\"url(#clip442)\" cx=\"2140.81\" cy=\"99.2387\" r=\"28.8\" fill=\"#0000ff\" fill-rule=\"evenodd\" fill-opacity=\"1\" stroke=\"#000000\" stroke-opacity=\"1\" stroke-width=\"3.2\"/>\n",
       "<circle clip-path=\"url(#clip442)\" cx=\"2193.8\" cy=\"97.8334\" r=\"28.8\" fill=\"#0000ff\" fill-rule=\"evenodd\" fill-opacity=\"1\" stroke=\"#000000\" stroke-opacity=\"1\" stroke-width=\"3.2\"/>\n",
       "<circle clip-path=\"url(#clip442)\" cx=\"2246.78\" cy=\"96.5021\" r=\"28.8\" fill=\"#0000ff\" fill-rule=\"evenodd\" fill-opacity=\"1\" stroke=\"#000000\" stroke-opacity=\"1\" stroke-width=\"3.2\"/>\n",
       "<circle clip-path=\"url(#clip442)\" cx=\"2299.77\" cy=\"95.2391\" r=\"28.8\" fill=\"#0000ff\" fill-rule=\"evenodd\" fill-opacity=\"1\" stroke=\"#000000\" stroke-opacity=\"1\" stroke-width=\"3.2\"/>\n",
       "<circle clip-path=\"url(#clip442)\" cx=\"2352.76\" cy=\"94.0392\" r=\"28.8\" fill=\"#0000ff\" fill-rule=\"evenodd\" fill-opacity=\"1\" stroke=\"#000000\" stroke-opacity=\"1\" stroke-width=\"3.2\"/>\n",
       "</svg>\n"
      ]
     },
     "execution_count": 62,
     "metadata": {},
     "output_type": "execute_result"
    }
   ],
   "source": [
    "# 効用関数の図を描く\n",
    "# これも**初回**は遅いのでしばらく待つ\n",
    "plt = plot(params.grid_a, util2,\n",
    "    color = :blue,\n",
    "    marker = :circle,\n",
    "    legend = :none,\n",
    "    xlims = (0, 1),\n",
    "    ylims = (-14, 0),\n",
    "    xlabel = (\"老年期の資産\"),\n",
    "    ylabel = (\"老年期の効用\"),\n",
    "    linewidth = 4,\n",
    "    markersize = 8,\n",
    "    titlefont = font(\"HackGen35Nerd\", 12),\n",
    "    guidefont = font(\"HackGen35Nerd\", 12),\n",
    "    tickfont = font(\"HackGen35Nerd\", 8),\n",
    "    framestyle = :semi\n",
    ")\n",
    "#savefig(\"Fig2_utility_period2.pdf\")"
   ]
  },
  {
   "cell_type": "markdown",
   "id": "78c442a0",
   "metadata": {},
   "source": [
    "### 空の変数を作る\n",
    "* ゼロが入っている変数：器の役割\n",
    "    * ここに計算結果を代入していく\n",
    "* 変数のサイズを予め決めておく点が重要\n",
    "    * 計算途中でベクトルや行列のサイズが変わるような書き方をすると計算速度が**大幅に**低下する"
   ]
  },
  {
   "cell_type": "code",
   "execution_count": 63,
   "id": "64ee820f",
   "metadata": {},
   "outputs": [],
   "source": [
    "# 配列(変数)をあらかじめ定義しておく\n",
    "obj = zeros(params.na, params.nw) # 目的関数\n",
    "pol = zeros(params.nw); # 政策関数"
   ]
  },
  {
   "cell_type": "markdown",
   "id": "1f66be35",
   "metadata": {},
   "source": [
    "## 今回のアルゴリズムの中心\n",
    "* テキスト(2.5)式を計算"
   ]
  },
  {
   "cell_type": "code",
   "execution_count": 64,
   "id": "84ecab70",
   "metadata": {},
   "outputs": [],
   "source": [
    "# あらゆる(w,a)の組み合わせについて生涯効用を計算\n",
    "\n",
    "for i = 1:params.nw # すべてのwの組み合わせについて\n",
    "    for j = 1:params.na # すべてのaの組み合わせについて\n",
    "        cons = params.grid_w[i] - params.grid_a[j] # c1 = w - a\n",
    "        if cons > 0.0\n",
    "            obj[j, i] = CRRA(cons, params.γ) + params.β*　CRRA((1.0+params.rent)*params.grid_a[j], params.γ)\n",
    "        else\n",
    "            # 消費が負値の場合、ペナルティを与えてその値が選ばれないようにする\n",
    "            obj[j,i] = -10000.0\n",
    "        end\n",
    "    end\n",
    "end"
   ]
  },
  {
   "cell_type": "markdown",
   "id": "6b129c79-4baa-42d2-8827-b65ed32df33e",
   "metadata": {},
   "source": [
    "#### Tips：多重のループ計算でタブによる段落下げを行うと右側に行き過ぎて見にくい場合がある\n",
    "* Pythonと違ってJuliaではタブによる段落下げそれ自体に特別な効果はない\n",
    "    * 読みやすさのため\n",
    "* Juliaの場合、ループ計算をひとまとめにすることが出来る：⬇"
   ]
  },
  {
   "cell_type": "code",
   "execution_count": 65,
   "id": "e575adb3-4b1d-4efb-a672-d885d24a644b",
   "metadata": {},
   "outputs": [],
   "source": [
    "for i = 1:params.nw, j = 1:params.na # ここでひとまとめ\n",
    "    cons = params.grid_w[i] - params.grid_a[j]\n",
    "    if cons > 0.0\n",
    "        obj[j, i] = CRRA(cons, params.γ) + params.β*　CRRA((1.0+params.rent)*params.grid_a[j], params.γ)\n",
    "    else\n",
    "        obj[j,i] = -10000.0\n",
    "    end\n",
    "end"
   ]
  },
  {
   "cell_type": "markdown",
   "id": "e3fd2047-d0c9-425d-8aa4-33d028817dc6",
   "metadata": {},
   "source": [
    "---"
   ]
  },
  {
   "cell_type": "markdown",
   "id": "d706052e",
   "metadata": {},
   "source": [
    "## Tips：ループ(繰り返し計算)とは?"
   ]
  },
  {
   "cell_type": "code",
   "execution_count": 66,
   "id": "16261e84",
   "metadata": {},
   "outputs": [
    {
     "data": {
      "text/plain": [
       "55"
      ]
     },
     "execution_count": 66,
     "metadata": {},
     "output_type": "execute_result"
    }
   ],
   "source": [
    "# 例：これを計算したいけど書くのが面倒\n",
    "temp = 1 + 2 + 3 + 4 + 5 + 6 + 7 + 8 + 9 + 10"
   ]
  },
  {
   "cell_type": "code",
   "execution_count": 67,
   "id": "08d98353",
   "metadata": {},
   "outputs": [
    {
     "name": "stdout",
     "output_type": "stream",
     "text": [
      "55"
     ]
    }
   ],
   "source": [
    "a = 0\n",
    "\n",
    "# iが1から10までa = a + iを計算する\n",
    "for i = 1:10\n",
    "    a = a + i # =は同じではなく代入\n",
    "end\n",
    "\n",
    "print(a)"
   ]
  },
  {
   "cell_type": "code",
   "execution_count": 68,
   "id": "29738f5a-3f66-48d9-83cb-42686315b11e",
   "metadata": {},
   "outputs": [
    {
     "name": "stdout",
     "output_type": "stream",
     "text": [
      "55"
     ]
    }
   ],
   "source": [
    "# 下記のような書き方も出来る\n",
    "a = 0\n",
    "for i in 1:10\n",
    "    a += i\n",
    "end\n",
    "print(a)"
   ]
  },
  {
   "cell_type": "markdown",
   "id": "480011ca",
   "metadata": {},
   "source": [
    "---"
   ]
  },
  {
   "cell_type": "code",
   "execution_count": 69,
   "id": "1587359a",
   "metadata": {},
   "outputs": [
    {
     "name": "stdout",
     "output_type": "stream",
     "text": [
      "[0.025, 0.075, 0.1, 0.15, 0.17500000000000002, 0.225, 0.25, 0.27499999999999997, 0.325, 0.35]"
     ]
    }
   ],
   "source": [
    "#各wについて生涯効用を最大とするようなaを探す\n",
    "\n",
    "for i = 1:params.nw\n",
    "\n",
    "    # findmax：最大値(maxv)と最大値がある場所(maxl)を探す関数\n",
    "    maxv, maxl = findmax(obj[:, i])\n",
    "\n",
    "    # policy：最適貯蓄\n",
    "    pol[i] = params.grid_a[maxl]\n",
    "\n",
    "end\n",
    "\n",
    "print(pol)"
   ]
  },
  {
   "cell_type": "code",
   "execution_count": 70,
   "id": "9a3cf6fa",
   "metadata": {},
   "outputs": [
    {
     "name": "stdout",
     "output_type": "stream",
     "text": [
      "search: \u001b[0m\u001b[1mf\u001b[22m\u001b[0m\u001b[1mi\u001b[22m\u001b[0m\u001b[1mn\u001b[22m\u001b[0m\u001b[1md\u001b[22m\u001b[0m\u001b[1mm\u001b[22m\u001b[0m\u001b[1ma\u001b[22m\u001b[0m\u001b[1mx\u001b[22m \u001b[0m\u001b[1mf\u001b[22m\u001b[0m\u001b[1mi\u001b[22m\u001b[0m\u001b[1mn\u001b[22m\u001b[0m\u001b[1md\u001b[22m\u001b[0m\u001b[1mm\u001b[22m\u001b[0m\u001b[1ma\u001b[22m\u001b[0m\u001b[1mx\u001b[22m! \u001b[0m\u001b[1mf\u001b[22m\u001b[0m\u001b[1mi\u001b[22m\u001b[0m\u001b[1mn\u001b[22m\u001b[0m\u001b[1md\u001b[22m\u001b[0m\u001b[1mm\u001b[22min \u001b[0m\u001b[1mf\u001b[22m\u001b[0m\u001b[1mi\u001b[22m\u001b[0m\u001b[1mn\u001b[22m\u001b[0m\u001b[1md\u001b[22m\u001b[0m\u001b[1mm\u001b[22min!\n",
      "\n"
     ]
    },
    {
     "data": {
      "text/latex": [
       "\\begin{verbatim}\n",
       "findmax(f, domain) -> (f(x), index)\n",
       "\\end{verbatim}\n",
       "Returns a pair of a value in the codomain (outputs of \\texttt{f}) and the index of the corresponding value in the \\texttt{domain} (inputs to \\texttt{f}) such that \\texttt{f(x)} is maximised. If there are multiple maximal points, then the first one will be returned.\n",
       "\n",
       "\\texttt{domain} must be a non-empty iterable.\n",
       "\n",
       "Values are compared with \\texttt{isless}.\n",
       "\n",
       "\\begin{quote}\n",
       "\\textbf{compat}\n",
       "\n",
       "Julia 1.7\n",
       "\n",
       "This method requires Julia 1.7 or later.\n",
       "\n",
       "\\end{quote}\n",
       "\\section{Examples}\n",
       "\\begin{verbatim}\n",
       "julia> findmax(identity, 5:9)\n",
       "(9, 5)\n",
       "\n",
       "julia> findmax(-, 1:10)\n",
       "(-1, 1)\n",
       "\n",
       "julia> findmax(first, [(1, :a), (3, :b), (3, :c)])\n",
       "(3, 2)\n",
       "\n",
       "julia> findmax(cos, 0:π/2:2π)\n",
       "(1.0, 1)\n",
       "\\end{verbatim}\n",
       "\\rule{\\textwidth}{1pt}\n",
       "\\begin{verbatim}\n",
       "findmax(itr) -> (x, index)\n",
       "\\end{verbatim}\n",
       "Return the maximal element of the collection \\texttt{itr} and its index or key. If there are multiple maximal elements, then the first one will be returned. Values are compared with \\texttt{isless}.\n",
       "\n",
       "See also: \\href{@ref}{\\texttt{findmin}}, \\href{@ref}{\\texttt{argmax}}, \\href{@ref}{\\texttt{maximum}}.\n",
       "\n",
       "\\section{Examples}\n",
       "\\begin{verbatim}\n",
       "julia> findmax([8, 0.1, -9, pi])\n",
       "(8.0, 1)\n",
       "\n",
       "julia> findmax([1, 7, 7, 6])\n",
       "(7, 2)\n",
       "\n",
       "julia> findmax([1, 7, 7, NaN])\n",
       "(NaN, 4)\n",
       "\\end{verbatim}\n",
       "\\rule{\\textwidth}{1pt}\n",
       "\\begin{verbatim}\n",
       "findmax(A; dims) -> (maxval, index)\n",
       "\\end{verbatim}\n",
       "For an array input, returns the value and index of the maximum over the given dimensions. \\texttt{NaN} is treated as greater than all other values except \\texttt{missing}.\n",
       "\n",
       "\\section{Examples}\n",
       "\\begin{verbatim}\n",
       "julia> A = [1.0 2; 3 4]\n",
       "2×2 Matrix{Float64}:\n",
       " 1.0  2.0\n",
       " 3.0  4.0\n",
       "\n",
       "julia> findmax(A, dims=1)\n",
       "([3.0 4.0], CartesianIndex{2}[CartesianIndex(2, 1) CartesianIndex(2, 2)])\n",
       "\n",
       "julia> findmax(A, dims=2)\n",
       "([2.0; 4.0;;], CartesianIndex{2}[CartesianIndex(1, 2); CartesianIndex(2, 2);;])\n",
       "\\end{verbatim}\n"
      ],
      "text/markdown": [
       "```\n",
       "findmax(f, domain) -> (f(x), index)\n",
       "```\n",
       "\n",
       "Returns a pair of a value in the codomain (outputs of `f`) and the index of the corresponding value in the `domain` (inputs to `f`) such that `f(x)` is maximised. If there are multiple maximal points, then the first one will be returned.\n",
       "\n",
       "`domain` must be a non-empty iterable.\n",
       "\n",
       "Values are compared with `isless`.\n",
       "\n",
       "!!! compat \"Julia 1.7\"\n",
       "    This method requires Julia 1.7 or later.\n",
       "\n",
       "\n",
       "# Examples\n",
       "\n",
       "```jldoctest\n",
       "julia> findmax(identity, 5:9)\n",
       "(9, 5)\n",
       "\n",
       "julia> findmax(-, 1:10)\n",
       "(-1, 1)\n",
       "\n",
       "julia> findmax(first, [(1, :a), (3, :b), (3, :c)])\n",
       "(3, 2)\n",
       "\n",
       "julia> findmax(cos, 0:π/2:2π)\n",
       "(1.0, 1)\n",
       "```\n",
       "\n",
       "---\n",
       "\n",
       "```\n",
       "findmax(itr) -> (x, index)\n",
       "```\n",
       "\n",
       "Return the maximal element of the collection `itr` and its index or key. If there are multiple maximal elements, then the first one will be returned. Values are compared with `isless`.\n",
       "\n",
       "See also: [`findmin`](@ref), [`argmax`](@ref), [`maximum`](@ref).\n",
       "\n",
       "# Examples\n",
       "\n",
       "```jldoctest\n",
       "julia> findmax([8, 0.1, -9, pi])\n",
       "(8.0, 1)\n",
       "\n",
       "julia> findmax([1, 7, 7, 6])\n",
       "(7, 2)\n",
       "\n",
       "julia> findmax([1, 7, 7, NaN])\n",
       "(NaN, 4)\n",
       "```\n",
       "\n",
       "---\n",
       "\n",
       "```\n",
       "findmax(A; dims) -> (maxval, index)\n",
       "```\n",
       "\n",
       "For an array input, returns the value and index of the maximum over the given dimensions. `NaN` is treated as greater than all other values except `missing`.\n",
       "\n",
       "# Examples\n",
       "\n",
       "```jldoctest\n",
       "julia> A = [1.0 2; 3 4]\n",
       "2×2 Matrix{Float64}:\n",
       " 1.0  2.0\n",
       " 3.0  4.0\n",
       "\n",
       "julia> findmax(A, dims=1)\n",
       "([3.0 4.0], CartesianIndex{2}[CartesianIndex(2, 1) CartesianIndex(2, 2)])\n",
       "\n",
       "julia> findmax(A, dims=2)\n",
       "([2.0; 4.0;;], CartesianIndex{2}[CartesianIndex(1, 2); CartesianIndex(2, 2);;])\n",
       "```\n"
      ],
      "text/plain": [
       "\u001b[36m  findmax(f, domain) -> (f(x), index)\u001b[39m\n",
       "\n",
       "  Returns a pair of a value in the codomain (outputs of \u001b[36mf\u001b[39m) and the index of\n",
       "  the corresponding value in the \u001b[36mdomain\u001b[39m (inputs to \u001b[36mf\u001b[39m) such that \u001b[36mf(x)\u001b[39m is\n",
       "  maximised. If there are multiple maximal points, then the first one will be\n",
       "  returned.\n",
       "\n",
       "  \u001b[36mdomain\u001b[39m must be a non-empty iterable.\n",
       "\n",
       "  Values are compared with \u001b[36misless\u001b[39m.\n",
       "\n",
       "\u001b[39m\u001b[1m  │ \u001b[22m\u001b[39m\u001b[1mJulia 1.7\u001b[22m\n",
       "\u001b[39m\u001b[1m  │\u001b[22m\n",
       "\u001b[39m\u001b[1m  │\u001b[22m  This method requires Julia 1.7 or later.\n",
       "\n",
       "\u001b[1m  Examples\u001b[22m\n",
       "\u001b[1m  ≡≡≡≡≡≡≡≡≡≡\u001b[22m\n",
       "\n",
       "\u001b[36m  julia> findmax(identity, 5:9)\u001b[39m\n",
       "\u001b[36m  (9, 5)\u001b[39m\n",
       "\u001b[36m  \u001b[39m\n",
       "\u001b[36m  julia> findmax(-, 1:10)\u001b[39m\n",
       "\u001b[36m  (-1, 1)\u001b[39m\n",
       "\u001b[36m  \u001b[39m\n",
       "\u001b[36m  julia> findmax(first, [(1, :a), (3, :b), (3, :c)])\u001b[39m\n",
       "\u001b[36m  (3, 2)\u001b[39m\n",
       "\u001b[36m  \u001b[39m\n",
       "\u001b[36m  julia> findmax(cos, 0:π/2:2π)\u001b[39m\n",
       "\u001b[36m  (1.0, 1)\u001b[39m\n",
       "\n",
       "  ────────────────────────────────────────────────────────────────────────────\n",
       "\n",
       "\u001b[36m  findmax(itr) -> (x, index)\u001b[39m\n",
       "\n",
       "  Return the maximal element of the collection \u001b[36mitr\u001b[39m and its index or key. If\n",
       "  there are multiple maximal elements, then the first one will be returned.\n",
       "  Values are compared with \u001b[36misless\u001b[39m.\n",
       "\n",
       "  See also: \u001b[36mfindmin\u001b[39m, \u001b[36margmax\u001b[39m, \u001b[36mmaximum\u001b[39m.\n",
       "\n",
       "\u001b[1m  Examples\u001b[22m\n",
       "\u001b[1m  ≡≡≡≡≡≡≡≡≡≡\u001b[22m\n",
       "\n",
       "\u001b[36m  julia> findmax([8, 0.1, -9, pi])\u001b[39m\n",
       "\u001b[36m  (8.0, 1)\u001b[39m\n",
       "\u001b[36m  \u001b[39m\n",
       "\u001b[36m  julia> findmax([1, 7, 7, 6])\u001b[39m\n",
       "\u001b[36m  (7, 2)\u001b[39m\n",
       "\u001b[36m  \u001b[39m\n",
       "\u001b[36m  julia> findmax([1, 7, 7, NaN])\u001b[39m\n",
       "\u001b[36m  (NaN, 4)\u001b[39m\n",
       "\n",
       "  ────────────────────────────────────────────────────────────────────────────\n",
       "\n",
       "\u001b[36m  findmax(A; dims) -> (maxval, index)\u001b[39m\n",
       "\n",
       "  For an array input, returns the value and index of the maximum over the\n",
       "  given dimensions. \u001b[36mNaN\u001b[39m is treated as greater than all other values except\n",
       "  \u001b[36mmissing\u001b[39m.\n",
       "\n",
       "\u001b[1m  Examples\u001b[22m\n",
       "\u001b[1m  ≡≡≡≡≡≡≡≡≡≡\u001b[22m\n",
       "\n",
       "\u001b[36m  julia> A = [1.0 2; 3 4]\u001b[39m\n",
       "\u001b[36m  2×2 Matrix{Float64}:\u001b[39m\n",
       "\u001b[36m   1.0  2.0\u001b[39m\n",
       "\u001b[36m   3.0  4.0\u001b[39m\n",
       "\u001b[36m  \u001b[39m\n",
       "\u001b[36m  julia> findmax(A, dims=1)\u001b[39m\n",
       "\u001b[36m  ([3.0 4.0], CartesianIndex{2}[CartesianIndex(2, 1) CartesianIndex(2, 2)])\u001b[39m\n",
       "\u001b[36m  \u001b[39m\n",
       "\u001b[36m  julia> findmax(A, dims=2)\u001b[39m\n",
       "\u001b[36m  ([2.0; 4.0;;], CartesianIndex{2}[CartesianIndex(1, 2); CartesianIndex(2, 2);;])\u001b[39m"
      ]
     },
     "execution_count": 70,
     "metadata": {},
     "output_type": "execute_result"
    }
   ],
   "source": [
    "? findmax"
   ]
  },
  {
   "cell_type": "markdown",
   "id": "c06bf713-9020-4eb9-9e36-c1ea8aca957c",
   "metadata": {},
   "source": [
    "## これまでの計算過程をまとめて一つの関数にする"
   ]
  },
  {
   "cell_type": "code",
   "execution_count": 71,
   "id": "a7467443",
   "metadata": {},
   "outputs": [
    {
     "data": {
      "text/plain": [
       "discretize"
      ]
     },
     "execution_count": 71,
     "metadata": {},
     "output_type": "execute_result"
    }
   ],
   "source": [
    "\"\"\"\n",
    "2期間モデルを離散化によって解く\n",
    "\n",
    "# インプット\n",
    "`m::Models`::パラメータの構造体\n",
    "\n",
    "# アウトプット\n",
    "`obj::Vector`::価値関数\n",
    "`pol::Vector`::政策関数\n",
    "\"\"\"\n",
    "function discretize(params::Models)\n",
    "\n",
    "    # 配列をあらかじめ定義しておく\n",
    "    obj = zeros(params.na, params.nw)\n",
    "    pol = zeros(params.nw) # 政策関数\n",
    "\n",
    "    # あらゆる(w,a)の組み合わせについて生涯効用を計算\n",
    "    for i in 1:params.nw, j in 1:params.na\n",
    "        cons = params.grid_w[i] - params.grid_a[j]\n",
    "        if cons > 0.0\n",
    "            obj[j, i] = CRRA(cons, params.γ) + params.β*　CRRA((1.0+params.rent)*params.grid_a[j], params.γ)\n",
    "        else\n",
    "            # 消費が負値の場合、ペナルティを与えてその値が選ばれないようにする\n",
    "            obj[j,i] = -10000.0\n",
    "        end\n",
    "    end\n",
    "\n",
    "    # 各wについて生涯効用を最大とするようなaを探す\n",
    "    for i in 1:params.nw\n",
    "        maxv, maxl = findmax(obj[:,i]);\n",
    "        pol[i] = params.grid_a[maxl];\n",
    "    end\n",
    "\n",
    "    return obj,pol\n",
    "end"
   ]
  },
  {
   "cell_type": "markdown",
   "id": "3b13e7c9",
   "metadata": {},
   "source": [
    "## 実際に計算をしてみる"
   ]
  },
  {
   "cell_type": "code",
   "execution_count": 72,
   "id": "f3c578cb",
   "metadata": {},
   "outputs": [
    {
     "name": "stdout",
     "output_type": "stream",
     "text": [
      "[0.025, 0.075, 0.1, 0.15, 0.17500000000000002, 0.225, 0.25, 0.27499999999999997, 0.325, 0.35]"
     ]
    }
   ],
   "source": [
    "# 関数を実行\n",
    "obj, pol = discretize(params)\n",
    "print(pol)"
   ]
  },
  {
   "cell_type": "markdown",
   "id": "ccdd5365",
   "metadata": {},
   "source": [
    "---"
   ]
  },
  {
   "cell_type": "markdown",
   "id": "e3ced710",
   "metadata": {},
   "source": [
    "## なぜ関数にしたのか?\n",
    "* Juliaの仕組み上、関数化した方が早い\n",
    "    * LLVM Just-in-Compilerが働くため\n",
    "* ループ内の変数のスコープの問題"
   ]
  },
  {
   "cell_type": "markdown",
   "id": "7f234c1a",
   "metadata": {},
   "source": [
    "---"
   ]
  },
  {
   "cell_type": "code",
   "execution_count": 73,
   "id": "8266f128",
   "metadata": {},
   "outputs": [
    {
     "name": "stdout",
     "output_type": "stream",
     "text": [
      "  0.000015 seconds (12 allocations: 7.297 KiB)\n"
     ]
    },
    {
     "data": {
      "text/plain": [
       "([-25.451333231282213 -17.832285612234593 … -13.260857040806023 -13.143640923589906; -26.05899994897444 -12.725666615641106 … -7.235470537209735 -7.1116315279218085; … ; -10000.0 -10000.0 … -10000.0 -40.31071794610122; -10000.0 -10000.0 … -10000.0 -10000.0], [0.025, 0.075, 0.1, 0.15, 0.17500000000000002, 0.225, 0.25, 0.27499999999999997, 0.325, 0.35])"
      ]
     },
     "execution_count": 73,
     "metadata": {},
     "output_type": "execute_result"
    }
   ],
   "source": [
    "# 計算速度を測る場合、@timeマクロを使う\n",
    "# ⬇の書き方で計算時間を測ってくれる：実際の計算速度は使用しているPCに依存します\n",
    "@time obj, pol = discretize(params)"
   ]
  },
  {
   "cell_type": "markdown",
   "id": "bd199cf1-09b0-462e-b38a-46cd4b35cab9",
   "metadata": {},
   "source": [
    "---"
   ]
  },
  {
   "cell_type": "markdown",
   "id": "6029c3e5",
   "metadata": {},
   "source": [
    "## 計算結果を出力してみよう"
   ]
  },
  {
   "cell_type": "code",
   "execution_count": 74,
   "id": "7de4bf5b-00a7-4591-b4b2-4631fb773be1",
   "metadata": {},
   "outputs": [
    {
     "data": {
      "image/svg+xml": [
       "<?xml version=\"1.0\" encoding=\"utf-8\"?>\n",
       "<svg xmlns=\"http://www.w3.org/2000/svg\" xmlns:xlink=\"http://www.w3.org/1999/xlink\" width=\"600\" height=\"400\" viewBox=\"0 0 2400 1600\">\n",
       "<defs>\n",
       "  <clipPath id=\"clip480\">\n",
       "    <rect x=\"0\" y=\"0\" width=\"2400\" height=\"1600\"/>\n",
       "  </clipPath>\n",
       "</defs>\n",
       "<path clip-path=\"url(#clip480)\" d=\"\n",
       "M0 1600 L2400 1600 L2400 0 L0 0  Z\n",
       "  \" fill=\"#ffffff\" fill-rule=\"evenodd\" fill-opacity=\"1\"/>\n",
       "<defs>\n",
       "  <clipPath id=\"clip481\">\n",
       "    <rect x=\"480\" y=\"0\" width=\"1681\" height=\"1600\"/>\n",
       "  </clipPath>\n",
       "</defs>\n",
       "<path clip-path=\"url(#clip480)\" d=\"\n",
       "M233.327 1421.43 L2352.76 1421.43 L2352.76 47.2441 L233.327 47.2441  Z\n",
       "  \" fill=\"#ffffff\" fill-rule=\"evenodd\" fill-opacity=\"1\"/>\n",
       "<defs>\n",
       "  <clipPath id=\"clip482\">\n",
       "    <rect x=\"233\" y=\"47\" width=\"2120\" height=\"1375\"/>\n",
       "  </clipPath>\n",
       "</defs>\n",
       "<polyline clip-path=\"url(#clip482)\" style=\"stroke:#000000; stroke-linecap:butt; stroke-linejoin:round; stroke-width:2; stroke-opacity:0.1; fill:none\" points=\"\n",
       "  233.327,1421.43 233.327,47.2441 \n",
       "  \"/>\n",
       "<polyline clip-path=\"url(#clip482)\" style=\"stroke:#000000; stroke-linecap:butt; stroke-linejoin:round; stroke-width:2; stroke-opacity:0.1; fill:none\" points=\"\n",
       "  657.213,1421.43 657.213,47.2441 \n",
       "  \"/>\n",
       "<polyline clip-path=\"url(#clip482)\" style=\"stroke:#000000; stroke-linecap:butt; stroke-linejoin:round; stroke-width:2; stroke-opacity:0.1; fill:none\" points=\"\n",
       "  1081.1,1421.43 1081.1,47.2441 \n",
       "  \"/>\n",
       "<polyline clip-path=\"url(#clip482)\" style=\"stroke:#000000; stroke-linecap:butt; stroke-linejoin:round; stroke-width:2; stroke-opacity:0.1; fill:none\" points=\"\n",
       "  1504.98,1421.43 1504.98,47.2441 \n",
       "  \"/>\n",
       "<polyline clip-path=\"url(#clip482)\" style=\"stroke:#000000; stroke-linecap:butt; stroke-linejoin:round; stroke-width:2; stroke-opacity:0.1; fill:none\" points=\"\n",
       "  1928.87,1421.43 1928.87,47.2441 \n",
       "  \"/>\n",
       "<polyline clip-path=\"url(#clip482)\" style=\"stroke:#000000; stroke-linecap:butt; stroke-linejoin:round; stroke-width:2; stroke-opacity:0.1; fill:none\" points=\"\n",
       "  2352.76,1421.43 2352.76,47.2441 \n",
       "  \"/>\n",
       "<polyline clip-path=\"url(#clip480)\" style=\"stroke:#000000; stroke-linecap:butt; stroke-linejoin:round; stroke-width:4; stroke-opacity:1; fill:none\" points=\"\n",
       "  233.327,1421.43 2352.76,1421.43 \n",
       "  \"/>\n",
       "<polyline clip-path=\"url(#clip480)\" style=\"stroke:#000000; stroke-linecap:butt; stroke-linejoin:round; stroke-width:2; stroke-opacity:0.5; fill:none\" points=\"\n",
       "  233.327,47.2441 2352.76,47.2441 \n",
       "  \"/>\n",
       "<polyline clip-path=\"url(#clip480)\" style=\"stroke:#000000; stroke-linecap:butt; stroke-linejoin:round; stroke-width:4; stroke-opacity:1; fill:none\" points=\"\n",
       "  233.327,1421.43 233.327,1402.53 \n",
       "  \"/>\n",
       "<polyline clip-path=\"url(#clip480)\" style=\"stroke:#000000; stroke-linecap:butt; stroke-linejoin:round; stroke-width:4; stroke-opacity:1; fill:none\" points=\"\n",
       "  657.213,1421.43 657.213,1402.53 \n",
       "  \"/>\n",
       "<polyline clip-path=\"url(#clip480)\" style=\"stroke:#000000; stroke-linecap:butt; stroke-linejoin:round; stroke-width:4; stroke-opacity:1; fill:none\" points=\"\n",
       "  1081.1,1421.43 1081.1,1402.53 \n",
       "  \"/>\n",
       "<polyline clip-path=\"url(#clip480)\" style=\"stroke:#000000; stroke-linecap:butt; stroke-linejoin:round; stroke-width:4; stroke-opacity:1; fill:none\" points=\"\n",
       "  1504.98,1421.43 1504.98,1402.53 \n",
       "  \"/>\n",
       "<polyline clip-path=\"url(#clip480)\" style=\"stroke:#000000; stroke-linecap:butt; stroke-linejoin:round; stroke-width:4; stroke-opacity:1; fill:none\" points=\"\n",
       "  1928.87,1421.43 1928.87,1402.53 \n",
       "  \"/>\n",
       "<polyline clip-path=\"url(#clip480)\" style=\"stroke:#000000; stroke-linecap:butt; stroke-linejoin:round; stroke-width:4; stroke-opacity:1; fill:none\" points=\"\n",
       "  2352.76,1421.43 2352.76,1402.53 \n",
       "  \"/>\n",
       "<g clip-path=\"url(#clip480)\">\n",
       "<text style=\"fill:#000000; fill-opacity:1; font-family:Arial,Helvetica Neue,Helvetica,sans-serif; font-size:48px; text-anchor:middle;\" transform=\"rotate(0, 233.327, 1483.28)\" x=\"233.327\" y=\"1483.28\">0.0</text>\n",
       "</g>\n",
       "<g clip-path=\"url(#clip480)\">\n",
       "<text style=\"fill:#000000; fill-opacity:1; font-family:Arial,Helvetica Neue,Helvetica,sans-serif; font-size:48px; text-anchor:middle;\" transform=\"rotate(0, 657.213, 1483.28)\" x=\"657.213\" y=\"1483.28\">0.2</text>\n",
       "</g>\n",
       "<g clip-path=\"url(#clip480)\">\n",
       "<text style=\"fill:#000000; fill-opacity:1; font-family:Arial,Helvetica Neue,Helvetica,sans-serif; font-size:48px; text-anchor:middle;\" transform=\"rotate(0, 1081.1, 1483.28)\" x=\"1081.1\" y=\"1483.28\">0.4</text>\n",
       "</g>\n",
       "<g clip-path=\"url(#clip480)\">\n",
       "<text style=\"fill:#000000; fill-opacity:1; font-family:Arial,Helvetica Neue,Helvetica,sans-serif; font-size:48px; text-anchor:middle;\" transform=\"rotate(0, 1504.98, 1483.28)\" x=\"1504.98\" y=\"1483.28\">0.6</text>\n",
       "</g>\n",
       "<g clip-path=\"url(#clip480)\">\n",
       "<text style=\"fill:#000000; fill-opacity:1; font-family:Arial,Helvetica Neue,Helvetica,sans-serif; font-size:48px; text-anchor:middle;\" transform=\"rotate(0, 1928.87, 1483.28)\" x=\"1928.87\" y=\"1483.28\">0.8</text>\n",
       "</g>\n",
       "<g clip-path=\"url(#clip480)\">\n",
       "<text style=\"fill:#000000; fill-opacity:1; font-family:Arial,Helvetica Neue,Helvetica,sans-serif; font-size:48px; text-anchor:middle;\" transform=\"rotate(0, 2352.76, 1483.28)\" x=\"2352.76\" y=\"1483.28\">1.0</text>\n",
       "</g>\n",
       "<g clip-path=\"url(#clip480)\">\n",
       "<text style=\"fill:#000000; fill-opacity:1; font-family:Arial,Helvetica Neue,Helvetica,sans-serif; font-size:71px; text-anchor:middle;\" transform=\"rotate(0, 1293.04, 1572.78)\" x=\"1293.04\" y=\"1572.78\">若年期の貯蓄(老年期の資産)</text>\n",
       "</g>\n",
       "<polyline clip-path=\"url(#clip482)\" style=\"stroke:#000000; stroke-linecap:butt; stroke-linejoin:round; stroke-width:2; stroke-opacity:0.1; fill:none\" points=\"\n",
       "  233.327,1421.43 2352.76,1421.43 \n",
       "  \"/>\n",
       "<polyline clip-path=\"url(#clip482)\" style=\"stroke:#000000; stroke-linecap:butt; stroke-linejoin:round; stroke-width:2; stroke-opacity:0.1; fill:none\" points=\"\n",
       "  233.327,1146.59 2352.76,1146.59 \n",
       "  \"/>\n",
       "<polyline clip-path=\"url(#clip482)\" style=\"stroke:#000000; stroke-linecap:butt; stroke-linejoin:round; stroke-width:2; stroke-opacity:0.1; fill:none\" points=\"\n",
       "  233.327,871.754 2352.76,871.754 \n",
       "  \"/>\n",
       "<polyline clip-path=\"url(#clip482)\" style=\"stroke:#000000; stroke-linecap:butt; stroke-linejoin:round; stroke-width:2; stroke-opacity:0.1; fill:none\" points=\"\n",
       "  233.327,596.917 2352.76,596.917 \n",
       "  \"/>\n",
       "<polyline clip-path=\"url(#clip482)\" style=\"stroke:#000000; stroke-linecap:butt; stroke-linejoin:round; stroke-width:2; stroke-opacity:0.1; fill:none\" points=\"\n",
       "  233.327,322.081 2352.76,322.081 \n",
       "  \"/>\n",
       "<polyline clip-path=\"url(#clip482)\" style=\"stroke:#000000; stroke-linecap:butt; stroke-linejoin:round; stroke-width:2; stroke-opacity:0.1; fill:none\" points=\"\n",
       "  233.327,47.2441 2352.76,47.2441 \n",
       "  \"/>\n",
       "<polyline clip-path=\"url(#clip480)\" style=\"stroke:#000000; stroke-linecap:butt; stroke-linejoin:round; stroke-width:4; stroke-opacity:1; fill:none\" points=\"\n",
       "  233.327,1421.43 233.327,47.2441 \n",
       "  \"/>\n",
       "<polyline clip-path=\"url(#clip480)\" style=\"stroke:#000000; stroke-linecap:butt; stroke-linejoin:round; stroke-width:2; stroke-opacity:0.5; fill:none\" points=\"\n",
       "  2352.76,1421.43 2352.76,47.2441 \n",
       "  \"/>\n",
       "<polyline clip-path=\"url(#clip480)\" style=\"stroke:#000000; stroke-linecap:butt; stroke-linejoin:round; stroke-width:4; stroke-opacity:1; fill:none\" points=\"\n",
       "  233.327,1421.43 252.225,1421.43 \n",
       "  \"/>\n",
       "<polyline clip-path=\"url(#clip480)\" style=\"stroke:#000000; stroke-linecap:butt; stroke-linejoin:round; stroke-width:4; stroke-opacity:1; fill:none\" points=\"\n",
       "  233.327,1146.59 252.225,1146.59 \n",
       "  \"/>\n",
       "<polyline clip-path=\"url(#clip480)\" style=\"stroke:#000000; stroke-linecap:butt; stroke-linejoin:round; stroke-width:4; stroke-opacity:1; fill:none\" points=\"\n",
       "  233.327,871.754 252.225,871.754 \n",
       "  \"/>\n",
       "<polyline clip-path=\"url(#clip480)\" style=\"stroke:#000000; stroke-linecap:butt; stroke-linejoin:round; stroke-width:4; stroke-opacity:1; fill:none\" points=\"\n",
       "  233.327,596.917 252.225,596.917 \n",
       "  \"/>\n",
       "<polyline clip-path=\"url(#clip480)\" style=\"stroke:#000000; stroke-linecap:butt; stroke-linejoin:round; stroke-width:4; stroke-opacity:1; fill:none\" points=\"\n",
       "  233.327,322.081 252.225,322.081 \n",
       "  \"/>\n",
       "<polyline clip-path=\"url(#clip480)\" style=\"stroke:#000000; stroke-linecap:butt; stroke-linejoin:round; stroke-width:4; stroke-opacity:1; fill:none\" points=\"\n",
       "  233.327,47.2441 252.225,47.2441 \n",
       "  \"/>\n",
       "<g clip-path=\"url(#clip480)\">\n",
       "<text style=\"fill:#000000; fill-opacity:1; font-family:Arial,Helvetica Neue,Helvetica,sans-serif; font-size:48px; text-anchor:middle;\" transform=\"rotate(0, 157.183, 1438.93)\" x=\"157.183\" y=\"1438.93\">−10</text>\n",
       "</g>\n",
       "<g clip-path=\"url(#clip480)\">\n",
       "<text style=\"fill:#000000; fill-opacity:1; font-family:Arial,Helvetica Neue,Helvetica,sans-serif; font-size:48px; text-anchor:middle;\" transform=\"rotate(0, 170.565, 1164.09)\" x=\"170.565\" y=\"1164.09\">−8</text>\n",
       "</g>\n",
       "<g clip-path=\"url(#clip480)\">\n",
       "<text style=\"fill:#000000; fill-opacity:1; font-family:Arial,Helvetica Neue,Helvetica,sans-serif; font-size:48px; text-anchor:middle;\" transform=\"rotate(0, 170.565, 889.254)\" x=\"170.565\" y=\"889.254\">−6</text>\n",
       "</g>\n",
       "<g clip-path=\"url(#clip480)\">\n",
       "<text style=\"fill:#000000; fill-opacity:1; font-family:Arial,Helvetica Neue,Helvetica,sans-serif; font-size:48px; text-anchor:middle;\" transform=\"rotate(0, 170.565, 614.417)\" x=\"170.565\" y=\"614.417\">−4</text>\n",
       "</g>\n",
       "<g clip-path=\"url(#clip480)\">\n",
       "<text style=\"fill:#000000; fill-opacity:1; font-family:Arial,Helvetica Neue,Helvetica,sans-serif; font-size:48px; text-anchor:middle;\" transform=\"rotate(0, 170.565, 339.581)\" x=\"170.565\" y=\"339.581\">−2</text>\n",
       "</g>\n",
       "<g clip-path=\"url(#clip480)\">\n",
       "<text style=\"fill:#000000; fill-opacity:1; font-family:Arial,Helvetica Neue,Helvetica,sans-serif; font-size:48px; text-anchor:middle;\" transform=\"rotate(0, 183.946, 64.7441)\" x=\"183.946\" y=\"64.7441\">0</text>\n",
       "</g>\n",
       "<g clip-path=\"url(#clip480)\">\n",
       "<text style=\"fill:#000000; fill-opacity:1; font-family:Arial,Helvetica Neue,Helvetica,sans-serif; font-size:71px; text-anchor:middle;\" transform=\"rotate(-90, 67.9903, 734.336)\" x=\"67.9903\" y=\"734.336\">生涯効用</text>\n",
       "</g>\n",
       "<polyline clip-path=\"url(#clip482)\" style=\"stroke:#0000ff; stroke-linecap:butt; stroke-linejoin:round; stroke-width:16; stroke-opacity:1; fill:none\" points=\"\n",
       "  286.313,2001.78 339.298,1185.24 392.284,925.66 445.27,807.099 498.256,746.74 551.241,717.407 604.227,707.96 657.213,713.459 710.198,731.973 763.184,763.441 \n",
       "  816.17,809.377 869.156,873.105 922.141,960.586 975.127,1082.31 1028.11,1257.61 1081.1,1525.5 1134.08,1977.44 1187.07,2888.12 1240.06,5631.62 1293.04,1.37423e+06 \n",
       "  1346.03,1.37423e+06 1399.01,1.37423e+06 1452,1.37423e+06 1504.98,1.37423e+06 1557.97,1.37423e+06 1610.96,1.37423e+06 1663.94,1.37423e+06 1716.93,1.37423e+06 1769.91,1.37423e+06 1822.9,1.37423e+06 \n",
       "  1875.88,1.37423e+06 1928.87,1.37423e+06 1981.86,1.37423e+06 2034.84,1.37423e+06 2087.83,1.37423e+06 2140.81,1.37423e+06 2193.8,1.37423e+06 2246.78,1.37423e+06 2299.77,1.37423e+06 2352.76,1.37423e+06 \n",
       "  \n",
       "  \"/>\n",
       "<circle clip-path=\"url(#clip482)\" cx=\"339.298\" cy=\"1185.24\" r=\"28.8\" fill=\"#0000ff\" fill-rule=\"evenodd\" fill-opacity=\"1\" stroke=\"#000000\" stroke-opacity=\"1\" stroke-width=\"3.2\"/>\n",
       "<circle clip-path=\"url(#clip482)\" cx=\"392.284\" cy=\"925.66\" r=\"28.8\" fill=\"#0000ff\" fill-rule=\"evenodd\" fill-opacity=\"1\" stroke=\"#000000\" stroke-opacity=\"1\" stroke-width=\"3.2\"/>\n",
       "<circle clip-path=\"url(#clip482)\" cx=\"445.27\" cy=\"807.099\" r=\"28.8\" fill=\"#0000ff\" fill-rule=\"evenodd\" fill-opacity=\"1\" stroke=\"#000000\" stroke-opacity=\"1\" stroke-width=\"3.2\"/>\n",
       "<circle clip-path=\"url(#clip482)\" cx=\"498.256\" cy=\"746.74\" r=\"28.8\" fill=\"#0000ff\" fill-rule=\"evenodd\" fill-opacity=\"1\" stroke=\"#000000\" stroke-opacity=\"1\" stroke-width=\"3.2\"/>\n",
       "<circle clip-path=\"url(#clip482)\" cx=\"551.241\" cy=\"717.407\" r=\"28.8\" fill=\"#0000ff\" fill-rule=\"evenodd\" fill-opacity=\"1\" stroke=\"#000000\" stroke-opacity=\"1\" stroke-width=\"3.2\"/>\n",
       "<circle clip-path=\"url(#clip482)\" cx=\"604.227\" cy=\"707.96\" r=\"28.8\" fill=\"#0000ff\" fill-rule=\"evenodd\" fill-opacity=\"1\" stroke=\"#000000\" stroke-opacity=\"1\" stroke-width=\"3.2\"/>\n",
       "<circle clip-path=\"url(#clip482)\" cx=\"657.213\" cy=\"713.459\" r=\"28.8\" fill=\"#0000ff\" fill-rule=\"evenodd\" fill-opacity=\"1\" stroke=\"#000000\" stroke-opacity=\"1\" stroke-width=\"3.2\"/>\n",
       "<circle clip-path=\"url(#clip482)\" cx=\"710.198\" cy=\"731.973\" r=\"28.8\" fill=\"#0000ff\" fill-rule=\"evenodd\" fill-opacity=\"1\" stroke=\"#000000\" stroke-opacity=\"1\" stroke-width=\"3.2\"/>\n",
       "<circle clip-path=\"url(#clip482)\" cx=\"763.184\" cy=\"763.441\" r=\"28.8\" fill=\"#0000ff\" fill-rule=\"evenodd\" fill-opacity=\"1\" stroke=\"#000000\" stroke-opacity=\"1\" stroke-width=\"3.2\"/>\n",
       "<circle clip-path=\"url(#clip482)\" cx=\"816.17\" cy=\"809.377\" r=\"28.8\" fill=\"#0000ff\" fill-rule=\"evenodd\" fill-opacity=\"1\" stroke=\"#000000\" stroke-opacity=\"1\" stroke-width=\"3.2\"/>\n",
       "<circle clip-path=\"url(#clip482)\" cx=\"869.156\" cy=\"873.105\" r=\"28.8\" fill=\"#0000ff\" fill-rule=\"evenodd\" fill-opacity=\"1\" stroke=\"#000000\" stroke-opacity=\"1\" stroke-width=\"3.2\"/>\n",
       "<circle clip-path=\"url(#clip482)\" cx=\"922.141\" cy=\"960.586\" r=\"28.8\" fill=\"#0000ff\" fill-rule=\"evenodd\" fill-opacity=\"1\" stroke=\"#000000\" stroke-opacity=\"1\" stroke-width=\"3.2\"/>\n",
       "<circle clip-path=\"url(#clip482)\" cx=\"975.127\" cy=\"1082.31\" r=\"28.8\" fill=\"#0000ff\" fill-rule=\"evenodd\" fill-opacity=\"1\" stroke=\"#000000\" stroke-opacity=\"1\" stroke-width=\"3.2\"/>\n",
       "<circle clip-path=\"url(#clip482)\" cx=\"1028.11\" cy=\"1257.61\" r=\"28.8\" fill=\"#0000ff\" fill-rule=\"evenodd\" fill-opacity=\"1\" stroke=\"#000000\" stroke-opacity=\"1\" stroke-width=\"3.2\"/>\n",
       "<polyline clip-path=\"url(#clip482)\" style=\"stroke:#e26f46; stroke-linecap:butt; stroke-linejoin:round; stroke-width:16; stroke-opacity:1; fill:none\" points=\"\n",
       "  286.313,1889.79 339.298,1063.09 392.284,791.865 445.27,659.865 498.256,583.874 551.241,536.196 604.227,505.004 657.213,484.429 710.198,471.259 763.184,463.619 \n",
       "  816.17,460.378 869.156,460.85 922.141,464.641 975.127,471.563 1028.11,481.597 1081.1,494.867 1134.08,511.648 1187.07,532.381 1240.06,557.714 1293.04,588.567 \n",
       "  1346.03,626.244 1399.01,672.61 1452,730.394 1504.98,803.72 1557.97,899.101 1610.96,1027.41 1663.94,1208.27 1716.93,1480.9 1769.91,1936.91 1822.9,2851.12 \n",
       "  1875.88,5597.69 1928.87,1.23775e+18 1981.86,1.37423e+06 2034.84,1.37423e+06 2087.83,1.37423e+06 2140.81,1.37423e+06 2193.8,1.37423e+06 2246.78,1.37423e+06 2299.77,1.37423e+06 2352.76,1.37423e+06 \n",
       "  \n",
       "  \"/>\n",
       "<path clip-path=\"url(#clip482)\" d=\"M339.298 1031.09 L307.298 1095.09 L371.298 1095.09 L339.298 1031.09 Z\" fill=\"#e26f46\" fill-rule=\"evenodd\" fill-opacity=\"1\" stroke=\"#000000\" stroke-opacity=\"1\" stroke-width=\"3.2\"/>\n",
       "<path clip-path=\"url(#clip482)\" d=\"M392.284 759.865 L360.284 823.865 L424.284 823.865 L392.284 759.865 Z\" fill=\"#e26f46\" fill-rule=\"evenodd\" fill-opacity=\"1\" stroke=\"#000000\" stroke-opacity=\"1\" stroke-width=\"3.2\"/>\n",
       "<path clip-path=\"url(#clip482)\" d=\"M445.27 627.865 L413.27 691.865 L477.27 691.865 L445.27 627.865 Z\" fill=\"#e26f46\" fill-rule=\"evenodd\" fill-opacity=\"1\" stroke=\"#000000\" stroke-opacity=\"1\" stroke-width=\"3.2\"/>\n",
       "<path clip-path=\"url(#clip482)\" d=\"M498.256 551.874 L466.256 615.874 L530.256 615.874 L498.256 551.874 Z\" fill=\"#e26f46\" fill-rule=\"evenodd\" fill-opacity=\"1\" stroke=\"#000000\" stroke-opacity=\"1\" stroke-width=\"3.2\"/>\n",
       "<path clip-path=\"url(#clip482)\" d=\"M551.241 504.196 L519.241 568.196 L583.241 568.196 L551.241 504.196 Z\" fill=\"#e26f46\" fill-rule=\"evenodd\" fill-opacity=\"1\" stroke=\"#000000\" stroke-opacity=\"1\" stroke-width=\"3.2\"/>\n",
       "<path clip-path=\"url(#clip482)\" d=\"M604.227 473.004 L572.227 537.004 L636.227 537.004 L604.227 473.004 Z\" fill=\"#e26f46\" fill-rule=\"evenodd\" fill-opacity=\"1\" stroke=\"#000000\" stroke-opacity=\"1\" stroke-width=\"3.2\"/>\n",
       "<path clip-path=\"url(#clip482)\" d=\"M657.213 452.429 L625.213 516.429 L689.213 516.429 L657.213 452.429 Z\" fill=\"#e26f46\" fill-rule=\"evenodd\" fill-opacity=\"1\" stroke=\"#000000\" stroke-opacity=\"1\" stroke-width=\"3.2\"/>\n",
       "<path clip-path=\"url(#clip482)\" d=\"M710.198 439.259 L678.198 503.259 L742.198 503.259 L710.198 439.259 Z\" fill=\"#e26f46\" fill-rule=\"evenodd\" fill-opacity=\"1\" stroke=\"#000000\" stroke-opacity=\"1\" stroke-width=\"3.2\"/>\n",
       "<path clip-path=\"url(#clip482)\" d=\"M763.184 431.619 L731.184 495.619 L795.184 495.619 L763.184 431.619 Z\" fill=\"#e26f46\" fill-rule=\"evenodd\" fill-opacity=\"1\" stroke=\"#000000\" stroke-opacity=\"1\" stroke-width=\"3.2\"/>\n",
       "<path clip-path=\"url(#clip482)\" d=\"M816.17 428.378 L784.17 492.378 L848.17 492.378 L816.17 428.378 Z\" fill=\"#e26f46\" fill-rule=\"evenodd\" fill-opacity=\"1\" stroke=\"#000000\" stroke-opacity=\"1\" stroke-width=\"3.2\"/>\n",
       "<path clip-path=\"url(#clip482)\" d=\"M869.156 428.85 L837.156 492.85 L901.156 492.85 L869.156 428.85 Z\" fill=\"#e26f46\" fill-rule=\"evenodd\" fill-opacity=\"1\" stroke=\"#000000\" stroke-opacity=\"1\" stroke-width=\"3.2\"/>\n",
       "<path clip-path=\"url(#clip482)\" d=\"M922.141 432.641 L890.141 496.641 L954.141 496.641 L922.141 432.641 Z\" fill=\"#e26f46\" fill-rule=\"evenodd\" fill-opacity=\"1\" stroke=\"#000000\" stroke-opacity=\"1\" stroke-width=\"3.2\"/>\n",
       "<path clip-path=\"url(#clip482)\" d=\"M975.127 439.563 L943.127 503.563 L1007.13 503.563 L975.127 439.563 Z\" fill=\"#e26f46\" fill-rule=\"evenodd\" fill-opacity=\"1\" stroke=\"#000000\" stroke-opacity=\"1\" stroke-width=\"3.2\"/>\n",
       "<path clip-path=\"url(#clip482)\" d=\"M1028.11 449.597 L996.113 513.597 L1060.11 513.597 L1028.11 449.597 Z\" fill=\"#e26f46\" fill-rule=\"evenodd\" fill-opacity=\"1\" stroke=\"#000000\" stroke-opacity=\"1\" stroke-width=\"3.2\"/>\n",
       "<path clip-path=\"url(#clip482)\" d=\"M1081.1 462.867 L1049.1 526.867 L1113.1 526.867 L1081.1 462.867 Z\" fill=\"#e26f46\" fill-rule=\"evenodd\" fill-opacity=\"1\" stroke=\"#000000\" stroke-opacity=\"1\" stroke-width=\"3.2\"/>\n",
       "<path clip-path=\"url(#clip482)\" d=\"M1134.08 479.648 L1102.08 543.648 L1166.08 543.648 L1134.08 479.648 Z\" fill=\"#e26f46\" fill-rule=\"evenodd\" fill-opacity=\"1\" stroke=\"#000000\" stroke-opacity=\"1\" stroke-width=\"3.2\"/>\n",
       "<path clip-path=\"url(#clip482)\" d=\"M1187.07 500.381 L1155.07 564.381 L1219.07 564.381 L1187.07 500.381 Z\" fill=\"#e26f46\" fill-rule=\"evenodd\" fill-opacity=\"1\" stroke=\"#000000\" stroke-opacity=\"1\" stroke-width=\"3.2\"/>\n",
       "<path clip-path=\"url(#clip482)\" d=\"M1240.06 525.714 L1208.06 589.714 L1272.06 589.714 L1240.06 525.714 Z\" fill=\"#e26f46\" fill-rule=\"evenodd\" fill-opacity=\"1\" stroke=\"#000000\" stroke-opacity=\"1\" stroke-width=\"3.2\"/>\n",
       "<path clip-path=\"url(#clip482)\" d=\"M1293.04 556.567 L1261.04 620.567 L1325.04 620.567 L1293.04 556.567 Z\" fill=\"#e26f46\" fill-rule=\"evenodd\" fill-opacity=\"1\" stroke=\"#000000\" stroke-opacity=\"1\" stroke-width=\"3.2\"/>\n",
       "<path clip-path=\"url(#clip482)\" d=\"M1346.03 594.244 L1314.03 658.244 L1378.03 658.244 L1346.03 594.244 Z\" fill=\"#e26f46\" fill-rule=\"evenodd\" fill-opacity=\"1\" stroke=\"#000000\" stroke-opacity=\"1\" stroke-width=\"3.2\"/>\n",
       "<path clip-path=\"url(#clip482)\" d=\"M1399.01 640.61 L1367.01 704.61 L1431.01 704.61 L1399.01 640.61 Z\" fill=\"#e26f46\" fill-rule=\"evenodd\" fill-opacity=\"1\" stroke=\"#000000\" stroke-opacity=\"1\" stroke-width=\"3.2\"/>\n",
       "<path clip-path=\"url(#clip482)\" d=\"M1452 698.394 L1420 762.394 L1484 762.394 L1452 698.394 Z\" fill=\"#e26f46\" fill-rule=\"evenodd\" fill-opacity=\"1\" stroke=\"#000000\" stroke-opacity=\"1\" stroke-width=\"3.2\"/>\n",
       "<path clip-path=\"url(#clip482)\" d=\"M1504.98 771.72 L1472.98 835.72 L1536.98 835.72 L1504.98 771.72 Z\" fill=\"#e26f46\" fill-rule=\"evenodd\" fill-opacity=\"1\" stroke=\"#000000\" stroke-opacity=\"1\" stroke-width=\"3.2\"/>\n",
       "<path clip-path=\"url(#clip482)\" d=\"M1557.97 867.101 L1525.97 931.101 L1589.97 931.101 L1557.97 867.101 Z\" fill=\"#e26f46\" fill-rule=\"evenodd\" fill-opacity=\"1\" stroke=\"#000000\" stroke-opacity=\"1\" stroke-width=\"3.2\"/>\n",
       "<path clip-path=\"url(#clip482)\" d=\"M1610.96 995.414 L1578.96 1059.41 L1642.96 1059.41 L1610.96 995.414 Z\" fill=\"#e26f46\" fill-rule=\"evenodd\" fill-opacity=\"1\" stroke=\"#000000\" stroke-opacity=\"1\" stroke-width=\"3.2\"/>\n",
       "<path clip-path=\"url(#clip482)\" d=\"M1663.94 1176.27 L1631.94 1240.27 L1695.94 1240.27 L1663.94 1176.27 Z\" fill=\"#e26f46\" fill-rule=\"evenodd\" fill-opacity=\"1\" stroke=\"#000000\" stroke-opacity=\"1\" stroke-width=\"3.2\"/>\n",
       "<polyline clip-path=\"url(#clip482)\" style=\"stroke:#3da44d; stroke-linecap:butt; stroke-linejoin:round; stroke-width:16; stroke-opacity:1; fill:none\" points=\"\n",
       "  286.313,1853.42 339.298,1024.51 392.284,750.883 445.27,616.24 498.256,537.341 551.241,486.452 604.227,451.702 657.213,427.171 710.198,409.584 763.184,396.992 \n",
       "  816.17,388.172 869.156,382.326 922.141,378.922 975.127,377.602 1028.11,378.129 1081.1,380.352 1134.08,384.187 1187.07,389.609 1240.06,396.637 1293.04,405.342 \n",
       "  1346.03,415.843 1399.01,428.311 1452,442.983 1504.98,460.175 1557.97,480.302 1610.96,503.915 1663.94,531.745 1716.93,564.778 1769.91,604.369 1822.9,652.425 \n",
       "  1875.88,711.709 1928.87,786.374 1981.86,882.953 2034.84,1012.34 2087.83,1194.17 2140.81,1467.68 2193.8,1924.49 2246.78,2839.43 2299.77,5586.67 2352.76,1.37423e+06 \n",
       "  \n",
       "  \"/>\n",
       "<path clip-path=\"url(#clip482)\" d=\"M307.298 992.512 L307.298 1056.51 L371.298 1056.51 L371.298 992.512 L307.298 992.512 Z\" fill=\"#3da44d\" fill-rule=\"evenodd\" fill-opacity=\"1\" stroke=\"#000000\" stroke-opacity=\"1\" stroke-width=\"3.2\"/>\n",
       "<path clip-path=\"url(#clip482)\" d=\"M360.284 718.883 L360.284 782.883 L424.284 782.883 L424.284 718.883 L360.284 718.883 Z\" fill=\"#3da44d\" fill-rule=\"evenodd\" fill-opacity=\"1\" stroke=\"#000000\" stroke-opacity=\"1\" stroke-width=\"3.2\"/>\n",
       "<path clip-path=\"url(#clip482)\" d=\"M413.27 584.24 L413.27 648.24 L477.27 648.24 L477.27 584.24 L413.27 584.24 Z\" fill=\"#3da44d\" fill-rule=\"evenodd\" fill-opacity=\"1\" stroke=\"#000000\" stroke-opacity=\"1\" stroke-width=\"3.2\"/>\n",
       "<path clip-path=\"url(#clip482)\" d=\"M466.256 505.341 L466.256 569.341 L530.256 569.341 L530.256 505.341 L466.256 505.341 Z\" fill=\"#3da44d\" fill-rule=\"evenodd\" fill-opacity=\"1\" stroke=\"#000000\" stroke-opacity=\"1\" stroke-width=\"3.2\"/>\n",
       "<path clip-path=\"url(#clip482)\" d=\"M519.241 454.452 L519.241 518.452 L583.241 518.452 L583.241 454.452 L519.241 454.452 Z\" fill=\"#3da44d\" fill-rule=\"evenodd\" fill-opacity=\"1\" stroke=\"#000000\" stroke-opacity=\"1\" stroke-width=\"3.2\"/>\n",
       "<path clip-path=\"url(#clip482)\" d=\"M572.227 419.702 L572.227 483.702 L636.227 483.702 L636.227 419.702 L572.227 419.702 Z\" fill=\"#3da44d\" fill-rule=\"evenodd\" fill-opacity=\"1\" stroke=\"#000000\" stroke-opacity=\"1\" stroke-width=\"3.2\"/>\n",
       "<path clip-path=\"url(#clip482)\" d=\"M625.213 395.171 L625.213 459.171 L689.213 459.171 L689.213 395.171 L625.213 395.171 Z\" fill=\"#3da44d\" fill-rule=\"evenodd\" fill-opacity=\"1\" stroke=\"#000000\" stroke-opacity=\"1\" stroke-width=\"3.2\"/>\n",
       "<path clip-path=\"url(#clip482)\" d=\"M678.198 377.584 L678.198 441.584 L742.198 441.584 L742.198 377.584 L678.198 377.584 Z\" fill=\"#3da44d\" fill-rule=\"evenodd\" fill-opacity=\"1\" stroke=\"#000000\" stroke-opacity=\"1\" stroke-width=\"3.2\"/>\n",
       "<path clip-path=\"url(#clip482)\" d=\"M731.184 364.992 L731.184 428.992 L795.184 428.992 L795.184 364.992 L731.184 364.992 Z\" fill=\"#3da44d\" fill-rule=\"evenodd\" fill-opacity=\"1\" stroke=\"#000000\" stroke-opacity=\"1\" stroke-width=\"3.2\"/>\n",
       "<path clip-path=\"url(#clip482)\" d=\"M784.17 356.172 L784.17 420.172 L848.17 420.172 L848.17 356.172 L784.17 356.172 Z\" fill=\"#3da44d\" fill-rule=\"evenodd\" fill-opacity=\"1\" stroke=\"#000000\" stroke-opacity=\"1\" stroke-width=\"3.2\"/>\n",
       "<path clip-path=\"url(#clip482)\" d=\"M837.156 350.326 L837.156 414.326 L901.156 414.326 L901.156 350.326 L837.156 350.326 Z\" fill=\"#3da44d\" fill-rule=\"evenodd\" fill-opacity=\"1\" stroke=\"#000000\" stroke-opacity=\"1\" stroke-width=\"3.2\"/>\n",
       "<path clip-path=\"url(#clip482)\" d=\"M890.141 346.922 L890.141 410.922 L954.141 410.922 L954.141 346.922 L890.141 346.922 Z\" fill=\"#3da44d\" fill-rule=\"evenodd\" fill-opacity=\"1\" stroke=\"#000000\" stroke-opacity=\"1\" stroke-width=\"3.2\"/>\n",
       "<path clip-path=\"url(#clip482)\" d=\"M943.127 345.602 L943.127 409.602 L1007.13 409.602 L1007.13 345.602 L943.127 345.602 Z\" fill=\"#3da44d\" fill-rule=\"evenodd\" fill-opacity=\"1\" stroke=\"#000000\" stroke-opacity=\"1\" stroke-width=\"3.2\"/>\n",
       "<path clip-path=\"url(#clip482)\" d=\"M996.113 346.129 L996.113 410.129 L1060.11 410.129 L1060.11 346.129 L996.113 346.129 Z\" fill=\"#3da44d\" fill-rule=\"evenodd\" fill-opacity=\"1\" stroke=\"#000000\" stroke-opacity=\"1\" stroke-width=\"3.2\"/>\n",
       "<path clip-path=\"url(#clip482)\" d=\"M1049.1 348.352 L1049.1 412.352 L1113.1 412.352 L1113.1 348.352 L1049.1 348.352 Z\" fill=\"#3da44d\" fill-rule=\"evenodd\" fill-opacity=\"1\" stroke=\"#000000\" stroke-opacity=\"1\" stroke-width=\"3.2\"/>\n",
       "<path clip-path=\"url(#clip482)\" d=\"M1102.08 352.187 L1102.08 416.187 L1166.08 416.187 L1166.08 352.187 L1102.08 352.187 Z\" fill=\"#3da44d\" fill-rule=\"evenodd\" fill-opacity=\"1\" stroke=\"#000000\" stroke-opacity=\"1\" stroke-width=\"3.2\"/>\n",
       "<path clip-path=\"url(#clip482)\" d=\"M1155.07 357.609 L1155.07 421.609 L1219.07 421.609 L1219.07 357.609 L1155.07 357.609 Z\" fill=\"#3da44d\" fill-rule=\"evenodd\" fill-opacity=\"1\" stroke=\"#000000\" stroke-opacity=\"1\" stroke-width=\"3.2\"/>\n",
       "<path clip-path=\"url(#clip482)\" d=\"M1208.06 364.637 L1208.06 428.637 L1272.06 428.637 L1272.06 364.637 L1208.06 364.637 Z\" fill=\"#3da44d\" fill-rule=\"evenodd\" fill-opacity=\"1\" stroke=\"#000000\" stroke-opacity=\"1\" stroke-width=\"3.2\"/>\n",
       "<path clip-path=\"url(#clip482)\" d=\"M1261.04 373.342 L1261.04 437.342 L1325.04 437.342 L1325.04 373.342 L1261.04 373.342 Z\" fill=\"#3da44d\" fill-rule=\"evenodd\" fill-opacity=\"1\" stroke=\"#000000\" stroke-opacity=\"1\" stroke-width=\"3.2\"/>\n",
       "<path clip-path=\"url(#clip482)\" d=\"M1314.03 383.843 L1314.03 447.843 L1378.03 447.843 L1378.03 383.843 L1314.03 383.843 Z\" fill=\"#3da44d\" fill-rule=\"evenodd\" fill-opacity=\"1\" stroke=\"#000000\" stroke-opacity=\"1\" stroke-width=\"3.2\"/>\n",
       "<path clip-path=\"url(#clip482)\" d=\"M1367.01 396.311 L1367.01 460.311 L1431.01 460.311 L1431.01 396.311 L1367.01 396.311 Z\" fill=\"#3da44d\" fill-rule=\"evenodd\" fill-opacity=\"1\" stroke=\"#000000\" stroke-opacity=\"1\" stroke-width=\"3.2\"/>\n",
       "<path clip-path=\"url(#clip482)\" d=\"M1420 410.983 L1420 474.983 L1484 474.983 L1484 410.983 L1420 410.983 Z\" fill=\"#3da44d\" fill-rule=\"evenodd\" fill-opacity=\"1\" stroke=\"#000000\" stroke-opacity=\"1\" stroke-width=\"3.2\"/>\n",
       "<path clip-path=\"url(#clip482)\" d=\"M1472.98 428.175 L1472.98 492.175 L1536.98 492.175 L1536.98 428.175 L1472.98 428.175 Z\" fill=\"#3da44d\" fill-rule=\"evenodd\" fill-opacity=\"1\" stroke=\"#000000\" stroke-opacity=\"1\" stroke-width=\"3.2\"/>\n",
       "<path clip-path=\"url(#clip482)\" d=\"M1525.97 448.302 L1525.97 512.302 L1589.97 512.302 L1589.97 448.302 L1525.97 448.302 Z\" fill=\"#3da44d\" fill-rule=\"evenodd\" fill-opacity=\"1\" stroke=\"#000000\" stroke-opacity=\"1\" stroke-width=\"3.2\"/>\n",
       "<path clip-path=\"url(#clip482)\" d=\"M1578.96 471.915 L1578.96 535.915 L1642.96 535.915 L1642.96 471.915 L1578.96 471.915 Z\" fill=\"#3da44d\" fill-rule=\"evenodd\" fill-opacity=\"1\" stroke=\"#000000\" stroke-opacity=\"1\" stroke-width=\"3.2\"/>\n",
       "<path clip-path=\"url(#clip482)\" d=\"M1631.94 499.745 L1631.94 563.745 L1695.94 563.745 L1695.94 499.745 L1631.94 499.745 Z\" fill=\"#3da44d\" fill-rule=\"evenodd\" fill-opacity=\"1\" stroke=\"#000000\" stroke-opacity=\"1\" stroke-width=\"3.2\"/>\n",
       "<path clip-path=\"url(#clip482)\" d=\"M1684.93 532.778 L1684.93 596.778 L1748.93 596.778 L1748.93 532.778 L1684.93 532.778 Z\" fill=\"#3da44d\" fill-rule=\"evenodd\" fill-opacity=\"1\" stroke=\"#000000\" stroke-opacity=\"1\" stroke-width=\"3.2\"/>\n",
       "<path clip-path=\"url(#clip482)\" d=\"M1737.91 572.369 L1737.91 636.369 L1801.91 636.369 L1801.91 572.369 L1737.91 572.369 Z\" fill=\"#3da44d\" fill-rule=\"evenodd\" fill-opacity=\"1\" stroke=\"#000000\" stroke-opacity=\"1\" stroke-width=\"3.2\"/>\n",
       "<path clip-path=\"url(#clip482)\" d=\"M1790.9 620.425 L1790.9 684.425 L1854.9 684.425 L1854.9 620.425 L1790.9 620.425 Z\" fill=\"#3da44d\" fill-rule=\"evenodd\" fill-opacity=\"1\" stroke=\"#000000\" stroke-opacity=\"1\" stroke-width=\"3.2\"/>\n",
       "<path clip-path=\"url(#clip482)\" d=\"M1843.88 679.709 L1843.88 743.709 L1907.88 743.709 L1907.88 679.709 L1843.88 679.709 Z\" fill=\"#3da44d\" fill-rule=\"evenodd\" fill-opacity=\"1\" stroke=\"#000000\" stroke-opacity=\"1\" stroke-width=\"3.2\"/>\n",
       "<path clip-path=\"url(#clip482)\" d=\"M1896.87 754.374 L1896.87 818.374 L1960.87 818.374 L1960.87 754.374 L1896.87 754.374 Z\" fill=\"#3da44d\" fill-rule=\"evenodd\" fill-opacity=\"1\" stroke=\"#000000\" stroke-opacity=\"1\" stroke-width=\"3.2\"/>\n",
       "<path clip-path=\"url(#clip482)\" d=\"M1949.86 850.953 L1949.86 914.953 L2013.86 914.953 L2013.86 850.953 L1949.86 850.953 Z\" fill=\"#3da44d\" fill-rule=\"evenodd\" fill-opacity=\"1\" stroke=\"#000000\" stroke-opacity=\"1\" stroke-width=\"3.2\"/>\n",
       "<path clip-path=\"url(#clip482)\" d=\"M2002.84 980.344 L2002.84 1044.34 L2066.84 1044.34 L2066.84 980.344 L2002.84 980.344 Z\" fill=\"#3da44d\" fill-rule=\"evenodd\" fill-opacity=\"1\" stroke=\"#000000\" stroke-opacity=\"1\" stroke-width=\"3.2\"/>\n",
       "<path clip-path=\"url(#clip482)\" d=\"M2055.83 1162.17 L2055.83 1226.17 L2119.83 1226.17 L2119.83 1162.17 L2055.83 1162.17 Z\" fill=\"#3da44d\" fill-rule=\"evenodd\" fill-opacity=\"1\" stroke=\"#000000\" stroke-opacity=\"1\" stroke-width=\"3.2\"/>\n",
       "<path clip-path=\"url(#clip480)\" d=\"\n",
       "M1867.73 300.41 L2282.11 300.41 L2282.11 93.0502 L1867.73 93.0502  Z\n",
       "  \" fill=\"#ffffff\" fill-rule=\"evenodd\" fill-opacity=\"1\"/>\n",
       "<polyline clip-path=\"url(#clip480)\" style=\"stroke:#000000; stroke-linecap:butt; stroke-linejoin:round; stroke-width:4; stroke-opacity:1; fill:none\" points=\"\n",
       "  1867.73,300.41 2282.11,300.41 2282.11,93.0502 1867.73,93.0502 1867.73,300.41 \n",
       "  \"/>\n",
       "<polyline clip-path=\"url(#clip480)\" style=\"stroke:#0000ff; stroke-linecap:butt; stroke-linejoin:round; stroke-width:4; stroke-opacity:1; fill:none\" points=\"\n",
       "  1891.28,144.89 2032.57,144.89 \n",
       "  \"/>\n",
       "<circle clip-path=\"url(#clip480)\" cx=\"1961.93\" cy=\"144.89\" r=\"23.04\" fill=\"#0000ff\" fill-rule=\"evenodd\" fill-opacity=\"1\" stroke=\"#000000\" stroke-opacity=\"1\" stroke-width=\"2.56\"/>\n",
       "<path clip-path=\"url(#clip480)\" d=\"M2056.12 136.244 L2060.38 136.244 L2065.71 156.476 L2071.01 136.244 L2076.03 136.244 L2081.35 156.476 L2086.65 136.244 L2090.91 136.244 L2084.13 162.17 L2079.11 162.17 L2073.53 140.92 L2067.93 162.17 L2062.9 162.17 L2056.12 136.244 Z\" fill=\"#000000\" fill-rule=\"evenodd\" fill-opacity=\"1\" /><path clip-path=\"url(#clip480)\" d=\"M2113 140.643 L2142.67 140.643 L2142.67 144.531 L2113 144.531 L2113 140.643 M2113 150.087 L2142.67 150.087 L2142.67 154.022 L2113 154.022 L2113 150.087 Z\" fill=\"#000000\" fill-rule=\"evenodd\" fill-opacity=\"1\" /><path clip-path=\"url(#clip480)\" d=\"M2177.83 130.689 Q2174.22 130.689 2172.39 134.254 Q2170.59 137.795 2170.59 144.925 Q2170.59 152.031 2172.39 155.596 Q2174.22 159.138 2177.83 159.138 Q2181.47 159.138 2183.27 155.596 Q2185.1 152.031 2185.1 144.925 Q2185.1 137.795 2183.27 134.254 Q2181.47 130.689 2177.83 130.689 M2177.83 126.985 Q2183.64 126.985 2186.7 131.592 Q2189.78 136.175 2189.78 144.925 Q2189.78 153.652 2186.7 158.258 Q2183.64 162.841 2177.83 162.841 Q2172.02 162.841 2168.95 158.258 Q2165.89 153.652 2165.89 144.925 Q2165.89 136.175 2168.95 131.592 Q2172.02 126.985 2177.83 126.985 Z\" fill=\"#000000\" fill-rule=\"evenodd\" fill-opacity=\"1\" /><path clip-path=\"url(#clip480)\" d=\"M2198 156.291 L2202.88 156.291 L2202.88 162.17 L2198 162.17 L2198 156.291 Z\" fill=\"#000000\" fill-rule=\"evenodd\" fill-opacity=\"1\" /><path clip-path=\"url(#clip480)\" d=\"M2213.11 127.61 L2231.47 127.61 L2231.47 131.545 L2217.39 131.545 L2217.39 140.018 Q2218.41 139.67 2219.43 139.508 Q2220.45 139.323 2221.47 139.323 Q2227.26 139.323 2230.63 142.494 Q2234.01 145.666 2234.01 151.082 Q2234.01 156.661 2230.54 159.763 Q2227.07 162.841 2220.75 162.841 Q2218.57 162.841 2216.31 162.471 Q2214.06 162.101 2211.65 161.36 L2211.65 156.661 Q2213.74 157.795 2215.96 158.351 Q2218.18 158.906 2220.66 158.906 Q2224.66 158.906 2227 156.8 Q2229.34 154.693 2229.34 151.082 Q2229.34 147.471 2227 145.365 Q2224.66 143.258 2220.66 143.258 Q2218.78 143.258 2216.91 143.675 Q2215.06 144.092 2213.11 144.971 L2213.11 127.61 Z\" fill=\"#000000\" fill-rule=\"evenodd\" fill-opacity=\"1\" /><polyline clip-path=\"url(#clip480)\" style=\"stroke:#e26f46; stroke-linecap:butt; stroke-linejoin:round; stroke-width:4; stroke-opacity:1; fill:none\" points=\"\n",
       "  1891.28,196.73 2032.57,196.73 \n",
       "  \"/>\n",
       "<path clip-path=\"url(#clip480)\" d=\"M1961.93 171.13 L1936.33 222.33 L1987.53 222.33 L1961.93 171.13 Z\" fill=\"#e26f46\" fill-rule=\"evenodd\" fill-opacity=\"1\" stroke=\"#000000\" stroke-opacity=\"1\" stroke-width=\"2.56\"/>\n",
       "<path clip-path=\"url(#clip480)\" d=\"M2056.12 188.084 L2060.38 188.084 L2065.71 208.316 L2071.01 188.084 L2076.03 188.084 L2081.35 208.316 L2086.65 188.084 L2090.91 188.084 L2084.13 214.01 L2079.11 214.01 L2073.53 192.76 L2067.93 214.01 L2062.9 214.01 L2056.12 188.084 Z\" fill=\"#000000\" fill-rule=\"evenodd\" fill-opacity=\"1\" /><path clip-path=\"url(#clip480)\" d=\"M2113 192.483 L2142.67 192.483 L2142.67 196.371 L2113 196.371 L2113 192.483 M2113 201.927 L2142.67 201.927 L2142.67 205.862 L2113 205.862 L2113 201.927 Z\" fill=\"#000000\" fill-rule=\"evenodd\" fill-opacity=\"1\" /><path clip-path=\"url(#clip480)\" d=\"M2177.83 182.529 Q2174.22 182.529 2172.39 186.094 Q2170.59 189.635 2170.59 196.765 Q2170.59 203.871 2172.39 207.436 Q2174.22 210.978 2177.83 210.978 Q2181.47 210.978 2183.27 207.436 Q2185.1 203.871 2185.1 196.765 Q2185.1 189.635 2183.27 186.094 Q2181.47 182.529 2177.83 182.529 M2177.83 178.825 Q2183.64 178.825 2186.7 183.432 Q2189.78 188.015 2189.78 196.765 Q2189.78 205.492 2186.7 210.098 Q2183.64 214.681 2177.83 214.681 Q2172.02 214.681 2168.95 210.098 Q2165.89 205.492 2165.89 196.765 Q2165.89 188.015 2168.95 183.432 Q2172.02 178.825 2177.83 178.825 Z\" fill=\"#000000\" fill-rule=\"evenodd\" fill-opacity=\"1\" /><path clip-path=\"url(#clip480)\" d=\"M2198 208.131 L2202.88 208.131 L2202.88 214.01 L2198 214.01 L2198 208.131 Z\" fill=\"#000000\" fill-rule=\"evenodd\" fill-opacity=\"1\" /><path clip-path=\"url(#clip480)\" d=\"M2223.07 197.598 Q2219.73 197.598 2217.81 199.381 Q2215.91 201.163 2215.91 204.288 Q2215.91 207.413 2217.81 209.195 Q2219.73 210.978 2223.07 210.978 Q2226.4 210.978 2228.32 209.195 Q2230.24 207.39 2230.24 204.288 Q2230.24 201.163 2228.32 199.381 Q2226.42 197.598 2223.07 197.598 M2218.39 195.608 Q2215.38 194.867 2213.69 192.807 Q2212.02 190.746 2212.02 187.783 Q2212.02 183.64 2214.96 181.233 Q2217.93 178.825 2223.07 178.825 Q2228.23 178.825 2231.17 181.233 Q2234.11 183.64 2234.11 187.783 Q2234.11 190.746 2232.42 192.807 Q2230.75 194.867 2227.76 195.608 Q2231.14 196.395 2233.02 198.686 Q2234.92 200.978 2234.92 204.288 Q2234.92 209.311 2231.84 211.996 Q2228.78 214.681 2223.07 214.681 Q2217.35 214.681 2214.27 211.996 Q2211.21 209.311 2211.21 204.288 Q2211.21 200.978 2213.11 198.686 Q2215.01 196.395 2218.39 195.608 M2216.68 188.223 Q2216.68 190.908 2218.34 192.413 Q2220.03 193.918 2223.07 193.918 Q2226.07 193.918 2227.76 192.413 Q2229.48 190.908 2229.48 188.223 Q2229.48 185.538 2227.76 184.033 Q2226.07 182.529 2223.07 182.529 Q2220.03 182.529 2218.34 184.033 Q2216.68 185.538 2216.68 188.223 Z\" fill=\"#000000\" fill-rule=\"evenodd\" fill-opacity=\"1\" /><polyline clip-path=\"url(#clip480)\" style=\"stroke:#3da44d; stroke-linecap:butt; stroke-linejoin:round; stroke-width:4; stroke-opacity:1; fill:none\" points=\"\n",
       "  1891.28,248.57 2032.57,248.57 \n",
       "  \"/>\n",
       "<path clip-path=\"url(#clip480)\" d=\"M1936.33 222.97 L1936.33 274.17 L1987.53 274.17 L1987.53 222.97 L1936.33 222.97 Z\" fill=\"#3da44d\" fill-rule=\"evenodd\" fill-opacity=\"1\" stroke=\"#000000\" stroke-opacity=\"1\" stroke-width=\"2.56\"/>\n",
       "<path clip-path=\"url(#clip480)\" d=\"M2056.12 239.924 L2060.38 239.924 L2065.71 260.156 L2071.01 239.924 L2076.03 239.924 L2081.35 260.156 L2086.65 239.924 L2090.91 239.924 L2084.13 265.85 L2079.11 265.85 L2073.53 244.6 L2067.93 265.85 L2062.9 265.85 L2056.12 239.924 Z\" fill=\"#000000\" fill-rule=\"evenodd\" fill-opacity=\"1\" /><path clip-path=\"url(#clip480)\" d=\"M2113 244.323 L2142.67 244.323 L2142.67 248.211 L2113 248.211 L2113 244.323 M2113 253.767 L2142.67 253.767 L2142.67 257.702 L2113 257.702 L2113 253.767 Z\" fill=\"#000000\" fill-rule=\"evenodd\" fill-opacity=\"1\" /><path clip-path=\"url(#clip480)\" d=\"M2168.64 261.915 L2176.28 261.915 L2176.28 235.549 L2167.97 237.216 L2167.97 232.957 L2176.24 231.29 L2180.91 231.29 L2180.91 261.915 L2188.55 261.915 L2188.55 265.85 L2168.64 265.85 L2168.64 261.915 Z\" fill=\"#000000\" fill-rule=\"evenodd\" fill-opacity=\"1\" /><path clip-path=\"url(#clip480)\" d=\"M2198 259.971 L2202.88 259.971 L2202.88 265.85 L2198 265.85 L2198 259.971 Z\" fill=\"#000000\" fill-rule=\"evenodd\" fill-opacity=\"1\" /><path clip-path=\"url(#clip480)\" d=\"M2223.07 234.369 Q2219.45 234.369 2217.63 237.934 Q2215.82 241.475 2215.82 248.605 Q2215.82 255.711 2217.63 259.276 Q2219.45 262.818 2223.07 262.818 Q2226.7 262.818 2228.51 259.276 Q2230.33 255.711 2230.33 248.605 Q2230.33 241.475 2228.51 237.934 Q2226.7 234.369 2223.07 234.369 M2223.07 230.665 Q2228.88 230.665 2231.93 235.272 Q2235.01 239.855 2235.01 248.605 Q2235.01 257.332 2231.93 261.938 Q2228.88 266.521 2223.07 266.521 Q2217.26 266.521 2214.18 261.938 Q2211.12 257.332 2211.12 248.605 Q2211.12 239.855 2214.18 235.272 Q2217.26 230.665 2223.07 230.665 Z\" fill=\"#000000\" fill-rule=\"evenodd\" fill-opacity=\"1\" /></svg>\n"
      ]
     },
     "execution_count": 74,
     "metadata": {},
     "output_type": "execute_result"
    }
   ],
   "source": [
    "# 図2.1(a)\n",
    "plt = plot(params.grid_a, obj[:,5],\n",
    "    color = :blue,\n",
    "    marker = :circle,\n",
    "    legend = :topright,\n",
    "    xlims = (0, 1),\n",
    "    ylims = (-10, 0),\n",
    "    xlabel = (\"若年期の貯蓄(老年期の資産)\"),\n",
    "    ylabel = (\"生涯効用\"),\n",
    "    label = (\"w = 0.5\"),\n",
    "    linewidth = 4,\n",
    "    markersize = 8,\n",
    "    titlefont = font(\"HackGen35Nerd\", 12),\n",
    "    guidefont = font(\"HackGen35Nerd\", 12),\n",
    "    tickfont = font(\"HackGen35Nerd\", 8),\n",
    "    framestyle = :semi\n",
    ")\n",
    "plot!(params.grid_a, obj[:,8], lw = 4, markershape=:utriangle, markersize = 8, label = \"w = 0.8\")\n",
    "plot!(params.grid_a, obj[:,10], lw = 4, markershape=:rect, markersize = 8, label = \"w = 1.0\")\n",
    "#savefig(\"Fig2_utility_max.pdf\")"
   ]
  },
  {
   "cell_type": "code",
   "execution_count": 75,
   "id": "84917adc",
   "metadata": {},
   "outputs": [
    {
     "data": {
      "image/svg+xml": [
       "<?xml version=\"1.0\" encoding=\"utf-8\"?>\n",
       "<svg xmlns=\"http://www.w3.org/2000/svg\" xmlns:xlink=\"http://www.w3.org/1999/xlink\" width=\"600\" height=\"400\" viewBox=\"0 0 2400 1600\">\n",
       "<defs>\n",
       "  <clipPath id=\"clip520\">\n",
       "    <rect x=\"0\" y=\"0\" width=\"2400\" height=\"1600\"/>\n",
       "  </clipPath>\n",
       "</defs>\n",
       "<path clip-path=\"url(#clip520)\" d=\"\n",
       "M0 1600 L2400 1600 L2400 0 L0 0  Z\n",
       "  \" fill=\"#ffffff\" fill-rule=\"evenodd\" fill-opacity=\"1\"/>\n",
       "<defs>\n",
       "  <clipPath id=\"clip521\">\n",
       "    <rect x=\"480\" y=\"0\" width=\"1681\" height=\"1600\"/>\n",
       "  </clipPath>\n",
       "</defs>\n",
       "<path clip-path=\"url(#clip520)\" d=\"\n",
       "M219.946 1421.43 L2352.76 1421.43 L2352.76 47.2441 L219.946 47.2441  Z\n",
       "  \" fill=\"#ffffff\" fill-rule=\"evenodd\" fill-opacity=\"1\"/>\n",
       "<defs>\n",
       "  <clipPath id=\"clip522\">\n",
       "    <rect x=\"219\" y=\"47\" width=\"2134\" height=\"1375\"/>\n",
       "  </clipPath>\n",
       "</defs>\n",
       "<polyline clip-path=\"url(#clip522)\" style=\"stroke:#000000; stroke-linecap:butt; stroke-linejoin:round; stroke-width:2; stroke-opacity:0.1; fill:none\" points=\"\n",
       "  219.946,1421.43 219.946,47.2441 \n",
       "  \"/>\n",
       "<polyline clip-path=\"url(#clip522)\" style=\"stroke:#000000; stroke-linecap:butt; stroke-linejoin:round; stroke-width:2; stroke-opacity:0.1; fill:none\" points=\"\n",
       "  646.508,1421.43 646.508,47.2441 \n",
       "  \"/>\n",
       "<polyline clip-path=\"url(#clip522)\" style=\"stroke:#000000; stroke-linecap:butt; stroke-linejoin:round; stroke-width:2; stroke-opacity:0.1; fill:none\" points=\"\n",
       "  1073.07,1421.43 1073.07,47.2441 \n",
       "  \"/>\n",
       "<polyline clip-path=\"url(#clip522)\" style=\"stroke:#000000; stroke-linecap:butt; stroke-linejoin:round; stroke-width:2; stroke-opacity:0.1; fill:none\" points=\"\n",
       "  1499.63,1421.43 1499.63,47.2441 \n",
       "  \"/>\n",
       "<polyline clip-path=\"url(#clip522)\" style=\"stroke:#000000; stroke-linecap:butt; stroke-linejoin:round; stroke-width:2; stroke-opacity:0.1; fill:none\" points=\"\n",
       "  1926.19,1421.43 1926.19,47.2441 \n",
       "  \"/>\n",
       "<polyline clip-path=\"url(#clip522)\" style=\"stroke:#000000; stroke-linecap:butt; stroke-linejoin:round; stroke-width:2; stroke-opacity:0.1; fill:none\" points=\"\n",
       "  2352.76,1421.43 2352.76,47.2441 \n",
       "  \"/>\n",
       "<polyline clip-path=\"url(#clip520)\" style=\"stroke:#000000; stroke-linecap:butt; stroke-linejoin:round; stroke-width:4; stroke-opacity:1; fill:none\" points=\"\n",
       "  219.946,1421.43 2352.76,1421.43 \n",
       "  \"/>\n",
       "<polyline clip-path=\"url(#clip520)\" style=\"stroke:#000000; stroke-linecap:butt; stroke-linejoin:round; stroke-width:2; stroke-opacity:0.5; fill:none\" points=\"\n",
       "  219.946,47.2441 2352.76,47.2441 \n",
       "  \"/>\n",
       "<polyline clip-path=\"url(#clip520)\" style=\"stroke:#000000; stroke-linecap:butt; stroke-linejoin:round; stroke-width:4; stroke-opacity:1; fill:none\" points=\"\n",
       "  219.946,1421.43 219.946,1402.53 \n",
       "  \"/>\n",
       "<polyline clip-path=\"url(#clip520)\" style=\"stroke:#000000; stroke-linecap:butt; stroke-linejoin:round; stroke-width:4; stroke-opacity:1; fill:none\" points=\"\n",
       "  646.508,1421.43 646.508,1402.53 \n",
       "  \"/>\n",
       "<polyline clip-path=\"url(#clip520)\" style=\"stroke:#000000; stroke-linecap:butt; stroke-linejoin:round; stroke-width:4; stroke-opacity:1; fill:none\" points=\"\n",
       "  1073.07,1421.43 1073.07,1402.53 \n",
       "  \"/>\n",
       "<polyline clip-path=\"url(#clip520)\" style=\"stroke:#000000; stroke-linecap:butt; stroke-linejoin:round; stroke-width:4; stroke-opacity:1; fill:none\" points=\"\n",
       "  1499.63,1421.43 1499.63,1402.53 \n",
       "  \"/>\n",
       "<polyline clip-path=\"url(#clip520)\" style=\"stroke:#000000; stroke-linecap:butt; stroke-linejoin:round; stroke-width:4; stroke-opacity:1; fill:none\" points=\"\n",
       "  1926.19,1421.43 1926.19,1402.53 \n",
       "  \"/>\n",
       "<polyline clip-path=\"url(#clip520)\" style=\"stroke:#000000; stroke-linecap:butt; stroke-linejoin:round; stroke-width:4; stroke-opacity:1; fill:none\" points=\"\n",
       "  2352.76,1421.43 2352.76,1402.53 \n",
       "  \"/>\n",
       "<g clip-path=\"url(#clip520)\">\n",
       "<text style=\"fill:#000000; fill-opacity:1; font-family:Arial,Helvetica Neue,Helvetica,sans-serif; font-size:48px; text-anchor:middle;\" transform=\"rotate(0, 219.946, 1483.28)\" x=\"219.946\" y=\"1483.28\">0.0</text>\n",
       "</g>\n",
       "<g clip-path=\"url(#clip520)\">\n",
       "<text style=\"fill:#000000; fill-opacity:1; font-family:Arial,Helvetica Neue,Helvetica,sans-serif; font-size:48px; text-anchor:middle;\" transform=\"rotate(0, 646.508, 1483.28)\" x=\"646.508\" y=\"1483.28\">0.2</text>\n",
       "</g>\n",
       "<g clip-path=\"url(#clip520)\">\n",
       "<text style=\"fill:#000000; fill-opacity:1; font-family:Arial,Helvetica Neue,Helvetica,sans-serif; font-size:48px; text-anchor:middle;\" transform=\"rotate(0, 1073.07, 1483.28)\" x=\"1073.07\" y=\"1483.28\">0.4</text>\n",
       "</g>\n",
       "<g clip-path=\"url(#clip520)\">\n",
       "<text style=\"fill:#000000; fill-opacity:1; font-family:Arial,Helvetica Neue,Helvetica,sans-serif; font-size:48px; text-anchor:middle;\" transform=\"rotate(0, 1499.63, 1483.28)\" x=\"1499.63\" y=\"1483.28\">0.6</text>\n",
       "</g>\n",
       "<g clip-path=\"url(#clip520)\">\n",
       "<text style=\"fill:#000000; fill-opacity:1; font-family:Arial,Helvetica Neue,Helvetica,sans-serif; font-size:48px; text-anchor:middle;\" transform=\"rotate(0, 1926.19, 1483.28)\" x=\"1926.19\" y=\"1483.28\">0.8</text>\n",
       "</g>\n",
       "<g clip-path=\"url(#clip520)\">\n",
       "<text style=\"fill:#000000; fill-opacity:1; font-family:Arial,Helvetica Neue,Helvetica,sans-serif; font-size:48px; text-anchor:middle;\" transform=\"rotate(0, 2352.76, 1483.28)\" x=\"2352.76\" y=\"1483.28\">1.0</text>\n",
       "</g>\n",
       "<g clip-path=\"url(#clip520)\">\n",
       "<text style=\"fill:#000000; fill-opacity:1; font-family:Arial,Helvetica Neue,Helvetica,sans-serif; font-size:71px; text-anchor:middle;\" transform=\"rotate(0, 1286.35, 1572.78)\" x=\"1286.35\" y=\"1572.78\">若年期の所得：w</text>\n",
       "</g>\n",
       "<polyline clip-path=\"url(#clip522)\" style=\"stroke:#000000; stroke-linecap:butt; stroke-linejoin:round; stroke-width:2; stroke-opacity:0.1; fill:none\" points=\"\n",
       "  219.946,1421.43 2352.76,1421.43 \n",
       "  \"/>\n",
       "<polyline clip-path=\"url(#clip522)\" style=\"stroke:#000000; stroke-linecap:butt; stroke-linejoin:round; stroke-width:2; stroke-opacity:0.1; fill:none\" points=\"\n",
       "  219.946,1146.59 2352.76,1146.59 \n",
       "  \"/>\n",
       "<polyline clip-path=\"url(#clip522)\" style=\"stroke:#000000; stroke-linecap:butt; stroke-linejoin:round; stroke-width:2; stroke-opacity:0.1; fill:none\" points=\"\n",
       "  219.946,871.754 2352.76,871.754 \n",
       "  \"/>\n",
       "<polyline clip-path=\"url(#clip522)\" style=\"stroke:#000000; stroke-linecap:butt; stroke-linejoin:round; stroke-width:2; stroke-opacity:0.1; fill:none\" points=\"\n",
       "  219.946,596.917 2352.76,596.917 \n",
       "  \"/>\n",
       "<polyline clip-path=\"url(#clip522)\" style=\"stroke:#000000; stroke-linecap:butt; stroke-linejoin:round; stroke-width:2; stroke-opacity:0.1; fill:none\" points=\"\n",
       "  219.946,322.081 2352.76,322.081 \n",
       "  \"/>\n",
       "<polyline clip-path=\"url(#clip522)\" style=\"stroke:#000000; stroke-linecap:butt; stroke-linejoin:round; stroke-width:2; stroke-opacity:0.1; fill:none\" points=\"\n",
       "  219.946,47.2441 2352.76,47.2441 \n",
       "  \"/>\n",
       "<polyline clip-path=\"url(#clip520)\" style=\"stroke:#000000; stroke-linecap:butt; stroke-linejoin:round; stroke-width:4; stroke-opacity:1; fill:none\" points=\"\n",
       "  219.946,1421.43 219.946,47.2441 \n",
       "  \"/>\n",
       "<polyline clip-path=\"url(#clip520)\" style=\"stroke:#000000; stroke-linecap:butt; stroke-linejoin:round; stroke-width:2; stroke-opacity:0.5; fill:none\" points=\"\n",
       "  2352.76,1421.43 2352.76,47.2441 \n",
       "  \"/>\n",
       "<polyline clip-path=\"url(#clip520)\" style=\"stroke:#000000; stroke-linecap:butt; stroke-linejoin:round; stroke-width:4; stroke-opacity:1; fill:none\" points=\"\n",
       "  219.946,1421.43 238.843,1421.43 \n",
       "  \"/>\n",
       "<polyline clip-path=\"url(#clip520)\" style=\"stroke:#000000; stroke-linecap:butt; stroke-linejoin:round; stroke-width:4; stroke-opacity:1; fill:none\" points=\"\n",
       "  219.946,1146.59 238.843,1146.59 \n",
       "  \"/>\n",
       "<polyline clip-path=\"url(#clip520)\" style=\"stroke:#000000; stroke-linecap:butt; stroke-linejoin:round; stroke-width:4; stroke-opacity:1; fill:none\" points=\"\n",
       "  219.946,871.754 238.843,871.754 \n",
       "  \"/>\n",
       "<polyline clip-path=\"url(#clip520)\" style=\"stroke:#000000; stroke-linecap:butt; stroke-linejoin:round; stroke-width:4; stroke-opacity:1; fill:none\" points=\"\n",
       "  219.946,596.917 238.843,596.917 \n",
       "  \"/>\n",
       "<polyline clip-path=\"url(#clip520)\" style=\"stroke:#000000; stroke-linecap:butt; stroke-linejoin:round; stroke-width:4; stroke-opacity:1; fill:none\" points=\"\n",
       "  219.946,322.081 238.843,322.081 \n",
       "  \"/>\n",
       "<polyline clip-path=\"url(#clip520)\" style=\"stroke:#000000; stroke-linecap:butt; stroke-linejoin:round; stroke-width:4; stroke-opacity:1; fill:none\" points=\"\n",
       "  219.946,47.2441 238.843,47.2441 \n",
       "  \"/>\n",
       "<g clip-path=\"url(#clip520)\">\n",
       "<text style=\"fill:#000000; fill-opacity:1; font-family:Arial,Helvetica Neue,Helvetica,sans-serif; font-size:48px; text-anchor:middle;\" transform=\"rotate(0, 150.493, 1438.93)\" x=\"150.493\" y=\"1438.93\">0.0</text>\n",
       "</g>\n",
       "<g clip-path=\"url(#clip520)\">\n",
       "<text style=\"fill:#000000; fill-opacity:1; font-family:Arial,Helvetica Neue,Helvetica,sans-serif; font-size:48px; text-anchor:middle;\" transform=\"rotate(0, 150.493, 1164.09)\" x=\"150.493\" y=\"1164.09\">0.1</text>\n",
       "</g>\n",
       "<g clip-path=\"url(#clip520)\">\n",
       "<text style=\"fill:#000000; fill-opacity:1; font-family:Arial,Helvetica Neue,Helvetica,sans-serif; font-size:48px; text-anchor:middle;\" transform=\"rotate(0, 150.493, 889.254)\" x=\"150.493\" y=\"889.254\">0.2</text>\n",
       "</g>\n",
       "<g clip-path=\"url(#clip520)\">\n",
       "<text style=\"fill:#000000; fill-opacity:1; font-family:Arial,Helvetica Neue,Helvetica,sans-serif; font-size:48px; text-anchor:middle;\" transform=\"rotate(0, 150.493, 614.417)\" x=\"150.493\" y=\"614.417\">0.3</text>\n",
       "</g>\n",
       "<g clip-path=\"url(#clip520)\">\n",
       "<text style=\"fill:#000000; fill-opacity:1; font-family:Arial,Helvetica Neue,Helvetica,sans-serif; font-size:48px; text-anchor:middle;\" transform=\"rotate(0, 150.493, 339.581)\" x=\"150.493\" y=\"339.581\">0.4</text>\n",
       "</g>\n",
       "<g clip-path=\"url(#clip520)\">\n",
       "<text style=\"fill:#000000; fill-opacity:1; font-family:Arial,Helvetica Neue,Helvetica,sans-serif; font-size:48px; text-anchor:middle;\" transform=\"rotate(0, 150.493, 64.7441)\" x=\"150.493\" y=\"64.7441\">0.5</text>\n",
       "</g>\n",
       "<g clip-path=\"url(#clip520)\">\n",
       "<text style=\"fill:#000000; fill-opacity:1; font-family:Arial,Helvetica Neue,Helvetica,sans-serif; font-size:71px; text-anchor:middle;\" transform=\"rotate(-90, 67.9903, 734.336)\" x=\"67.9903\" y=\"734.336\">若年期の貯蓄：a = g(w)</text>\n",
       "</g>\n",
       "<polyline clip-path=\"url(#clip522)\" style=\"stroke:#0000ff; stroke-linecap:butt; stroke-linejoin:round; stroke-width:16; stroke-opacity:1; fill:none\" points=\"\n",
       "  433.227,1352.72 646.508,1215.3 859.789,1146.59 1073.07,1009.17 1286.35,940.463 1499.63,803.045 1712.91,734.336 1926.19,665.626 2139.47,528.208 2352.76,459.499 \n",
       "  \n",
       "  \"/>\n",
       "<circle clip-path=\"url(#clip522)\" cx=\"433.227\" cy=\"1352.72\" r=\"28.8\" fill=\"#0000ff\" fill-rule=\"evenodd\" fill-opacity=\"1\" stroke=\"#000000\" stroke-opacity=\"1\" stroke-width=\"3.2\"/>\n",
       "<circle clip-path=\"url(#clip522)\" cx=\"646.508\" cy=\"1215.3\" r=\"28.8\" fill=\"#0000ff\" fill-rule=\"evenodd\" fill-opacity=\"1\" stroke=\"#000000\" stroke-opacity=\"1\" stroke-width=\"3.2\"/>\n",
       "<circle clip-path=\"url(#clip522)\" cx=\"859.789\" cy=\"1146.59\" r=\"28.8\" fill=\"#0000ff\" fill-rule=\"evenodd\" fill-opacity=\"1\" stroke=\"#000000\" stroke-opacity=\"1\" stroke-width=\"3.2\"/>\n",
       "<circle clip-path=\"url(#clip522)\" cx=\"1073.07\" cy=\"1009.17\" r=\"28.8\" fill=\"#0000ff\" fill-rule=\"evenodd\" fill-opacity=\"1\" stroke=\"#000000\" stroke-opacity=\"1\" stroke-width=\"3.2\"/>\n",
       "<circle clip-path=\"url(#clip522)\" cx=\"1286.35\" cy=\"940.463\" r=\"28.8\" fill=\"#0000ff\" fill-rule=\"evenodd\" fill-opacity=\"1\" stroke=\"#000000\" stroke-opacity=\"1\" stroke-width=\"3.2\"/>\n",
       "<circle clip-path=\"url(#clip522)\" cx=\"1499.63\" cy=\"803.045\" r=\"28.8\" fill=\"#0000ff\" fill-rule=\"evenodd\" fill-opacity=\"1\" stroke=\"#000000\" stroke-opacity=\"1\" stroke-width=\"3.2\"/>\n",
       "<circle clip-path=\"url(#clip522)\" cx=\"1712.91\" cy=\"734.336\" r=\"28.8\" fill=\"#0000ff\" fill-rule=\"evenodd\" fill-opacity=\"1\" stroke=\"#000000\" stroke-opacity=\"1\" stroke-width=\"3.2\"/>\n",
       "<circle clip-path=\"url(#clip522)\" cx=\"1926.19\" cy=\"665.626\" r=\"28.8\" fill=\"#0000ff\" fill-rule=\"evenodd\" fill-opacity=\"1\" stroke=\"#000000\" stroke-opacity=\"1\" stroke-width=\"3.2\"/>\n",
       "<circle clip-path=\"url(#clip522)\" cx=\"2139.47\" cy=\"528.208\" r=\"28.8\" fill=\"#0000ff\" fill-rule=\"evenodd\" fill-opacity=\"1\" stroke=\"#000000\" stroke-opacity=\"1\" stroke-width=\"3.2\"/>\n",
       "<circle clip-path=\"url(#clip522)\" cx=\"2352.76\" cy=\"459.499\" r=\"28.8\" fill=\"#0000ff\" fill-rule=\"evenodd\" fill-opacity=\"1\" stroke=\"#000000\" stroke-opacity=\"1\" stroke-width=\"3.2\"/>\n",
       "</svg>\n"
      ]
     },
     "execution_count": 75,
     "metadata": {},
     "output_type": "execute_result"
    }
   ],
   "source": [
    "# 図2.1(b)\n",
    "plt = plot(params.grid_w, pol,\n",
    "    color = :blue,\n",
    "    marker = :circle,\n",
    "    legend = :none,\n",
    "    xlims = (0, 1.0),\n",
    "    ylims = (0, 0.5),\n",
    "    xlabel = (\"若年期の所得：w\"),\n",
    "    ylabel = (\"若年期の貯蓄：a = g(w)\"),\n",
    "    linewidth = 4,\n",
    "    markersize = 8,\n",
    "    titlefont = font(\"HackGen35Nerd\", 12),\n",
    "    guidefont = font(\"HackGen35Nerd\", 12),\n",
    "    tickfont = font(\"HackGen35Nerd\", 8),\n",
    "    framestyle = :semi\n",
    ")\n",
    "#savefig(\"Fig2_pol_discr.pdf\")"
   ]
  },
  {
   "cell_type": "markdown",
   "id": "fdb11984-f263-4e04-812b-13362bad93ae",
   "metadata": {},
   "source": [
    "---"
   ]
  },
  {
   "cell_type": "markdown",
   "id": "a6af5995-d5a6-4909-9e48-89e77ba02d78",
   "metadata": {},
   "source": [
    "## エクササイズ\n",
    "* グリッドの数を増やして、政策関数の精度を高めてみよう。"
   ]
  },
  {
   "cell_type": "code",
   "execution_count": null,
   "id": "ffc07909-15d2-4917-a95c-201a9d6efb24",
   "metadata": {},
   "outputs": [],
   "source": []
  }
 ],
 "metadata": {
  "kernelspec": {
   "display_name": "Julia 1.7.2",
   "language": "julia",
   "name": "julia-1.7"
  },
  "language_info": {
   "file_extension": ".jl",
   "mimetype": "application/julia",
   "name": "julia",
   "version": "1.7.3"
  }
 },
 "nbformat": 4,
 "nbformat_minor": 5
}
