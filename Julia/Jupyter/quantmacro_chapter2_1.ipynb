{
 "cells": [
  {
   "cell_type": "markdown",
   "id": "b0bd21b7-0aed-41fe-be8f-5ff5fc0b61cd",
   "metadata": {},
   "source": [
    "# 北尾早霧・砂川武貴・山田知明『定量的マクロ経済学と数値計算』日本評論社\n",
    "## 第2章：2期間モデル・3期間モデルと数値計算の概観"
   ]
  },
  {
   "cell_type": "markdown",
   "id": "9ac47b7b",
   "metadata": {},
   "source": [
    "## 数値計算に入る前にNotebookの使い方について簡単に説明\n",
    "* **Jupyter noterbook**と**Jupyter lab**の2種類がある\n",
    "    * インストール方法はNotionで説明\n",
    "* どちらを使っても構わない\n",
    "    * 現時点ではJupter notebookの方が完成度は高い\n",
    "        * スライドを作成できるRISEなどの機能が揃っている\n",
    "    * Jupyter labの方が新しいため新機能はこちらに追加される"
   ]
  },
  {
   "cell_type": "markdown",
   "id": "22e36eaf-f6f5-437e-8007-b31deaf01512",
   "metadata": {},
   "source": [
    "## Jupyter notebookの使い方\n",
    "* セル内に**数式**を書いて**実行**をすることでコードを走らせることが出来る\n",
    "    * 実行は⬆にある▷ボタンを押すか、セルを選択して**Shift + Return (Enter)**\n",
    "* セルに説明書きを加えたりメモを取ることも可能\n",
    "    * 上にあるタブをCode→**Markdown**に変更\n",
    "    * 実行は同じく**Shift + Return (Enter)**\n",
    "* 書き方はMarkdown記法\n",
    "* 数式の書き方は$\\LaTeX$の記法と同じ"
   ]
  },
  {
   "cell_type": "markdown",
   "id": "9821f711-b52c-4fdb-b7d1-c6f8f98427d7",
   "metadata": {},
   "source": [
    "---"
   ]
  },
  {
   "cell_type": "code",
   "execution_count": 1,
   "id": "d98b251e-f7b9-4171-9cef-b53a9df505a5",
   "metadata": {},
   "outputs": [
    {
     "name": "stdout",
     "output_type": "stream",
     "text": [
      "Julia Version 1.7.3\n",
      "Commit 742b9abb4d (2022-05-06 12:58 UTC)\n",
      "Platform Info:\n",
      "  OS: macOS (x86_64-apple-darwin21.4.0)\n",
      "  CPU: Intel(R) Core(TM) i7-8569U CPU @ 2.80GHz\n",
      "  WORD_SIZE: 64\n",
      "  LIBM: libopenlibm\n",
      "  LLVM: libLLVM-12.0.1 (ORCJIT, skylake)\n"
     ]
    }
   ],
   "source": [
    "versioninfo()"
   ]
  },
  {
   "cell_type": "markdown",
   "id": "47acf334",
   "metadata": {},
   "source": [
    "---"
   ]
  },
  {
   "cell_type": "markdown",
   "id": "fc73545d-4e2d-463d-9082-8db25e6b7b4a",
   "metadata": {},
   "source": [
    "## 2.2 ベンチマークモデルとカリブレーション"
   ]
  },
  {
   "cell_type": "markdown",
   "id": "43b4d326-3481-4a43-b2d3-c6f7baf4a40a",
   "metadata": {},
   "source": [
    "### 2.2.1 ベンチマークモデル：2期間モデル\n",
    "* 詳細はテキストを参照\n",
    "* 基本的な2期間モデルを使って数値計算の基本的な考え方を丁寧に説明をしていく\n",
    "* ある経済主体は2期間生存するとしよう\n",
    "    * 1期目の消費$c_{1}$と貯蓄$a$、2期目の消費$c_{2}$を決定：実際にはどれか一つを決定すれば他は予算制約から自動的に決定\n",
    "    * 労働供給に関する意思決定はなし\n",
    "* 予算制約：1期目\n",
    "$$\n",
    "    c_{1} + a = w\n",
    "$$\n",
    "    * wは1期期初に保有している所得\n",
    "* 予算制約：2期目\n",
    "$$\n",
    "    c_{2} = (1+r)a\n",
    "$$\n",
    "    * 貯蓄には$r$だけの金利が発生する\n",
    "* 経済主体の目的関数は2期間の効用の和を最大にすること\n",
    "$$\n",
    "    U(c_{1}, c_{2}) = u(c_{1}) + \\beta u(c_{2})\n",
    "$$\n",
    "    * $\\beta$は**割引因子(discount factor)**"
   ]
  },
  {
   "cell_type": "markdown",
   "id": "0492b6a1-98ef-4352-90aa-85221ff5a910",
   "metadata": {},
   "source": [
    "### 一階条件\n",
    "$$\n",
    "    u'(c_{1}) = (1+r) \\beta u'(c_{2})\n",
    "$$\n",
    "### 政策関数\n",
    "* 我々が知りたいのは**政策関数(policy function)**\n",
    "$$\n",
    "    a = g(w)\n",
    "$$"
   ]
  },
  {
   "cell_type": "markdown",
   "id": "332f461e-8015-403c-8079-87d820ab1ad7",
   "metadata": {},
   "source": [
    "---"
   ]
  },
  {
   "cell_type": "markdown",
   "id": "65a28e40",
   "metadata": {},
   "source": [
    "## 2.2.2 カリブレーション（Calibration）\n",
    "* 関数型を特定化してパラメータを設定する一連の作業を**カリブレーション（calibration）**と呼ぶ\n",
    "* 本格的な研究の場合、ここの値をもっと真面目に設定\n",
    "    * マクロ・ミクロデータから推計\n",
    "* 今回はデモンストレーションなので\"それっぽい\"数値を使う"
   ]
  },
  {
   "cell_type": "markdown",
   "id": "7d47b86c-9a62-4760-9b5b-66452e89d3c9",
   "metadata": {},
   "source": [
    "---"
   ]
  },
  {
   "cell_type": "markdown",
   "id": "fac22d25-55b6-4aa1-b979-06b7cda78cfc",
   "metadata": {},
   "source": [
    "#### Tips：コメント\n",
    "* #(シャープ)の右側は実行されない：**コメント**と呼ぶ\n",
    "* コメントを適切につけることを心がけると**共同研究者**や**未来の自分**が助かる\n",
    "* コメントは極力英語(半角)で書いたほうが良い\n",
    "    * この教科書は教育目的なので日本語で書いています\n",
    "* 実行する箇所に全角が交じるとコードが動かなくなる場合があるので注意\n",
    "    * 全角スペースは特に見つけづらいので注意が必要\n",
    "    * たまにあるミス：カギ括弧が片方だけ全角"
   ]
  },
  {
   "cell_type": "markdown",
   "id": "0ce7e425-07a8-4a9b-b8d0-343c11e1511c",
   "metadata": {},
   "source": [
    "---"
   ]
  },
  {
   "cell_type": "code",
   "execution_count": 2,
   "id": "bf92d331",
   "metadata": {},
   "outputs": [
    {
     "data": {
      "text/plain": [
       "2.0"
      ]
     },
     "execution_count": 2,
     "metadata": {},
     "output_type": "execute_result"
    }
   ],
   "source": [
    "# 変数名はモデルと同じ名前にすると読みやすい(がマストではない)\n",
    "beta = 0.985^30 # 割引因子(discount factor) 30年分\n",
    "gamma = 2.0 # 相対的危険回避度"
   ]
  },
  {
   "cell_type": "markdown",
   "id": "fc9fe87f-a8a3-4cdb-b5c8-7b29ce23816a",
   "metadata": {},
   "source": [
    "#### Tips：JuliaはUnicode（UTF-8）に対応しているのでギリシャ文字がそのまま使える\n",
    "* 他の多くの言語ではこの方法は使えない"
   ]
  },
  {
   "cell_type": "code",
   "execution_count": 3,
   "id": "90bf2c28",
   "metadata": {},
   "outputs": [
    {
     "data": {
      "text/plain": [
       "0.6354580927313491"
      ]
     },
     "execution_count": 3,
     "metadata": {},
     "output_type": "execute_result"
    }
   ],
   "source": [
    "# \\betaと書いてTabキーを押すとギリシャ文字に変換\n",
    "β = 0.985^30 # 割引因子(discount factor) 30年分"
   ]
  },
  {
   "cell_type": "code",
   "execution_count": 4,
   "id": "5e7d9fdb",
   "metadata": {},
   "outputs": [
    {
     "data": {
      "text/plain": [
       "2.0"
      ]
     },
     "execution_count": 4,
     "metadata": {},
     "output_type": "execute_result"
    }
   ],
   "source": [
    "γ = 2.0 # 相対的危険回避度(relative risk aversion)"
   ]
  },
  {
   "cell_type": "code",
   "execution_count": 5,
   "id": "447a65ec",
   "metadata": {},
   "outputs": [
    {
     "data": {
      "text/plain": [
       "1.0975675790817858"
      ]
     },
     "execution_count": 5,
     "metadata": {},
     "output_type": "execute_result"
    }
   ],
   "source": [
    "rent = 1.025^30 - 1.0 # 30年分の利息(1を引いているので純(net))"
   ]
  },
  {
   "cell_type": "markdown",
   "id": "f7b6ac33-99e2-4fac-8172-27be8f351345",
   "metadata": {},
   "source": [
    "---"
   ]
  },
  {
   "cell_type": "markdown",
   "id": "193903c9",
   "metadata": {},
   "source": [
    "## 2.3 離散近似とグリッド\n",
    "* 状態変数$w$を離散個の点で表現する→**グリッド(grid)**\n",
    "* グリッドは点の集まり\n",
    "    * 例えばグリッド数を10個にする場合：$w_{i} \\in \\{ w_1, ..., w_{10} \\}$\n",
    "    * $w_{1}$：所得の最小値\n",
    "    * $w_{10}$：所得の最大値"
   ]
  },
  {
   "cell_type": "code",
   "execution_count": 6,
   "id": "4ee99b20",
   "metadata": {},
   "outputs": [],
   "source": [
    "# 実行文の最後に;を書くと実行結果の表示を省略できる\n",
    "# ;がないと実行文の最後の結果のみJupyter notebookに出力される\n",
    "\n",
    "nw = 10; # グリッドの数\n",
    "w_min = 0.1; # 所得の最小値\n",
    "w_max = 1.0; # 所得の最大値"
   ]
  },
  {
   "cell_type": "code",
   "execution_count": 7,
   "id": "09c06931",
   "metadata": {},
   "outputs": [
    {
     "data": {
      "text/plain": [
       "10"
      ]
     },
     "execution_count": 7,
     "metadata": {},
     "output_type": "execute_result"
    }
   ],
   "source": [
    "# ;なしで実行をすると計算結果や今の変数の値が確認出来る\n",
    "nw"
   ]
  },
  {
   "cell_type": "code",
   "execution_count": 8,
   "id": "ad37da36",
   "metadata": {},
   "outputs": [
    {
     "data": {
      "text/plain": [
       "1.0"
      ]
     },
     "execution_count": 8,
     "metadata": {},
     "output_type": "execute_result"
    }
   ],
   "source": [
    "w_max"
   ]
  },
  {
   "cell_type": "code",
   "execution_count": 9,
   "id": "6815469b",
   "metadata": {},
   "outputs": [
    {
     "data": {
      "text/plain": [
       "0.1"
      ]
     },
     "execution_count": 9,
     "metadata": {},
     "output_type": "execute_result"
    }
   ],
   "source": [
    "w_min"
   ]
  },
  {
   "cell_type": "markdown",
   "id": "efc46b3e-6fd1-4934-8e6f-de6a33b38d14",
   "metadata": {},
   "source": [
    "### LinRange関数を使ってグリッド生成"
   ]
  },
  {
   "cell_type": "code",
   "execution_count": 10,
   "id": "7afa1da6",
   "metadata": {},
   "outputs": [
    {
     "data": {
      "text/plain": [
       "10-element LinRange{Float64, Int64}:\n",
       " 0.1,0.2,0.3,0.4,0.5,0.6,0.7,0.8,0.9,1.0"
      ]
     },
     "execution_count": 10,
     "metadata": {},
     "output_type": "execute_result"
    }
   ],
   "source": [
    "# グリッドを生成するためにLinRangeという関数を使う\n",
    "# w_minからw_maxまでの範囲でnw個の点を生成する\n",
    "# 今回の場合、0.1から1.0まで10個の点を生成\n",
    "\n",
    "temp = LinRange(w_min, w_max, nw)"
   ]
  },
  {
   "cell_type": "markdown",
   "id": "90cea25f",
   "metadata": {},
   "source": [
    "---"
   ]
  },
  {
   "cell_type": "markdown",
   "id": "facbb9ab-dbce-4d1f-a5be-defecf7ea9ad",
   "metadata": {},
   "source": [
    "## Tips：関数となにか?"
   ]
  },
  {
   "cell_type": "markdown",
   "id": "bc188a7f",
   "metadata": {},
   "source": [
    "`LinRange`は**関数(function)**\n",
    "* 関数名(引数, 引数)という感じで使う\n",
    "    * 関数の中に入れるインプットのことを**引数（argument）**と呼ぶ\n",
    "    * `z = function_name(x, y)`のような感じで使う\n",
    "* 関数の機能が知りたい場合、?でヘルプを呼び出す"
   ]
  },
  {
   "cell_type": "code",
   "execution_count": 10,
   "id": "eb4abb87",
   "metadata": {},
   "outputs": [
    {
     "name": "stdout",
     "output_type": "stream",
     "text": [
      "search: \u001b[0m\u001b[1mL\u001b[22m\u001b[0m\u001b[1mi\u001b[22m\u001b[0m\u001b[1mn\u001b[22m\u001b[0m\u001b[1mR\u001b[22m\u001b[0m\u001b[1ma\u001b[22m\u001b[0m\u001b[1mn\u001b[22m\u001b[0m\u001b[1mg\u001b[22m\u001b[0m\u001b[1me\u001b[22m\n",
      "\n"
     ]
    },
    {
     "data": {
      "text/latex": [
       "\\begin{verbatim}\n",
       "LinRange{T,L}\n",
       "\\end{verbatim}\n",
       "A range with \\texttt{len} linearly spaced elements between its \\texttt{start} and \\texttt{stop}. The size of the spacing is controlled by \\texttt{len}, which must be an \\texttt{Integer}.\n",
       "\n",
       "\\section{Examples}\n",
       "\\begin{verbatim}\n",
       "julia> LinRange(1.5, 5.5, 9)\n",
       "9-element LinRange{Float64, Int64}:\n",
       " 1.5,2.0,2.5,3.0,3.5,4.0,4.5,5.0,5.5\n",
       "\\end{verbatim}\n",
       "Compared to using \\href{@ref}{\\texttt{range}}, directly constructing a \\texttt{LinRange} should have less overhead but won't try to correct for floating point errors:\n",
       "\n",
       "\\begin{verbatim}\n",
       "julia> collect(range(-0.1, 0.3, length=5))\n",
       "5-element Array{Float64,1}:\n",
       " -0.1\n",
       "  0.0\n",
       "  0.1\n",
       "  0.2\n",
       "  0.3\n",
       "\n",
       "julia> collect(LinRange(-0.1, 0.3, 5))\n",
       "5-element Array{Float64,1}:\n",
       " -0.1\n",
       " -1.3877787807814457e-17\n",
       "  0.09999999999999999\n",
       "  0.19999999999999998\n",
       "  0.3\n",
       "\\end{verbatim}\n"
      ],
      "text/markdown": [
       "```\n",
       "LinRange{T,L}\n",
       "```\n",
       "\n",
       "A range with `len` linearly spaced elements between its `start` and `stop`. The size of the spacing is controlled by `len`, which must be an `Integer`.\n",
       "\n",
       "# Examples\n",
       "\n",
       "```jldoctest\n",
       "julia> LinRange(1.5, 5.5, 9)\n",
       "9-element LinRange{Float64, Int64}:\n",
       " 1.5,2.0,2.5,3.0,3.5,4.0,4.5,5.0,5.5\n",
       "```\n",
       "\n",
       "Compared to using [`range`](@ref), directly constructing a `LinRange` should have less overhead but won't try to correct for floating point errors:\n",
       "\n",
       "```julia\n",
       "julia> collect(range(-0.1, 0.3, length=5))\n",
       "5-element Array{Float64,1}:\n",
       " -0.1\n",
       "  0.0\n",
       "  0.1\n",
       "  0.2\n",
       "  0.3\n",
       "\n",
       "julia> collect(LinRange(-0.1, 0.3, 5))\n",
       "5-element Array{Float64,1}:\n",
       " -0.1\n",
       " -1.3877787807814457e-17\n",
       "  0.09999999999999999\n",
       "  0.19999999999999998\n",
       "  0.3\n",
       "```\n"
      ],
      "text/plain": [
       "\u001b[36m  LinRange{T,L}\u001b[39m\n",
       "\n",
       "  A range with \u001b[36mlen\u001b[39m linearly spaced elements between its \u001b[36mstart\u001b[39m and \u001b[36mstop\u001b[39m. The\n",
       "  size of the spacing is controlled by \u001b[36mlen\u001b[39m, which must be an \u001b[36mInteger\u001b[39m.\n",
       "\n",
       "\u001b[1m  Examples\u001b[22m\n",
       "\u001b[1m  ≡≡≡≡≡≡≡≡≡≡\u001b[22m\n",
       "\n",
       "\u001b[36m  julia> LinRange(1.5, 5.5, 9)\u001b[39m\n",
       "\u001b[36m  9-element LinRange{Float64, Int64}:\u001b[39m\n",
       "\u001b[36m   1.5,2.0,2.5,3.0,3.5,4.0,4.5,5.0,5.5\u001b[39m\n",
       "\n",
       "  Compared to using \u001b[36mrange\u001b[39m, directly constructing a \u001b[36mLinRange\u001b[39m should have less\n",
       "  overhead but won't try to correct for floating point errors:\n",
       "\n",
       "\u001b[36m  julia> collect(range(-0.1, 0.3, length=5))\u001b[39m\n",
       "\u001b[36m  5-element Array{Float64,1}:\u001b[39m\n",
       "\u001b[36m   -0.1\u001b[39m\n",
       "\u001b[36m    0.0\u001b[39m\n",
       "\u001b[36m    0.1\u001b[39m\n",
       "\u001b[36m    0.2\u001b[39m\n",
       "\u001b[36m    0.3\u001b[39m\n",
       "\u001b[36m  \u001b[39m\n",
       "\u001b[36m  julia> collect(LinRange(-0.1, 0.3, 5))\u001b[39m\n",
       "\u001b[36m  5-element Array{Float64,1}:\u001b[39m\n",
       "\u001b[36m   -0.1\u001b[39m\n",
       "\u001b[36m   -1.3877787807814457e-17\u001b[39m\n",
       "\u001b[36m    0.09999999999999999\u001b[39m\n",
       "\u001b[36m    0.19999999999999998\u001b[39m\n",
       "\u001b[36m    0.3\u001b[39m"
      ]
     },
     "execution_count": 10,
     "metadata": {},
     "output_type": "execute_result"
    }
   ],
   "source": [
    "? LinRange # ヘルプは基本的に英語"
   ]
  },
  {
   "cell_type": "markdown",
   "id": "8b84f486",
   "metadata": {},
   "source": [
    "### Juliaにおける関数（function）\n",
    "* 言語によって**サブルーチン(subroutine)**と呼ばれることもある(Fortranとか)\n",
    "    * 正確にはFortranでは一つの変数を返すものを関数(function)、複数のインプットとアウトプットがあるものをサブルーチン(subroutine)と呼んでいる\n",
    "* **関数**：プログラムを一つの単位で区切ったもの\n",
    "* 頻繁に使う計算は意味単位で関数としてひとまとめにして何回も呼び出す形にしたほうが良い\n",
    "    * 経済学の場合、Cobb-Douglas型生産関数、CRRA型効用関数など\n",
    "    * ⬇で実際に効用関数や生産関数を例示\n",
    "* 他人が書いたコードを再利用しやすくなる！\n",
    "    * Packageでインストールしたものも他人が書いたコード(の一部)\n",
    "    * 上のLinRangeも関数\n",
    "    * 他人（あるいは自分）が書いた関数をまとめたものを**ライブラリ（library）**と呼ぶ\n",
    "    * ライブラリの充実度がその言語が何に向いているのかを決定する上で重要\n",
    "        * 例：Pythonは機械学習のライブラリが充実している"
   ]
  },
  {
   "cell_type": "markdown",
   "id": "e0d6220d-ad83-4e3e-bd40-e12a5960a2f4",
   "metadata": {},
   "source": [
    "LinRangeと似たような関数として`range`がある\n",
    "* `range`だと浮動小数点の誤差を補正してくれる：詳細は⬇を参照\n",
    "* 例えば理論上は0だけど数値計算誤差でごく微小な値になる場合、rangeは修正をするけど、LinRangeはそのまま"
   ]
  },
  {
   "cell_type": "markdown",
   "id": "853e92b6-699b-45e6-9b0d-99360ae597b4",
   "metadata": {},
   "source": [
    "---"
   ]
  },
  {
   "cell_type": "markdown",
   "id": "57ea428d-46c8-4b96-a944-13dbd8eb7c68",
   "metadata": {
    "tags": []
   },
   "source": [
    "LinRangeが返す変数の型(type)が使いにくいので変換したい\n",
    "* 型とはなにか?→⬇のTipsを参照"
   ]
  },
  {
   "cell_type": "code",
   "execution_count": 11,
   "id": "95aa334d-862e-4bd8-b90b-e9505b00cc11",
   "metadata": {},
   "outputs": [
    {
     "data": {
      "text/plain": [
       "LinRange{Float64, Int64}"
      ]
     },
     "execution_count": 11,
     "metadata": {},
     "output_type": "execute_result"
    }
   ],
   "source": [
    "typeof(temp) # 型がLinRange{Float64, Int64}"
   ]
  },
  {
   "cell_type": "markdown",
   "id": "240474fb-350f-4c58-a5df-703845425d48",
   "metadata": {},
   "source": [
    "### 型をLinRange{Float64, Int64}からVector{Float64}に変換\n",
    "* `collect(LinRange(min, max, grid_size))`でワンセットとして覚えておいてOK"
   ]
  },
  {
   "cell_type": "code",
   "execution_count": 11,
   "id": "3a853856",
   "metadata": {
    "scrolled": true
   },
   "outputs": [
    {
     "data": {
      "text/plain": [
       "10-element Vector{Float64}:\n",
       " 0.1\n",
       " 0.2\n",
       " 0.3\n",
       " 0.4\n",
       " 0.5\n",
       " 0.6\n",
       " 0.7\n",
       " 0.8\n",
       " 0.8999999999999999\n",
       " 1.0"
      ]
     },
     "execution_count": 11,
     "metadata": {},
     "output_type": "execute_result"
    }
   ],
   "source": [
    "# 10-element Vector{Float64,1}は\"10個の要素(10-element)のベクトル(Vector)でベクトルの要素が64ビットの浮動小数点(Float64)\"という意味\n",
    "\n",
    "grid_w = collect(LinRange(w_min, w_max, nw))"
   ]
  },
  {
   "cell_type": "code",
   "execution_count": 12,
   "id": "55ff4deb",
   "metadata": {},
   "outputs": [
    {
     "name": "stdout",
     "output_type": "stream",
     "text": [
      "search: \u001b[0m\u001b[1mc\u001b[22m\u001b[0m\u001b[1mo\u001b[22m\u001b[0m\u001b[1ml\u001b[22m\u001b[0m\u001b[1ml\u001b[22m\u001b[0m\u001b[1me\u001b[22m\u001b[0m\u001b[1mc\u001b[22m\u001b[0m\u001b[1mt\u001b[22m\n",
      "\n"
     ]
    },
    {
     "data": {
      "text/latex": [
       "\\begin{verbatim}\n",
       "collect(element_type, collection)\n",
       "\\end{verbatim}\n",
       "Return an \\texttt{Array} with the given element type of all items in a collection or iterable. The result has the same shape and number of dimensions as \\texttt{collection}.\n",
       "\n",
       "\\section{Examples}\n",
       "\\begin{verbatim}\n",
       "julia> collect(Float64, 1:2:5)\n",
       "3-element Vector{Float64}:\n",
       " 1.0\n",
       " 3.0\n",
       " 5.0\n",
       "\\end{verbatim}\n",
       "\\rule{\\textwidth}{1pt}\n",
       "\\begin{verbatim}\n",
       "collect(collection)\n",
       "\\end{verbatim}\n",
       "Return an \\texttt{Array} of all items in a collection or iterator. For dictionaries, returns \\texttt{Pair\\{KeyType, ValType\\}}. If the argument is array-like or is an iterator with the \\href{@ref IteratorSize}{\\texttt{HasShape}} trait, the result will have the same shape and number of dimensions as the argument.\n",
       "\n",
       "Used by comprehensions to turn a generator into an \\texttt{Array}.\n",
       "\n",
       "\\section{Examples}\n",
       "\\begin{verbatim}\n",
       "julia> collect(1:2:13)\n",
       "7-element Vector{Int64}:\n",
       "  1\n",
       "  3\n",
       "  5\n",
       "  7\n",
       "  9\n",
       " 11\n",
       " 13\n",
       "\n",
       "julia> [x^2 for x in 1:8 if isodd(x)]\n",
       "4-element Vector{Int64}:\n",
       "  1\n",
       "  9\n",
       " 25\n",
       " 49\n",
       "\\end{verbatim}\n"
      ],
      "text/markdown": [
       "```\n",
       "collect(element_type, collection)\n",
       "```\n",
       "\n",
       "Return an `Array` with the given element type of all items in a collection or iterable. The result has the same shape and number of dimensions as `collection`.\n",
       "\n",
       "# Examples\n",
       "\n",
       "```jldoctest\n",
       "julia> collect(Float64, 1:2:5)\n",
       "3-element Vector{Float64}:\n",
       " 1.0\n",
       " 3.0\n",
       " 5.0\n",
       "```\n",
       "\n",
       "---\n",
       "\n",
       "```\n",
       "collect(collection)\n",
       "```\n",
       "\n",
       "Return an `Array` of all items in a collection or iterator. For dictionaries, returns `Pair{KeyType, ValType}`. If the argument is array-like or is an iterator with the [`HasShape`](@ref IteratorSize) trait, the result will have the same shape and number of dimensions as the argument.\n",
       "\n",
       "Used by comprehensions to turn a generator into an `Array`.\n",
       "\n",
       "# Examples\n",
       "\n",
       "```jldoctest\n",
       "julia> collect(1:2:13)\n",
       "7-element Vector{Int64}:\n",
       "  1\n",
       "  3\n",
       "  5\n",
       "  7\n",
       "  9\n",
       " 11\n",
       " 13\n",
       "\n",
       "julia> [x^2 for x in 1:8 if isodd(x)]\n",
       "4-element Vector{Int64}:\n",
       "  1\n",
       "  9\n",
       " 25\n",
       " 49\n",
       "```\n"
      ],
      "text/plain": [
       "\u001b[36m  collect(element_type, collection)\u001b[39m\n",
       "\n",
       "  Return an \u001b[36mArray\u001b[39m with the given element type of all items in a collection or\n",
       "  iterable. The result has the same shape and number of dimensions as\n",
       "  \u001b[36mcollection\u001b[39m.\n",
       "\n",
       "\u001b[1m  Examples\u001b[22m\n",
       "\u001b[1m  ≡≡≡≡≡≡≡≡≡≡\u001b[22m\n",
       "\n",
       "\u001b[36m  julia> collect(Float64, 1:2:5)\u001b[39m\n",
       "\u001b[36m  3-element Vector{Float64}:\u001b[39m\n",
       "\u001b[36m   1.0\u001b[39m\n",
       "\u001b[36m   3.0\u001b[39m\n",
       "\u001b[36m   5.0\u001b[39m\n",
       "\n",
       "  ────────────────────────────────────────────────────────────────────────────\n",
       "\n",
       "\u001b[36m  collect(collection)\u001b[39m\n",
       "\n",
       "  Return an \u001b[36mArray\u001b[39m of all items in a collection or iterator. For dictionaries,\n",
       "  returns \u001b[36mPair{KeyType, ValType}\u001b[39m. If the argument is array-like or is an\n",
       "  iterator with the \u001b[36mHasShape\u001b[39m trait, the result will have the same shape and\n",
       "  number of dimensions as the argument.\n",
       "\n",
       "  Used by comprehensions to turn a generator into an \u001b[36mArray\u001b[39m.\n",
       "\n",
       "\u001b[1m  Examples\u001b[22m\n",
       "\u001b[1m  ≡≡≡≡≡≡≡≡≡≡\u001b[22m\n",
       "\n",
       "\u001b[36m  julia> collect(1:2:13)\u001b[39m\n",
       "\u001b[36m  7-element Vector{Int64}:\u001b[39m\n",
       "\u001b[36m    1\u001b[39m\n",
       "\u001b[36m    3\u001b[39m\n",
       "\u001b[36m    5\u001b[39m\n",
       "\u001b[36m    7\u001b[39m\n",
       "\u001b[36m    9\u001b[39m\n",
       "\u001b[36m   11\u001b[39m\n",
       "\u001b[36m   13\u001b[39m\n",
       "\u001b[36m  \u001b[39m\n",
       "\u001b[36m  julia> [x^2 for x in 1:8 if isodd(x)]\u001b[39m\n",
       "\u001b[36m  4-element Vector{Int64}:\u001b[39m\n",
       "\u001b[36m    1\u001b[39m\n",
       "\u001b[36m    9\u001b[39m\n",
       "\u001b[36m   25\u001b[39m\n",
       "\u001b[36m   49\u001b[39m"
      ]
     },
     "execution_count": 12,
     "metadata": {},
     "output_type": "execute_result"
    }
   ],
   "source": [
    "? collect # collectの使い方を確認しておく"
   ]
  },
  {
   "cell_type": "markdown",
   "id": "bc1d4e59",
   "metadata": {},
   "source": [
    "---"
   ]
  },
  {
   "cell_type": "markdown",
   "id": "d02331c0",
   "metadata": {},
   "source": [
    "## Tips：変数の型（Type）について\n",
    "* 上で**64ビットの浮動小数点（Float64）**という謎の単語が出てきた\n",
    "* Juliaでは変数の**型（type）**を意識したほうが良いのでここで説明\n",
    "* 変数の型という概念は別の言語でもある\n",
    "    * Python、C++、Fortran etc.\n",
    "    * MatlabやRでは気にしなくてもOK\n",
    "* 初心者のうちはそこまで気にしなくてもコードは動く\n",
    "* **変数の型を気にかけた方が効率的（=計算速度が早い）に実行が出来る**"
   ]
  },
  {
   "cell_type": "code",
   "execution_count": 13,
   "id": "84ba723d",
   "metadata": {},
   "outputs": [],
   "source": [
    "# この2つは別モノ!\n",
    "a = 1; # 整数(integer)\n",
    "b = 1.0; # 浮動小数点(float)"
   ]
  },
  {
   "cell_type": "code",
   "execution_count": 14,
   "id": "ff300aee-5bf0-4a68-a454-0122e64c8d71",
   "metadata": {},
   "outputs": [
    {
     "data": {
      "text/plain": [
       "Int64"
      ]
     },
     "execution_count": 14,
     "metadata": {},
     "output_type": "execute_result"
    }
   ],
   "source": [
    "typeof(a)"
   ]
  },
  {
   "cell_type": "code",
   "execution_count": 15,
   "id": "7e4e8fa9-75d9-427d-8be5-b1721ff10495",
   "metadata": {},
   "outputs": [
    {
     "data": {
      "text/plain": [
       "Float64"
      ]
     },
     "execution_count": 15,
     "metadata": {},
     "output_type": "execute_result"
    }
   ],
   "source": [
    "typeof(b)"
   ]
  },
  {
   "cell_type": "markdown",
   "id": "829b105e-9c40-4f4d-b795-1df7728f0201",
   "metadata": {},
   "source": [
    "* 1(整数)と1.0(浮動小数点)は別物!\n",
    "* IntとFloatの後ろにある64は**64ビットで表現している**という意味\n",
    "    * この数字が大きいと有効桁数数が大きくなる\n",
    "    * よほど古いPCや特殊な環境出ない限りFloat32ではなくFloat64と表示されているはず"
   ]
  },
  {
   "cell_type": "code",
   "execution_count": 16,
   "id": "fbe71726",
   "metadata": {},
   "outputs": [
    {
     "data": {
      "text/plain": [
       "Float64"
      ]
     },
     "execution_count": 16,
     "metadata": {},
     "output_type": "execute_result"
    }
   ],
   "source": [
    "# 計算をする場合は自動で調整してくれる\n",
    "# 言語によって仕様が異なる可能性あり\n",
    "a + b\n",
    "typeof(a + b)"
   ]
  },
  {
   "cell_type": "code",
   "execution_count": 17,
   "id": "e2eee99c",
   "metadata": {},
   "outputs": [
    {
     "data": {
      "text/plain": [
       "3.0"
      ]
     },
     "execution_count": 17,
     "metadata": {},
     "output_type": "execute_result"
    }
   ],
   "source": [
    "# スカラー\n",
    "c = 3.0"
   ]
  },
  {
   "cell_type": "code",
   "execution_count": 18,
   "id": "59710ced",
   "metadata": {},
   "outputs": [
    {
     "data": {
      "text/plain": [
       "2-element Vector{Float64}:\n",
       " 1.0\n",
       " 2.0"
      ]
     },
     "execution_count": 18,
     "metadata": {},
     "output_type": "execute_result"
    }
   ],
   "source": [
    "# ベクトル\n",
    "d = [1.0, 2.0]"
   ]
  },
  {
   "cell_type": "code",
   "execution_count": 19,
   "id": "4a08b4d8",
   "metadata": {},
   "outputs": [
    {
     "data": {
      "text/plain": [
       "2×3 Matrix{Int64}:\n",
       " 1  2  3\n",
       " 4  5  6"
      ]
     },
     "execution_count": 19,
     "metadata": {},
     "output_type": "execute_result"
    }
   ],
   "source": [
    "# 行列\n",
    "e = [1 2 3; 4 5 6]"
   ]
  },
  {
   "cell_type": "code",
   "execution_count": 20,
   "id": "e8f841ec-0b3d-4a63-a6fb-5d40effce6eb",
   "metadata": {},
   "outputs": [
    {
     "data": {
      "text/plain": [
       "2×3 Matrix{Float64}:\n",
       " 1.0  2.0  3.0\n",
       " 4.0  5.0  6.0"
      ]
     },
     "execution_count": 20,
     "metadata": {},
     "output_type": "execute_result"
    }
   ],
   "source": [
    "# 別の行列\n",
    "f = [1.0 2.0 3.0; 4.0 5.0 6.0]"
   ]
  },
  {
   "cell_type": "markdown",
   "id": "1aed98ef-f3f5-47f7-94ab-f0a2ec138acc",
   "metadata": {},
   "source": [
    "#### 色々な型（Type）を調べてみる"
   ]
  },
  {
   "cell_type": "code",
   "execution_count": 21,
   "id": "e282d063",
   "metadata": {},
   "outputs": [
    {
     "data": {
      "text/plain": [
       "Float64"
      ]
     },
     "execution_count": 21,
     "metadata": {},
     "output_type": "execute_result"
    }
   ],
   "source": [
    "typeof(c)"
   ]
  },
  {
   "cell_type": "code",
   "execution_count": 22,
   "id": "b4f6ab75",
   "metadata": {},
   "outputs": [
    {
     "data": {
      "text/plain": [
       "Vector{Float64} (alias for Array{Float64, 1})"
      ]
     },
     "execution_count": 22,
     "metadata": {},
     "output_type": "execute_result"
    }
   ],
   "source": [
    "typeof(d) # 配列(ベクトルや行列)はArray"
   ]
  },
  {
   "cell_type": "code",
   "execution_count": 23,
   "id": "29e63ef6",
   "metadata": {},
   "outputs": [
    {
     "data": {
      "text/plain": [
       "Matrix{Int64} (alias for Array{Int64, 2})"
      ]
     },
     "execution_count": 23,
     "metadata": {},
     "output_type": "execute_result"
    }
   ],
   "source": [
    "typeof(e) # ベクトルではなく行列の場合、Array{Int64,\"2\"}になる"
   ]
  },
  {
   "cell_type": "code",
   "execution_count": 24,
   "id": "ca9cbf36-26d3-4a44-88ee-db8cd66c91ee",
   "metadata": {},
   "outputs": [
    {
     "data": {
      "text/plain": [
       "Matrix{Float64} (alias for Array{Float64, 2})"
      ]
     },
     "execution_count": 24,
     "metadata": {},
     "output_type": "execute_result"
    }
   ],
   "source": [
    "typeof(f) # こちらはArrayの要素がIntではなくFloat"
   ]
  },
  {
   "cell_type": "markdown",
   "id": "64ef0463",
   "metadata": {},
   "source": [
    "#### Tips：Matlabと違ってベクトルと行列に本質的な違いはない\n",
    "* 1次元の配列か2次元の配列かの違いでしかない\n",
    "* より高次元の配列も定義出来る↓"
   ]
  },
  {
   "cell_type": "code",
   "execution_count": 25,
   "id": "b33fc585-8005-4363-9d61-d808856ad654",
   "metadata": {},
   "outputs": [],
   "source": [
    "temp = zeros(5, 3, 4); # 5×3×4の配列"
   ]
  },
  {
   "cell_type": "markdown",
   "id": "9d0c1f53",
   "metadata": {},
   "source": [
    "#### Tips：有効桁数と64ビットの意味\n",
    "* コンピュータは表示できる桁数に限界がある\n",
    "* コンピュータは無限を認識してくれない\n",
    "* 例えば、64ビットで表現させる整数の**最大値**は↓\n",
    "* あえて使うことはないかと思うが、32ビットだと表示できる数値の上限が小さくなるので注意"
   ]
  },
  {
   "cell_type": "code",
   "execution_count": 27,
   "id": "b199ef89",
   "metadata": {},
   "outputs": [
    {
     "data": {
      "text/plain": [
       "9223372036854775807"
      ]
     },
     "execution_count": 27,
     "metadata": {},
     "output_type": "execute_result"
    }
   ],
   "source": [
    "int_max = typemax(Int64)"
   ]
  },
  {
   "cell_type": "code",
   "execution_count": 28,
   "id": "cd8df711-b58c-4079-9e8d-a1ded39524b0",
   "metadata": {},
   "outputs": [
    {
     "data": {
      "text/plain": [
       "2147483647"
      ]
     },
     "execution_count": 28,
     "metadata": {},
     "output_type": "execute_result"
    }
   ],
   "source": [
    "int_max = typemax(Int32)"
   ]
  },
  {
   "cell_type": "markdown",
   "id": "c79ee684-3158-4d5e-975a-a37fcd9bbc38",
   "metadata": {},
   "source": [
    "---"
   ]
  },
  {
   "cell_type": "markdown",
   "id": "ad27a702-ac08-4249-ac0d-1e244e09ef8f",
   "metadata": {},
   "source": [
    "## 2.3.3 状態変数と操作変数が共に離散の場合\n",
    "* 操作変数$a$についても離散個のグリッドを設定"
   ]
  },
  {
   "cell_type": "code",
   "execution_count": 29,
   "id": "fd39fb3b",
   "metadata": {},
   "outputs": [],
   "source": [
    "# 操作変数aのグリッドも作成\n",
    "na = 40;\n",
    "a_max = 1.0;\n",
    "a_min = 0.025;"
   ]
  },
  {
   "cell_type": "code",
   "execution_count": 30,
   "id": "abfa2b51",
   "metadata": {},
   "outputs": [
    {
     "data": {
      "text/plain": [
       "40-element Vector{Float64}:\n",
       " 0.025\n",
       " 0.05\n",
       " 0.075\n",
       " 0.1\n",
       " 0.125\n",
       " 0.15\n",
       " 0.17500000000000002\n",
       " 0.2\n",
       " 0.225\n",
       " 0.25\n",
       " 0.27499999999999997\n",
       " 0.3\n",
       " 0.325\n",
       " ⋮\n",
       " 0.725\n",
       " 0.75\n",
       " 0.775\n",
       " 0.7999999999999999\n",
       " 0.825\n",
       " 0.85\n",
       " 0.875\n",
       " 0.9\n",
       " 0.925\n",
       " 0.95\n",
       " 0.975\n",
       " 1.0"
      ]
     },
     "execution_count": 30,
     "metadata": {},
     "output_type": "execute_result"
    }
   ],
   "source": [
    "grid_a = collect(LinRange(a_min, a_max, na))"
   ]
  },
  {
   "cell_type": "markdown",
   "id": "ce94abfd-7777-441f-b0f1-8da71699dbc4",
   "metadata": {},
   "source": [
    "---"
   ]
  },
  {
   "cell_type": "markdown",
   "id": "a339785c-dc81-4b90-ab74-f3955b03e600",
   "metadata": {},
   "source": [
    "## Tips：数値計算誤差について\n",
    "* ⬆ コンピュータは0.175や0.275が正確に表現出来ない"
   ]
  },
  {
   "cell_type": "markdown",
   "id": "9d40009d",
   "metadata": {},
   "source": [
    "### 注意\n",
    "* 上で0.175や0.8あたりの表示がおかしくなっているはず（環境によって表示は異なるかも）\n",
    "* これはコンピュータ上で小数をどのように表現するかの問題で、実は0.8そのものは表現できない\n",
    "    * コンピュータは2進数なのでこのような問題が生じる\n",
    "    * これはJuliaに特有の問題ではなくすべてのソフトウェアに共通する問題\n",
    "* ほとんどの場合は気にしなくても問題は生じないけど、ごくまれにこれが積み上がっていって悪さをしたりする可能性もある"
   ]
  },
  {
   "cell_type": "markdown",
   "id": "91a45ad8",
   "metadata": {},
   "source": [
    "---"
   ]
  },
  {
   "cell_type": "markdown",
   "id": "5a2d729a",
   "metadata": {},
   "source": [
    "## Tips：自分で関数を作ってみる\n",
    "* 経済学でよく使う関数を自力で作成してみよう\n",
    "    * 毎回直接書くのは面倒なので!\n",
    "\n",
    "**CRRA型効用関数**\n",
    "$$\n",
    "    \\frac{c^{1-\\gamma}}{1-\\gamma}\n",
    "$$\n",
    "を計算する関数を作ってみよう\n",
    "* $\\gamma = 1$の場合、$\\log c$である点に注意"
   ]
  },
  {
   "cell_type": "code",
   "execution_count": 26,
   "id": "b28cc978",
   "metadata": {},
   "outputs": [
    {
     "data": {
      "text/plain": [
       "-0.3333333333333333"
      ]
     },
     "execution_count": 26,
     "metadata": {},
     "output_type": "execute_result"
    }
   ],
   "source": [
    "cons = 3.0\n",
    "utility = cons^(1-γ) / (1-γ)"
   ]
  },
  {
   "cell_type": "markdown",
   "id": "32d28945-fd91-40cf-95b2-37c89cfaf30d",
   "metadata": {},
   "source": [
    "毎回、⬆みたいな式を書くのは大変\n",
    "* コピペも面倒\n",
    "* しかも、間違いがあったらコピペをした全部の箇所を訂正しないといけなくなる\n",
    "    * たとえば、うっかり$(1+\\gamma)$と書いてしまってあっちこっちにコピペをしたら..."
   ]
  },
  {
   "cell_type": "markdown",
   "id": "dc333d73-adca-4f9e-922e-b0f4a66db9bf",
   "metadata": {},
   "source": [
    "### 関数にまとめる\n",
    "* 関数は⬇のように書く\n",
    "* `function`と`end`で挟む\n",
    "* `function`の後に関数名（今回の場合はCRRA）をつける\n",
    "* ``( )``の中に引数を書く\n",
    "    * 複数あっても良いし、まったく引数がない関数もある\n",
    "    * 今回だと`cons`と`\\gamma`\n",
    "* ⬇のセルを実行しても`CRRA`としか表示されない"
   ]
  },
  {
   "cell_type": "code",
   "execution_count": 27,
   "id": "26ac3890",
   "metadata": {},
   "outputs": [
    {
     "data": {
      "text/plain": [
       "CRRA"
      ]
     },
     "execution_count": 27,
     "metadata": {},
     "output_type": "execute_result"
    }
   ],
   "source": [
    "\"\"\"\n",
    "\"機能の説明を書くスペース\"\n",
    "効用関数を計算(この関数はどう使うのか。目的や使いみちを書いておく。)\n",
    "\n",
    "### インプット(書かなくても機能上は問題ないけど、ヘルプにインプットとアウトプットの情報が書いてあったほうが便利)\n",
    "`cons::Real` 消費,\n",
    "`γ::Real` 相対的リスク回避度\n",
    "\n",
    "### アウトプット(同上)\n",
    "効用\n",
    "\"\"\"\n",
    "function CRRA(cons, γ)\n",
    "    if γ != 1.0 # 余白を4つ(ないし2つ)挿入\n",
    "       return cons^(1.0 - γ) / (1.0 - γ) \n",
    "    else\n",
    "       return log(cons)\n",
    "    end\n",
    "end"
   ]
  },
  {
   "cell_type": "markdown",
   "id": "28091b1d-48e3-43f3-b00c-b6e217566419",
   "metadata": {},
   "source": [
    "---"
   ]
  },
  {
   "cell_type": "markdown",
   "id": "20bf445b",
   "metadata": {},
   "source": [
    "### Tips：if文\n",
    "* 条件を分岐\n",
    "* もしAならば〜、もしそうでなければ〜\n",
    "* もしAならば〜、あるいはBならば〜、あるいはCならば〜"
   ]
  },
  {
   "cell_type": "code",
   "execution_count": 28,
   "id": "6500824b",
   "metadata": {},
   "outputs": [
    {
     "data": {
      "text/plain": [
       "-0.3333333333333333"
      ]
     },
     "execution_count": 28,
     "metadata": {},
     "output_type": "execute_result"
    }
   ],
   "source": [
    "if γ != 1.0 # もし\\gammaが1でないならば...\n",
    "    return cons^(1.0 - γ) / (1.0 - γ)\n",
    "else # そうでないならば...\n",
    "    return log(cons)\n",
    "end"
   ]
  },
  {
   "cell_type": "markdown",
   "id": "ef1ad619-e117-4640-8249-15a4a3681f6d",
   "metadata": {},
   "source": [
    "---"
   ]
  },
  {
   "cell_type": "markdown",
   "id": "38abd7e4",
   "metadata": {},
   "source": [
    "### Tips：プログラミングでは=は\"イコール\"ではない\n",
    "* a=1：aに1を入れなさい\n",
    "* a==1：aと1が等しいかどうかをチェック\n",
    "    * 結果はtrueかfalseのどちらか"
   ]
  },
  {
   "cell_type": "code",
   "execution_count": 29,
   "id": "b2d3130a-37fc-4878-9d1c-b52b3bf428be",
   "metadata": {},
   "outputs": [
    {
     "data": {
      "text/plain": [
       "1"
      ]
     },
     "execution_count": 29,
     "metadata": {},
     "output_type": "execute_result"
    }
   ],
   "source": [
    "a=1"
   ]
  },
  {
   "cell_type": "code",
   "execution_count": 30,
   "id": "d2c9aa7a-faa6-48c9-8130-a3cf9637a7f9",
   "metadata": {},
   "outputs": [
    {
     "data": {
      "text/plain": [
       "true"
      ]
     },
     "execution_count": 30,
     "metadata": {},
     "output_type": "execute_result"
    }
   ],
   "source": [
    "a==1"
   ]
  },
  {
   "cell_type": "markdown",
   "id": "a51f7b4d-7674-4f78-84cc-134c034db162",
   "metadata": {},
   "source": [
    "---"
   ]
  },
  {
   "cell_type": "markdown",
   "id": "b06b879c-d562-4f34-b1c8-06f24405b7fb",
   "metadata": {},
   "source": [
    "#### 自作の関数がきちんと動くかを確認してみよう\n",
    "* 自分の関数に注をつけたのでhelp機能で確認をすることが出来るようになる\n",
    "* 注意：事前に実行をする必要あり"
   ]
  },
  {
   "cell_type": "code",
   "execution_count": 31,
   "id": "cbe15c2a",
   "metadata": {},
   "outputs": [
    {
     "data": {
      "text/plain": [
       "-0.3333333333333333"
      ]
     },
     "execution_count": 31,
     "metadata": {},
     "output_type": "execute_result"
    }
   ],
   "source": [
    "cons = 3.0\n",
    "γ = 2.0\n",
    "CRRA(cons, γ)"
   ]
  },
  {
   "cell_type": "code",
   "execution_count": 32,
   "id": "010b82d5-535b-4f0e-b68a-dbedb41c7f97",
   "metadata": {},
   "outputs": [
    {
     "name": "stdout",
     "output_type": "stream",
     "text": [
      "search: \u001b[0m\u001b[1mC\u001b[22m\u001b[0m\u001b[1mR\u001b[22m\u001b[0m\u001b[1mR\u001b[22m\u001b[0m\u001b[1mA\u001b[22m Abstra\u001b[0m\u001b[1mc\u001b[22mtA\u001b[0m\u001b[1mr\u001b[22m\u001b[0m\u001b[1mr\u001b[22m\u001b[0m\u001b[1ma\u001b[22my Abstra\u001b[0m\u001b[1mc\u001b[22mtI\u001b[0m\u001b[1mr\u001b[22m\u001b[0m\u001b[1mr\u001b[22m\u001b[0m\u001b[1ma\u001b[22mtional \u001b[0m\u001b[1mc\u001b[22mu\u001b[0m\u001b[1mr\u001b[22m\u001b[0m\u001b[1mr\u001b[22ment_t\u001b[0m\u001b[1ma\u001b[22msk\n",
      "\n"
     ]
    },
    {
     "data": {
      "text/latex": [
       "\"機能の説明を書くスペース\" 効用関数を計算(この関数はどう使うのか。目的や使いみちを書いておく。)\n",
       "\n",
       "\\subsubsection{インプット(書かなくても機能上は問題ないけど、ヘルプにインプットとアウトプットの情報が書いてあったほうが便利)}\n",
       "\\texttt{cons::Real} 消費, \\texttt{γ::Real} 相対的リスク回避度\n",
       "\n",
       "\\subsubsection{アウトプット(同上)}\n",
       "効用\n",
       "\n"
      ],
      "text/markdown": [
       "\"機能の説明を書くスペース\" 効用関数を計算(この関数はどう使うのか。目的や使いみちを書いておく。)\n",
       "\n",
       "### インプット(書かなくても機能上は問題ないけど、ヘルプにインプットとアウトプットの情報が書いてあったほうが便利)\n",
       "\n",
       "`cons::Real` 消費, `γ::Real` 相対的リスク回避度\n",
       "\n",
       "### アウトプット(同上)\n",
       "\n",
       "効用\n"
      ],
      "text/plain": [
       "  \"機能の説明を書くスペース\" 効用関数を計算(この関数はどう使うのか。目的や使いみちを書いておく。)\n",
       "\n",
       "\u001b[1m  インプット(書かなくても機能上は問題ないけど、ヘルプにインプットとアウトプットの情報が書いてあったほうが便利)\u001b[22m\n",
       "\u001b[1m  –––––––––––––––––––––––––––––––––––––––––––––––––––––––––\u001b[22m\n",
       "\n",
       "  \u001b[36mcons::Real\u001b[39m 消費, \u001b[36mγ::Real\u001b[39m 相対的リスク回避度\n",
       "\n",
       "\u001b[1m  アウトプット(同上)\u001b[22m\n",
       "\u001b[1m  ––––––––––––\u001b[22m\n",
       "\n",
       "  効用"
      ]
     },
     "execution_count": 32,
     "metadata": {},
     "output_type": "execute_result"
    }
   ],
   "source": [
    "? CRRA"
   ]
  },
  {
   "cell_type": "code",
   "execution_count": 33,
   "id": "1e6b8eeb",
   "metadata": {},
   "outputs": [
    {
     "data": {
      "text/plain": [
       "-0.3333333333333333"
      ]
     },
     "execution_count": 33,
     "metadata": {},
     "output_type": "execute_result"
    }
   ],
   "source": [
    "# 何回も数式を書かなくてもよくなる\n",
    "util1 = CRRA(1.0, 2.0)\n",
    "util2 = CRRA(2.0, 2.0)\n",
    "util3 = CRRA(3.0, 2.0)"
   ]
  },
  {
   "cell_type": "markdown",
   "id": "70f4ca29",
   "metadata": {},
   "source": [
    "---"
   ]
  },
  {
   "cell_type": "markdown",
   "id": "4c88854a",
   "metadata": {},
   "source": [
    "## 横道：引き続き、Cobb-Douglas型生産関数を作成\n",
    "$$\n",
    "Y = Z K^{\\alpha} L^{1-\\alpha}\n",
    "$$"
   ]
  },
  {
   "cell_type": "code",
   "execution_count": 34,
   "id": "796261f5",
   "metadata": {},
   "outputs": [
    {
     "data": {
      "text/plain": [
       "1.5796586452010848"
      ]
     },
     "execution_count": 34,
     "metadata": {},
     "output_type": "execute_result"
    }
   ],
   "source": [
    "# やはり毎回書くのは面倒\n",
    "totalfactorproductivity = 1.0\n",
    "aggregate_capital = 3.0\n",
    "aggregate_labor = 1.2\n",
    "α = 0.3\n",
    "Y = totalfactorproductivity * aggregate_capital^α * aggregate_labor^(1-α)"
   ]
  },
  {
   "cell_type": "code",
   "execution_count": 35,
   "id": "ad576778",
   "metadata": {},
   "outputs": [
    {
     "data": {
      "text/plain": [
       "CobbDouglas"
      ]
     },
     "execution_count": 35,
     "metadata": {},
     "output_type": "execute_result"
    }
   ],
   "source": [
    "\"\"\"\n",
    "Purpose:\n",
    "Cobb-Douglas type production function.\n",
    "\n",
    "### Input\n",
    "capital: aggregate capital,\n",
    "labor: aggregate labor\n",
    "α: capital share,\n",
    "tfp: total factor productivity (optional).\n",
    "\n",
    "### Output\n",
    "y: GDP\n",
    "\"\"\"\n",
    "function CobbDouglas(capital, labor, α, tfp = 1.0)\n",
    "    y = tfp * capital^α * labor^(1- α)\n",
    "    return y # なくてもOK\n",
    "end"
   ]
  },
  {
   "cell_type": "code",
   "execution_count": 41,
   "id": "27cb6c2c",
   "metadata": {},
   "outputs": [
    {
     "name": "stdout",
     "output_type": "stream",
     "text": [
      "search: \u001b[0m\u001b[1mC\u001b[22m\u001b[0m\u001b[1mo\u001b[22m\u001b[0m\u001b[1mb\u001b[22m\u001b[0m\u001b[1mb\u001b[22m\u001b[0m\u001b[1mD\u001b[22m\u001b[0m\u001b[1mo\u001b[22m\u001b[0m\u001b[1mu\u001b[22m\u001b[0m\u001b[1mg\u001b[22m\u001b[0m\u001b[1ml\u001b[22m\u001b[0m\u001b[1ma\u001b[22m\u001b[0m\u001b[1ms\u001b[22m\n",
      "\n"
     ]
    },
    {
     "data": {
      "text/latex": [
       "Purpose: Cobb-Douglas type production function.\n",
       "\n",
       "\\subsubsection{Input}\n",
       "capital: aggregate capital, labor: aggregate labor α: capital share, tfp: total factor productivity (optional).\n",
       "\n",
       "\\subsubsection{Output}\n",
       "y: GDP\n",
       "\n"
      ],
      "text/markdown": [
       "Purpose: Cobb-Douglas type production function.\n",
       "\n",
       "### Input\n",
       "\n",
       "capital: aggregate capital, labor: aggregate labor α: capital share, tfp: total factor productivity (optional).\n",
       "\n",
       "### Output\n",
       "\n",
       "y: GDP\n"
      ],
      "text/plain": [
       "  Purpose: Cobb-Douglas type production function.\n",
       "\n",
       "\u001b[1m  Input\u001b[22m\n",
       "\u001b[1m  –––––––\u001b[22m\n",
       "\n",
       "  capital: aggregate capital, labor: aggregate labor α: capital share, tfp:\n",
       "  total factor productivity (optional).\n",
       "\n",
       "\u001b[1m  Output\u001b[22m\n",
       "\u001b[1m  ––––––––\u001b[22m\n",
       "\n",
       "  y: GDP"
      ]
     },
     "execution_count": 41,
     "metadata": {},
     "output_type": "execute_result"
    }
   ],
   "source": [
    "? CobbDouglas"
   ]
  },
  {
   "cell_type": "code",
   "execution_count": 36,
   "id": "589e7f98",
   "metadata": {},
   "outputs": [
    {
     "data": {
      "text/plain": [
       "1.682932718169299"
      ]
     },
     "execution_count": 36,
     "metadata": {},
     "output_type": "execute_result"
    }
   ],
   "source": [
    "Z = 1.0; # TFPを1に基準化\n",
    "capital = 2.0;\n",
    "labor = 1.5;\n",
    "α = 0.4; # 資本分配率\n",
    "y = CobbDouglas(capital, labor, α, Z)"
   ]
  },
  {
   "cell_type": "code",
   "execution_count": 37,
   "id": "1aa09d76",
   "metadata": {},
   "outputs": [
    {
     "data": {
      "text/plain": [
       "1.682932718169299"
      ]
     },
     "execution_count": 37,
     "metadata": {},
     "output_type": "execute_result"
    }
   ],
   "source": [
    "# Zを省略した場合、デフォルトの値が入る(ように⬆で書いた)\n",
    "y = CobbDouglas(capital, labor, α)"
   ]
  },
  {
   "cell_type": "markdown",
   "id": "3dfcd7db-1696-4cdd-a8ea-4c884b1c61f4",
   "metadata": {},
   "source": [
    "---"
   ]
  },
  {
   "cell_type": "markdown",
   "id": "20b9777b-116f-49ea-9cff-871d24151506",
   "metadata": {},
   "source": [
    "## Tips：関数を高速化するためには変数の型を予め宣言しておくと良い\n",
    "* ⬆の書き方だとcapitalに2(Int)を入れても2.0(Float)でも問題ない\n",
    "    * でもJuliaの内部でひと手間かかっている\n",
    "* ⬇の書き方場合、capitalやlaborにはFloat64しか入れられない\n",
    "    * 別の型を引数にしようとするとエラー\n",
    "    * Juliaの負担が少し減る\n",
    "* 今回みたいな簡単な計算では差は実感できないけど、もっと長い計算の場合には差が出てくる場合がある"
   ]
  },
  {
   "cell_type": "code",
   "execution_count": 38,
   "id": "f5803d6c-6a30-4454-9d4e-e45f89aedcad",
   "metadata": {},
   "outputs": [
    {
     "data": {
      "text/plain": [
       "CobbDouglas2 (generic function with 2 methods)"
      ]
     },
     "execution_count": 38,
     "metadata": {},
     "output_type": "execute_result"
    }
   ],
   "source": [
    "function CobbDouglas2(capital::Float64, labor::Float64, α::Float64, tfp::Float64=1.0)\n",
    "    y = tfp * capital^α * labor^(1- α)\n",
    "    return y\n",
    "end"
   ]
  },
  {
   "cell_type": "code",
   "execution_count": 39,
   "id": "c878281d-1771-4eff-9c20-ffd32173d96e",
   "metadata": {},
   "outputs": [
    {
     "data": {
      "text/plain": [
       "1.682932718169299"
      ]
     },
     "execution_count": 39,
     "metadata": {},
     "output_type": "execute_result"
    }
   ],
   "source": [
    "y = CobbDouglas2(capital, labor, α)"
   ]
  },
  {
   "cell_type": "code",
   "execution_count": 40,
   "id": "d91420f3-7450-4224-af12-0e4ae05d2e52",
   "metadata": {},
   "outputs": [
    {
     "ename": "LoadError",
     "evalue": "MethodError: no method matching CobbDouglas2(::Int64, ::Float64, ::Float64)\n\u001b[0mClosest candidates are:\n\u001b[0m  CobbDouglas2(\u001b[91m::Float64\u001b[39m, ::Float64, ::Float64) at In[38]:1\n\u001b[0m  CobbDouglas2(\u001b[91m::Float64\u001b[39m, ::Float64, ::Float64, \u001b[91m::Float64\u001b[39m) at In[38]:1",
     "output_type": "error",
     "traceback": [
      "MethodError: no method matching CobbDouglas2(::Int64, ::Float64, ::Float64)\n\u001b[0mClosest candidates are:\n\u001b[0m  CobbDouglas2(\u001b[91m::Float64\u001b[39m, ::Float64, ::Float64) at In[38]:1\n\u001b[0m  CobbDouglas2(\u001b[91m::Float64\u001b[39m, ::Float64, ::Float64, \u001b[91m::Float64\u001b[39m) at In[38]:1",
      "",
      "Stacktrace:",
      " [1] top-level scope",
      "   @ In[40]:2",
      " [2] eval",
      "   @ ./boot.jl:373 [inlined]",
      " [3] include_string(mapexpr::typeof(REPL.softscope), mod::Module, code::String, filename::String)",
      "   @ Base ./loading.jl:1196"
     ]
    }
   ],
   "source": [
    "capital_int = 2 # 整数なのでエラーが出る\n",
    "y = CobbDouglas2(capital_int, labor, α)"
   ]
  },
  {
   "cell_type": "markdown",
   "id": "d1f16f35",
   "metadata": {},
   "source": [
    "---"
   ]
  },
  {
   "cell_type": "markdown",
   "id": "18db408f",
   "metadata": {},
   "source": [
    "## 関数化した強み：まとめて計算してみる\n",
    "* 資本と労働それぞれ51種類、総計で2601種類の組み合わせで生産量を計算"
   ]
  },
  {
   "cell_type": "code",
   "execution_count": 47,
   "id": "2a17d5f0",
   "metadata": {},
   "outputs": [],
   "source": [
    "# StepRangeLenという機能を使う\n",
    "k = 0:0.1:5; # 0から5までを0.1刻みにしたベクトル\n",
    "l = 0:0.1:5;"
   ]
  },
  {
   "cell_type": "code",
   "execution_count": 48,
   "id": "2494d5a2",
   "metadata": {},
   "outputs": [],
   "source": [
    "nk = length(k); # ｋの要素数\n",
    "nl = length(l); # lの要素数"
   ]
  },
  {
   "cell_type": "code",
   "execution_count": 49,
   "id": "67c2b149",
   "metadata": {},
   "outputs": [],
   "source": [
    "# 空っぽの変数を定義\n",
    "# 未定義の変数のサイズをループで大きくしていくと計算速度が大幅に低下するので事前に準備\n",
    "y = zeros(nk, nl)\n",
    "\n",
    "for i = 1:nk\n",
    "    for j = 1:nl\n",
    "        y[i, j] = CobbDouglas(k[i], l[j], α, Z)\n",
    "    end\n",
    "end"
   ]
  },
  {
   "cell_type": "markdown",
   "id": "ca8e71e5",
   "metadata": {},
   "source": [
    "---"
   ]
  },
  {
   "cell_type": "markdown",
   "id": "93dd5bb0",
   "metadata": {},
   "source": [
    "## Tips：構造体(struct)を使ってモデルのパラメータをひとまとめにする\n",
    "* **必須ではない**けど知っておくと便利\n",
    "* ⬇みたいにバラバラに変数の設定をすると、どんどん変数が増えていく\n",
    "    * 巨大なモデルを計算する際、関数の引数が大量になるとコードが読みにくくなる\n",
    "    * かといってグローバル変数は極力使いたくない"
   ]
  },
  {
   "cell_type": "code",
   "execution_count": 41,
   "id": "d5f2081d-2b1e-49f4-af5b-cde0845cd93f",
   "metadata": {},
   "outputs": [],
   "source": [
    "β = 0.985^30\n",
    "γ = 2.0\n",
    "rent = 1.025^30 - 1.0\n",
    "nw = 10\n",
    "w_max = 1.0\n",
    "w_min = 0.1\n",
    "na = 40\n",
    "a_max = 1.0\n",
    "a_min = 0.025\n",
    "\n",
    "grid_w = collect(LinRange(w_min, w_max, nw))\n",
    "grid_a = collect(LinRange(a_min, a_max, na));"
   ]
  },
  {
   "cell_type": "markdown",
   "id": "3f31015d-0f7e-4a0d-a0fc-f918102983d6",
   "metadata": {},
   "source": [
    "#### そこで色々な変数をまとめた一つの大きな変数を作る\n",
    "* 関数を呼び出した際のやりとりはその変数一つで済む\n",
    "* **構造体（struct）**というものを作る"
   ]
  },
  {
   "cell_type": "code",
   "execution_count": 42,
   "id": "91775509",
   "metadata": {},
   "outputs": [],
   "source": [
    "struct Models\n",
    "    # パラメータ\n",
    "    β::Float64 #割引因子\n",
    "    γ::Float64 #相対的危険回避度\n",
    "    \n",
    "    # 要素価格\n",
    "    rent::Float64 #純利子率\n",
    "    \n",
    "    # グリッド\n",
    "    nw::Int64 #所得グリッドの数\n",
    "    w_max::Float64 #所得グリッドの最大値\n",
    "    w_min::Float64 #所得グリッドの最小値\n",
    "    grid_w::Vector{Float64} #所得グリッド\n",
    "    na::Int64　#貯蓄グリッドの数\n",
    "    a_max::Float64　#貯蓄グリッドの最大値\n",
    "    a_min::Float64　#貯蓄グリッドの最小値\n",
    "    grid_a::Vector{Float64}　#貯蓄グリッド\n",
    "end"
   ]
  },
  {
   "cell_type": "code",
   "execution_count": 43,
   "id": "0d3ceeaa-fa60-4e90-972d-6d4025acc05b",
   "metadata": {},
   "outputs": [
    {
     "data": {
      "text/plain": [
       "Models(0.6354580927313491, 2.0, 1.0975675790817858, 10, 1.0, 0.1, [0.1, 0.2, 0.3, 0.4, 0.5, 0.6, 0.7, 0.8, 0.8999999999999999, 1.0], 40, 1.0, 0.025, [0.025, 0.05, 0.075, 0.1, 0.125, 0.15, 0.17500000000000002, 0.2, 0.225, 0.25  …  0.775, 0.7999999999999999, 0.825, 0.85, 0.875, 0.9, 0.925, 0.95, 0.975, 1.0])"
      ]
     },
     "execution_count": 43,
     "metadata": {},
     "output_type": "execute_result"
    }
   ],
   "source": [
    "# structの使い方\n",
    "Models(β, γ, rent, nw, w_max, w_min, grid_w, na, a_max, a_min, grid_a)"
   ]
  },
  {
   "cell_type": "markdown",
   "id": "4894b72c",
   "metadata": {},
   "source": [
    "### 構造体を呼び出す関数を作る"
   ]
  },
  {
   "cell_type": "code",
   "execution_count": 44,
   "id": "eeef174d-56cd-41e5-9720-76d8e7d0a4c2",
   "metadata": {},
   "outputs": [
    {
     "data": {
      "text/plain": [
       "Calibration (generic function with 1 method)"
      ]
     },
     "execution_count": 44,
     "metadata": {},
     "output_type": "execute_result"
    }
   ],
   "source": [
    "function Calibration()\n",
    "    # パラメータはここで設定をする\n",
    "    β = 0.985^30\n",
    "    γ = 2.0\n",
    "    rent = 1.025^30 - 1.0\n",
    "    nw = 10\n",
    "    w_max = 1.0\n",
    "    w_min = 0.1\n",
    "    na = 40\n",
    "    a_max = 1.0\n",
    "    a_min = 0.025\n",
    "\n",
    "    grid_w = collect(LinRange(w_min, w_max, nw))\n",
    "    grid_a = collect(LinRange(a_min, a_max, na))\n",
    "\n",
    "    return Models(β, γ, rent, nw, w_max, w_min, grid_w, na, a_max, a_min, grid_a)\n",
    "end"
   ]
  },
  {
   "cell_type": "code",
   "execution_count": 45,
   "id": "2901f9f2",
   "metadata": {},
   "outputs": [
    {
     "data": {
      "text/plain": [
       "Models(0.6354580927313491, 2.0, 1.0975675790817858, 10, 1.0, 0.1, [0.1, 0.2, 0.3, 0.4, 0.5, 0.6, 0.7, 0.8, 0.8999999999999999, 1.0], 40, 1.0, 0.025, [0.025, 0.05, 0.075, 0.1, 0.125, 0.15, 0.17500000000000002, 0.2, 0.225, 0.25  …  0.775, 0.7999999999999999, 0.825, 0.85, 0.875, 0.9, 0.925, 0.95, 0.975, 1.0])"
      ]
     },
     "execution_count": 45,
     "metadata": {},
     "output_type": "execute_result"
    }
   ],
   "source": [
    "# paramsという変数に色々な変数をひとまとめにする\n",
    "params = Calibration()"
   ]
  },
  {
   "cell_type": "markdown",
   "id": "f0658940-25d8-4e0b-b739-1914948c5682",
   "metadata": {},
   "source": [
    "#### 構造体の使い方は簡単"
   ]
  },
  {
   "cell_type": "code",
   "execution_count": 46,
   "id": "1b706df2",
   "metadata": {},
   "outputs": [
    {
     "data": {
      "text/plain": [
       "0.6354580927313491"
      ]
     },
     "execution_count": 46,
     "metadata": {},
     "output_type": "execute_result"
    }
   ],
   "source": [
    "# 欲しい変数だけ取り出す方法\n",
    "params.β"
   ]
  },
  {
   "cell_type": "code",
   "execution_count": 47,
   "id": "e886d074",
   "metadata": {},
   "outputs": [
    {
     "data": {
      "text/plain": [
       "1.0975675790817858"
      ]
     },
     "execution_count": 47,
     "metadata": {},
     "output_type": "execute_result"
    }
   ],
   "source": [
    "params.rent"
   ]
  },
  {
   "cell_type": "markdown",
   "id": "9c0d5c57-c80b-4fd5-b84b-a1e830f00a3d",
   "metadata": {},
   "source": [
    "---"
   ]
  },
  {
   "cell_type": "markdown",
   "id": "44c426d5-362a-420f-9973-7b6ebb43bca7",
   "metadata": {},
   "source": [
    "## 2.3.3 状態変数と操作変数が共に離散の場合\n",
    "* 話をもどして、ようやく数値計算の本筋に入っていこう！"
   ]
  },
  {
   "cell_type": "markdown",
   "id": "b4b451fd",
   "metadata": {},
   "source": [
    "2期目の消費は\n",
    "$$\n",
    "    c_{2} = (1+r)a\n",
    "$$\n",
    "なので、aのグリッドに対応した効用を確認してみよう"
   ]
  },
  {
   "cell_type": "code",
   "execution_count": 50,
   "id": "31c3de66",
   "metadata": {},
   "outputs": [],
   "source": [
    "# 2期の効用関数として取りうる値\n",
    "util2 = CRRA.((1.0 + params.rent)*params.grid_a, params.γ);"
   ]
  },
  {
   "cell_type": "markdown",
   "id": "5b744cdf-88b5-461e-ba76-37c21b98bb75",
   "metadata": {},
   "source": [
    "#### Tips：上の書き方では関数のブロードキャストという方法を使っている\n",
    "* 関数`CRRA(c, \\gamma)`の変数cと\\gammaはスカラーである必要がある\n",
    "* `CRRA.(cのベクトル, \\gamma)`のように`.`をつけるとスカラーではなく、ベクトルのそれぞれの値に対応したCRRA関数を計算をするという形になる\n",
    "    * `model.grid_a`はスカラーではなく⬆で定義したベクトルである点に注意\n",
    "    * ループ計算(後述)でも計算出来るけど、こちらのほうが簡潔にコードを書くことが出来る\n",
    "    * CRRAの後の`.`消すとエラーが出ます"
   ]
  },
  {
   "cell_type": "markdown",
   "id": "91d656eb-cf39-46c2-8ba2-53d6e6fbf455",
   "metadata": {},
   "source": [
    "### 試しに効用関数をプロットしてみよう"
   ]
  },
  {
   "cell_type": "code",
   "execution_count": 51,
   "id": "0fce43f2",
   "metadata": {},
   "outputs": [
    {
     "data": {
      "text/plain": [
       "Plots.PyPlotBackend()"
      ]
     },
     "execution_count": 51,
     "metadata": {},
     "output_type": "execute_result"
    }
   ],
   "source": [
    "using Plots # 遅いのでしばらく待つ必要あり\n",
    "pyplot()"
   ]
  },
  {
   "cell_type": "code",
   "execution_count": 52,
   "id": "94dbaecd-ea16-4958-8a59-9200923b1b1b",
   "metadata": {},
   "outputs": [
    {
     "data": {
      "image/png": "[encoded data removed]"
     },
     "execution_count": 52,
     "metadata": {},
     "output_type": "execute_result"
    }
   ],
   "source": [
    "# 効用関数の図を描く\n",
    "# これも**初回**は遅いのでしばらく待つ\n",
    "plt = plot(params.grid_a, util2,\n",
    "    color = :blue,\n",
    "    marker = :circle,\n",
    "    legend = :none,\n",
    "    xlims = (0, 1),\n",
    "    ylims = (-14, 0),\n",
    "    xlabel = (\"老年期の資産\"),\n",
    "    ylabel = (\"老年期の効用\"),\n",
    "    linewidth = 4,\n",
    "    markersize = 8,\n",
    "    titlefont = font(\"HackGen35Nerd\", 12),\n",
    "    guidefont = font(\"HackGen35Nerd\", 12),\n",
    "    tickfont = font(\"HackGen35Nerd\", 8),\n",
    "    framestyle = :semi\n",
    ")\n",
    "#savefig(\"Fig2_utility_period2.pdf\")"
   ]
  },
  {
   "cell_type": "markdown",
   "id": "78c442a0",
   "metadata": {},
   "source": [
    "### 空の変数を作る\n",
    "* ゼロが入っている変数：器の役割\n",
    "    * ここに計算結果を代入していく\n",
    "* 変数のサイズを予め決めておく点が重要\n",
    "    * 計算途中でベクトルや行列のサイズが変わるような書き方をすると計算速度が**大幅に**低下する"
   ]
  },
  {
   "cell_type": "code",
   "execution_count": 55,
   "id": "64ee820f",
   "metadata": {},
   "outputs": [],
   "source": [
    "# 配列(変数)をあらかじめ定義しておく\n",
    "obj = zeros(params.na, params.nw) # 目的関数\n",
    "pol = zeros(params.nw); # 政策関数"
   ]
  },
  {
   "cell_type": "markdown",
   "id": "1f66be35",
   "metadata": {},
   "source": [
    "## 今回のアルゴリズムの中心\n",
    "* テキスト(2.5)式を計算"
   ]
  },
  {
   "cell_type": "code",
   "execution_count": 56,
   "id": "84ecab70",
   "metadata": {},
   "outputs": [],
   "source": [
    "# あらゆる(w,a)の組み合わせについて生涯効用を計算\n",
    "\n",
    "for i = 1:params.nw\n",
    "    for j = 1:params.na\n",
    "        cons = params.grid_w[i] - params.grid_a[j]\n",
    "        if cons > 0.0\n",
    "            obj[j, i] = CRRA(cons, params.γ) + params.β*　CRRA((1.0+params.rent)*params.grid_a[j], params.γ)\n",
    "        else\n",
    "            # 消費が負値の場合、ペナルティを与えてその値が選ばれないようにする\n",
    "            obj[j,i] = -10000.0\n",
    "        end\n",
    "    end\n",
    "end"
   ]
  },
  {
   "cell_type": "markdown",
   "id": "6b129c79-4baa-42d2-8827-b65ed32df33e",
   "metadata": {},
   "source": [
    "#### Tips：多重のループ計算でタブによる段落下げを行うと右側に行き過ぎて見にくい場合がある\n",
    "* Pythonと違ってJuliaではタブによる段落下げそれ自体に特別な効果はない\n",
    "    * 読みやすさのため\n",
    "* Juliaの場合、ループ計算をひとまとめにすることが出来る：⬇"
   ]
  },
  {
   "cell_type": "code",
   "execution_count": 57,
   "id": "e575adb3-4b1d-4efb-a672-d885d24a644b",
   "metadata": {},
   "outputs": [],
   "source": [
    "for i = 1:params.nw, j = 1:params.na # ここでひとまとめ\n",
    "    cons = params.grid_w[i] - params.grid_a[j]\n",
    "    if cons > 0.0\n",
    "        obj[j, i] = CRRA(cons, params.γ) + params.β*　CRRA((1.0+params.rent)*params.grid_a[j], params.γ)\n",
    "    else\n",
    "        # 消費が負値の場合、ペナルティを与えてその値が選ばれないようにする\n",
    "        obj[j,i] = -10000.0\n",
    "    end\n",
    "end"
   ]
  },
  {
   "cell_type": "markdown",
   "id": "e3fd2047-d0c9-425d-8aa4-33d028817dc6",
   "metadata": {},
   "source": [
    "---"
   ]
  },
  {
   "cell_type": "markdown",
   "id": "d706052e",
   "metadata": {},
   "source": [
    "## Tips：ループ(繰り返し計算)とは?"
   ]
  },
  {
   "cell_type": "code",
   "execution_count": 59,
   "id": "16261e84",
   "metadata": {},
   "outputs": [
    {
     "data": {
      "text/plain": [
       "55"
      ]
     },
     "execution_count": 59,
     "metadata": {},
     "output_type": "execute_result"
    }
   ],
   "source": [
    "# これを計算したいけど書くのが面倒\n",
    "temp = 1 + 2 + 3 + 4 + 5 + 6 + 7 + 8 + 9 + 10"
   ]
  },
  {
   "cell_type": "code",
   "execution_count": 63,
   "id": "08d98353",
   "metadata": {},
   "outputs": [
    {
     "name": "stdout",
     "output_type": "stream",
     "text": [
      "55"
     ]
    }
   ],
   "source": [
    "a = 0\n",
    "for i = 1:10\n",
    "    a = a + i # =は同じではなく代入\n",
    "end\n",
    "print(a)"
   ]
  },
  {
   "cell_type": "code",
   "execution_count": 64,
   "id": "29738f5a-3f66-48d9-83cb-42686315b11e",
   "metadata": {},
   "outputs": [
    {
     "name": "stdout",
     "output_type": "stream",
     "text": [
      "55"
     ]
    }
   ],
   "source": [
    "# 下記のような書き方も出来る\n",
    "a = 0\n",
    "for i in 1:10\n",
    "    a += i\n",
    "end\n",
    "print(a)"
   ]
  },
  {
   "cell_type": "markdown",
   "id": "480011ca",
   "metadata": {},
   "source": [
    "---"
   ]
  },
  {
   "cell_type": "code",
   "execution_count": 65,
   "id": "1587359a",
   "metadata": {},
   "outputs": [
    {
     "name": "stdout",
     "output_type": "stream",
     "text": [
      "[0.025, 0.075, 0.1, 0.15, 0.17500000000000002, 0.225, 0.25, 0.27499999999999997, 0.325, 0.35]"
     ]
    }
   ],
   "source": [
    "#各wについて生涯効用を最大とするようなaを探す\n",
    "\n",
    "for i in 1:params.nw\n",
    "\n",
    "    # findmax：最大値と最大値がある場所を探す関数\n",
    "    maxv, maxl = findmax(obj[:, i])\n",
    "\n",
    "    # policy：最適貯蓄\n",
    "    pol[i] = params.grid_a[maxl]\n",
    "\n",
    "end\n",
    "print(pol)"
   ]
  },
  {
   "cell_type": "code",
   "execution_count": 69,
   "id": "9a3cf6fa",
   "metadata": {},
   "outputs": [
    {
     "name": "stdout",
     "output_type": "stream",
     "text": [
      "search: \u001b[0m\u001b[1mf\u001b[22m\u001b[0m\u001b[1mi\u001b[22m\u001b[0m\u001b[1mn\u001b[22m\u001b[0m\u001b[1md\u001b[22m\u001b[0m\u001b[1mm\u001b[22m\u001b[0m\u001b[1ma\u001b[22m\u001b[0m\u001b[1mx\u001b[22m \u001b[0m\u001b[1mf\u001b[22m\u001b[0m\u001b[1mi\u001b[22m\u001b[0m\u001b[1mn\u001b[22m\u001b[0m\u001b[1md\u001b[22m\u001b[0m\u001b[1mm\u001b[22m\u001b[0m\u001b[1ma\u001b[22m\u001b[0m\u001b[1mx\u001b[22m! \u001b[0m\u001b[1mf\u001b[22m\u001b[0m\u001b[1mi\u001b[22m\u001b[0m\u001b[1mn\u001b[22m\u001b[0m\u001b[1md\u001b[22m\u001b[0m\u001b[1mm\u001b[22min \u001b[0m\u001b[1mf\u001b[22m\u001b[0m\u001b[1mi\u001b[22m\u001b[0m\u001b[1mn\u001b[22m\u001b[0m\u001b[1md\u001b[22m\u001b[0m\u001b[1mm\u001b[22min!\n",
      "\n"
     ]
    },
    {
     "data": {
      "text/latex": [
       "\\begin{verbatim}\n",
       "findmax(f, domain) -> (f(x), index)\n",
       "\\end{verbatim}\n",
       "Returns a pair of a value in the codomain (outputs of \\texttt{f}) and the index of the corresponding value in the \\texttt{domain} (inputs to \\texttt{f}) such that \\texttt{f(x)} is maximised. If there are multiple maximal points, then the first one will be returned.\n",
       "\n",
       "\\texttt{domain} must be a non-empty iterable.\n",
       "\n",
       "Values are compared with \\texttt{isless}.\n",
       "\n",
       "\\begin{quote}\n",
       "\\textbf{compat}\n",
       "\n",
       "Julia 1.7\n",
       "\n",
       "This method requires Julia 1.7 or later.\n",
       "\n",
       "\\end{quote}\n",
       "\\section{Examples}\n",
       "\\begin{verbatim}\n",
       "julia> findmax(identity, 5:9)\n",
       "(9, 5)\n",
       "\n",
       "julia> findmax(-, 1:10)\n",
       "(-1, 1)\n",
       "\n",
       "julia> findmax(first, [(1, :a), (3, :b), (3, :c)])\n",
       "(3, 2)\n",
       "\n",
       "julia> findmax(cos, 0:π/2:2π)\n",
       "(1.0, 1)\n",
       "\\end{verbatim}\n",
       "\\rule{\\textwidth}{1pt}\n",
       "\\begin{verbatim}\n",
       "findmax(itr) -> (x, index)\n",
       "\\end{verbatim}\n",
       "Return the maximal element of the collection \\texttt{itr} and its index or key. If there are multiple maximal elements, then the first one will be returned. Values are compared with \\texttt{isless}.\n",
       "\n",
       "See also: \\href{@ref}{\\texttt{findmin}}, \\href{@ref}{\\texttt{argmax}}, \\href{@ref}{\\texttt{maximum}}.\n",
       "\n",
       "\\section{Examples}\n",
       "\\begin{verbatim}\n",
       "julia> findmax([8, 0.1, -9, pi])\n",
       "(8.0, 1)\n",
       "\n",
       "julia> findmax([1, 7, 7, 6])\n",
       "(7, 2)\n",
       "\n",
       "julia> findmax([1, 7, 7, NaN])\n",
       "(NaN, 4)\n",
       "\\end{verbatim}\n",
       "\\rule{\\textwidth}{1pt}\n",
       "\\begin{verbatim}\n",
       "findmax(A; dims) -> (maxval, index)\n",
       "\\end{verbatim}\n",
       "For an array input, returns the value and index of the maximum over the given dimensions. \\texttt{NaN} is treated as greater than all other values except \\texttt{missing}.\n",
       "\n",
       "\\section{Examples}\n",
       "\\begin{verbatim}\n",
       "julia> A = [1.0 2; 3 4]\n",
       "2×2 Matrix{Float64}:\n",
       " 1.0  2.0\n",
       " 3.0  4.0\n",
       "\n",
       "julia> findmax(A, dims=1)\n",
       "([3.0 4.0], CartesianIndex{2}[CartesianIndex(2, 1) CartesianIndex(2, 2)])\n",
       "\n",
       "julia> findmax(A, dims=2)\n",
       "([2.0; 4.0;;], CartesianIndex{2}[CartesianIndex(1, 2); CartesianIndex(2, 2);;])\n",
       "\\end{verbatim}\n"
      ],
      "text/markdown": [
       "```\n",
       "findmax(f, domain) -> (f(x), index)\n",
       "```\n",
       "\n",
       "Returns a pair of a value in the codomain (outputs of `f`) and the index of the corresponding value in the `domain` (inputs to `f`) such that `f(x)` is maximised. If there are multiple maximal points, then the first one will be returned.\n",
       "\n",
       "`domain` must be a non-empty iterable.\n",
       "\n",
       "Values are compared with `isless`.\n",
       "\n",
       "!!! compat \"Julia 1.7\"\n",
       "    This method requires Julia 1.7 or later.\n",
       "\n",
       "\n",
       "# Examples\n",
       "\n",
       "```jldoctest\n",
       "julia> findmax(identity, 5:9)\n",
       "(9, 5)\n",
       "\n",
       "julia> findmax(-, 1:10)\n",
       "(-1, 1)\n",
       "\n",
       "julia> findmax(first, [(1, :a), (3, :b), (3, :c)])\n",
       "(3, 2)\n",
       "\n",
       "julia> findmax(cos, 0:π/2:2π)\n",
       "(1.0, 1)\n",
       "```\n",
       "\n",
       "---\n",
       "\n",
       "```\n",
       "findmax(itr) -> (x, index)\n",
       "```\n",
       "\n",
       "Return the maximal element of the collection `itr` and its index or key. If there are multiple maximal elements, then the first one will be returned. Values are compared with `isless`.\n",
       "\n",
       "See also: [`findmin`](@ref), [`argmax`](@ref), [`maximum`](@ref).\n",
       "\n",
       "# Examples\n",
       "\n",
       "```jldoctest\n",
       "julia> findmax([8, 0.1, -9, pi])\n",
       "(8.0, 1)\n",
       "\n",
       "julia> findmax([1, 7, 7, 6])\n",
       "(7, 2)\n",
       "\n",
       "julia> findmax([1, 7, 7, NaN])\n",
       "(NaN, 4)\n",
       "```\n",
       "\n",
       "---\n",
       "\n",
       "```\n",
       "findmax(A; dims) -> (maxval, index)\n",
       "```\n",
       "\n",
       "For an array input, returns the value and index of the maximum over the given dimensions. `NaN` is treated as greater than all other values except `missing`.\n",
       "\n",
       "# Examples\n",
       "\n",
       "```jldoctest\n",
       "julia> A = [1.0 2; 3 4]\n",
       "2×2 Matrix{Float64}:\n",
       " 1.0  2.0\n",
       " 3.0  4.0\n",
       "\n",
       "julia> findmax(A, dims=1)\n",
       "([3.0 4.0], CartesianIndex{2}[CartesianIndex(2, 1) CartesianIndex(2, 2)])\n",
       "\n",
       "julia> findmax(A, dims=2)\n",
       "([2.0; 4.0;;], CartesianIndex{2}[CartesianIndex(1, 2); CartesianIndex(2, 2);;])\n",
       "```\n"
      ],
      "text/plain": [
       "\u001b[36m  findmax(f, domain) -> (f(x), index)\u001b[39m\n",
       "\n",
       "  Returns a pair of a value in the codomain (outputs of \u001b[36mf\u001b[39m) and the index of\n",
       "  the corresponding value in the \u001b[36mdomain\u001b[39m (inputs to \u001b[36mf\u001b[39m) such that \u001b[36mf(x)\u001b[39m is\n",
       "  maximised. If there are multiple maximal points, then the first one will be\n",
       "  returned.\n",
       "\n",
       "  \u001b[36mdomain\u001b[39m must be a non-empty iterable.\n",
       "\n",
       "  Values are compared with \u001b[36misless\u001b[39m.\n",
       "\n",
       "\u001b[39m\u001b[1m  │ \u001b[22m\u001b[39m\u001b[1mJulia 1.7\u001b[22m\n",
       "\u001b[39m\u001b[1m  │\u001b[22m\n",
       "\u001b[39m\u001b[1m  │\u001b[22m  This method requires Julia 1.7 or later.\n",
       "\n",
       "\u001b[1m  Examples\u001b[22m\n",
       "\u001b[1m  ≡≡≡≡≡≡≡≡≡≡\u001b[22m\n",
       "\n",
       "\u001b[36m  julia> findmax(identity, 5:9)\u001b[39m\n",
       "\u001b[36m  (9, 5)\u001b[39m\n",
       "\u001b[36m  \u001b[39m\n",
       "\u001b[36m  julia> findmax(-, 1:10)\u001b[39m\n",
       "\u001b[36m  (-1, 1)\u001b[39m\n",
       "\u001b[36m  \u001b[39m\n",
       "\u001b[36m  julia> findmax(first, [(1, :a), (3, :b), (3, :c)])\u001b[39m\n",
       "\u001b[36m  (3, 2)\u001b[39m\n",
       "\u001b[36m  \u001b[39m\n",
       "\u001b[36m  julia> findmax(cos, 0:π/2:2π)\u001b[39m\n",
       "\u001b[36m  (1.0, 1)\u001b[39m\n",
       "\n",
       "  ────────────────────────────────────────────────────────────────────────────\n",
       "\n",
       "\u001b[36m  findmax(itr) -> (x, index)\u001b[39m\n",
       "\n",
       "  Return the maximal element of the collection \u001b[36mitr\u001b[39m and its index or key. If\n",
       "  there are multiple maximal elements, then the first one will be returned.\n",
       "  Values are compared with \u001b[36misless\u001b[39m.\n",
       "\n",
       "  See also: \u001b[36mfindmin\u001b[39m, \u001b[36margmax\u001b[39m, \u001b[36mmaximum\u001b[39m.\n",
       "\n",
       "\u001b[1m  Examples\u001b[22m\n",
       "\u001b[1m  ≡≡≡≡≡≡≡≡≡≡\u001b[22m\n",
       "\n",
       "\u001b[36m  julia> findmax([8, 0.1, -9, pi])\u001b[39m\n",
       "\u001b[36m  (8.0, 1)\u001b[39m\n",
       "\u001b[36m  \u001b[39m\n",
       "\u001b[36m  julia> findmax([1, 7, 7, 6])\u001b[39m\n",
       "\u001b[36m  (7, 2)\u001b[39m\n",
       "\u001b[36m  \u001b[39m\n",
       "\u001b[36m  julia> findmax([1, 7, 7, NaN])\u001b[39m\n",
       "\u001b[36m  (NaN, 4)\u001b[39m\n",
       "\n",
       "  ────────────────────────────────────────────────────────────────────────────\n",
       "\n",
       "\u001b[36m  findmax(A; dims) -> (maxval, index)\u001b[39m\n",
       "\n",
       "  For an array input, returns the value and index of the maximum over the\n",
       "  given dimensions. \u001b[36mNaN\u001b[39m is treated as greater than all other values except\n",
       "  \u001b[36mmissing\u001b[39m.\n",
       "\n",
       "\u001b[1m  Examples\u001b[22m\n",
       "\u001b[1m  ≡≡≡≡≡≡≡≡≡≡\u001b[22m\n",
       "\n",
       "\u001b[36m  julia> A = [1.0 2; 3 4]\u001b[39m\n",
       "\u001b[36m  2×2 Matrix{Float64}:\u001b[39m\n",
       "\u001b[36m   1.0  2.0\u001b[39m\n",
       "\u001b[36m   3.0  4.0\u001b[39m\n",
       "\u001b[36m  \u001b[39m\n",
       "\u001b[36m  julia> findmax(A, dims=1)\u001b[39m\n",
       "\u001b[36m  ([3.0 4.0], CartesianIndex{2}[CartesianIndex(2, 1) CartesianIndex(2, 2)])\u001b[39m\n",
       "\u001b[36m  \u001b[39m\n",
       "\u001b[36m  julia> findmax(A, dims=2)\u001b[39m\n",
       "\u001b[36m  ([2.0; 4.0;;], CartesianIndex{2}[CartesianIndex(1, 2); CartesianIndex(2, 2);;])\u001b[39m"
      ]
     },
     "execution_count": 69,
     "metadata": {},
     "output_type": "execute_result"
    }
   ],
   "source": [
    "? findmax"
   ]
  },
  {
   "cell_type": "markdown",
   "id": "c06bf713-9020-4eb9-9e36-c1ea8aca957c",
   "metadata": {},
   "source": [
    "## これまでの計算過程をまとめて一つの関数にする"
   ]
  },
  {
   "cell_type": "code",
   "execution_count": 66,
   "id": "a7467443",
   "metadata": {},
   "outputs": [
    {
     "data": {
      "text/plain": [
       "discretize"
      ]
     },
     "execution_count": 66,
     "metadata": {},
     "output_type": "execute_result"
    }
   ],
   "source": [
    "\"\"\"\n",
    "2期間モデルを離散化によって解く\n",
    "\n",
    "# インプット\n",
    "`m::Models`::パラメータの構造体\n",
    "\n",
    "# アウトプット\n",
    "`obj::Vector`::価値関数\n",
    "`pol::Vector`::政策関数\n",
    "\"\"\"\n",
    "function discretize(params::Models)\n",
    "\n",
    "    # 配列をあらかじめ定義しておく\n",
    "    obj = zeros(params.na, params.nw)\n",
    "    pol = zeros(params.nw) # 政策関数\n",
    "\n",
    "    # あらゆる(w,a)の組み合わせについて生涯効用を計算\n",
    "    for i in 1:params.nw, j in 1:params.na\n",
    "        cons = params.grid_w[i] - params.grid_a[j]\n",
    "        if cons > 0.0\n",
    "            obj[j, i] = CRRA(cons, params.γ) + params.β*　CRRA((1.0+params.rent)*params.grid_a[j], params.γ)\n",
    "        else\n",
    "            # 消費が負値の場合、ペナルティを与えてその値が選ばれないようにする\n",
    "            obj[j,i] = -10000.0\n",
    "        end\n",
    "    end\n",
    "\n",
    "    # 各wについて生涯効用を最大とするようなaを探す\n",
    "    for i in 1:params.nw\n",
    "        maxv, maxl = findmax(obj[:,i]);\n",
    "        pol[i] = params.grid_a[maxl];\n",
    "    end\n",
    "\n",
    "    return obj,pol\n",
    "end"
   ]
  },
  {
   "cell_type": "markdown",
   "id": "3b13e7c9",
   "metadata": {},
   "source": [
    "## 実際に計算をしてみる"
   ]
  },
  {
   "cell_type": "code",
   "execution_count": 67,
   "id": "f3c578cb",
   "metadata": {},
   "outputs": [
    {
     "name": "stdout",
     "output_type": "stream",
     "text": [
      "[0.025, 0.075, 0.1, 0.15, 0.17500000000000002, 0.225, 0.25, 0.27499999999999997, 0.325, 0.35]"
     ]
    }
   ],
   "source": [
    "# 関数の実行\n",
    "obj, pol = discretize(params)\n",
    "print(pol)"
   ]
  },
  {
   "cell_type": "markdown",
   "id": "ccdd5365",
   "metadata": {},
   "source": [
    "---"
   ]
  },
  {
   "cell_type": "markdown",
   "id": "e3ced710",
   "metadata": {},
   "source": [
    "## なぜ関数にしたのか?\n",
    "* Juliaの仕組み上、関数化した方が早い\n",
    "    * LLVM Just-in-Compilerが働くため\n",
    "* ループ内の変数のスコープの問題"
   ]
  },
  {
   "cell_type": "markdown",
   "id": "7f234c1a",
   "metadata": {},
   "source": [
    "---"
   ]
  },
  {
   "cell_type": "code",
   "execution_count": 68,
   "id": "8266f128",
   "metadata": {},
   "outputs": [
    {
     "name": "stdout",
     "output_type": "stream",
     "text": [
      "  0.000021 seconds (12 allocations: 7.297 KiB)\n"
     ]
    },
    {
     "data": {
      "text/plain": [
       "([-25.451333231282213 -17.832285612234593 … -13.260857040806023 -13.143640923589906; -26.05899994897444 -12.725666615641106 … -7.235470537209735 -7.1116315279218085; … ; -10000.0 -10000.0 … -10000.0 -40.31071794610122; -10000.0 -10000.0 … -10000.0 -10000.0], [0.025, 0.075, 0.1, 0.15, 0.17500000000000002, 0.225, 0.25, 0.27499999999999997, 0.325, 0.35])"
      ]
     },
     "execution_count": 68,
     "metadata": {},
     "output_type": "execute_result"
    }
   ],
   "source": [
    "# 計算速度を測る場合、@timeマクロを使う\n",
    "# ⬇の書き方で計算時間を測ってくれる\n",
    "@time obj, pol = discretize(params)"
   ]
  },
  {
   "cell_type": "markdown",
   "id": "bd199cf1-09b0-462e-b38a-46cd4b35cab9",
   "metadata": {},
   "source": [
    "---"
   ]
  },
  {
   "cell_type": "markdown",
   "id": "6029c3e5",
   "metadata": {},
   "source": [
    "## 計算結果を出力してみよう"
   ]
  },
  {
   "cell_type": "code",
   "execution_count": 70,
   "id": "7de4bf5b-00a7-4591-b4b2-4631fb773be1",
   "metadata": {},
   "outputs": [
    {
     "data": {
      "image/png": "[encoded data removed]"
     },
     "execution_count": 70,
     "metadata": {},
     "output_type": "execute_result"
    }
   ],
   "source": [
    "# 図2.1(a)\n",
    "plt = plot(params.grid_a, obj[:,5],\n",
    "    color = :blue,\n",
    "    marker = :circle,\n",
    "    legend = :topright,\n",
    "    xlims = (0, 1),\n",
    "    ylims = (-10, 0),\n",
    "    xlabel = (\"若年期の貯蓄(老年期の資産)\"),\n",
    "    ylabel = (\"生涯効用\"),\n",
    "    label = (\"w = 0.5\"),\n",
    "    linewidth = 4,\n",
    "    markersize = 8,\n",
    "    titlefont = font(\"HackGen35Nerd\", 12),\n",
    "    guidefont = font(\"HackGen35Nerd\", 12),\n",
    "    tickfont = font(\"HackGen35Nerd\", 8),\n",
    "    framestyle = :semi\n",
    ")\n",
    "plot!(params.grid_a, obj[:,8], lw = 4, markershape=:utriangle, markersize = 8, label = \"w = 0.8\")\n",
    "plot!(params.grid_a, obj[:,10], lw = 4, markershape=:rect, markersize = 8, label = \"w = 1.0\")\n",
    "#savefig(\"Fig2_utility_max.pdf\")"
   ]
  },
  {
   "cell_type": "code",
   "execution_count": 71,
   "id": "84917adc",
   "metadata": {},
   "outputs": [
    {
     "data": {
      "image/png": "[encoded data removed]"
     },
     "execution_count": 71,
     "metadata": {},
     "output_type": "execute_result"
    }
   ],
   "source": [
    "# 図2.1(b)\n",
    "plt = plot(params.grid_w, pol,\n",
    "    color = :blue,\n",
    "    marker = :circle,\n",
    "    legend = :none,\n",
    "    xlims = (0, 1.0),\n",
    "    ylims = (0, 0.5),\n",
    "    xlabel = (\"若年期の所得：w\"),\n",
    "    ylabel = (\"若年期の貯蓄：a = g(w)\"),\n",
    "    linewidth = 4,\n",
    "    markersize = 8,\n",
    "    titlefont = font(\"HackGen35Nerd\", 12),\n",
    "    guidefont = font(\"HackGen35Nerd\", 12),\n",
    "    tickfont = font(\"HackGen35Nerd\", 8),\n",
    "    framestyle = :semi\n",
    ")\n",
    "#savefig(\"Fig2_pol_discr.pdf\")"
   ]
  },
  {
   "cell_type": "markdown",
   "id": "fdb11984-f263-4e04-812b-13362bad93ae",
   "metadata": {},
   "source": [
    "---"
   ]
  },
  {
   "cell_type": "markdown",
   "id": "a6af5995-d5a6-4909-9e48-89e77ba02d78",
   "metadata": {},
   "source": [
    "## エクササイズ\n",
    "* グリッドの数を増やして、政策関数の精度を高めてみよう。"
   ]
  },
  {
   "cell_type": "code",
   "execution_count": null,
   "id": "ffc07909-15d2-4917-a95c-201a9d6efb24",
   "metadata": {},
   "outputs": [],
   "source": []
  }
 ],
 "metadata": {
  "kernelspec": {
   "display_name": "Julia 1.7.2",
   "language": "julia",
   "name": "julia-1.7"
  },
  "language_info": {
   "file_extension": ".jl",
   "mimetype": "application/julia",
   "name": "julia",
   "version": "1.7.3"
  }
 },
 "nbformat": 4,
 "nbformat_minor": 5
}
