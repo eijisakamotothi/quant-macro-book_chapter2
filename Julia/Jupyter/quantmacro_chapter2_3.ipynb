{
 "cells": [
  {
   "cell_type": "markdown",
   "id": "bd7a9d1c",
   "metadata": {},
   "source": [
    "# 北尾早霧・砂川武貴・山田知明『定量的マクロ経済学と数値計算』日本評論社\n",
    "## 第2章：2期間モデル・3期間モデルと数値計算の概観"
   ]
  },
  {
   "cell_type": "markdown",
   "id": "3ee57285",
   "metadata": {},
   "source": [
    "## 2.6 一階条件を使う：求根アルゴリズム\n",
    "### 2.6.1 非線形方程式のゼロ点を探す"
   ]
  },
  {
   "cell_type": "markdown",
   "id": "d4df8d48",
   "metadata": {},
   "source": [
    "### パラメータの設定はこれまでと同じ"
   ]
  },
  {
   "cell_type": "code",
   "execution_count": 1,
   "id": "93ebc865",
   "metadata": {},
   "outputs": [],
   "source": [
    "struct Models\n",
    "    # パラメータ\n",
    "    β::Float64 #割引因子\n",
    "    γ::Float64 #相対的危険回避度\n",
    "\n",
    "    # 要素価格\n",
    "    rent::Float64 #純利子率\n",
    "\n",
    "    # グリッド\n",
    "    nw::Int64 #所得グリッドの数\n",
    "    w_max::Float64 #所得グリッドの最大値\n",
    "    w_min::Float64 #所得グリッドの最小値\n",
    "    grid_w::Vector{Float64} #所得グリッド\n",
    "end"
   ]
  },
  {
   "cell_type": "code",
   "execution_count": 2,
   "id": "c9927c88",
   "metadata": {},
   "outputs": [
    {
     "data": {
      "text/plain": [
       "Calibration (generic function with 1 method)"
      ]
     },
     "execution_count": 2,
     "metadata": {},
     "output_type": "execute_result"
    }
   ],
   "source": [
    "function Calibration()\n",
    "    # パラメータはここで設定をする\n",
    "    β = 0.985^30\n",
    "    γ = 2.0\n",
    "    rent = 1.025^30 - 1.0\n",
    "    nw = 10\n",
    "    w_max = 1.0\n",
    "    w_min = 0.1\n",
    "\n",
    "    grid_w = collect(LinRange(w_min, w_max, nw))\n",
    "\n",
    "    return Models(β, γ, rent, nw, w_max, w_min, grid_w)\n",
    "end"
   ]
  },
  {
   "cell_type": "code",
   "execution_count": 6,
   "id": "b214f3e5",
   "metadata": {},
   "outputs": [
    {
     "data": {
      "text/plain": [
       "Models(0.6354580927313491, 2.0, 1.0975675790817858, 10, 1.0, 0.1, [0.1, 0.2, 0.3, 0.4, 0.5, 0.6, 0.7, 0.8, 0.8999999999999999, 1.0])"
      ]
     },
     "execution_count": 6,
     "metadata": {},
     "output_type": "execute_result"
    }
   ],
   "source": [
    "# パラメータを設定\n",
    "params = Calibration()"
   ]
  },
  {
   "cell_type": "markdown",
   "id": "026f5a9c",
   "metadata": {},
   "source": [
    "---"
   ]
  },
  {
   "cell_type": "markdown",
   "id": "499881d5",
   "metadata": {},
   "source": [
    "## 経済学でよく使う関数を設定しておく\n",
    "* 限界効用\n",
    "$$\n",
    "    u'(c) = c^{-\\gamma}\n",
    "$$"
   ]
  },
  {
   "cell_type": "code",
   "execution_count": 3,
   "id": "cdb5f3b0",
   "metadata": {},
   "outputs": [
    {
     "data": {
      "text/plain": [
       "mu_CRRA (generic function with 1 method)"
      ]
     },
     "execution_count": 3,
     "metadata": {},
     "output_type": "execute_result"
    }
   ],
   "source": [
    "function mu_CRRA(cons::Float64, γ::Float64)\n",
    "    return cons^(-γ)\n",
    "end"
   ]
  },
  {
   "cell_type": "code",
   "execution_count": 5,
   "id": "af62f070-244d-4605-8ae8-9bcda650e60d",
   "metadata": {},
   "outputs": [],
   "source": [
    "# インストール済みならここはスキップ\n",
    "#using Pkg\n",
    "#Pkg.add(\"Roots\")"
   ]
  },
  {
   "cell_type": "code",
   "execution_count": 4,
   "id": "087838b5",
   "metadata": {},
   "outputs": [],
   "source": [
    "# Root Finding用のライブラリを読み込む\n",
    "using Plots\n",
    "pyplot()\n",
    "using Roots # ここが新しいところ：前回はOptimだった"
   ]
  },
  {
   "cell_type": "markdown",
   "id": "c7ea2354",
   "metadata": {},
   "source": [
    "---"
   ]
  },
  {
   "cell_type": "markdown",
   "id": "3be211d2",
   "metadata": {},
   "source": [
    "## ゼロ点を探す関数を作成\n",
    "* **残差関数（residual function）**\n",
    "* テキストの(2.8)式"
   ]
  },
  {
   "cell_type": "code",
   "execution_count": 7,
   "id": "d2efe681",
   "metadata": {},
   "outputs": [
    {
     "data": {
      "text/plain": [
       "resid_two_period"
      ]
     },
     "execution_count": 7,
     "metadata": {},
     "output_type": "execute_result"
    }
   ],
   "source": [
    "\"\"\"\n",
    "2期間モデルの1階条件の残差を求める\n",
    "\n",
    "### インプット\n",
    "`a::Float64`: 貯蓄水準\n",
    "`w_val::Float64`: 所得水準\n",
    "`m::Models`: パラメータを含む構造体\n",
    "\n",
    "### アウトプット\n",
    "残差\n",
    "\"\"\"\n",
    "function resid_two_period(a::Float64, w_val::Float64, params::Models)\n",
    "\n",
    "    # オイラー方程式の左辺：若年期の限界効用\n",
    "    if w_val - a > 0.0\n",
    "        mu1 = mu_CRRA(w_val - a, params.γ)\n",
    "    else\n",
    "        mu1 = 10000.0\n",
    "    end\n",
    "\n",
    "    # 老年期の限界効用\n",
    "    mu2 = mu_CRRA((1.0 + params.rent)*a, params.γ)\n",
    "\n",
    "    # 残差(residual)\n",
    "    return params.β*(1.0 + params.rent)*(mu2/mu1) - 1.0\n",
    "\n",
    "end "
   ]
  },
  {
   "cell_type": "markdown",
   "id": "cd192b01-6d0a-469f-814a-61f11d6d4501",
   "metadata": {},
   "source": [
    "---"
   ]
  },
  {
   "cell_type": "markdown",
   "id": "44423510",
   "metadata": {},
   "source": [
    "## 実際にゼロ点を探す"
   ]
  },
  {
   "cell_type": "code",
   "execution_count": 8,
   "id": "ac9c98e4",
   "metadata": {},
   "outputs": [
    {
     "data": {
      "text/plain": [
       "10-element Vector{Float64}:\n",
       " 0.0\n",
       " 0.0\n",
       " 0.0\n",
       " 0.0\n",
       " 0.0\n",
       " 0.0\n",
       " 0.0\n",
       " 0.0\n",
       " 0.0\n",
       " 0.0"
      ]
     },
     "execution_count": 8,
     "metadata": {},
     "output_type": "execute_result"
    }
   ],
   "source": [
    "# 空の変数を用意\n",
    "a_nl = zeros(params.nw)"
   ]
  },
  {
   "cell_type": "code",
   "execution_count": 9,
   "id": "ed3964f9",
   "metadata": {},
   "outputs": [
    {
     "name": "stdout",
     "output_type": "stream",
     "text": [
      "[0.035500887771154545, 0.0710017755423091, 0.10650266331346364, 0.14200355108461818, 0.17750443885577274, 0.21300532662692728, 0.24850621439808182, 0.2840071021692364, 0.31950798994039087, 0.35500887771154543]"
     ]
    }
   ],
   "source": [
    "# 実際に各w_{i}のもとで、残差関数がゼロになるようなaを探す\n",
    "for i = 1:params.nw\n",
    "\n",
    "    w_val = params.grid_w[i]\n",
    "\n",
    "    # 1変数のfunctionにする\n",
    "    resid_two_period!(a) = resid_two_period(a, w_val, params)\n",
    "\n",
    "    # 0.01はゼロ点を探す際の初期値\n",
    "    a_nl[i] = find_zero(resid_two_period!, 0.01)\n",
    "\n",
    "end\n",
    "\n",
    "print(a_nl)"
   ]
  },
  {
   "cell_type": "markdown",
   "id": "dbf66b13-b488-4b78-b175-8ec5b6c15d0e",
   "metadata": {},
   "source": [
    "### ⬆のプロセスを一つの関数にまとめる"
   ]
  },
  {
   "cell_type": "code",
   "execution_count": 10,
   "id": "7d336060",
   "metadata": {},
   "outputs": [
    {
     "data": {
      "text/plain": [
       "Root_find"
      ]
     },
     "execution_count": 10,
     "metadata": {},
     "output_type": "execute_result"
    }
   ],
   "source": [
    "\"\"\"\n",
    "ゼロ点探索によって2期間モデルを解く\n",
    "\n",
    "# インプット\n",
    "`m::Models`:パラメータを含む構造体\n",
    "\n",
    "# アウトプット\n",
    "`a_nl::Vector`:政策関数\n",
    "\"\"\"\n",
    "function Root_find(params::Models)\n",
    "    a_nl = zeros(params.nw)\n",
    "    for i = 1:params.nw\n",
    "        w_val = params.grid_w[i]\n",
    "        resid_two_period!(a) = resid_two_period(a, w_val, params)\n",
    "        a_nl[i] = find_zero(resid_two_period!, 0.01)\n",
    "    end\n",
    "    return a_nl\n",
    "end"
   ]
  },
  {
   "cell_type": "code",
   "execution_count": 11,
   "id": "b31207e1",
   "metadata": {},
   "outputs": [
    {
     "name": "stdout",
     "output_type": "stream",
     "text": [
      "  0.000048 seconds (11 allocations: 1.703 KiB)\n"
     ]
    },
    {
     "data": {
      "text/plain": [
       "10-element Vector{Float64}:\n",
       " 0.035500887771154545\n",
       " 0.0710017755423091\n",
       " 0.10650266331346364\n",
       " 0.14200355108461818\n",
       " 0.17750443885577274\n",
       " 0.21300532662692728\n",
       " 0.24850621439808182\n",
       " 0.2840071021692364\n",
       " 0.31950798994039087\n",
       " 0.35500887771154543"
      ]
     },
     "execution_count": 11,
     "metadata": {},
     "output_type": "execute_result"
    }
   ],
   "source": [
    "# 関数の実行\n",
    "@time a_nl = Root_find(params) # 実行時間の計測"
   ]
  },
  {
   "cell_type": "markdown",
   "id": "ca2712ac-617a-41c2-980a-d0eb981dd209",
   "metadata": {},
   "source": [
    "---"
   ]
  },
  {
   "cell_type": "markdown",
   "id": "10590a69-abc9-490c-a3c2-462805c7348a",
   "metadata": {},
   "source": [
    "## 結果を出力"
   ]
  },
  {
   "cell_type": "code",
   "execution_count": 12,
   "id": "34d52c0c",
   "metadata": {},
   "outputs": [],
   "source": [
    "# 解析解\n",
    "# テキストの(2.4)式\n",
    "coef1 = (params.β*(1.0+params.rent))^(-1.0/params.γ)\n",
    "coef2 = 1.0/(1.0+coef1*(1.0+params.rent))\n",
    "a_cfs = coef2*params.grid_w;"
   ]
  },
  {
   "cell_type": "markdown",
   "id": "df59037c-e234-4355-86a5-ca0d4b2a2bef",
   "metadata": {},
   "source": [
    "---"
   ]
  },
  {
   "cell_type": "code",
   "execution_count": 13,
   "id": "7315159e-152a-4d96-8666-4d5686dca78f",
   "metadata": {},
   "outputs": [
    {
     "data": {
      "image/png": "[encoded data removed]"
     },
     "execution_count": 13,
     "metadata": {},
     "output_type": "execute_result"
    }
   ],
   "source": [
    "# 図2.2とほぼ同じ\n",
    "plt = plot(params.grid_w, a_nl,\n",
    "    color = :blue,\n",
    "    marker = :circle,\n",
    "    legend = :topright,\n",
    "    xlims = (0, 1.0),\n",
    "    ylims = (0, 0.5),\n",
    "    label = (\"求根アルゴリズム\"),\n",
    "    xlabel = (\"若年期の所得：w\"),\n",
    "    ylabel = (\"若年期の貯蓄：a\"),\n",
    "    linewidth = 4,\n",
    "    markersize = 8,\n",
    "    titlefont = font(\"HackGen35Nerd\", 12),\n",
    "    guidefont = font(\"HackGen35Nerd\", 12),\n",
    "    tickfont = font(\"HackGen35Nerd\", 8),\n",
    "    legend_font_family = (\"HackGen35Nerd\"),\n",
    "    legendfontsize = 12,\n",
    "    framestyle = :semi\n",
    ")\n",
    "plot!(params.grid_w, a_cfs, linewidth = 2, color = :red, label=\"解析的解\")\n",
    "#savefig(\"Fig2_pol_root_finding.pdf\")"
   ]
  },
  {
   "cell_type": "markdown",
   "id": "569cddca-783d-4e7b-aed1-9fb016dda8ee",
   "metadata": {},
   "source": [
    "---"
   ]
  },
  {
   "cell_type": "markdown",
   "id": "5b23a3b1-355e-4eef-808c-d0d1533e2180",
   "metadata": {},
   "source": [
    "### 残差をプロットする：図2.3"
   ]
  },
  {
   "cell_type": "code",
   "execution_count": 14,
   "id": "85024960",
   "metadata": {},
   "outputs": [
    {
     "data": {
      "text/plain": [
       "resid_ex"
      ]
     },
     "execution_count": 14,
     "metadata": {},
     "output_type": "execute_result"
    }
   ],
   "source": [
    "\"\"\"\n",
    "本文中の残差についての図を書くための関数\n",
    "\"\"\"\n",
    "function resid_ex(params::Models)\n",
    "\n",
    "    na = 40\n",
    "    a_max = 1.0\n",
    "    a_min = 0.025\n",
    "    grid_a = collect(LinRange(a_min, a_max, na))\n",
    "\n",
    "    resid = zeros(na, 3)\n",
    "    grid_zero = zeros(na)\n",
    "\n",
    "    wlist = [0.5, 0.8, 1.0]\n",
    "    for i = 1:3\n",
    "        w_val = wlist[i]\n",
    "        resid_two_period!(a) = resid_two_period(a, w_val, params)\n",
    "        for j in 1:na\n",
    "            resid[j, i] = resid_two_period!(grid_a[j])\n",
    "        end\n",
    "    end\n",
    "    return resid, grid_zero\n",
    "end"
   ]
  },
  {
   "cell_type": "code",
   "execution_count": 15,
   "id": "40aca2f9-aaa2-4af7-95d2-95b46b62950e",
   "metadata": {},
   "outputs": [
    {
     "data": {
      "text/plain": [
       "([108.36494907898863 290.1349475482218 459.7869461195062; 23.538949793346486 67.16374942596245 108.36494907898863; … ; -0.9999681314927076 -0.9999681314927076 -0.9998008218294223; -0.9999697050002552 -0.9999697050002552 -0.9999697050002552], [0.0, 0.0, 0.0, 0.0, 0.0, 0.0, 0.0, 0.0, 0.0, 0.0  …  0.0, 0.0, 0.0, 0.0, 0.0, 0.0, 0.0, 0.0, 0.0, 0.0])"
      ]
     },
     "execution_count": 15,
     "metadata": {},
     "output_type": "execute_result"
    }
   ],
   "source": [
    "resid, grid_zero = resid_ex(params)"
   ]
  },
  {
   "cell_type": "code",
   "execution_count": 16,
   "id": "3a964feb-43c6-406b-84aa-3e473ce07939",
   "metadata": {},
   "outputs": [],
   "source": [
    "na = 40\n",
    "a_max = 1.0\n",
    "a_min = 0.025\n",
    "grid_a = collect(LinRange(a_min, a_max, na));"
   ]
  },
  {
   "cell_type": "code",
   "execution_count": 17,
   "id": "7004eec2-2269-4a86-8fbd-6224b714b476",
   "metadata": {},
   "outputs": [
    {
     "data": {
      "image/png": "[encoded data removed]"
     },
     "execution_count": 17,
     "metadata": {},
     "output_type": "execute_result"
    }
   ],
   "source": [
    "plt = plot(grid_a, resid[:, 1],\n",
    "    color = :blue,\n",
    "    linestyle = :solid,\n",
    "    legend = :topright,\n",
    "    xlims = (0.1, 0.5),\n",
    "    ylims = (-1.0, 1.0),\n",
    "    label = (\"w = 0.5\"),\n",
    "    xlabel = (\"若年期の貯蓄：w\"),\n",
    "    ylabel = (\"残差：R(w)\"),\n",
    "    linewidth = 4,\n",
    "#    markersize = 8,\n",
    "    titlefont = font(\"HackGen35Nerd\", 12),\n",
    "    guidefont = font(\"HackGen35Nerd\", 12),\n",
    "    tickfont = font(\"HackGen35Nerd\", 8),\n",
    "    legend_font_family = (\"HackGen35Nerd\"),\n",
    "    legendfontsize = 12,\n",
    "    framestyle = :semi\n",
    ")\n",
    "plot!(grid_a, resid[:, 2], linestyle = :dot, linewidth = 4, color = :red, label=\"w = 0.8\")\n",
    "plot!(grid_a, resid[:, 3], linestyle = :dash, linewidth = 4, color = :green, label=\"w = 1.0\")\n",
    "plot!(grid_a, grid_zero, linewidth = 2, color = :black, label=\"残差ゼロ\")\n",
    "#savefig(\"Fig2_residual.pdf\")"
   ]
  },
  {
   "cell_type": "markdown",
   "id": "2362cee9-ac59-42e3-988b-58031116adce",
   "metadata": {},
   "source": [
    "---"
   ]
  },
  {
   "cell_type": "markdown",
   "id": "7fe3a3db-94dc-48eb-aef2-11bc0c5afc1b",
   "metadata": {},
   "source": [
    "## エクササイズ\n",
    "* 最適化を用いたアルゴリズム(quantmacro_chapter2_2.ipynbを参照)から導出した政策関数の精度を確認してみよう。"
   ]
  },
  {
   "cell_type": "code",
   "execution_count": null,
   "id": "8245e376-f52e-4480-98bf-42e2abb3019b",
   "metadata": {},
   "outputs": [],
   "source": []
  }
 ],
 "metadata": {
  "kernelspec": {
   "display_name": "Julia 1.7.1",
   "language": "julia",
   "name": "julia-1.7"
  },
  "language_info": {
   "file_extension": ".jl",
   "mimetype": "application/julia",
   "name": "julia",
   "version": "1.7.1"
  }
 },
 "nbformat": 4,
 "nbformat_minor": 5
}
