{
 "cells": [
  {
   "cell_type": "code",
   "execution_count": 10,
   "metadata": {},
   "outputs": [
    {
     "data": {
      "text/plain": [
       "Models(0.6354580927313491, 2.0, 1.0975675790817858, 10, 1.0, 0.1, [0.1, 0.2, 0.3, 0.4, 0.5, 0.6, 0.7, 0.8, 0.8999999999999999, 1.0], 40, 1.0, 0.025, [0.025, 0.05, 0.075, 0.1, 0.125, 0.15, 0.17500000000000002, 0.2, 0.225, 0.25  …  0.775, 0.7999999999999999, 0.825, 0.85, 0.875, 0.9, 0.925, 0.95, 0.975, 1.0])"
      ]
     },
     "metadata": {},
     "output_type": "display_data"
    }
   ],
   "source": [
    "using Plots, PyPlot\n",
    "pyplot()\n",
    "\n",
    "struct Models\n",
    "    # パラメータ\n",
    "    β::Float64 #割引因子\n",
    "    γ::Float64 #相対的危険回避度\n",
    "\n",
    "    # 要素価格\n",
    "    rent::Float64 #純利子率\n",
    "\n",
    "    # グリッド\n",
    "    nw::Int64 #所得グリッドの要素数：グリッドサイズ\n",
    "    w_max::Float64 #所得グリッドの最大値\n",
    "    w_min::Float64 #所得グリッドの最小値\n",
    "    grid_w::Vector{Float64} #所得グリッド\n",
    "    na::Int64 #貯蓄グリッドの要素数：グリッドサイズ\n",
    "    a_max::Float64 #貯蓄グリッドの最大値\n",
    "    a_min::Float64 #貯蓄グリッドの最小値\n",
    "    grid_a::Vector{Float64} #貯蓄グリッド\n",
    "end\n",
    "\n",
    "\n",
    "function calibration()\n",
    "\n",
    "    # パラメータはここで設定をする\n",
    "    β = 0.985^30\n",
    "    γ = 2.0\n",
    "    rent = 1.025^30 - 1.0\n",
    "    nw = 10\n",
    "    w_max = 1.0\n",
    "    w_min = 0.1\n",
    "    na = 40\n",
    "    a_max = 1.0\n",
    "    a_min = 0.025\n",
    "\n",
    "    grid_w = collect(LinRange(w_min, w_max, nw))\n",
    "    grid_a = collect(LinRange(a_min, a_max, na))\n",
    "\n",
    "    return Models(β, γ, rent, nw, w_max, w_min, grid_w, na, a_max, a_min, grid_a)\n",
    "\n",
    "end\n",
    "\n",
    "\n",
    "function CRRA(cons::Float64, γ::Float64)\n",
    "    if γ != 1.0\n",
    "        return cons^(1.0 - γ) / (1.0 - γ)\n",
    "    else\n",
    "        return log(cons)\n",
    "    end\n",
    "end\n",
    "\n",
    "\n",
    "# パラメータやグリッドを呼び出す\n",
    "params = calibration()\n"
   ]
  },
  {
   "cell_type": "code",
   "execution_count": 11,
   "metadata": {},
   "outputs": [
    {
     "data": {
      "text/plain": [
       "0.6354580927313491"
      ]
     },
     "metadata": {},
     "output_type": "display_data"
    }
   ],
   "source": [
    "params.β"
   ]
  },
  {
   "cell_type": "code",
   "execution_count": null,
   "metadata": {},
   "outputs": [],
   "source": []
  }
 ],
 "metadata": {
  "kernelspec": {
   "display_name": "Julia 1.11.2",
   "language": "julia",
   "name": "julia-1.11"
  },
  "language_info": {
   "file_extension": ".jl",
   "mimetype": "application/julia",
   "name": "julia",
   "version": "1.11.2"
  }
 },
 "nbformat": 4,
 "nbformat_minor": 2
}
